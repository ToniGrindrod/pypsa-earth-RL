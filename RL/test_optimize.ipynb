{
 "cells": [
  {
   "cell_type": "code",
   "execution_count": null,
   "id": "17504c45",
   "metadata": {},
   "outputs": [],
   "source": [
    "import pypsa\n",
    "import pandas as pd\n",
    "import numpy as np\n",
    "import networkx as nx\n",
    "\n",
    "def find_isolated_buses(network):\n",
    "    \"\"\"\n",
    "    Find buses that are not connected to any lines or transformers.\n",
    "    \n",
    "    Parameters:\n",
    "    -----------\n",
    "    network : pypsa.Network\n",
    "        The PyPSA network to analyze\n",
    "    \n",
    "    Returns:\n",
    "    --------\n",
    "    isolated_buses : list\n",
    "        List of isolated bus IDs\n",
    "    \"\"\"\n",
    "    # Check if buses are connected to any lines (as bus0 or bus1)\n",
    "    connected_to_lines = set(network.lines.bus0).union(set(network.lines.bus1))\n",
    "    \n",
    "    # Check if buses are connected to any transformers (if they exist in the network)\n",
    "    connected_to_transformers = set()\n",
    "    if hasattr(network, 'transformers') and not network.transformers.empty:\n",
    "        connected_to_transformers = set(network.transformers.bus0).union(set(network.transformers.bus1))\n",
    "    \n",
    "    # Check if buses are connected to any links (if they exist in the network)\n",
    "    connected_to_links = set()\n",
    "    if hasattr(network, 'links') and not network.links.empty:\n",
    "        connected_to_links = set(network.links.bus0).union(set(network.links.bus1))\n",
    "    \n",
    "    # Combine all connected buses\n",
    "    all_connected_buses = connected_to_lines.union(connected_to_transformers).union(connected_to_links)\n",
    "    \n",
    "    # Find isolated buses\n",
    "    all_buses = set(network.buses.index)\n",
    "    isolated_buses = all_buses - all_connected_buses\n",
    "    \n",
    "    return list(isolated_buses)\n",
    "\n",
    "# Load your network (replace with your actual loading code if different)\n",
    "# Example: network50 = pypsa.Network('path/to/your/network.nc')\n",
    "\n",
    "# If network50 is already loaded, use this:\n",
    "if 'network50' in globals():\n",
    "    isolated_buses = find_isolated_buses(network50)\n",
    "    print(f\"Found {len(isolated_buses)} isolated buses:\")\n",
    "    for bus in isolated_buses:\n",
    "        print(f\"- {bus}\")\n",
    "else:\n",
    "    print(\"Please load your network first and name it 'network50', or modify this code to use your network variable name.\")\n"
   ]
  },
  {
   "cell_type": "code",
   "execution_count": 2,
   "id": "781c267b",
   "metadata": {},
   "outputs": [],
   "source": [
    "import pypsa"
   ]
  },
  {
   "cell_type": "code",
   "execution_count": 3,
   "id": "2d11a171",
   "metadata": {},
   "outputs": [
    {
     "name": "stderr",
     "output_type": "stream",
     "text": [
      "INFO:pypsa.io:Imported network elec_s_5_ec_lc1.0_3h.nc has buses, carriers, generators, global_constraints, lines, loads, storage_units\n"
     ]
    },
    {
     "name": "stdout",
     "output_type": "stream",
     "text": [
      "Current working directory: /Users/antoniagrindrod/Documents/pypsa-earth_project/pypsa-earth-RL\n",
      "Network file exists: True\n"
     ]
    }
   ],
   "source": [
    "import os\n",
    "\n",
    "# Go one directory back from the current directory\n",
    "os.chdir('..')\n",
    "\n",
    "# Now load the network from the networks folder\n",
    "network = pypsa.Network(\"networks/elec_s_5_ec_lc1.0_3h.nc\")\n",
    "\n",
    "# Print current working directory to verify\n",
    "print(f\"Current working directory: {os.getcwd()}\")\n",
    "print(f\"Network file exists: {os.path.exists('networks/elec_s_5_ec_lc1.0_3h.nc')}\")"
   ]
  },
  {
   "cell_type": "code",
   "execution_count": 4,
   "id": "d0966daf",
   "metadata": {},
   "outputs": [
    {
     "name": "stderr",
     "output_type": "stream",
     "text": [
      "WARNING:pypsa.consistency:The following lines have carriers which are not defined:\n",
      "Index(['0', '1', '2', '3', '4', '5', '6'], dtype='object', name='Line')\n",
      "WARNING:pypsa.consistency:The following buses have carriers which are not defined:\n",
      "Index(['ZA0 0', 'ZA0 1', 'ZA0 2', 'ZA0 3', 'ZA0 4', 'ZA1 0', 'ZA2 0', 'ZA3 0'], dtype='object', name='Bus')\n",
      "WARNING:pypsa.consistency:The following lines have carriers which are not defined:\n",
      "Index(['0', '1', '2', '3', '4', '5', '6'], dtype='object', name='Line')\n",
      "WARNING:pypsa.consistency:The following buses have carriers which are not defined:\n",
      "Index(['ZA0 0', 'ZA0 1', 'ZA0 2', 'ZA0 3', 'ZA0 4', 'ZA1 0', 'ZA2 0', 'ZA3 0'], dtype='object', name='Bus')\n",
      "INFO:linopy.model: Solve problem using Gurobi solver\n",
      "INFO:linopy.io: Writing time: 0.14s\n"
     ]
    },
    {
     "name": "stdout",
     "output_type": "stream",
     "text": [
      "Set parameter Username\n"
     ]
    },
    {
     "name": "stderr",
     "output_type": "stream",
     "text": [
      "INFO:gurobipy:Set parameter Username\n"
     ]
    },
    {
     "name": "stdout",
     "output_type": "stream",
     "text": [
      "Set parameter LicenseID to value 2695191\n"
     ]
    },
    {
     "name": "stderr",
     "output_type": "stream",
     "text": [
      "INFO:gurobipy:Set parameter LicenseID to value 2695191\n"
     ]
    },
    {
     "name": "stdout",
     "output_type": "stream",
     "text": [
      "Academic license - for non-commercial use only - expires 2026-08-12\n"
     ]
    },
    {
     "name": "stderr",
     "output_type": "stream",
     "text": [
      "INFO:gurobipy:Academic license - for non-commercial use only - expires 2026-08-12\n"
     ]
    },
    {
     "name": "stdout",
     "output_type": "stream",
     "text": [
      "Read LP format model from file /private/var/folders/tt/b5q5vkxj6xvf2b6q1f46ytgw0000gn/T/linopy-problem-n_tf37ua.lp\n"
     ]
    },
    {
     "name": "stderr",
     "output_type": "stream",
     "text": [
      "INFO:gurobipy:Read LP format model from file /private/var/folders/tt/b5q5vkxj6xvf2b6q1f46ytgw0000gn/T/linopy-problem-n_tf37ua.lp\n"
     ]
    },
    {
     "name": "stdout",
     "output_type": "stream",
     "text": [
      "Reading time = 0.03 seconds\n"
     ]
    },
    {
     "name": "stderr",
     "output_type": "stream",
     "text": [
      "INFO:gurobipy:Reading time = 0.03 seconds\n"
     ]
    },
    {
     "name": "stdout",
     "output_type": "stream",
     "text": [
      "obj: 7448 rows, 3416 columns, 11480 nonzeros\n"
     ]
    },
    {
     "name": "stderr",
     "output_type": "stream",
     "text": [
      "INFO:gurobipy:obj: 7448 rows, 3416 columns, 11480 nonzeros\n"
     ]
    },
    {
     "name": "stdout",
     "output_type": "stream",
     "text": [
      "Gurobi Optimizer version 12.0.3 build v12.0.3rc0 (mac64[x86] - Darwin 24.6.0 24G84)\n"
     ]
    },
    {
     "name": "stderr",
     "output_type": "stream",
     "text": [
      "INFO:gurobipy:Gurobi Optimizer version 12.0.3 build v12.0.3rc0 (mac64[x86] - Darwin 24.6.0 24G84)\n"
     ]
    },
    {
     "name": "stdout",
     "output_type": "stream",
     "text": [
      "\n"
     ]
    },
    {
     "name": "stderr",
     "output_type": "stream",
     "text": [
      "INFO:gurobipy:\n"
     ]
    },
    {
     "name": "stdout",
     "output_type": "stream",
     "text": [
      "CPU model: Intel(R) Core(TM) i5-8279U CPU @ 2.40GHz\n"
     ]
    },
    {
     "name": "stderr",
     "output_type": "stream",
     "text": [
      "INFO:gurobipy:CPU model: Intel(R) Core(TM) i5-8279U CPU @ 2.40GHz\n"
     ]
    },
    {
     "name": "stdout",
     "output_type": "stream",
     "text": [
      "Thread count: 4 physical cores, 8 logical processors, using up to 8 threads\n"
     ]
    },
    {
     "name": "stderr",
     "output_type": "stream",
     "text": [
      "INFO:gurobipy:Thread count: 4 physical cores, 8 logical processors, using up to 8 threads\n"
     ]
    },
    {
     "name": "stdout",
     "output_type": "stream",
     "text": [
      "\n"
     ]
    },
    {
     "name": "stderr",
     "output_type": "stream",
     "text": [
      "INFO:gurobipy:\n"
     ]
    },
    {
     "name": "stdout",
     "output_type": "stream",
     "text": [
      "Optimize a model with 7448 rows, 3416 columns and 11480 nonzeros\n"
     ]
    },
    {
     "name": "stderr",
     "output_type": "stream",
     "text": [
      "INFO:gurobipy:Optimize a model with 7448 rows, 3416 columns and 11480 nonzeros\n"
     ]
    },
    {
     "name": "stdout",
     "output_type": "stream",
     "text": [
      "Model fingerprint: 0xb2a7a8b3\n"
     ]
    },
    {
     "name": "stderr",
     "output_type": "stream",
     "text": [
      "INFO:gurobipy:Model fingerprint: 0xb2a7a8b3\n"
     ]
    },
    {
     "name": "stdout",
     "output_type": "stream",
     "text": [
      "Coefficient statistics:\n"
     ]
    },
    {
     "name": "stderr",
     "output_type": "stream",
     "text": [
      "INFO:gurobipy:Coefficient statistics:\n"
     ]
    },
    {
     "name": "stdout",
     "output_type": "stream",
     "text": [
      "  Matrix range     [1e+00, 2e+02]\n"
     ]
    },
    {
     "name": "stderr",
     "output_type": "stream",
     "text": [
      "INFO:gurobipy:  Matrix range     [1e+00, 2e+02]\n"
     ]
    },
    {
     "name": "stdout",
     "output_type": "stream",
     "text": [
      "  Objective range  [2e+00, 7e+03]\n"
     ]
    },
    {
     "name": "stderr",
     "output_type": "stream",
     "text": [
      "INFO:gurobipy:  Objective range  [2e+00, 7e+03]\n"
     ]
    },
    {
     "name": "stdout",
     "output_type": "stream",
     "text": [
      "  Bounds range     [7e+00, 9e+02]\n"
     ]
    },
    {
     "name": "stderr",
     "output_type": "stream",
     "text": [
      "INFO:gurobipy:  Bounds range     [7e+00, 9e+02]\n"
     ]
    },
    {
     "name": "stdout",
     "output_type": "stream",
     "text": [
      "  RHS range        [2e-03, 1e+06]\n"
     ]
    },
    {
     "name": "stderr",
     "output_type": "stream",
     "text": [
      "INFO:gurobipy:  RHS range        [2e-03, 1e+06]\n"
     ]
    },
    {
     "name": "stdout",
     "output_type": "stream",
     "text": [
      "Presolve removed 6608 rows and 969 columns\n"
     ]
    },
    {
     "name": "stderr",
     "output_type": "stream",
     "text": [
      "INFO:gurobipy:Presolve removed 6608 rows and 969 columns\n"
     ]
    },
    {
     "name": "stdout",
     "output_type": "stream",
     "text": [
      "Presolve time: 0.10s\n"
     ]
    },
    {
     "name": "stderr",
     "output_type": "stream",
     "text": [
      "INFO:gurobipy:Presolve time: 0.10s\n"
     ]
    },
    {
     "name": "stdout",
     "output_type": "stream",
     "text": [
      "\n"
     ]
    },
    {
     "name": "stderr",
     "output_type": "stream",
     "text": [
      "INFO:gurobipy:\n"
     ]
    },
    {
     "name": "stdout",
     "output_type": "stream",
     "text": [
      "Solved in 0 iterations and 0.11 seconds (0.00 work units)\n"
     ]
    },
    {
     "name": "stderr",
     "output_type": "stream",
     "text": [
      "INFO:gurobipy:Solved in 0 iterations and 0.11 seconds (0.00 work units)\n"
     ]
    },
    {
     "name": "stdout",
     "output_type": "stream",
     "text": [
      "Infeasible or unbounded model\n"
     ]
    },
    {
     "name": "stderr",
     "output_type": "stream",
     "text": [
      "INFO:gurobipy:Infeasible or unbounded model\n",
      "INFO:linopy.solvers:Unable to save solution file. Raised error: Unable to retrieve attribute 'X'\n",
      "WARNING:linopy.constants:Optimization potentially failed: \n",
      "Status: warning\n",
      "Termination condition: infeasible_or_unbounded\n",
      "Solution: 0 primals, 0 duals\n",
      "Objective: nan\n",
      "Solver model: available\n",
      "Solver message: 4\n",
      "\n"
     ]
    },
    {
     "data": {
      "text/plain": [
       "('warning', 'infeasible_or_unbounded')"
      ]
     },
     "execution_count": 4,
     "metadata": {},
     "output_type": "execute_result"
    }
   ],
   "source": [
    "network.optimize(solver_name='gurobi')"
   ]
  },
  {
   "cell_type": "code",
   "execution_count": 2,
   "id": "f39b1394",
   "metadata": {},
   "outputs": [
    {
     "name": "stderr",
     "output_type": "stream",
     "text": [
      "INFO:pypsa.io:Imported network elec_s_5_ec_lc1.0_3h.nc has buses, carriers, generators, global_constraints, lines, loads, storage_units\n",
      "WARNING:pypsa.consistency:The following lines have carriers which are not defined:\n",
      "Index(['0', '1', '2', '3', '4', '5', '6'], dtype='object', name='Line')\n",
      "WARNING:pypsa.consistency:The following buses have carriers which are not defined:\n",
      "Index(['ZA0 0', 'ZA0 1', 'ZA0 2', 'ZA0 3', 'ZA0 4', 'ZA1 0', 'ZA2 0', 'ZA3 0'], dtype='object', name='Bus')\n",
      "WARNING:pypsa.consistency:The following lines have carriers which are not defined:\n",
      "Index(['0', '1', '2', '3', '4', '5', '6'], dtype='object', name='Line')\n",
      "WARNING:pypsa.consistency:The following buses have carriers which are not defined:\n",
      "Index(['ZA0 0', 'ZA0 1', 'ZA0 2', 'ZA0 3', 'ZA0 4', 'ZA1 0', 'ZA2 0', 'ZA3 0'], dtype='object', name='Bus')\n",
      "INFO:linopy.model: Solve problem using Gurobi solver\n",
      "INFO:linopy.model:Solver options:\n",
      " - DualReductions: 0\n",
      " - InfUnbdInfo: 1\n",
      "INFO:linopy.io: Writing time: 0.13s\n"
     ]
    },
    {
     "name": "stdout",
     "output_type": "stream",
     "text": [
      "Set parameter Username\n"
     ]
    },
    {
     "name": "stderr",
     "output_type": "stream",
     "text": [
      "INFO:gurobipy:Set parameter Username\n"
     ]
    },
    {
     "name": "stdout",
     "output_type": "stream",
     "text": [
      "Set parameter LicenseID to value 2695191\n"
     ]
    },
    {
     "name": "stderr",
     "output_type": "stream",
     "text": [
      "INFO:gurobipy:Set parameter LicenseID to value 2695191\n"
     ]
    },
    {
     "name": "stdout",
     "output_type": "stream",
     "text": [
      "Academic license - for non-commercial use only - expires 2026-08-12\n"
     ]
    },
    {
     "name": "stderr",
     "output_type": "stream",
     "text": [
      "INFO:gurobipy:Academic license - for non-commercial use only - expires 2026-08-12\n"
     ]
    },
    {
     "name": "stdout",
     "output_type": "stream",
     "text": [
      "Read LP format model from file /private/var/folders/tt/b5q5vkxj6xvf2b6q1f46ytgw0000gn/T/linopy-problem-ghcskqkt.lp\n"
     ]
    },
    {
     "name": "stderr",
     "output_type": "stream",
     "text": [
      "INFO:gurobipy:Read LP format model from file /private/var/folders/tt/b5q5vkxj6xvf2b6q1f46ytgw0000gn/T/linopy-problem-ghcskqkt.lp\n"
     ]
    },
    {
     "name": "stdout",
     "output_type": "stream",
     "text": [
      "Reading time = 0.03 seconds\n"
     ]
    },
    {
     "name": "stderr",
     "output_type": "stream",
     "text": [
      "INFO:gurobipy:Reading time = 0.03 seconds\n"
     ]
    },
    {
     "name": "stdout",
     "output_type": "stream",
     "text": [
      "obj: 7448 rows, 3416 columns, 11480 nonzeros\n"
     ]
    },
    {
     "name": "stderr",
     "output_type": "stream",
     "text": [
      "INFO:gurobipy:obj: 7448 rows, 3416 columns, 11480 nonzeros\n"
     ]
    },
    {
     "name": "stdout",
     "output_type": "stream",
     "text": [
      "Set parameter DualReductions to value 0\n"
     ]
    },
    {
     "name": "stderr",
     "output_type": "stream",
     "text": [
      "INFO:gurobipy:Set parameter DualReductions to value 0\n"
     ]
    },
    {
     "name": "stdout",
     "output_type": "stream",
     "text": [
      "Set parameter InfUnbdInfo to value 1\n"
     ]
    },
    {
     "name": "stderr",
     "output_type": "stream",
     "text": [
      "INFO:gurobipy:Set parameter InfUnbdInfo to value 1\n"
     ]
    },
    {
     "name": "stdout",
     "output_type": "stream",
     "text": [
      "Gurobi Optimizer version 12.0.3 build v12.0.3rc0 (mac64[x86] - Darwin 24.6.0 24G84)\n"
     ]
    },
    {
     "name": "stderr",
     "output_type": "stream",
     "text": [
      "INFO:gurobipy:Gurobi Optimizer version 12.0.3 build v12.0.3rc0 (mac64[x86] - Darwin 24.6.0 24G84)\n"
     ]
    },
    {
     "name": "stdout",
     "output_type": "stream",
     "text": [
      "\n"
     ]
    },
    {
     "name": "stderr",
     "output_type": "stream",
     "text": [
      "INFO:gurobipy:\n"
     ]
    },
    {
     "name": "stdout",
     "output_type": "stream",
     "text": [
      "CPU model: Intel(R) Core(TM) i5-8279U CPU @ 2.40GHz\n"
     ]
    },
    {
     "name": "stderr",
     "output_type": "stream",
     "text": [
      "INFO:gurobipy:CPU model: Intel(R) Core(TM) i5-8279U CPU @ 2.40GHz\n"
     ]
    },
    {
     "name": "stdout",
     "output_type": "stream",
     "text": [
      "Thread count: 4 physical cores, 8 logical processors, using up to 8 threads\n"
     ]
    },
    {
     "name": "stderr",
     "output_type": "stream",
     "text": [
      "INFO:gurobipy:Thread count: 4 physical cores, 8 logical processors, using up to 8 threads\n"
     ]
    },
    {
     "name": "stdout",
     "output_type": "stream",
     "text": [
      "\n"
     ]
    },
    {
     "name": "stderr",
     "output_type": "stream",
     "text": [
      "INFO:gurobipy:\n"
     ]
    },
    {
     "name": "stdout",
     "output_type": "stream",
     "text": [
      "Non-default parameters:\n"
     ]
    },
    {
     "name": "stderr",
     "output_type": "stream",
     "text": [
      "INFO:gurobipy:Non-default parameters:\n"
     ]
    },
    {
     "name": "stdout",
     "output_type": "stream",
     "text": [
      "DualReductions  0\n"
     ]
    },
    {
     "name": "stderr",
     "output_type": "stream",
     "text": [
      "INFO:gurobipy:DualReductions  0\n"
     ]
    },
    {
     "name": "stdout",
     "output_type": "stream",
     "text": [
      "InfUnbdInfo  1\n"
     ]
    },
    {
     "name": "stderr",
     "output_type": "stream",
     "text": [
      "INFO:gurobipy:InfUnbdInfo  1\n"
     ]
    },
    {
     "name": "stdout",
     "output_type": "stream",
     "text": [
      "\n"
     ]
    },
    {
     "name": "stderr",
     "output_type": "stream",
     "text": [
      "INFO:gurobipy:\n"
     ]
    },
    {
     "name": "stdout",
     "output_type": "stream",
     "text": [
      "Optimize a model with 7448 rows, 3416 columns and 11480 nonzeros\n"
     ]
    },
    {
     "name": "stderr",
     "output_type": "stream",
     "text": [
      "INFO:gurobipy:Optimize a model with 7448 rows, 3416 columns and 11480 nonzeros\n"
     ]
    },
    {
     "name": "stdout",
     "output_type": "stream",
     "text": [
      "Model fingerprint: 0xb2a7a8b3\n"
     ]
    },
    {
     "name": "stderr",
     "output_type": "stream",
     "text": [
      "INFO:gurobipy:Model fingerprint: 0xb2a7a8b3\n"
     ]
    },
    {
     "name": "stdout",
     "output_type": "stream",
     "text": [
      "Coefficient statistics:\n"
     ]
    },
    {
     "name": "stderr",
     "output_type": "stream",
     "text": [
      "INFO:gurobipy:Coefficient statistics:\n"
     ]
    },
    {
     "name": "stdout",
     "output_type": "stream",
     "text": [
      "  Matrix range     [1e+00, 2e+02]\n"
     ]
    },
    {
     "name": "stderr",
     "output_type": "stream",
     "text": [
      "INFO:gurobipy:  Matrix range     [1e+00, 2e+02]\n"
     ]
    },
    {
     "name": "stdout",
     "output_type": "stream",
     "text": [
      "  Objective range  [2e+00, 7e+03]\n"
     ]
    },
    {
     "name": "stderr",
     "output_type": "stream",
     "text": [
      "INFO:gurobipy:  Objective range  [2e+00, 7e+03]\n"
     ]
    },
    {
     "name": "stdout",
     "output_type": "stream",
     "text": [
      "  Bounds range     [7e+00, 9e+02]\n"
     ]
    },
    {
     "name": "stderr",
     "output_type": "stream",
     "text": [
      "INFO:gurobipy:  Bounds range     [7e+00, 9e+02]\n"
     ]
    },
    {
     "name": "stdout",
     "output_type": "stream",
     "text": [
      "  RHS range        [2e-03, 1e+06]\n"
     ]
    },
    {
     "name": "stderr",
     "output_type": "stream",
     "text": [
      "INFO:gurobipy:  RHS range        [2e-03, 1e+06]\n"
     ]
    },
    {
     "name": "stdout",
     "output_type": "stream",
     "text": [
      "Presolve time: 0.30s\n"
     ]
    },
    {
     "name": "stderr",
     "output_type": "stream",
     "text": [
      "INFO:gurobipy:Presolve time: 0.30s\n"
     ]
    },
    {
     "name": "stdout",
     "output_type": "stream",
     "text": [
      "Iteration    Objective       Primal Inf.    Dual Inf.      Time\n"
     ]
    },
    {
     "name": "stderr",
     "output_type": "stream",
     "text": [
      "INFO:gurobipy:Iteration    Objective       Primal Inf.    Dual Inf.      Time\n"
     ]
    },
    {
     "name": "stdout",
     "output_type": "stream",
     "text": [
      "       0      handle free variables                          0s\n"
     ]
    },
    {
     "name": "stderr",
     "output_type": "stream",
     "text": [
      "INFO:gurobipy:       0      handle free variables                          0s\n"
     ]
    },
    {
     "name": "stdout",
     "output_type": "stream",
     "text": [
      "\n"
     ]
    },
    {
     "name": "stderr",
     "output_type": "stream",
     "text": [
      "INFO:gurobipy:\n"
     ]
    },
    {
     "name": "stdout",
     "output_type": "stream",
     "text": [
      "Solved in 5956 iterations and 0.60 seconds (0.10 work units)\n"
     ]
    },
    {
     "name": "stderr",
     "output_type": "stream",
     "text": [
      "INFO:gurobipy:Solved in 5956 iterations and 0.60 seconds (0.10 work units)\n"
     ]
    },
    {
     "name": "stdout",
     "output_type": "stream",
     "text": [
      "Infeasible model\n"
     ]
    },
    {
     "name": "stderr",
     "output_type": "stream",
     "text": [
      "INFO:gurobipy:Infeasible model\n",
      "WARNING:linopy.constants:Optimization potentially failed: \n",
      "Status: warning\n",
      "Termination condition: infeasible\n",
      "Solution: 0 primals, 0 duals\n",
      "Objective: nan\n",
      "Solver model: available\n",
      "Solver message: 3\n",
      "\n"
     ]
    },
    {
     "name": "stdout",
     "output_type": "stream",
     "text": [
      "Generator marginal costs:\n",
      "            marginal_cost\n",
      "carrier                  \n",
      "CCGT            46.803121\n",
      "biomass         15.828205\n",
      "coal            30.098840\n",
      "nuclear         14.013271\n",
      "offwind-ac       0.015000\n",
      "offwind-dc       0.015000\n",
      "onwind           0.015000\n",
      "ror              0.000000\n",
      "solar            0.010000\n"
     ]
    }
   ],
   "source": [
    "import pypsa\n",
    "import gurobipy as gp\n",
    "import os\n",
    "\n",
    "# Go one directory back from the current directory\n",
    "os.chdir('..')\n",
    "\n",
    "# Now load the network from the networks folder\n",
    "n = pypsa.Network(\"networks/elec_s_5_ec_lc1.0_3h.nc\")\n",
    "\n",
    "# Try with Gurobi's DualReductions=0 to distinguish infeasible vs unbounded\n",
    "try:\n",
    "    n.optimize(\n",
    "        solver_name='gurobi', \n",
    "        solver_options={\n",
    "            'DualReductions': 0,  # Helps distinguish infeasible vs unbounded\n",
    "            'InfUnbdInfo': 1      # Get more info about infeasibility\n",
    "        }\n",
    "    )\n",
    "except Exception as e:\n",
    "    print(f\"Optimization result: {e}\")\n",
    "\n",
    "# Check if it's actually unbounded (costs too low/negative)\n",
    "print(\"Generator marginal costs:\")\n",
    "print(n.generators[['carrier', 'marginal_cost']].groupby('carrier').mean())"
   ]
  },
  {
   "cell_type": "code",
   "execution_count": 3,
   "id": "3eca959f",
   "metadata": {},
   "outputs": [
    {
     "name": "stdout",
     "output_type": "stream",
     "text": [
      "ERROR! Session/line number was not unique in database. History logging moved to new session 212\n"
     ]
    },
    {
     "name": "stderr",
     "output_type": "stream",
     "text": [
      "INFO:pypsa.io:Imported network elec_s_5_ec_lc1.0_3h.nc has buses, carriers, generators, global_constraints, lines, loads, storage_units\n",
      "WARNING:pypsa.consistency:The following lines have carriers which are not defined:\n",
      "Index(['0', '1', '2', '3', '4', '5', '6'], dtype='object', name='Line')\n",
      "WARNING:pypsa.consistency:The following buses have carriers which are not defined:\n",
      "Index(['ZA0 0', 'ZA0 1', 'ZA0 2', 'ZA0 3', 'ZA0 4', 'ZA1 0', 'ZA2 0', 'ZA3 0'], dtype='object', name='Bus')\n",
      "WARNING:pypsa.consistency:The following lines have carriers which are not defined:\n",
      "Index(['0', '1', '2', '3', '4', '5', '6'], dtype='object', name='Line')\n",
      "WARNING:pypsa.consistency:The following buses have carriers which are not defined:\n",
      "Index(['ZA0 0', 'ZA0 1', 'ZA0 2', 'ZA0 3', 'ZA0 4', 'ZA1 0', 'ZA2 0', 'ZA3 0'], dtype='object', name='Bus')\n",
      "INFO:linopy.model: Solve problem using Gurobi solver\n",
      "INFO:linopy.model:Solver options:\n",
      " - DualReductions: 0\n",
      " - InfUnbdInfo: 1\n",
      " - IISMethod: 1\n",
      " - ResultFile: model.ilp\n",
      "INFO:linopy.io: Writing time: 0.1s\n"
     ]
    },
    {
     "name": "stdout",
     "output_type": "stream",
     "text": [
      "Set parameter Username\n"
     ]
    },
    {
     "name": "stderr",
     "output_type": "stream",
     "text": [
      "INFO:gurobipy:Set parameter Username\n"
     ]
    },
    {
     "name": "stdout",
     "output_type": "stream",
     "text": [
      "Set parameter LicenseID to value 2695191\n"
     ]
    },
    {
     "name": "stderr",
     "output_type": "stream",
     "text": [
      "INFO:gurobipy:Set parameter LicenseID to value 2695191\n"
     ]
    },
    {
     "name": "stdout",
     "output_type": "stream",
     "text": [
      "Academic license - for non-commercial use only - expires 2026-08-12\n"
     ]
    },
    {
     "name": "stderr",
     "output_type": "stream",
     "text": [
      "INFO:gurobipy:Academic license - for non-commercial use only - expires 2026-08-12\n"
     ]
    },
    {
     "name": "stdout",
     "output_type": "stream",
     "text": [
      "Read LP format model from file /private/var/folders/tt/b5q5vkxj6xvf2b6q1f46ytgw0000gn/T/linopy-problem-mg2umyve.lp\n"
     ]
    },
    {
     "name": "stderr",
     "output_type": "stream",
     "text": [
      "INFO:gurobipy:Read LP format model from file /private/var/folders/tt/b5q5vkxj6xvf2b6q1f46ytgw0000gn/T/linopy-problem-mg2umyve.lp\n"
     ]
    },
    {
     "name": "stdout",
     "output_type": "stream",
     "text": [
      "Reading time = 0.11 seconds\n"
     ]
    },
    {
     "name": "stderr",
     "output_type": "stream",
     "text": [
      "INFO:gurobipy:Reading time = 0.11 seconds\n"
     ]
    },
    {
     "name": "stdout",
     "output_type": "stream",
     "text": [
      "obj: 7448 rows, 3416 columns, 11480 nonzeros\n"
     ]
    },
    {
     "name": "stderr",
     "output_type": "stream",
     "text": [
      "INFO:gurobipy:obj: 7448 rows, 3416 columns, 11480 nonzeros\n"
     ]
    },
    {
     "name": "stdout",
     "output_type": "stream",
     "text": [
      "Set parameter DualReductions to value 0\n"
     ]
    },
    {
     "name": "stderr",
     "output_type": "stream",
     "text": [
      "INFO:gurobipy:Set parameter DualReductions to value 0\n"
     ]
    },
    {
     "name": "stdout",
     "output_type": "stream",
     "text": [
      "Set parameter InfUnbdInfo to value 1\n"
     ]
    },
    {
     "name": "stderr",
     "output_type": "stream",
     "text": [
      "INFO:gurobipy:Set parameter InfUnbdInfo to value 1\n"
     ]
    },
    {
     "name": "stdout",
     "output_type": "stream",
     "text": [
      "Set parameter IISMethod to value 1\n"
     ]
    },
    {
     "name": "stderr",
     "output_type": "stream",
     "text": [
      "INFO:gurobipy:Set parameter IISMethod to value 1\n"
     ]
    },
    {
     "name": "stdout",
     "output_type": "stream",
     "text": [
      "Gurobi Optimizer version 12.0.3 build v12.0.3rc0 (mac64[x86] - Darwin 24.6.0 24G84)\n"
     ]
    },
    {
     "name": "stderr",
     "output_type": "stream",
     "text": [
      "INFO:gurobipy:Gurobi Optimizer version 12.0.3 build v12.0.3rc0 (mac64[x86] - Darwin 24.6.0 24G84)\n"
     ]
    },
    {
     "name": "stdout",
     "output_type": "stream",
     "text": [
      "\n"
     ]
    },
    {
     "name": "stderr",
     "output_type": "stream",
     "text": [
      "INFO:gurobipy:\n"
     ]
    },
    {
     "name": "stdout",
     "output_type": "stream",
     "text": [
      "CPU model: Intel(R) Core(TM) i5-8279U CPU @ 2.40GHz\n"
     ]
    },
    {
     "name": "stderr",
     "output_type": "stream",
     "text": [
      "INFO:gurobipy:CPU model: Intel(R) Core(TM) i5-8279U CPU @ 2.40GHz\n"
     ]
    },
    {
     "name": "stdout",
     "output_type": "stream",
     "text": [
      "Thread count: 4 physical cores, 8 logical processors, using up to 8 threads\n"
     ]
    },
    {
     "name": "stderr",
     "output_type": "stream",
     "text": [
      "INFO:gurobipy:Thread count: 4 physical cores, 8 logical processors, using up to 8 threads\n"
     ]
    },
    {
     "name": "stdout",
     "output_type": "stream",
     "text": [
      "\n"
     ]
    },
    {
     "name": "stderr",
     "output_type": "stream",
     "text": [
      "INFO:gurobipy:\n"
     ]
    },
    {
     "name": "stdout",
     "output_type": "stream",
     "text": [
      "Non-default parameters:\n"
     ]
    },
    {
     "name": "stderr",
     "output_type": "stream",
     "text": [
      "INFO:gurobipy:Non-default parameters:\n"
     ]
    },
    {
     "name": "stdout",
     "output_type": "stream",
     "text": [
      "DualReductions  0\n"
     ]
    },
    {
     "name": "stderr",
     "output_type": "stream",
     "text": [
      "INFO:gurobipy:DualReductions  0\n"
     ]
    },
    {
     "name": "stdout",
     "output_type": "stream",
     "text": [
      "IISMethod  1\n"
     ]
    },
    {
     "name": "stderr",
     "output_type": "stream",
     "text": [
      "INFO:gurobipy:IISMethod  1\n"
     ]
    },
    {
     "name": "stdout",
     "output_type": "stream",
     "text": [
      "InfUnbdInfo  1\n"
     ]
    },
    {
     "name": "stderr",
     "output_type": "stream",
     "text": [
      "INFO:gurobipy:InfUnbdInfo  1\n"
     ]
    },
    {
     "name": "stdout",
     "output_type": "stream",
     "text": [
      "\n"
     ]
    },
    {
     "name": "stderr",
     "output_type": "stream",
     "text": [
      "INFO:gurobipy:\n"
     ]
    },
    {
     "name": "stdout",
     "output_type": "stream",
     "text": [
      "Optimize a model with 7448 rows, 3416 columns and 11480 nonzeros\n"
     ]
    },
    {
     "name": "stderr",
     "output_type": "stream",
     "text": [
      "INFO:gurobipy:Optimize a model with 7448 rows, 3416 columns and 11480 nonzeros\n"
     ]
    },
    {
     "name": "stdout",
     "output_type": "stream",
     "text": [
      "Model fingerprint: 0xb2a7a8b3\n"
     ]
    },
    {
     "name": "stderr",
     "output_type": "stream",
     "text": [
      "INFO:gurobipy:Model fingerprint: 0xb2a7a8b3\n"
     ]
    },
    {
     "name": "stdout",
     "output_type": "stream",
     "text": [
      "Coefficient statistics:\n"
     ]
    },
    {
     "name": "stderr",
     "output_type": "stream",
     "text": [
      "INFO:gurobipy:Coefficient statistics:\n"
     ]
    },
    {
     "name": "stdout",
     "output_type": "stream",
     "text": [
      "  Matrix range     [1e+00, 2e+02]\n"
     ]
    },
    {
     "name": "stderr",
     "output_type": "stream",
     "text": [
      "INFO:gurobipy:  Matrix range     [1e+00, 2e+02]\n"
     ]
    },
    {
     "name": "stdout",
     "output_type": "stream",
     "text": [
      "  Objective range  [2e+00, 7e+03]\n"
     ]
    },
    {
     "name": "stderr",
     "output_type": "stream",
     "text": [
      "INFO:gurobipy:  Objective range  [2e+00, 7e+03]\n"
     ]
    },
    {
     "name": "stdout",
     "output_type": "stream",
     "text": [
      "  Bounds range     [7e+00, 9e+02]\n"
     ]
    },
    {
     "name": "stderr",
     "output_type": "stream",
     "text": [
      "INFO:gurobipy:  Bounds range     [7e+00, 9e+02]\n"
     ]
    },
    {
     "name": "stdout",
     "output_type": "stream",
     "text": [
      "  RHS range        [2e-03, 1e+06]\n"
     ]
    },
    {
     "name": "stderr",
     "output_type": "stream",
     "text": [
      "INFO:gurobipy:  RHS range        [2e-03, 1e+06]\n"
     ]
    },
    {
     "name": "stdout",
     "output_type": "stream",
     "text": [
      "Presolve time: 0.03s\n"
     ]
    },
    {
     "name": "stderr",
     "output_type": "stream",
     "text": [
      "INFO:gurobipy:Presolve time: 0.03s\n"
     ]
    },
    {
     "name": "stdout",
     "output_type": "stream",
     "text": [
      "Iteration    Objective       Primal Inf.    Dual Inf.      Time\n"
     ]
    },
    {
     "name": "stderr",
     "output_type": "stream",
     "text": [
      "INFO:gurobipy:Iteration    Objective       Primal Inf.    Dual Inf.      Time\n"
     ]
    },
    {
     "name": "stdout",
     "output_type": "stream",
     "text": [
      "       0      handle free variables                          0s\n"
     ]
    },
    {
     "name": "stderr",
     "output_type": "stream",
     "text": [
      "INFO:gurobipy:       0      handle free variables                          0s\n"
     ]
    },
    {
     "name": "stdout",
     "output_type": "stream",
     "text": [
      "\n"
     ]
    },
    {
     "name": "stderr",
     "output_type": "stream",
     "text": [
      "INFO:gurobipy:\n"
     ]
    },
    {
     "name": "stdout",
     "output_type": "stream",
     "text": [
      "Solved in 5956 iterations and 0.21 seconds (0.10 work units)\n"
     ]
    },
    {
     "name": "stderr",
     "output_type": "stream",
     "text": [
      "INFO:gurobipy:Solved in 5956 iterations and 0.21 seconds (0.10 work units)\n"
     ]
    },
    {
     "name": "stdout",
     "output_type": "stream",
     "text": [
      "Infeasible model\n"
     ]
    },
    {
     "name": "stderr",
     "output_type": "stream",
     "text": [
      "INFO:gurobipy:Infeasible model\n"
     ]
    },
    {
     "name": "stdout",
     "output_type": "stream",
     "text": [
      "\n"
     ]
    },
    {
     "name": "stderr",
     "output_type": "stream",
     "text": [
      "INFO:gurobipy:\n"
     ]
    },
    {
     "name": "stdout",
     "output_type": "stream",
     "text": [
      "IIS computed: 5 constraints, 0 bounds\n"
     ]
    },
    {
     "name": "stderr",
     "output_type": "stream",
     "text": [
      "INFO:gurobipy:IIS computed: 5 constraints, 0 bounds\n"
     ]
    },
    {
     "name": "stdout",
     "output_type": "stream",
     "text": [
      "\n"
     ]
    },
    {
     "name": "stderr",
     "output_type": "stream",
     "text": [
      "INFO:gurobipy:\n"
     ]
    },
    {
     "name": "stdout",
     "output_type": "stream",
     "text": [
      "Wrote requested result file 'model.ilp'\n"
     ]
    },
    {
     "name": "stderr",
     "output_type": "stream",
     "text": [
      "INFO:gurobipy:Wrote requested result file 'model.ilp'\n"
     ]
    },
    {
     "name": "stdout",
     "output_type": "stream",
     "text": [
      "\n"
     ]
    },
    {
     "name": "stderr",
     "output_type": "stream",
     "text": [
      "INFO:gurobipy:\n",
      "WARNING:linopy.constants:Optimization potentially failed: \n",
      "Status: warning\n",
      "Termination condition: infeasible\n",
      "Solution: 0 primals, 0 duals\n",
      "Objective: nan\n",
      "Solver model: available\n",
      "Solver message: 3\n",
      "\n"
     ]
    },
    {
     "name": "stdout",
     "output_type": "stream",
     "text": [
      "✅ Infeasibility report saved to model.ilp\n",
      "This file contains details about which constraints are conflicting\n"
     ]
    }
   ],
   "source": [
    "import pypsa\n",
    "import gurobipy as gp\n",
    "\n",
    "# Load network\n",
    "n = pypsa.Network(\"networks/elec_s_5_ec_lc1.0_3h.nc\")\n",
    "\n",
    "# Get detailed infeasibility information from Gurobi\n",
    "try:\n",
    "    n.optimize(\n",
    "        solver_name='gurobi',\n",
    "        solver_options={\n",
    "            'DualReductions': 0,\n",
    "            'InfUnbdInfo': 1,\n",
    "            'IISMethod': 1,  # Find Irreducible Inconsistent Subsystem\n",
    "            'ResultFile': 'model.ilp'  # Write detailed results\n",
    "        }\n",
    "    )\n",
    "except Exception as e:\n",
    "    print(f\"Expected infeasibility: {e}\")\n",
    "\n",
    "# The .ilp file will contain detailed infeasibility information\n",
    "# Check if model.ilp was created in your working directory\n",
    "import os\n",
    "if os.path.exists('model.ilp'):\n",
    "    print(\"✅ Infeasibility report saved to model.ilp\")\n",
    "    print(\"This file contains details about which constraints are conflicting\")\n",
    "else:\n",
    "    print(\"❌ No infeasibility report generated\")"
   ]
  },
  {
   "cell_type": "code",
   "execution_count": 4,
   "id": "13465cda",
   "metadata": {},
   "outputs": [
    {
     "name": "stdout",
     "output_type": "stream",
     "text": [
      "=== INFEASIBILITY REPORT ===\n",
      "\\ Model obj_copy\n",
      "\\ LP format - for model browsing. Use MPS format to capture full model detail.\n",
      "\\ Signature: 0xec82e2d58374482e\n",
      "Minimize\n",
      " \n",
      "Subject To\n",
      " c2270: x30 <= 0\n",
      " c2271: x31 <= 0\n",
      " c2272: x32 <= 3.79788066057\n",
      " c2273: x33 <= 0\n",
      " c6888: x30 + x31 + x32 + x33 = 878.658729688\n",
      "Bounds\n",
      " x30 free\n",
      " x31 free\n",
      " x32 free\n",
      " x33 free\n",
      "End\n",
      "\n"
     ]
    }
   ],
   "source": [
    "# Read the IIS report to see which constraints are conflicting\n",
    "try:\n",
    "    with open('model.ilp', 'r') as f:\n",
    "        ilp_content = f.read()\n",
    "    \n",
    "    print(\"=== INFEASIBILITY REPORT ===\")\n",
    "    print(ilp_content)\n",
    "    \n",
    "except FileNotFoundError:\n",
    "    print(\"model.ilp file not found in current directory\")\n",
    "    import os\n",
    "    print(\"Current directory:\", os.getcwd())\n",
    "    print(\"Files in directory:\", os.listdir('.'))"
   ]
  },
  {
   "cell_type": "code",
   "execution_count": 6,
   "id": "aff23079",
   "metadata": {},
   "outputs": [
    {
     "name": "stdout",
     "output_type": "stream",
     "text": [
      "Solar capacity factors (first 24 hours):\n",
      "snapshot\n",
      "2013-01-01 00:00:00    0.000000\n",
      "2013-01-01 03:00:00    0.011575\n",
      "2013-01-01 06:00:00    0.307586\n",
      "2013-01-01 09:00:00    0.595948\n",
      "2013-01-01 12:00:00    0.577849\n",
      "2013-01-01 15:00:00    0.207901\n",
      "2013-01-01 18:00:00    0.000000\n",
      "2013-01-01 21:00:00    0.000000\n",
      "2013-01-02 00:00:00    0.000000\n",
      "2013-01-02 03:00:00    0.014298\n",
      "2013-01-02 06:00:00    0.347857\n",
      "2013-01-02 09:00:00    0.636970\n",
      "2013-01-02 12:00:00    0.596455\n",
      "2013-01-02 15:00:00    0.215121\n",
      "2013-01-02 18:00:00    0.000000\n",
      "2013-01-02 21:00:00    0.000000\n",
      "2013-01-03 00:00:00    0.000000\n",
      "2013-01-03 03:00:00    0.012504\n",
      "2013-01-03 06:00:00    0.312092\n",
      "2013-01-03 09:00:00    0.590556\n",
      "2013-01-03 12:00:00    0.547503\n",
      "2013-01-03 15:00:00    0.203254\n",
      "2013-01-03 18:00:00    0.000000\n",
      "2013-01-03 21:00:00    0.000000\n",
      "Name: ZA0 0 solar, dtype: float64\n"
     ]
    }
   ],
   "source": [
    "# Check this to see the renewable variability\n",
    "print(\"Solar capacity factors (first 24 hours):\")\n",
    "if 'solar' in n.generators.carrier.values:\n",
    "    solar_gens = n.generators[n.generators.carrier == 'solar'].index\n",
    "    for gen in solar_gens[:1]:  # Just first solar generator\n",
    "        if gen in n.generators_t.p_max_pu.columns:\n",
    "            print(n.generators_t.p_max_pu[gen].head(24))"
   ]
  },
  {
   "cell_type": "code",
   "execution_count": 7,
   "id": "52a0ad8f",
   "metadata": {},
   "outputs": [
    {
     "name": "stderr",
     "output_type": "stream",
     "text": [
      "INFO:pypsa.io:Imported network elec_s_5_ec_lc1.0_3h.nc has buses, carriers, generators, global_constraints, lines, loads, storage_units\n"
     ]
    },
    {
     "name": "stdout",
     "output_type": "stream",
     "text": [
      "=== LOAD SHEDDING DEBUG ===\n",
      "Load shedding generators found: 0\n",
      "🔴 NO LOAD SHEDDING GENERATORS FOUND!\n",
      "This explains the infeasibility\n",
      "\n",
      "All generator carriers: ['CCGT' 'nuclear' 'offwind-ac' 'offwind-dc' 'onwind' 'solar' 'coal' 'ror'\n",
      " 'biomass']\n",
      "All generator types: 40 generators total\n"
     ]
    }
   ],
   "source": [
    "import pypsa\n",
    "n = pypsa.Network(\"networks/elec_s_5_ec_lc1.0_3h.nc\")\n",
    "\n",
    "print(\"=== LOAD SHEDDING DEBUG ===\")\n",
    "\n",
    "# Check if load shedding generators exist\n",
    "load_shed_gens = n.generators[n.generators.carrier == 'load']\n",
    "print(f\"Load shedding generators found: {len(load_shed_gens)}\")\n",
    "\n",
    "if len(load_shed_gens) > 0:\n",
    "    print(\"Load shedding generators:\")\n",
    "    print(load_shed_gens[['bus', 'p_nom', 'marginal_cost']])\n",
    "    \n",
    "    # Check their parameters\n",
    "    print(f\"Load shedding capacity: {load_shed_gens.p_nom.sum():.2f} MW\")\n",
    "    print(f\"Load shedding cost: {load_shed_gens.marginal_cost.iloc[0]:.2f} €/MWh\")\n",
    "else:\n",
    "    print(\"🔴 NO LOAD SHEDDING GENERATORS FOUND!\")\n",
    "    print(\"This explains the infeasibility\")\n",
    "\n",
    "# Also check what carriers exist\n",
    "print(f\"\\nAll generator carriers: {n.generators.carrier.unique()}\")\n",
    "print(f\"All generator types: {len(n.generators)} generators total\")"
   ]
  },
  {
   "cell_type": "code",
   "execution_count": 8,
   "id": "355399f9",
   "metadata": {},
   "outputs": [
    {
     "name": "stdout",
     "output_type": "stream",
     "text": [
      "=== BUS CARRIER ANALYSIS ===\n",
      "Bus carriers:\n",
      "      carrier\n",
      "Bus          \n",
      "ZA0 0      AC\n",
      "ZA0 1      AC\n",
      "ZA0 2      AC\n",
      "ZA0 3      AC\n",
      "ZA0 4      AC\n",
      "ZA1 0      AC\n",
      "ZA2 0      AC\n",
      "ZA3 0      AC\n",
      "\n",
      "Defined carriers in network:\n",
      "['coal', 'geothermal', 'CCGT', 'biomass', 'OCGT', 'lignite', 'oil', 'nuclear', 'hydro', 'offwind-ac', 'offwind-dc', 'onwind', 'solar', 'PHS', 'ror']\n",
      "\n",
      "Undefined bus carriers: {'AC'}\n",
      "\n",
      "AC buses found: 8\n"
     ]
    }
   ],
   "source": [
    "print(\"=== BUS CARRIER ANALYSIS ===\")\n",
    "\n",
    "# Check bus carriers\n",
    "print(\"Bus carriers:\")\n",
    "print(n.buses[['carrier']].head(10))\n",
    "\n",
    "# Check which carriers are actually defined\n",
    "print(f\"\\nDefined carriers in network:\")\n",
    "print(n.carriers.index.tolist())\n",
    "\n",
    "# See if there's a mismatch\n",
    "undefined_bus_carriers = set(n.buses.carrier.unique()) - set(n.carriers.index)\n",
    "print(f\"\\nUndefined bus carriers: {undefined_bus_carriers}\")\n",
    "\n",
    "# Check if AC buses exist\n",
    "ac_buses = n.buses[n.buses.carrier == 'AC'] if 'AC' in n.buses.carrier.values else pd.DataFrame()\n",
    "print(f\"\\nAC buses found: {len(ac_buses)}\")"
   ]
  },
  {
   "cell_type": "code",
   "execution_count": 5,
   "id": "2543b94f",
   "metadata": {},
   "outputs": [
    {
     "name": "stderr",
     "output_type": "stream",
     "text": [
      "INFO:pypsa.io:Imported network elec_s_5_ec_lc1.0_3h.nc has buses, carriers, generators, global_constraints, lines, loads, storage_units\n"
     ]
    },
    {
     "name": "stdout",
     "output_type": "stream",
     "text": [
      "=== SUPPLY-DEMAND ANALYSIS ===\n",
      "Total demand: 2219908.86 MWh\n",
      "\n",
      "Generation capacity by carrier:\n",
      "  CCGT: 4 units, 189562.26 MWh potential\n",
      "  nuclear: 1 units, 108640.00 MWh potential\n",
      "  offwind-ac: 5 units, 0.00 MWh potential\n",
      "  offwind-dc: 5 units, 0.00 MWh potential\n",
      "  onwind: 8 units, 50199.98 MWh potential\n",
      "  solar: 8 units, 62681.05 MWh potential\n",
      "  coal: 3 units, 2631984.97 MWh potential\n",
      "  ror: 4 units, 1093.06 MWh potential\n",
      "  biomass: 2 units, 761.60 MWh potential\n",
      "\n",
      "Total generation potential: 3044922.93 MWh\n",
      "Supply-demand ratio: 1.372\n",
      "✅ Sufficient generation capacity exists\n"
     ]
    }
   ],
   "source": [
    "import pandas as pd\n",
    "import pypsa\n",
    "\n",
    "# Load the network\n",
    "n = pypsa.Network(\"networks/elec_s_5_ec_lc1.0_3h.nc\")\n",
    "\n",
    "print(\"=== SUPPLY-DEMAND ANALYSIS ===\")\n",
    "\n",
    "# Total demand over all snapshots\n",
    "total_demand = n.loads_t.p_set.sum().sum()\n",
    "print(f\"Total demand: {total_demand:.2f} MWh\")\n",
    "\n",
    "# Calculate available generation capacity\n",
    "print(\"\\nGeneration capacity by carrier:\")\n",
    "total_gen_capacity = 0\n",
    "\n",
    "for carrier in n.generators.carrier.unique():\n",
    "    carrier_gens = n.generators[n.generators.carrier == carrier]\n",
    "    carrier_capacity = 0\n",
    "    \n",
    "    for gen_id in carrier_gens.index:\n",
    "        gen = n.generators.loc[gen_id]\n",
    "        \n",
    "        if gen_id in n.generators_t.p_max_pu.columns:\n",
    "            # Variable renewable - capacity factor matters\n",
    "            capacity_factor_profile = n.generators_t.p_max_pu[gen_id]\n",
    "            max_output = (capacity_factor_profile * gen.p_nom).sum()\n",
    "        else:\n",
    "            # Dispatchable - assume can run continuously\n",
    "            max_output = gen.p_nom * len(n.snapshots)\n",
    "        \n",
    "        carrier_capacity += max_output\n",
    "    \n",
    "    total_gen_capacity += carrier_capacity\n",
    "    print(f\"  {carrier}: {len(carrier_gens)} units, {carrier_capacity:.2f} MWh potential\")\n",
    "\n",
    "print(f\"\\nTotal generation potential: {total_gen_capacity:.2f} MWh\")\n",
    "print(f\"Supply-demand ratio: {total_gen_capacity/total_demand:.3f}\")\n",
    "\n",
    "if total_gen_capacity < total_demand:\n",
    "    shortfall = total_demand - total_gen_capacity\n",
    "    print(f\"🔴 INSUFFICIENT CAPACITY: {shortfall:.2f} MWh shortfall ({shortfall/total_demand*100:.1f}%)\")\n",
    "else:\n",
    "    print(\"✅ Sufficient generation capacity exists\")"
   ]
  },
  {
   "cell_type": "code",
   "execution_count": 10,
   "id": "87e4a25b",
   "metadata": {},
   "outputs": [
    {
     "name": "stderr",
     "output_type": "stream",
     "text": [
      "WARNING:pypsa.consistency:The following lines have carriers which are not defined:\n",
      "Index(['0', '1', '2', '3', '4', '5', '6'], dtype='object', name='Line')\n",
      "WARNING:pypsa.consistency:The following buses have carriers which are not defined:\n",
      "Index(['ZA0 0', 'ZA0 1', 'ZA0 2', 'ZA0 3', 'ZA0 4', 'ZA1 0', 'ZA2 0', 'ZA3 0'], dtype='object', name='Bus')\n",
      "WARNING:pypsa.consistency:The following sub_networks have carriers which are not defined:\n",
      "Index(['0'], dtype='object', name='SubNetwork')\n",
      "INFO:linopy.model: Solve problem using Gurobi solver\n",
      "INFO:linopy.io: Writing time: 0.14s\n"
     ]
    },
    {
     "name": "stdout",
     "output_type": "stream",
     "text": [
      "Set parameter Username\n"
     ]
    },
    {
     "name": "stderr",
     "output_type": "stream",
     "text": [
      "INFO:gurobipy:Set parameter Username\n"
     ]
    },
    {
     "name": "stdout",
     "output_type": "stream",
     "text": [
      "Set parameter LicenseID to value 2695191\n"
     ]
    },
    {
     "name": "stderr",
     "output_type": "stream",
     "text": [
      "INFO:gurobipy:Set parameter LicenseID to value 2695191\n"
     ]
    },
    {
     "name": "stdout",
     "output_type": "stream",
     "text": [
      "Academic license - for non-commercial use only - expires 2026-08-12\n"
     ]
    },
    {
     "name": "stderr",
     "output_type": "stream",
     "text": [
      "INFO:gurobipy:Academic license - for non-commercial use only - expires 2026-08-12\n"
     ]
    },
    {
     "name": "stdout",
     "output_type": "stream",
     "text": [
      "Read LP format model from file /private/var/folders/tt/b5q5vkxj6xvf2b6q1f46ytgw0000gn/T/linopy-problem-odzii_fn.lp\n"
     ]
    },
    {
     "name": "stderr",
     "output_type": "stream",
     "text": [
      "INFO:gurobipy:Read LP format model from file /private/var/folders/tt/b5q5vkxj6xvf2b6q1f46ytgw0000gn/T/linopy-problem-odzii_fn.lp\n"
     ]
    },
    {
     "name": "stdout",
     "output_type": "stream",
     "text": [
      "Reading time = 0.03 seconds\n"
     ]
    },
    {
     "name": "stderr",
     "output_type": "stream",
     "text": [
      "INFO:gurobipy:Reading time = 0.03 seconds\n"
     ]
    },
    {
     "name": "stdout",
     "output_type": "stream",
     "text": [
      "obj: 7448 rows, 3416 columns, 11480 nonzeros\n"
     ]
    },
    {
     "name": "stderr",
     "output_type": "stream",
     "text": [
      "INFO:gurobipy:obj: 7448 rows, 3416 columns, 11480 nonzeros\n"
     ]
    },
    {
     "name": "stdout",
     "output_type": "stream",
     "text": [
      "Gurobi Optimizer version 12.0.3 build v12.0.3rc0 (mac64[x86] - Darwin 24.6.0 24G84)\n"
     ]
    },
    {
     "name": "stderr",
     "output_type": "stream",
     "text": [
      "INFO:gurobipy:Gurobi Optimizer version 12.0.3 build v12.0.3rc0 (mac64[x86] - Darwin 24.6.0 24G84)\n"
     ]
    },
    {
     "name": "stdout",
     "output_type": "stream",
     "text": [
      "\n"
     ]
    },
    {
     "name": "stderr",
     "output_type": "stream",
     "text": [
      "INFO:gurobipy:\n"
     ]
    },
    {
     "name": "stdout",
     "output_type": "stream",
     "text": [
      "CPU model: Intel(R) Core(TM) i5-8279U CPU @ 2.40GHz\n"
     ]
    },
    {
     "name": "stderr",
     "output_type": "stream",
     "text": [
      "INFO:gurobipy:CPU model: Intel(R) Core(TM) i5-8279U CPU @ 2.40GHz\n"
     ]
    },
    {
     "name": "stdout",
     "output_type": "stream",
     "text": [
      "Thread count: 4 physical cores, 8 logical processors, using up to 8 threads\n"
     ]
    },
    {
     "name": "stderr",
     "output_type": "stream",
     "text": [
      "INFO:gurobipy:Thread count: 4 physical cores, 8 logical processors, using up to 8 threads\n"
     ]
    },
    {
     "name": "stdout",
     "output_type": "stream",
     "text": [
      "\n"
     ]
    },
    {
     "name": "stderr",
     "output_type": "stream",
     "text": [
      "INFO:gurobipy:\n"
     ]
    },
    {
     "name": "stdout",
     "output_type": "stream",
     "text": [
      "Optimize a model with 7448 rows, 3416 columns and 11480 nonzeros\n"
     ]
    },
    {
     "name": "stderr",
     "output_type": "stream",
     "text": [
      "INFO:gurobipy:Optimize a model with 7448 rows, 3416 columns and 11480 nonzeros\n"
     ]
    },
    {
     "name": "stdout",
     "output_type": "stream",
     "text": [
      "Model fingerprint: 0xb2a7a8b3\n"
     ]
    },
    {
     "name": "stderr",
     "output_type": "stream",
     "text": [
      "INFO:gurobipy:Model fingerprint: 0xb2a7a8b3\n"
     ]
    },
    {
     "name": "stdout",
     "output_type": "stream",
     "text": [
      "Coefficient statistics:\n"
     ]
    },
    {
     "name": "stderr",
     "output_type": "stream",
     "text": [
      "INFO:gurobipy:Coefficient statistics:\n"
     ]
    },
    {
     "name": "stdout",
     "output_type": "stream",
     "text": [
      "  Matrix range     [1e+00, 2e+02]\n"
     ]
    },
    {
     "name": "stderr",
     "output_type": "stream",
     "text": [
      "INFO:gurobipy:  Matrix range     [1e+00, 2e+02]\n"
     ]
    },
    {
     "name": "stdout",
     "output_type": "stream",
     "text": [
      "  Objective range  [2e+00, 7e+03]\n"
     ]
    },
    {
     "name": "stderr",
     "output_type": "stream",
     "text": [
      "INFO:gurobipy:  Objective range  [2e+00, 7e+03]\n"
     ]
    },
    {
     "name": "stdout",
     "output_type": "stream",
     "text": [
      "  Bounds range     [7e+00, 9e+02]\n"
     ]
    },
    {
     "name": "stderr",
     "output_type": "stream",
     "text": [
      "INFO:gurobipy:  Bounds range     [7e+00, 9e+02]\n"
     ]
    },
    {
     "name": "stdout",
     "output_type": "stream",
     "text": [
      "  RHS range        [2e-03, 1e+06]\n"
     ]
    },
    {
     "name": "stderr",
     "output_type": "stream",
     "text": [
      "INFO:gurobipy:  RHS range        [2e-03, 1e+06]\n"
     ]
    },
    {
     "name": "stdout",
     "output_type": "stream",
     "text": [
      "Presolve removed 6608 rows and 969 columns\n"
     ]
    },
    {
     "name": "stderr",
     "output_type": "stream",
     "text": [
      "INFO:gurobipy:Presolve removed 6608 rows and 969 columns\n"
     ]
    },
    {
     "name": "stdout",
     "output_type": "stream",
     "text": [
      "Presolve time: 0.06s\n"
     ]
    },
    {
     "name": "stderr",
     "output_type": "stream",
     "text": [
      "INFO:gurobipy:Presolve time: 0.06s\n"
     ]
    },
    {
     "name": "stdout",
     "output_type": "stream",
     "text": [
      "\n"
     ]
    },
    {
     "name": "stderr",
     "output_type": "stream",
     "text": [
      "INFO:gurobipy:\n"
     ]
    },
    {
     "name": "stdout",
     "output_type": "stream",
     "text": [
      "Solved in 0 iterations and 0.06 seconds (0.00 work units)\n"
     ]
    },
    {
     "name": "stderr",
     "output_type": "stream",
     "text": [
      "INFO:gurobipy:Solved in 0 iterations and 0.06 seconds (0.00 work units)\n"
     ]
    },
    {
     "name": "stdout",
     "output_type": "stream",
     "text": [
      "Infeasible or unbounded model\n"
     ]
    },
    {
     "name": "stderr",
     "output_type": "stream",
     "text": [
      "INFO:gurobipy:Infeasible or unbounded model\n",
      "INFO:linopy.solvers:Unable to save solution file. Raised error: Unable to retrieve attribute 'X'\n",
      "WARNING:linopy.constants:Optimization potentially failed: \n",
      "Status: warning\n",
      "Termination condition: infeasible_or_unbounded\n",
      "Solution: 0 primals, 0 duals\n",
      "Objective: nan\n",
      "Solver model: available\n",
      "Solver message: 4\n",
      "\n"
     ]
    },
    {
     "name": "stdout",
     "output_type": "stream",
     "text": [
      "Gurobi Optimizer version 12.0.3 build v12.0.3rc0 (mac64[x86] - Darwin 24.6.0 24G84)\n"
     ]
    },
    {
     "name": "stderr",
     "output_type": "stream",
     "text": [
      "INFO:gurobipy:Gurobi Optimizer version 12.0.3 build v12.0.3rc0 (mac64[x86] - Darwin 24.6.0 24G84)\n"
     ]
    },
    {
     "name": "stdout",
     "output_type": "stream",
     "text": [
      "\n"
     ]
    },
    {
     "name": "stderr",
     "output_type": "stream",
     "text": [
      "INFO:gurobipy:\n"
     ]
    },
    {
     "name": "stdout",
     "output_type": "stream",
     "text": [
      "CPU model: Intel(R) Core(TM) i5-8279U CPU @ 2.40GHz\n"
     ]
    },
    {
     "name": "stderr",
     "output_type": "stream",
     "text": [
      "INFO:gurobipy:CPU model: Intel(R) Core(TM) i5-8279U CPU @ 2.40GHz\n"
     ]
    },
    {
     "name": "stdout",
     "output_type": "stream",
     "text": [
      "Thread count: 4 physical cores, 8 logical processors, using up to 8 threads\n"
     ]
    },
    {
     "name": "stderr",
     "output_type": "stream",
     "text": [
      "INFO:gurobipy:Thread count: 4 physical cores, 8 logical processors, using up to 8 threads\n"
     ]
    },
    {
     "name": "stdout",
     "output_type": "stream",
     "text": [
      "\n"
     ]
    },
    {
     "name": "stderr",
     "output_type": "stream",
     "text": [
      "INFO:gurobipy:\n"
     ]
    },
    {
     "name": "stdout",
     "output_type": "stream",
     "text": [
      "\n"
     ]
    },
    {
     "name": "stderr",
     "output_type": "stream",
     "text": [
      "INFO:gurobipy:\n"
     ]
    },
    {
     "name": "stdout",
     "output_type": "stream",
     "text": [
      "IIS computed: 5 constraints and 0 bounds\n"
     ]
    },
    {
     "name": "stderr",
     "output_type": "stream",
     "text": [
      "INFO:gurobipy:IIS computed: 5 constraints and 0 bounds\n"
     ]
    },
    {
     "name": "stdout",
     "output_type": "stream",
     "text": [
      "IIS runtime: 0.00 seconds (0.00 work units)\n"
     ]
    },
    {
     "name": "stderr",
     "output_type": "stream",
     "text": [
      "INFO:gurobipy:IIS runtime: 0.00 seconds (0.00 work units)\n"
     ]
    }
   ],
   "source": [
    "m=n.optimize.create_model()\n",
    "m.solve(solver_name=\"gurobi\")\n",
    "labels = m.compute_infeasibilities()"
   ]
  },
  {
   "cell_type": "code",
   "execution_count": 11,
   "id": "6e3c3261",
   "metadata": {},
   "outputs": [
    {
     "name": "stdout",
     "output_type": "stream",
     "text": [
      "[2270, 2271, 2272, 2273, 6888]\n"
     ]
    }
   ],
   "source": [
    "print(labels)"
   ]
  },
  {
   "cell_type": "code",
   "execution_count": 12,
   "id": "917bdf1e",
   "metadata": {},
   "outputs": [
    {
     "name": "stdout",
     "output_type": "stream",
     "text": [
      "Generator-fix-p-upper[2013-01-01 00:00:00, ZA1 0 offwind-ac]: +1 Generator-p[2013-01-01 00:00:00, ZA1 0 offwind-ac] ≤ -0\n",
      "Generator-fix-p-upper[2013-01-01 00:00:00, ZA1 0 offwind-dc]: +1 Generator-p[2013-01-01 00:00:00, ZA1 0 offwind-dc] ≤ -0\n",
      "Generator-fix-p-upper[2013-01-01 00:00:00, ZA1 0 onwind]: +1 Generator-p[2013-01-01 00:00:00, ZA1 0 onwind] ≤ 3.79788066057\n",
      "Generator-fix-p-upper[2013-01-01 00:00:00, ZA1 0 solar]: +1 Generator-p[2013-01-01 00:00:00, ZA1 0 solar] ≤ -0\n",
      "Bus-nodal_balance[ZA1 0, 2013-01-01 00:00:00]: +1 Generator-p[2013-01-01 00:00:00, ZA1 0 offwind-ac] + 1 Generator-p[2013-01-01 00:00:00, ZA1 0 offwind-dc] + 1 Generator-p[2013-01-01 00:00:00, ZA1 0 onwind] + 1 Generator-p[2013-01-01 00:00:00, ZA1 0 solar] = 878.658729688\n"
     ]
    }
   ],
   "source": [
    "m.constraints.print_labels(labels)"
   ]
  },
  {
   "cell_type": "code",
   "execution_count": 13,
   "id": "4c60ffd9",
   "metadata": {},
   "outputs": [
    {
     "name": "stdout",
     "output_type": "stream",
     "text": [
      "Gurobi Optimizer version 12.0.3 build v12.0.3rc0 (mac64[x86] - Darwin 24.6.0 24G84)\n"
     ]
    },
    {
     "name": "stderr",
     "output_type": "stream",
     "text": [
      "INFO:gurobipy:Gurobi Optimizer version 12.0.3 build v12.0.3rc0 (mac64[x86] - Darwin 24.6.0 24G84)\n"
     ]
    },
    {
     "name": "stdout",
     "output_type": "stream",
     "text": [
      "\n"
     ]
    },
    {
     "name": "stderr",
     "output_type": "stream",
     "text": [
      "INFO:gurobipy:\n"
     ]
    },
    {
     "name": "stdout",
     "output_type": "stream",
     "text": [
      "CPU model: Intel(R) Core(TM) i5-8279U CPU @ 2.40GHz\n"
     ]
    },
    {
     "name": "stderr",
     "output_type": "stream",
     "text": [
      "INFO:gurobipy:CPU model: Intel(R) Core(TM) i5-8279U CPU @ 2.40GHz\n"
     ]
    },
    {
     "name": "stdout",
     "output_type": "stream",
     "text": [
      "Thread count: 4 physical cores, 8 logical processors, using up to 8 threads\n"
     ]
    },
    {
     "name": "stderr",
     "output_type": "stream",
     "text": [
      "INFO:gurobipy:Thread count: 4 physical cores, 8 logical processors, using up to 8 threads\n"
     ]
    },
    {
     "name": "stdout",
     "output_type": "stream",
     "text": [
      "\n"
     ]
    },
    {
     "name": "stderr",
     "output_type": "stream",
     "text": [
      "INFO:gurobipy:\n"
     ]
    },
    {
     "name": "stdout",
     "output_type": "stream",
     "text": [
      "\n"
     ]
    },
    {
     "name": "stderr",
     "output_type": "stream",
     "text": [
      "INFO:gurobipy:\n"
     ]
    },
    {
     "name": "stdout",
     "output_type": "stream",
     "text": [
      "IIS computed: 5 constraints and 0 bounds\n"
     ]
    },
    {
     "name": "stderr",
     "output_type": "stream",
     "text": [
      "INFO:gurobipy:IIS computed: 5 constraints and 0 bounds\n"
     ]
    },
    {
     "name": "stdout",
     "output_type": "stream",
     "text": [
      "IIS runtime: 0.01 seconds (0.00 work units)\n"
     ]
    },
    {
     "name": "stderr",
     "output_type": "stream",
     "text": [
      "INFO:gurobipy:IIS runtime: 0.01 seconds (0.00 work units)\n"
     ]
    },
    {
     "name": "stdout",
     "output_type": "stream",
     "text": [
      "Generator-fix-p-upper[2013-01-01 00:00:00, ZA1 0 offwind-ac]: +1 Generator-p[2013-01-01 00:00:00, ZA1 0 offwind-ac] ≤ -0\n",
      "Generator-fix-p-upper[2013-01-01 00:00:00, ZA1 0 offwind-dc]: +1 Generator-p[2013-01-01 00:00:00, ZA1 0 offwind-dc] ≤ -0\n",
      "Generator-fix-p-upper[2013-01-01 00:00:00, ZA1 0 onwind]: +1 Generator-p[2013-01-01 00:00:00, ZA1 0 onwind] ≤ 3.79788066057\n",
      "Generator-fix-p-upper[2013-01-01 00:00:00, ZA1 0 solar]: +1 Generator-p[2013-01-01 00:00:00, ZA1 0 solar] ≤ -0\n",
      "Bus-nodal_balance[ZA1 0, 2013-01-01 00:00:00]: +1 Generator-p[2013-01-01 00:00:00, ZA1 0 offwind-ac] + 1 Generator-p[2013-01-01 00:00:00, ZA1 0 offwind-dc] + 1 Generator-p[2013-01-01 00:00:00, ZA1 0 onwind] + 1 Generator-p[2013-01-01 00:00:00, ZA1 0 solar] = 878.658729688\n"
     ]
    }
   ],
   "source": [
    "m.print_infeasibilities()"
   ]
  },
  {
   "cell_type": "code",
   "execution_count": 14,
   "id": "663bb875",
   "metadata": {},
   "outputs": [
    {
     "name": "stdout",
     "output_type": "stream",
     "text": [
      "=== ALL GENERATORS ===\n",
      "                     carrier         p_nom  p_min_pu  p_max_pu  marginal_cost\n",
      "Generator                                                                    \n",
      "ZA0 0 CCGT              CCGT   2078.300000       0.0       1.0      46.803121\n",
      "ZA0 0 nuclear        nuclear   1940.000000       0.0       1.0      14.013271\n",
      "ZA0 0 offwind-ac  offwind-ac      0.000000       0.0       1.0       0.015000\n",
      "ZA0 0 offwind-dc  offwind-dc      0.000000       0.0       1.0       0.015000\n",
      "ZA0 0 onwind          onwind    869.326726       0.0       1.0       0.015000\n",
      "ZA0 0 solar            solar   1342.994924       0.0       1.0       0.010000\n",
      "ZA0 1 CCGT              CCGT    670.000000       0.0       1.0      46.803121\n",
      "ZA0 1 coal              coal   4215.300000       0.0       1.0      30.098840\n",
      "ZA0 1 offwind-ac  offwind-ac      0.000000       0.0       1.0       0.015000\n",
      "ZA0 1 offwind-dc  offwind-dc      0.000000       0.0       1.0       0.015000\n",
      "ZA0 1 onwind          onwind    192.446194       0.0       1.0       0.015000\n",
      "ZA0 1 ror                ror      7.000000       0.0       1.0       0.000000\n",
      "ZA0 1 solar            solar    420.748792       0.0       1.0       0.010000\n",
      "ZA0 2 CCGT              CCGT    335.000000       0.0       1.0      46.803121\n",
      "ZA0 2 biomass        biomass      3.500000       0.0       1.0      15.828205\n",
      "ZA0 2 offwind-ac  offwind-ac      0.000000       0.0       1.0       0.015000\n",
      "ZA0 2 offwind-dc  offwind-dc      0.000000       0.0       1.0       0.015000\n",
      "ZA0 2 onwind          onwind    685.606333       0.0       1.0       0.015000\n",
      "ZA0 2 ror                ror     45.178337       0.0       1.0       0.000000\n",
      "ZA0 2 solar            solar   1068.475841       0.0       1.0       0.010000\n",
      "ZA0 3 coal              coal    242.469420       0.0       1.0      30.098840\n",
      "ZA0 3 onwind          onwind   1283.749312       0.0       1.0       0.015000\n",
      "ZA0 3 ror                ror     12.570000       0.0       1.0       0.000000\n",
      "ZA0 3 solar            solar   1977.610756       0.0       1.0       0.010000\n",
      "ZA0 4 CCGT              CCGT    301.740341       0.0       1.0      46.803121\n",
      "ZA0 4 biomass        biomass     10.100000       0.0       1.0      15.828205\n",
      "ZA0 4 coal              coal  42541.962174       0.0       1.0      30.098840\n",
      "ZA0 4 onwind          onwind    295.938236       0.0       1.0       0.015000\n",
      "ZA0 4 ror                ror      2.672239       0.0       1.0       0.000000\n",
      "ZA0 4 solar            solar    697.231836       0.0       1.0       0.010000\n",
      "ZA1 0 offwind-ac  offwind-ac      0.000000       0.0       1.0       0.015000\n",
      "ZA1 0 offwind-dc  offwind-dc      0.000000       0.0       1.0       0.015000\n",
      "ZA1 0 onwind          onwind     40.303384       0.0       1.0       0.015000\n",
      "ZA1 0 solar            solar     74.029385       0.0       1.0       0.010000\n",
      "ZA2 0 onwind          onwind      1.675386       0.0       1.0       0.015000\n",
      "ZA2 0 solar            solar      5.000497       0.0       1.0       0.010000\n",
      "ZA3 0 offwind-ac  offwind-ac      0.000000       0.0       1.0       0.015000\n",
      "ZA3 0 offwind-dc  offwind-dc      0.000000       0.0       1.0       0.015000\n",
      "ZA3 0 onwind          onwind     25.576513       0.0       1.0       0.015000\n",
      "ZA3 0 solar            solar      6.471765       0.0       1.0       0.010000\n",
      "\n",
      "=== COAL GENERATORS ===\n",
      "                   p_nom  p_min_pu  p_max_pu  marginal_cost\n",
      "Generator                                                  \n",
      "ZA0 1 coal   4215.300000       0.0       1.0       30.09884\n",
      "ZA0 3 coal    242.469420       0.0       1.0       30.09884\n",
      "ZA0 4 coal  42541.962174       0.0       1.0       30.09884\n",
      "\n",
      "Total coal capacity: 46999.7 MW\n",
      "\n",
      "=== CONVENTIONAL CARRIERS ===\n",
      "carrier\n",
      "CCGT        3385.040341\n",
      "coal       46999.731594\n",
      "nuclear     1940.000000\n",
      "Name: p_nom, dtype: float64\n",
      "\n",
      "=== GENERATORS AT BUS ZA1 0 ===\n",
      "                     carrier      p_nom  p_min_pu  p_max_pu\n",
      "Generator                                                  \n",
      "ZA1 0 offwind-ac  offwind-ac   0.000000       0.0       1.0\n",
      "ZA1 0 offwind-dc  offwind-dc   0.000000       0.0       1.0\n",
      "ZA1 0 onwind          onwind  40.303384       0.0       1.0\n",
      "ZA1 0 solar            solar  74.029385       0.0       1.0\n",
      "\n",
      "=== GENERATOR AVAILABILITY AT 2013-01-01 00:00:00 ===\n",
      "ZA1 0 offwind-ac (offwind-ac): 0.0 MW available\n",
      "ZA1 0 offwind-dc (offwind-dc): 0.0 MW available\n",
      "ZA1 0 onwind (onwind): 3.8 MW available\n",
      "ZA1 0 solar (solar): 0.0 MW available\n"
     ]
    }
   ],
   "source": [
    "# Check all generators in your network\n",
    "print(\"=== ALL GENERATORS ===\")\n",
    "print(n.generators[['carrier', 'p_nom', 'p_min_pu', 'p_max_pu', 'marginal_cost']])\n",
    "\n",
    "# Check specifically for coal\n",
    "print(\"\\n=== COAL GENERATORS ===\")\n",
    "coal_gens = n.generators[n.generators.carrier == 'coal']\n",
    "print(coal_gens[['p_nom', 'p_min_pu', 'p_max_pu', 'marginal_cost']])\n",
    "\n",
    "# Check total coal capacity\n",
    "print(f\"\\nTotal coal capacity: {coal_gens.p_nom.sum():.1f} MW\")\n",
    "\n",
    "# Check conventional carriers\n",
    "print(\"\\n=== CONVENTIONAL CARRIERS ===\")\n",
    "conventional = n.generators[n.generators.carrier.isin(['coal', 'OCGT', 'CCGT', 'nuclear', 'oil'])]\n",
    "print(conventional.groupby('carrier')['p_nom'].sum())\n",
    "\n",
    "# Check what's in your specific bus\n",
    "print(f\"\\n=== GENERATORS AT BUS ZA1 0 ===\")\n",
    "za1_gens = n.generators[n.generators.bus == 'ZA1 0']\n",
    "print(za1_gens[['carrier', 'p_nom', 'p_min_pu', 'p_max_pu']])\n",
    "\n",
    "# Check if generators are actually available at this time\n",
    "print(f\"\\n=== GENERATOR AVAILABILITY AT {n.snapshots[0]} ===\")\n",
    "if hasattr(n, 'generators_t') and hasattr(n.generators_t, 'p_max_pu'):\n",
    "    current_availability = n.generators_t.p_max_pu.loc[n.snapshots[0]]\n",
    "    for gen in za1_gens.index:\n",
    "        if gen in current_availability.index:\n",
    "            max_p = za1_gens.loc[gen, 'p_nom'] * current_availability[gen]\n",
    "            print(f\"{gen} ({za1_gens.loc[gen, 'carrier']}): {max_p:.1f} MW available\")"
   ]
  },
  {
   "cell_type": "code",
   "execution_count": 15,
   "id": "fbd4af6c",
   "metadata": {},
   "outputs": [
    {
     "name": "stdout",
     "output_type": "stream",
     "text": [
      "=== TOTAL SYSTEM DEMAND ===\n",
      "Total system demand at 2013-01-01 00:00:00: 33114.9 MW\n",
      "\n",
      "=== DEMAND BY BUS ===\n",
      "Bus ZA0 0: 3202.1 MW\n",
      "Bus ZA0 1: 5828.7 MW\n",
      "Bus ZA0 2: 4394.0 MW\n",
      "Bus ZA0 3: 3334.6 MW\n",
      "Bus ZA0 4: 14733.2 MW\n",
      "Bus ZA1 0: 878.7 MW\n",
      "Bus ZA2 0: 286.8 MW\n",
      "Bus ZA3 0: 456.9 MW\n",
      "\n",
      "=== ALL LOADS ===\n",
      "         bus  p_set\n",
      "Load               \n",
      "ZA0 0  ZA0 0    0.0\n",
      "ZA0 1  ZA0 1    0.0\n",
      "ZA0 2  ZA0 2    0.0\n",
      "ZA0 3  ZA0 3    0.0\n",
      "ZA0 4  ZA0 4    0.0\n",
      "ZA1 0  ZA1 0    0.0\n",
      "ZA2 0  ZA2 0    0.0\n",
      "ZA3 0  ZA3 0    0.0\n",
      "\n",
      "=== LOAD TIME SERIES SHAPE ===\n",
      "loads_t.p_set shape: (56, 8)\n",
      "First few values:\n",
      "Load\n",
      "ZA0 0     3202.097114\n",
      "ZA0 1     5828.719037\n",
      "ZA0 2     4393.962760\n",
      "ZA0 3     3334.596053\n",
      "ZA0 4    14733.235138\n",
      "ZA1 0      878.658730\n",
      "ZA2 0      286.755203\n",
      "ZA3 0      456.863542\n",
      "Name: 2013-01-01 00:00:00, dtype: float64\n"
     ]
    }
   ],
   "source": [
    "# Check total system demand\n",
    "print(\"=== TOTAL SYSTEM DEMAND ===\")\n",
    "total_demand = n.loads_t.p_set.loc[n.snapshots[0]].sum()\n",
    "print(f\"Total system demand at {n.snapshots[0]}: {total_demand:.1f} MW\")\n",
    "\n",
    "# Check demand by bus\n",
    "print(\"\\n=== DEMAND BY BUS ===\")\n",
    "demand_by_bus = n.loads_t.p_set.loc[n.snapshots[0]]\n",
    "for bus, demand in demand_by_bus.items():\n",
    "    if demand > 0:\n",
    "        print(f\"Bus {bus}: {demand:.1f} MW\")\n",
    "\n",
    "# Check load distribution across all loads\n",
    "print(\"\\n=== ALL LOADS ===\")\n",
    "print(n.loads[['bus', 'p_set']])\n",
    "\n",
    "# Check if there are time-varying loads\n",
    "print(f\"\\n=== LOAD TIME SERIES SHAPE ===\")\n",
    "print(f\"loads_t.p_set shape: {n.loads_t.p_set.shape}\")\n",
    "print(f\"First few values:\\n{n.loads_t.p_set.iloc[0]}\")"
   ]
  },
  {
   "cell_type": "code",
   "execution_count": 7,
   "id": "c1ac6fae",
   "metadata": {},
   "outputs": [
    {
     "name": "stdout",
     "output_type": "stream",
     "text": [
      "\n",
      "=== TRANSMISSION LINES ===\n",
      "Lines connecting buses:\n",
      "        bus0    bus1         s_nom      length\n",
      "Line                                          \n",
      "0      ZA0 0  ZA0 12   6247.230135  258.297921\n",
      "1      ZA0 0  ZA0 15    442.400417  224.005848\n",
      "10    ZA0 10  ZA0 29    442.400417  208.503439\n",
      "11    ZA0 10   ZA0 4    442.400417  242.543123\n",
      "12    ZA0 11  ZA0 30  11039.901322  179.535362\n",
      "...      ...     ...           ...         ...\n",
      "92    ZA0 42   ZA0 8  27402.013724  151.204006\n",
      "93    ZA0 42   ZA0 9   1769.601669  128.677490\n",
      "94    ZA0 45  ZA0 48   3207.403025  131.400003\n",
      "95    ZA0 47   ZA0 5  16978.635887  263.670120\n",
      "96    ZA0 48   ZA0 8  34126.276632  134.966695\n",
      "\n",
      "[97 rows x 4 columns]\n",
      "\n",
      "❌ NO LINKS found between buses!\n",
      "\n",
      "=== SUPPLY VS DEMAND BY REGION ===\n",
      "ZA0: Demand=31674.7 MW, Capacity=61234.3 MW, Available=53398.9 MW\n",
      "ZA1: Demand=883.7 MW, Capacity=122.7 MW, Available=3.7 MW\n",
      "ZA2: Demand=288.4 MW, Capacity=7.7 MW, Available=0.0 MW\n",
      "ZA3: Demand=459.5 MW, Capacity=30.8 MW, Available=3.7 MW\n",
      "\n",
      "=== SYSTEM TOTALS ===\n",
      "Total demand: 33306.3 MW\n",
      "Total capacity: 61395.4 MW\n",
      "Total available: 53406.3 MW\n",
      "Shortfall: -20100.0 MW\n"
     ]
    }
   ],
   "source": [
    "n=network50\n",
    "# Check if buses are connected\n",
    "print(\"\\n=== TRANSMISSION LINES ===\")\n",
    "print(\"Lines connecting buses:\")\n",
    "print(n.lines[['bus0', 'bus1', 's_nom', 'length']])\n",
    "\n",
    "# Check if there are any links between regions\n",
    "if len(n.links) > 0:\n",
    "    print(\"\\n=== LINKS BETWEEN BUSES ===\")\n",
    "    print(n.links[['bus0', 'bus1', 'p_nom']])\n",
    "else:\n",
    "    print(\"\\n❌ NO LINKS found between buses!\")\n",
    "\n",
    "# Summary of supply vs demand by region\n",
    "print(\"\\n=== SUPPLY VS DEMAND BY REGION ===\")\n",
    "regions = ['ZA0', 'ZA1', 'ZA2', 'ZA3']\n",
    "for region in regions:\n",
    "    # Get demand for this region\n",
    "    region_demand = 0\n",
    "    for bus in n.buses.index:\n",
    "        if bus.startswith(region):\n",
    "            region_demand += n.loads_t.p_set.loc[n.snapshots[0], bus]\n",
    "    \n",
    "    # Get available capacity for this region\n",
    "    region_capacity = 0\n",
    "    region_available = 0\n",
    "    for gen in n.generators.index:\n",
    "        if gen.startswith(region):\n",
    "            region_capacity += n.generators.loc[gen, 'p_nom']\n",
    "            # Calculate available capacity considering p_max_pu\n",
    "            if hasattr(n.generators_t, 'p_max_pu') and gen in n.generators_t.p_max_pu.columns:\n",
    "                available = n.generators.loc[gen, 'p_nom'] * n.generators_t.p_max_pu.loc[n.snapshots[0], gen]\n",
    "            else:\n",
    "                available = n.generators.loc[gen, 'p_nom'] * n.generators.loc[gen, 'p_max_pu']\n",
    "            region_available += available\n",
    "    \n",
    "    print(f\"{region}: Demand={region_demand:.1f} MW, Capacity={region_capacity:.1f} MW, Available={region_available:.1f} MW\")\n",
    "\n",
    "# Check total system balance\n",
    "print(f\"\\n=== SYSTEM TOTALS ===\")\n",
    "total_demand = n.loads_t.p_set.loc[n.snapshots[0]].sum()\n",
    "total_capacity = n.generators.p_nom.sum()\n",
    "total_available = 0\n",
    "for gen in n.generators.index:\n",
    "    if hasattr(n.generators_t, 'p_max_pu') and gen in n.generators_t.p_max_pu.columns:\n",
    "        available = n.generators.loc[gen, 'p_nom'] * n.generators_t.p_max_pu.loc[n.snapshots[0], gen]\n",
    "    else:\n",
    "        available = n.generators.loc[gen, 'p_nom'] * n.generators.loc[gen, 'p_max_pu']\n",
    "    total_available += available\n",
    "\n",
    "print(f\"Total demand: {total_demand:.1f} MW\")\n",
    "print(f\"Total capacity: {total_capacity:.1f} MW\") \n",
    "print(f\"Total available: {total_available:.1f} MW\")\n",
    "print(f\"Shortfall: {total_demand - total_available:.1f} MW\")"
   ]
  },
  {
   "cell_type": "code",
   "execution_count": 17,
   "id": "82d60484",
   "metadata": {},
   "outputs": [
    {
     "name": "stdout",
     "output_type": "stream",
     "text": [
      "=== TRANSMISSION CONNECTIVITY ===\n",
      "\n",
      "ZA0 region connections:\n",
      "  → ZA0 2 (33287.1 MW)\n",
      "  → ZA0 3 (11167.3 MW)\n",
      "  → ZA0 2 (6394.7 MW)\n",
      "  → ZA0 3 (2359.5 MW)\n",
      "  → ZA0 4 (33895.0 MW)\n",
      "  → ZA0 3 (62686.5 MW)\n",
      "  → ZA0 4 (91265.8 MW)\n",
      "\n",
      "ZA1 region connections:\n",
      "  ❌ ZA1 has NO transmission connections to other regions!\n",
      "\n",
      "ZA2 region connections:\n",
      "  ❌ ZA2 has NO transmission connections to other regions!\n",
      "\n",
      "ZA3 region connections:\n",
      "  ❌ ZA3 has NO transmission connections to other regions!\n",
      "\n",
      "=== ZA1 0 BUS ISOLATION ===\n",
      "ZA1 0 demand: 878.7 MW\n",
      "ZA1 0 available generation: 3.8 MW\n",
      "Deficit: 874.9 MW\n",
      "No transmission lines connect ZA1 0 to any ZA0 bus with coal generators\n"
     ]
    }
   ],
   "source": [
    "# Check transmission connections to each region\n",
    "print(\"=== TRANSMISSION CONNECTIVITY ===\")\n",
    "regions = ['ZA0', 'ZA1', 'ZA2', 'ZA3']\n",
    "\n",
    "for region in regions:\n",
    "    print(f\"\\n{region} region connections:\")\n",
    "    connections = []\n",
    "    \n",
    "    # Check lines where this region is involved\n",
    "    for idx, line in n.lines.iterrows():\n",
    "        bus0_region = line['bus0'][:3]  # Get ZA0, ZA1, etc.\n",
    "        bus1_region = line['bus1'][:3]\n",
    "        \n",
    "        if bus0_region == region:\n",
    "            connections.append(f\"  → {line['bus1']} ({line['s_nom']:.1f} MW)\")\n",
    "        elif bus1_region == region:\n",
    "            connections.append(f\"  ← {line['bus0']} ({line['s_nom']:.1f} MW)\")\n",
    "    \n",
    "    if connections:\n",
    "        for conn in connections:\n",
    "            print(conn)\n",
    "    else:\n",
    "        print(f\"  ❌ {region} has NO transmission connections to other regions!\")\n",
    "\n",
    "# Verify the isolated ZA1 0 problem specifically\n",
    "print(f\"\\n=== ZA1 0 BUS ISOLATION ===\")\n",
    "print(f\"ZA1 0 demand: {n.loads_t.p_set.loc[n.snapshots[0], 'ZA1 0']:.1f} MW\")\n",
    "print(f\"ZA1 0 available generation: 3.8 MW\")\n",
    "print(f\"Deficit: {n.loads_t.p_set.loc[n.snapshots[0], 'ZA1 0'] - 3.8:.1f} MW\")\n",
    "print(\"No transmission lines connect ZA1 0 to any ZA0 bus with coal generators\")"
   ]
  },
  {
   "cell_type": "code",
   "execution_count": 18,
   "id": "080eb888",
   "metadata": {},
   "outputs": [
    {
     "name": "stdout",
     "output_type": "stream",
     "text": [
      "=== RENEWABLE GENERATOR p_set CHECK ===\n",
      "generators_t attributes: []\n",
      "generators_t.p_set shape: (56, 0)\n",
      "generators_t.p_set columns: []\n",
      "\n",
      "=== RENEWABLE GENERATOR p_set VALUES ===\n",
      "\n",
      "=== RENEWABLE GENERATOR CONTROL ===\n",
      "                     carrier control        p_nom\n",
      "Generator                                        \n",
      "ZA0 0 offwind-ac  offwind-ac             0.000000\n",
      "ZA0 0 offwind-dc  offwind-dc             0.000000\n",
      "ZA0 0 onwind          onwind           869.326726\n",
      "ZA0 0 solar            solar          1342.994924\n",
      "ZA0 1 offwind-ac  offwind-ac             0.000000\n",
      "ZA0 1 offwind-dc  offwind-dc             0.000000\n",
      "ZA0 1 onwind          onwind           192.446194\n",
      "ZA0 1 solar            solar           420.748792\n",
      "ZA0 2 offwind-ac  offwind-ac             0.000000\n",
      "ZA0 2 offwind-dc  offwind-dc             0.000000\n"
     ]
    }
   ],
   "source": [
    "# Check if renewable generators have p_set in time series\n",
    "print(\"=== RENEWABLE GENERATOR p_set CHECK ===\")\n",
    "\n",
    "# Check what's in generators_t\n",
    "print(f\"generators_t attributes: {list(n.generators_t.__dict__.keys())}\")\n",
    "\n",
    "# Check if p_set exists for generators\n",
    "if hasattr(n.generators_t, 'p_set'):\n",
    "    print(f\"generators_t.p_set shape: {n.generators_t.p_set.shape}\")\n",
    "    print(f\"generators_t.p_set columns: {list(n.generators_t.p_set.columns)}\")\n",
    "    \n",
    "    # Check renewable generators specifically\n",
    "    renewable_gens = n.generators[n.generators.carrier.isin(['solar', 'onwind', 'offwind-ac', 'offwind-dc'])]\n",
    "    print(f\"\\n=== RENEWABLE GENERATOR p_set VALUES ===\")\n",
    "    for gen in renewable_gens.index[:5]:  # First 5 renewable generators\n",
    "        if gen in n.generators_t.p_set.columns:\n",
    "            p_set_val = n.generators_t.p_set.loc[n.snapshots[0], gen]\n",
    "            p_max_pu_val = n.generators_t.p_max_pu.loc[n.snapshots[0], gen] if hasattr(n.generators_t, 'p_max_pu') else \"N/A\"\n",
    "            print(f\"{gen}: p_set={p_set_val}, p_max_pu={p_max_pu_val}\")\n",
    "else:\n",
    "    print(\"❌ No generators_t.p_set found!\")\n",
    "\n",
    "# Check renewable generator control types\n",
    "print(f\"\\n=== RENEWABLE GENERATOR CONTROL ===\")\n",
    "renewable_gens = n.generators[n.generators.carrier.isin(['solar', 'onwind', 'offwind-ac', 'offwind-dc'])]\n",
    "print(renewable_gens[['carrier', 'control', 'p_nom']].head(10))"
   ]
  },
  {
   "cell_type": "code",
   "execution_count": 22,
   "id": "e42b8242",
   "metadata": {},
   "outputs": [
    {
     "name": "stdout",
     "output_type": "stream",
     "text": [
      "=== CONNECTING ISOLATED REGIONS ===\n",
      "Added transmission connections:\n",
      "  ZA0 4 ↔ ZA1 0: 2000 MW\n",
      "  ZA0 2 ↔ ZA2 0: 1000 MW\n",
      "  ZA0 3 ↔ ZA3 0: 1000 MW\n"
     ]
    },
    {
     "name": "stderr",
     "output_type": "stream",
     "text": [
      "WARNING:pypsa.consistency:The following lines have carriers which are not defined:\n",
      "Index(['0', '1', '2', '3', '4', '5', '6', 'fix_ZA0_4_to_ZA1_0',\n",
      "       'fix_ZA0_2_to_ZA2_0', 'fix_ZA0_3_to_ZA3_0'],\n",
      "      dtype='object', name='Line')\n",
      "WARNING:pypsa.consistency:The following buses have carriers which are not defined:\n",
      "Index(['ZA0 0', 'ZA0 1', 'ZA0 2', 'ZA0 3', 'ZA0 4', 'ZA1 0', 'ZA2 0', 'ZA3 0'], dtype='object', name='Bus')\n",
      "WARNING:pypsa.consistency:The following sub_networks have carriers which are not defined:\n",
      "Index(['0'], dtype='object', name='SubNetwork')\n",
      "WARNING:pypsa.consistency:The following lines have carriers which are not defined:\n",
      "Index(['0', '1', '2', '3', '4', '5', '6', 'fix_ZA0_4_to_ZA1_0',\n",
      "       'fix_ZA0_2_to_ZA2_0', 'fix_ZA0_3_to_ZA3_0'],\n",
      "      dtype='object', name='Line')\n",
      "WARNING:pypsa.consistency:The following buses have carriers which are not defined:\n",
      "Index(['ZA0 0', 'ZA0 1', 'ZA0 2', 'ZA0 3', 'ZA0 4', 'ZA1 0', 'ZA2 0', 'ZA3 0'], dtype='object', name='Bus')\n",
      "WARNING:pypsa.consistency:The following sub_networks have carriers which are not defined:\n",
      "Index(['0'], dtype='object', name='SubNetwork')\n",
      "INFO:linopy.model: Solve problem using Gurobi solver\n",
      "INFO:linopy.io: Writing time: 0.23s\n"
     ]
    },
    {
     "name": "stdout",
     "output_type": "stream",
     "text": [
      "Set parameter Username\n"
     ]
    },
    {
     "name": "stderr",
     "output_type": "stream",
     "text": [
      "INFO:gurobipy:Set parameter Username\n"
     ]
    },
    {
     "name": "stdout",
     "output_type": "stream",
     "text": [
      "Set parameter LicenseID to value 2695191\n"
     ]
    },
    {
     "name": "stderr",
     "output_type": "stream",
     "text": [
      "INFO:gurobipy:Set parameter LicenseID to value 2695191\n"
     ]
    },
    {
     "name": "stdout",
     "output_type": "stream",
     "text": [
      "Academic license - for non-commercial use only - expires 2026-08-12\n"
     ]
    },
    {
     "name": "stderr",
     "output_type": "stream",
     "text": [
      "INFO:gurobipy:Academic license - for non-commercial use only - expires 2026-08-12\n"
     ]
    },
    {
     "name": "stdout",
     "output_type": "stream",
     "text": [
      "Read LP format model from file /private/var/folders/tt/b5q5vkxj6xvf2b6q1f46ytgw0000gn/T/linopy-problem-rs53pgn_.lp\n"
     ]
    },
    {
     "name": "stderr",
     "output_type": "stream",
     "text": [
      "INFO:gurobipy:Read LP format model from file /private/var/folders/tt/b5q5vkxj6xvf2b6q1f46ytgw0000gn/T/linopy-problem-rs53pgn_.lp\n"
     ]
    },
    {
     "name": "stdout",
     "output_type": "stream",
     "text": [
      "Reading time = 0.06 seconds\n"
     ]
    },
    {
     "name": "stderr",
     "output_type": "stream",
     "text": [
      "INFO:gurobipy:Reading time = 0.06 seconds\n"
     ]
    },
    {
     "name": "stdout",
     "output_type": "stream",
     "text": [
      "obj: 7784 rows, 3584 columns, 12152 nonzeros\n"
     ]
    },
    {
     "name": "stderr",
     "output_type": "stream",
     "text": [
      "INFO:gurobipy:obj: 7784 rows, 3584 columns, 12152 nonzeros\n"
     ]
    },
    {
     "name": "stdout",
     "output_type": "stream",
     "text": [
      "Gurobi Optimizer version 12.0.3 build v12.0.3rc0 (mac64[x86] - Darwin 24.6.0 24G84)\n"
     ]
    },
    {
     "name": "stderr",
     "output_type": "stream",
     "text": [
      "INFO:gurobipy:Gurobi Optimizer version 12.0.3 build v12.0.3rc0 (mac64[x86] - Darwin 24.6.0 24G84)\n"
     ]
    },
    {
     "name": "stdout",
     "output_type": "stream",
     "text": [
      "\n"
     ]
    },
    {
     "name": "stderr",
     "output_type": "stream",
     "text": [
      "INFO:gurobipy:\n"
     ]
    },
    {
     "name": "stdout",
     "output_type": "stream",
     "text": [
      "CPU model: Intel(R) Core(TM) i5-8279U CPU @ 2.40GHz\n"
     ]
    },
    {
     "name": "stderr",
     "output_type": "stream",
     "text": [
      "INFO:gurobipy:CPU model: Intel(R) Core(TM) i5-8279U CPU @ 2.40GHz\n"
     ]
    },
    {
     "name": "stdout",
     "output_type": "stream",
     "text": [
      "Thread count: 4 physical cores, 8 logical processors, using up to 8 threads\n"
     ]
    },
    {
     "name": "stderr",
     "output_type": "stream",
     "text": [
      "INFO:gurobipy:Thread count: 4 physical cores, 8 logical processors, using up to 8 threads\n"
     ]
    },
    {
     "name": "stdout",
     "output_type": "stream",
     "text": [
      "\n"
     ]
    },
    {
     "name": "stderr",
     "output_type": "stream",
     "text": [
      "INFO:gurobipy:\n"
     ]
    },
    {
     "name": "stdout",
     "output_type": "stream",
     "text": [
      "Optimize a model with 7784 rows, 3584 columns and 12152 nonzeros\n"
     ]
    },
    {
     "name": "stderr",
     "output_type": "stream",
     "text": [
      "INFO:gurobipy:Optimize a model with 7784 rows, 3584 columns and 12152 nonzeros\n"
     ]
    },
    {
     "name": "stdout",
     "output_type": "stream",
     "text": [
      "Model fingerprint: 0x9aad4685\n"
     ]
    },
    {
     "name": "stderr",
     "output_type": "stream",
     "text": [
      "INFO:gurobipy:Model fingerprint: 0x9aad4685\n"
     ]
    },
    {
     "name": "stdout",
     "output_type": "stream",
     "text": [
      "Coefficient statistics:\n"
     ]
    },
    {
     "name": "stderr",
     "output_type": "stream",
     "text": [
      "INFO:gurobipy:Coefficient statistics:\n"
     ]
    },
    {
     "name": "stdout",
     "output_type": "stream",
     "text": [
      "  Matrix range     [1e+00, 2e+02]\n"
     ]
    },
    {
     "name": "stderr",
     "output_type": "stream",
     "text": [
      "INFO:gurobipy:  Matrix range     [1e+00, 2e+02]\n"
     ]
    },
    {
     "name": "stdout",
     "output_type": "stream",
     "text": [
      "  Objective range  [2e+00, 7e+03]\n"
     ]
    },
    {
     "name": "stderr",
     "output_type": "stream",
     "text": [
      "INFO:gurobipy:  Objective range  [2e+00, 7e+03]\n"
     ]
    },
    {
     "name": "stdout",
     "output_type": "stream",
     "text": [
      "  Bounds range     [7e+00, 9e+02]\n"
     ]
    },
    {
     "name": "stderr",
     "output_type": "stream",
     "text": [
      "INFO:gurobipy:  Bounds range     [7e+00, 9e+02]\n"
     ]
    },
    {
     "name": "stdout",
     "output_type": "stream",
     "text": [
      "  RHS range        [2e-03, 1e+06]\n"
     ]
    },
    {
     "name": "stderr",
     "output_type": "stream",
     "text": [
      "INFO:gurobipy:  RHS range        [2e-03, 1e+06]\n"
     ]
    },
    {
     "name": "stdout",
     "output_type": "stream",
     "text": [
      "Presolve removed 7606 rows and 2654 columns\n"
     ]
    },
    {
     "name": "stderr",
     "output_type": "stream",
     "text": [
      "INFO:gurobipy:Presolve removed 7606 rows and 2654 columns\n"
     ]
    },
    {
     "name": "stdout",
     "output_type": "stream",
     "text": [
      "Presolve time: 0.17s\n"
     ]
    },
    {
     "name": "stderr",
     "output_type": "stream",
     "text": [
      "INFO:gurobipy:Presolve time: 0.17s\n"
     ]
    },
    {
     "name": "stdout",
     "output_type": "stream",
     "text": [
      "Presolved: 178 rows, 930 columns, 1394 nonzeros\n"
     ]
    },
    {
     "name": "stderr",
     "output_type": "stream",
     "text": [
      "INFO:gurobipy:Presolved: 178 rows, 930 columns, 1394 nonzeros\n"
     ]
    },
    {
     "name": "stdout",
     "output_type": "stream",
     "text": [
      "\n"
     ]
    },
    {
     "name": "stderr",
     "output_type": "stream",
     "text": [
      "INFO:gurobipy:\n"
     ]
    },
    {
     "name": "stdout",
     "output_type": "stream",
     "text": [
      "Iteration    Objective       Primal Inf.    Dual Inf.      Time\n"
     ]
    },
    {
     "name": "stderr",
     "output_type": "stream",
     "text": [
      "INFO:gurobipy:Iteration    Objective       Primal Inf.    Dual Inf.      Time\n"
     ]
    },
    {
     "name": "stdout",
     "output_type": "stream",
     "text": [
      "       0    6.9558828e+09   8.350750e+04   0.000000e+00      0s\n"
     ]
    },
    {
     "name": "stderr",
     "output_type": "stream",
     "text": [
      "INFO:gurobipy:       0    6.9558828e+09   8.350750e+04   0.000000e+00      0s\n"
     ]
    },
    {
     "name": "stdout",
     "output_type": "stream",
     "text": [
      "     228    9.5727753e+09   0.000000e+00   0.000000e+00      0s\n"
     ]
    },
    {
     "name": "stderr",
     "output_type": "stream",
     "text": [
      "INFO:gurobipy:     228    9.5727753e+09   0.000000e+00   0.000000e+00      0s\n"
     ]
    },
    {
     "name": "stdout",
     "output_type": "stream",
     "text": [
      "\n"
     ]
    },
    {
     "name": "stderr",
     "output_type": "stream",
     "text": [
      "INFO:gurobipy:\n"
     ]
    },
    {
     "name": "stdout",
     "output_type": "stream",
     "text": [
      "Solved in 228 iterations and 0.23 seconds (0.01 work units)\n"
     ]
    },
    {
     "name": "stderr",
     "output_type": "stream",
     "text": [
      "INFO:gurobipy:Solved in 228 iterations and 0.23 seconds (0.01 work units)\n"
     ]
    },
    {
     "name": "stdout",
     "output_type": "stream",
     "text": [
      "Optimal objective  9.572775279e+09\n"
     ]
    },
    {
     "name": "stderr",
     "output_type": "stream",
     "text": [
      "INFO:gurobipy:Optimal objective  9.572775279e+09\n",
      "INFO:linopy.constants: Optimization successful: \n",
      "Status: ok\n",
      "Termination condition: optimal\n",
      "Solution: 3584 primals, 7784 duals\n",
      "Objective: 9.57e+09\n",
      "Solver model: available\n",
      "Solver message: 2\n",
      "\n",
      "INFO:pypsa.optimization.optimize:The shadow-prices of the constraints Generator-fix-p-lower, Generator-fix-p-upper, Line-fix-s-lower, Line-fix-s-upper, StorageUnit-fix-p_dispatch-lower, StorageUnit-fix-p_dispatch-upper, StorageUnit-fix-p_store-lower, StorageUnit-fix-p_store-upper, StorageUnit-fix-state_of_charge-lower, StorageUnit-fix-state_of_charge-upper, Kirchhoff-Voltage-Law, StorageUnit-energy_balance were not assigned to the network.\n"
     ]
    },
    {
     "name": "stdout",
     "output_type": "stream",
     "text": [
      "✅ SUCCESS! 5-node network now works with transmission fixes\n",
      "Objective: 9,572,775,279\n"
     ]
    },
    {
     "name": "stderr",
     "output_type": "stream",
     "text": [
      "INFO:pypsa.io:Exported network 'elec_s_5_ec_lc1.0_3h_connected.nc' contains: carriers, lines, loads, global_constraints, storage_units, buses, generators\n"
     ]
    },
    {
     "name": "stdout",
     "output_type": "stream",
     "text": [
      "💾 Saved connected network as: elec_s_5_ec_lc1.0_3h_connected.nc\n"
     ]
    }
   ],
   "source": [
    "# Quick transmission fix to connect all isolated regions\n",
    "print(\"=== CONNECTING ISOLATED REGIONS ===\")\n",
    "\n",
    "# Add transmission lines to connect all regions to main grid\n",
    "transmission_fixes = [\n",
    "    # Connect ZA1 to coal-rich ZA0 region\n",
    "    {\"name\": \"fix_ZA0_4_to_ZA1_0\", \"bus0\": \"ZA0 4\", \"bus1\": \"ZA1 0\", \"s_nom\": 2000},\n",
    "    \n",
    "    # Connect ZA2 to main grid\n",
    "    {\"name\": \"fix_ZA0_2_to_ZA2_0\", \"bus0\": \"ZA0 2\", \"bus1\": \"ZA2 0\", \"s_nom\": 1000},\n",
    "    \n",
    "    # Connect ZA3 to main grid  \n",
    "    {\"name\": \"fix_ZA0_3_to_ZA3_0\", \"bus0\": \"ZA0 3\", \"bus1\": \"ZA3 0\", \"s_nom\": 1000},\n",
    "]\n",
    "\n",
    "for line in transmission_fixes:\n",
    "    n.add(\"Line\", line[\"name\"],\n",
    "          bus0=line[\"bus0\"], \n",
    "          bus1=line[\"bus1\"],\n",
    "          s_nom=line[\"s_nom\"],\n",
    "          length=500,  # Reasonable assumption\n",
    "          r=0.01, x=0.1)  # Standard transmission parameters\n",
    "\n",
    "print(\"Added transmission connections:\")\n",
    "for line in transmission_fixes:\n",
    "    print(f\"  {line['bus0']} ↔ {line['bus1']}: {line['s_nom']} MW\")\n",
    "\n",
    "# Test optimization\n",
    "try:\n",
    "    n.optimize(solver_name='gurobi')\n",
    "    print(\"✅ SUCCESS! 5-node network now works with transmission fixes\")\n",
    "    print(f\"Objective: {n.objective:,.0f}\")\n",
    "    \n",
    "    # Save this working network for RL training\n",
    "    n.export_to_netcdf(\"elec_s_5_ec_lc1.0_3h_connected.nc\")\n",
    "    print(\"💾 Saved connected network as: elec_s_5_ec_lc1.0_3h_connected.nc\")\n",
    "    \n",
    "except Exception as e:\n",
    "    print(f\"❌ Still having issues: {e}\")"
   ]
  },
  {
   "cell_type": "code",
   "execution_count": null,
   "id": "749d46a1",
   "metadata": {},
   "outputs": [
    {
     "name": "stdout",
     "output_type": "stream",
     "text": [
      "=== GENERATOR CONTROL ANALYSIS ===\n",
      "                   p_nom         \n",
      "                   count      sum\n",
      "carrier    control               \n",
      "CCGT                   3   1306.7\n",
      "           Slack       1   2078.3\n",
      "biomass                2     13.6\n",
      "coal                   3  46999.7\n",
      "nuclear                1   1940.0\n",
      "offwind-ac             3      0.0\n",
      "           Slack       2      0.0\n",
      "offwind-dc             5      0.0\n",
      "onwind                 7   3392.9\n",
      "           Slack       1      1.7\n",
      "ror                    4     67.4\n",
      "solar                  8   5592.6\n",
      "\n",
      "=== YOUR RL AGENT CONTROLLABLE GENERATORS ===\n"
     ]
    },
    {
     "ename": "NameError",
     "evalue": "name 'self' is not defined",
     "output_type": "error",
     "traceback": [
      "\u001b[31m---------------------------------------------------------------------------\u001b[39m",
      "\u001b[31mNameError\u001b[39m                                 Traceback (most recent call last)",
      "\u001b[36mCell\u001b[39m\u001b[36m \u001b[39m\u001b[32mIn[19]\u001b[39m\u001b[32m, line 9\u001b[39m\n\u001b[32m      7\u001b[39m \u001b[38;5;66;03m# Check what your RL agent is actually trying to control\u001b[39;00m\n\u001b[32m      8\u001b[39m \u001b[38;5;28mprint\u001b[39m(\u001b[33mf\u001b[39m\u001b[33m\"\u001b[39m\u001b[38;5;130;01m\\n\u001b[39;00m\u001b[33m=== YOUR RL AGENT CONTROLLABLE GENERATORS ===\u001b[39m\u001b[33m\"\u001b[39m)\n\u001b[32m----> \u001b[39m\u001b[32m9\u001b[39m \u001b[38;5;28mprint\u001b[39m(\u001b[33mf\u001b[39m\u001b[33m\"\u001b[39m\u001b[33mNon-slack generators: \u001b[39m\u001b[38;5;132;01m{\u001b[39;00m\u001b[38;5;28mlen\u001b[39m(\u001b[38;5;28;43mself\u001b[39;49m.non_slack_gens)\u001b[38;5;132;01m}\u001b[39;00m\u001b[33m\"\u001b[39m)\n\u001b[32m     10\u001b[39m \u001b[38;5;28mprint\u001b[39m(\u001b[33m\"\u001b[39m\u001b[33mBreakdown by carrier:\u001b[39m\u001b[33m\"\u001b[39m)\n\u001b[32m     11\u001b[39m \u001b[38;5;28;01mfor\u001b[39;00m carrier \u001b[38;5;129;01min\u001b[39;00m n.generators.loc[\u001b[38;5;28mself\u001b[39m.non_slack_gens, \u001b[33m'\u001b[39m\u001b[33mcarrier\u001b[39m\u001b[33m'\u001b[39m].unique():\n",
      "\u001b[31mNameError\u001b[39m: name 'self' is not defined"
     ]
    }
   ],
   "source": [
    "print(\"=== GENERATOR CONTROL ANALYSIS ===\")\n",
    "control_summary = n.generators.groupby(['carrier', 'control']).agg({\n",
    "    'p_nom': ['count', 'sum']\n",
    "}).round(1)\n",
    "print(control_summary)\n"
   ]
  },
  {
   "cell_type": "code",
   "execution_count": 23,
   "id": "5789696a",
   "metadata": {},
   "outputs": [
    {
     "name": "stderr",
     "output_type": "stream",
     "text": [
      "INFO:pypsa.io:Imported network elec_s_5_ec_lc1.0_3h_connected.nc has buses, carriers, generators, global_constraints, lines, loads, storage_units\n"
     ]
    },
    {
     "name": "stdout",
     "output_type": "stream",
     "text": [
      "=== CARRIERS FOUND IN NETWORK ===\n",
      "Generator carriers:\n",
      "  CCGT: 4 generators, 3385.0 MW\n",
      "  biomass: 2 generators, 13.6 MW\n",
      "  coal: 3 generators, 46999.7 MW\n",
      "  nuclear: 1 generators, 1940.0 MW\n",
      "  offwind-ac: 5 generators, 0.0 MW\n",
      "  offwind-dc: 5 generators, 0.0 MW\n",
      "  onwind: 8 generators, 3394.6 MW\n",
      "  ror: 4 generators, 67.4 MW\n",
      "  solar: 8 generators, 5592.6 MW\n",
      "\n",
      "Buses carriers:\n",
      "  AC: 8 buses\n",
      "\n",
      "Lines carriers:\n",
      "  AC: 10 lines\n",
      "\n",
      "Loads carriers:\n",
      "  : 8 loads\n",
      "\n",
      "Storage_Units carriers:\n",
      "  PHS: 2 storage_units\n",
      "  hydro: 2 storage_units\n",
      "\n",
      "=== REFERENCED BUT UNDEFINED CARRIERS ===\n",
      "Undefined carriers: ['', 'AC']\n"
     ]
    }
   ],
   "source": [
    "# Load your network\n",
    "n = pypsa.Network(\"elec_s_5_ec_lc1.0_3h_connected.nc\")  # or your full network\n",
    "\n",
    "print(\"=== CARRIERS FOUND IN NETWORK ===\")\n",
    "\n",
    "# Check generator carriers\n",
    "print(\"Generator carriers:\")\n",
    "gen_carriers = n.generators.carrier.unique()\n",
    "for carrier in sorted(gen_carriers):\n",
    "    count = (n.generators.carrier == carrier).sum()\n",
    "    total_capacity = n.generators[n.generators.carrier == carrier].p_nom.sum()\n",
    "    print(f\"  {carrier}: {count} generators, {total_capacity:.1f} MW\")\n",
    "\n",
    "# Check other component carriers (if any)\n",
    "components_with_carriers = ['buses', 'lines', 'links', 'loads', 'storage_units', 'stores']\n",
    "\n",
    "for component in components_with_carriers:\n",
    "    if hasattr(n, component):\n",
    "        df = getattr(n, component)\n",
    "        if 'carrier' in df.columns and not df.empty:\n",
    "            carriers = df.carrier.dropna().unique()\n",
    "            if len(carriers) > 0:\n",
    "                print(f\"\\n{component.title()} carriers:\")\n",
    "                for carrier in sorted(carriers):\n",
    "                    count = (df.carrier == carrier).sum()\n",
    "                    print(f\"  {carrier}: {count} {component}\")\n",
    "\n",
    "# Check what carriers are referenced but not defined\n",
    "print(f\"\\n=== REFERENCED BUT UNDEFINED CARRIERS ===\")\n",
    "all_carriers = set()\n",
    "\n",
    "# Collect all carrier references\n",
    "for component in ['generators', 'buses', 'lines', 'links', 'loads', 'storage_units', 'stores']:\n",
    "    if hasattr(n, component):\n",
    "        df = getattr(n, component)\n",
    "        if 'carrier' in df.columns:\n",
    "            carriers = df.carrier.dropna().unique()\n",
    "            all_carriers.update(carriers)\n",
    "\n",
    "# Check which are defined\n",
    "if hasattr(n, 'carriers') and not n.carriers.empty:\n",
    "    defined_carriers = set(n.carriers.index)\n",
    "    undefined_carriers = all_carriers - defined_carriers\n",
    "    print(\"Undefined carriers:\", sorted(undefined_carriers))\n",
    "else:\n",
    "    print(\"No carriers defined in network\")\n",
    "    print(\"All referenced carriers:\", sorted(all_carriers))"
   ]
  },
  {
   "cell_type": "code",
   "execution_count": 4,
   "id": "88a523e5",
   "metadata": {},
   "outputs": [
    {
     "name": "stderr",
     "output_type": "stream",
     "text": [
      "INFO:pypsa.io:Imported network elec_s_50_ec_lc1.0_1h.nc has buses, carriers, generators, global_constraints, lines, loads, storage_units\n"
     ]
    }
   ],
   "source": [
    "network50=pypsa.Network(\"networks/elec_s_50_ec_lc1.0_1h.nc\")"
   ]
  },
  {
   "cell_type": "code",
   "execution_count": 5,
   "id": "582c73d3",
   "metadata": {},
   "outputs": [
    {
     "name": "stderr",
     "output_type": "stream",
     "text": [
      "WARNING:pypsa.consistency:The following lines have carriers which are not defined:\n",
      "Index(['0', '1', '10', '11', '12', '13', '14', '15', '16', '17', '18', '19',\n",
      "       '2', '20', '21', '22', '23', '24', '25', '26', '27', '28', '29', '3',\n",
      "       '30', '31', '32', '33', '34', '35', '36', '37', '38', '39', '4', '40',\n",
      "       '41', '42', '43', '44', '45', '46', '47', '48', '49', '5', '50', '51',\n",
      "       '52', '53', '54', '55', '56', '57', '58', '59', '6', '60', '61', '62',\n",
      "       '63', '64', '65', '66', '67', '68', '69', '7', '70', '71', '72', '73',\n",
      "       '74', '75', '76', '77', '78', '79', '8', '80', '81', '82', '83', '84',\n",
      "       '85', '86', '87', '88', '89', '9', '90', '91', '92', '93', '94', '95',\n",
      "       '96'],\n",
      "      dtype='object', name='Line')\n",
      "WARNING:pypsa.consistency:The following buses have carriers which are not defined:\n",
      "Index(['ZA0 0', 'ZA0 1', 'ZA0 10', 'ZA0 11', 'ZA0 12', 'ZA0 13', 'ZA0 14',\n",
      "       'ZA0 15', 'ZA0 16', 'ZA0 17', 'ZA0 18', 'ZA0 19', 'ZA0 2', 'ZA0 20',\n",
      "       'ZA0 21', 'ZA0 22', 'ZA0 23', 'ZA0 24', 'ZA0 25', 'ZA0 26', 'ZA0 27',\n",
      "       'ZA0 28', 'ZA0 29', 'ZA0 3', 'ZA0 30', 'ZA0 31', 'ZA0 32', 'ZA0 33',\n",
      "       'ZA0 34', 'ZA0 35', 'ZA0 36', 'ZA0 37', 'ZA0 38', 'ZA0 39', 'ZA0 4',\n",
      "       'ZA0 40', 'ZA0 41', 'ZA0 42', 'ZA0 43', 'ZA0 44', 'ZA0 45', 'ZA0 46',\n",
      "       'ZA0 47', 'ZA0 48', 'ZA0 49', 'ZA0 5', 'ZA0 6', 'ZA0 7', 'ZA0 8',\n",
      "       'ZA0 9', 'ZA1 0', 'ZA2 0', 'ZA3 0'],\n",
      "      dtype='object', name='Bus')\n",
      "WARNING:pypsa.consistency:The following lines have carriers which are not defined:\n",
      "Index(['0', '1', '10', '11', '12', '13', '14', '15', '16', '17', '18', '19',\n",
      "       '2', '20', '21', '22', '23', '24', '25', '26', '27', '28', '29', '3',\n",
      "       '30', '31', '32', '33', '34', '35', '36', '37', '38', '39', '4', '40',\n",
      "       '41', '42', '43', '44', '45', '46', '47', '48', '49', '5', '50', '51',\n",
      "       '52', '53', '54', '55', '56', '57', '58', '59', '6', '60', '61', '62',\n",
      "       '63', '64', '65', '66', '67', '68', '69', '7', '70', '71', '72', '73',\n",
      "       '74', '75', '76', '77', '78', '79', '8', '80', '81', '82', '83', '84',\n",
      "       '85', '86', '87', '88', '89', '9', '90', '91', '92', '93', '94', '95',\n",
      "       '96'],\n",
      "      dtype='object', name='Line')\n",
      "WARNING:pypsa.consistency:The following buses have carriers which are not defined:\n",
      "Index(['ZA0 0', 'ZA0 1', 'ZA0 10', 'ZA0 11', 'ZA0 12', 'ZA0 13', 'ZA0 14',\n",
      "       'ZA0 15', 'ZA0 16', 'ZA0 17', 'ZA0 18', 'ZA0 19', 'ZA0 2', 'ZA0 20',\n",
      "       'ZA0 21', 'ZA0 22', 'ZA0 23', 'ZA0 24', 'ZA0 25', 'ZA0 26', 'ZA0 27',\n",
      "       'ZA0 28', 'ZA0 29', 'ZA0 3', 'ZA0 30', 'ZA0 31', 'ZA0 32', 'ZA0 33',\n",
      "       'ZA0 34', 'ZA0 35', 'ZA0 36', 'ZA0 37', 'ZA0 38', 'ZA0 39', 'ZA0 4',\n",
      "       'ZA0 40', 'ZA0 41', 'ZA0 42', 'ZA0 43', 'ZA0 44', 'ZA0 45', 'ZA0 46',\n",
      "       'ZA0 47', 'ZA0 48', 'ZA0 49', 'ZA0 5', 'ZA0 6', 'ZA0 7', 'ZA0 8',\n",
      "       'ZA0 9', 'ZA1 0', 'ZA2 0', 'ZA3 0'],\n",
      "      dtype='object', name='Bus')\n",
      "INFO:linopy.model: Solve problem using Gurobi solver\n",
      "INFO:linopy.io:Writing objective.\n",
      "Writing constraints.: 100%|\u001b[38;2;128;191;255m██████████\u001b[0m| 13/13 [00:30<00:00,  2.32s/it]\n",
      "Writing continuous variables.: 100%|\u001b[38;2;128;191;255m██████████\u001b[0m| 6/6 [00:04<00:00,  1.23it/s]\n",
      "INFO:linopy.io: Writing time: 37.09s\n"
     ]
    },
    {
     "name": "stdout",
     "output_type": "stream",
     "text": [
      "Set parameter Username\n"
     ]
    },
    {
     "name": "stderr",
     "output_type": "stream",
     "text": [
      "INFO:gurobipy:Set parameter Username\n"
     ]
    },
    {
     "name": "stdout",
     "output_type": "stream",
     "text": [
      "Set parameter LicenseID to value 2695191\n"
     ]
    },
    {
     "name": "stderr",
     "output_type": "stream",
     "text": [
      "INFO:gurobipy:Set parameter LicenseID to value 2695191\n"
     ]
    },
    {
     "name": "stdout",
     "output_type": "stream",
     "text": [
      "Academic license - for non-commercial use only - expires 2026-08-12\n"
     ]
    },
    {
     "name": "stderr",
     "output_type": "stream",
     "text": [
      "INFO:gurobipy:Academic license - for non-commercial use only - expires 2026-08-12\n"
     ]
    },
    {
     "name": "stdout",
     "output_type": "stream",
     "text": [
      "Read LP format model from file /private/var/folders/tt/b5q5vkxj6xvf2b6q1f46ytgw0000gn/T/linopy-problem-uov6_xyv.lp\n"
     ]
    },
    {
     "name": "stderr",
     "output_type": "stream",
     "text": [
      "INFO:gurobipy:Read LP format model from file /private/var/folders/tt/b5q5vkxj6xvf2b6q1f46ytgw0000gn/T/linopy-problem-uov6_xyv.lp\n"
     ]
    },
    {
     "name": "stdout",
     "output_type": "stream",
     "text": [
      "Reading time = 14.87 seconds\n"
     ]
    },
    {
     "name": "stderr",
     "output_type": "stream",
     "text": [
      "INFO:gurobipy:Reading time = 14.87 seconds\n"
     ]
    },
    {
     "name": "stdout",
     "output_type": "stream",
     "text": [
      "obj: 5729040 rows, 2417760 columns, 10301760 nonzeros\n"
     ]
    },
    {
     "name": "stderr",
     "output_type": "stream",
     "text": [
      "INFO:gurobipy:obj: 5729040 rows, 2417760 columns, 10301760 nonzeros\n"
     ]
    },
    {
     "name": "stdout",
     "output_type": "stream",
     "text": [
      "Gurobi Optimizer version 12.0.3 build v12.0.3rc0 (mac64[x86] - Darwin 24.6.0 24G84)\n"
     ]
    },
    {
     "name": "stderr",
     "output_type": "stream",
     "text": [
      "INFO:gurobipy:Gurobi Optimizer version 12.0.3 build v12.0.3rc0 (mac64[x86] - Darwin 24.6.0 24G84)\n"
     ]
    },
    {
     "name": "stdout",
     "output_type": "stream",
     "text": [
      "\n"
     ]
    },
    {
     "name": "stderr",
     "output_type": "stream",
     "text": [
      "INFO:gurobipy:\n"
     ]
    },
    {
     "name": "stdout",
     "output_type": "stream",
     "text": [
      "CPU model: Intel(R) Core(TM) i5-8279U CPU @ 2.40GHz\n"
     ]
    },
    {
     "name": "stderr",
     "output_type": "stream",
     "text": [
      "INFO:gurobipy:CPU model: Intel(R) Core(TM) i5-8279U CPU @ 2.40GHz\n"
     ]
    },
    {
     "name": "stdout",
     "output_type": "stream",
     "text": [
      "Thread count: 4 physical cores, 8 logical processors, using up to 8 threads\n"
     ]
    },
    {
     "name": "stderr",
     "output_type": "stream",
     "text": [
      "INFO:gurobipy:Thread count: 4 physical cores, 8 logical processors, using up to 8 threads\n"
     ]
    },
    {
     "name": "stdout",
     "output_type": "stream",
     "text": [
      "\n"
     ]
    },
    {
     "name": "stderr",
     "output_type": "stream",
     "text": [
      "INFO:gurobipy:\n"
     ]
    },
    {
     "name": "stdout",
     "output_type": "stream",
     "text": [
      "Optimize a model with 5729040 rows, 2417760 columns and 10301760 nonzeros\n"
     ]
    },
    {
     "name": "stderr",
     "output_type": "stream",
     "text": [
      "INFO:gurobipy:Optimize a model with 5729040 rows, 2417760 columns and 10301760 nonzeros\n"
     ]
    },
    {
     "name": "stdout",
     "output_type": "stream",
     "text": [
      "Model fingerprint: 0xb319bca2\n"
     ]
    },
    {
     "name": "stderr",
     "output_type": "stream",
     "text": [
      "INFO:gurobipy:Model fingerprint: 0xb319bca2\n"
     ]
    },
    {
     "name": "stdout",
     "output_type": "stream",
     "text": [
      "Coefficient statistics:\n"
     ]
    },
    {
     "name": "stderr",
     "output_type": "stream",
     "text": [
      "INFO:gurobipy:Coefficient statistics:\n"
     ]
    },
    {
     "name": "stdout",
     "output_type": "stream",
     "text": [
      "  Matrix range     [7e-01, 1e+03]\n"
     ]
    },
    {
     "name": "stderr",
     "output_type": "stream",
     "text": [
      "INFO:gurobipy:  Matrix range     [7e-01, 1e+03]\n"
     ]
    },
    {
     "name": "stdout",
     "output_type": "stream",
     "text": [
      "  Objective range  [1e-02, 5e+01]\n"
     ]
    },
    {
     "name": "stderr",
     "output_type": "stream",
     "text": [
      "INFO:gurobipy:  Objective range  [1e-02, 5e+01]\n"
     ]
    },
    {
     "name": "stdout",
     "output_type": "stream",
     "text": [
      "  Bounds range     [8e-01, 1e+03]\n"
     ]
    },
    {
     "name": "stderr",
     "output_type": "stream",
     "text": [
      "INFO:gurobipy:  Bounds range     [8e-01, 1e+03]\n"
     ]
    },
    {
     "name": "stdout",
     "output_type": "stream",
     "text": [
      "  RHS range        [8e-05, 1e+06]\n"
     ]
    },
    {
     "name": "stderr",
     "output_type": "stream",
     "text": [
      "INFO:gurobipy:  RHS range        [8e-05, 1e+06]\n"
     ]
    },
    {
     "name": "stdout",
     "output_type": "stream",
     "text": [
      "Presolve removed 4800480 rows and 602195 columns\n"
     ]
    },
    {
     "name": "stderr",
     "output_type": "stream",
     "text": [
      "INFO:gurobipy:Presolve removed 4800480 rows and 602195 columns\n"
     ]
    },
    {
     "name": "stdout",
     "output_type": "stream",
     "text": [
      "Presolve time: 4.43s\n"
     ]
    },
    {
     "name": "stderr",
     "output_type": "stream",
     "text": [
      "INFO:gurobipy:Presolve time: 4.43s\n"
     ]
    },
    {
     "name": "stdout",
     "output_type": "stream",
     "text": [
      "\n"
     ]
    },
    {
     "name": "stderr",
     "output_type": "stream",
     "text": [
      "INFO:gurobipy:\n"
     ]
    },
    {
     "name": "stdout",
     "output_type": "stream",
     "text": [
      "Solved in 0 iterations and 4.43 seconds (0.96 work units)\n"
     ]
    },
    {
     "name": "stderr",
     "output_type": "stream",
     "text": [
      "INFO:gurobipy:Solved in 0 iterations and 4.43 seconds (0.96 work units)\n"
     ]
    },
    {
     "name": "stdout",
     "output_type": "stream",
     "text": [
      "Infeasible or unbounded model\n"
     ]
    },
    {
     "name": "stderr",
     "output_type": "stream",
     "text": [
      "INFO:gurobipy:Infeasible or unbounded model\n",
      "INFO:linopy.solvers:Unable to save solution file. Raised error: Unable to retrieve attribute 'X'\n",
      "WARNING:linopy.constants:Optimization potentially failed: \n",
      "Status: warning\n",
      "Termination condition: infeasible_or_unbounded\n",
      "Solution: 0 primals, 0 duals\n",
      "Objective: nan\n",
      "Solver model: available\n",
      "Solver message: 4\n",
      "\n"
     ]
    },
    {
     "data": {
      "text/plain": [
       "('warning', 'infeasible_or_unbounded')"
      ]
     },
     "execution_count": 5,
     "metadata": {},
     "output_type": "execute_result"
    }
   ],
   "source": [
    "network50.optimize(solver_name='gurobi')"
   ]
  },
  {
   "cell_type": "code",
   "execution_count": 6,
   "id": "ecb9c733",
   "metadata": {},
   "outputs": [
    {
     "name": "stderr",
     "output_type": "stream",
     "text": [
      "WARNING:pypsa.io:The following Transformer have buses which are not defined:\n",
      "Index(['transf_0_0', 'transf_0_1', 'transf_0_2', 'transf_2_0', 'transf_2_1',\n",
      "       'transf_3_0', 'transf_3_1', 'transf_4_0', 'transf_4_1', 'transf_5_0',\n",
      "       ...\n",
      "       'transf_741_0', 'transf_759_0', 'transf_804_0', 'transf_811_0',\n",
      "       'transf_826_0', 'transf_871_0', 'transf_991_0', 'transf_1037_0',\n",
      "       'transf_1075_0', 'transf_1278_0'],\n",
      "      dtype='object', name='name', length=309)\n",
      "WARNING:pypsa.io:The following Transformer have buses which are not defined:\n",
      "Index(['transf_0_0', 'transf_0_1', 'transf_0_2', 'transf_2_0', 'transf_2_1',\n",
      "       'transf_3_0', 'transf_3_1', 'transf_4_0', 'transf_4_1', 'transf_5_0',\n",
      "       ...\n",
      "       'transf_741_0', 'transf_759_0', 'transf_804_0', 'transf_811_0',\n",
      "       'transf_826_0', 'transf_871_0', 'transf_991_0', 'transf_1037_0',\n",
      "       'transf_1075_0', 'transf_1278_0'],\n",
      "      dtype='object', name='name', length=309)\n",
      "WARNING:pypsa.io:The following Transformer have buses which are not defined:\n",
      "Index(['transf_0_0', 'transf_0_1', 'transf_0_2', 'transf_2_0', 'transf_2_1',\n",
      "       'transf_3_0', 'transf_3_1', 'transf_4_0', 'transf_4_1', 'transf_5_0',\n",
      "       ...\n",
      "       'transf_741_0', 'transf_759_0', 'transf_804_0', 'transf_811_0',\n",
      "       'transf_826_0', 'transf_871_0', 'transf_991_0', 'transf_1037_0',\n",
      "       'transf_1075_0', 'transf_1278_0'],\n",
      "      dtype='object', name='name', length=309)\n",
      "WARNING:pypsa.io:The following Transformer have buses which are not defined:\n",
      "Index(['transf_0_0', 'transf_0_1', 'transf_0_2', 'transf_2_0', 'transf_2_1',\n",
      "       'transf_3_0', 'transf_3_1', 'transf_4_0', 'transf_4_1', 'transf_5_0',\n",
      "       ...\n",
      "       'transf_741_0', 'transf_759_0', 'transf_804_0', 'transf_811_0',\n",
      "       'transf_826_0', 'transf_871_0', 'transf_991_0', 'transf_1037_0',\n",
      "       'transf_1075_0', 'transf_1278_0'],\n",
      "      dtype='object', name='name', length=309)\n",
      "WARNING:pypsa.io:The following Transformer have buses which are not defined:\n",
      "Index(['transf_0_0', 'transf_0_1', 'transf_0_2', 'transf_2_0', 'transf_2_1',\n",
      "       'transf_3_0', 'transf_3_1', 'transf_4_0', 'transf_4_1', 'transf_5_0',\n",
      "       ...\n",
      "       'transf_741_0', 'transf_759_0', 'transf_804_0', 'transf_811_0',\n",
      "       'transf_826_0', 'transf_871_0', 'transf_991_0', 'transf_1037_0',\n",
      "       'transf_1075_0', 'transf_1278_0'],\n",
      "      dtype='object', name='name', length=309)\n",
      "WARNING:pypsa.io:The following Transformer have buses which are not defined:\n",
      "Index(['transf_0_0', 'transf_0_1', 'transf_0_2', 'transf_2_0', 'transf_2_1',\n",
      "       'transf_3_0', 'transf_3_1', 'transf_4_0', 'transf_4_1', 'transf_5_0',\n",
      "       ...\n",
      "       'transf_741_0', 'transf_759_0', 'transf_804_0', 'transf_811_0',\n",
      "       'transf_826_0', 'transf_871_0', 'transf_991_0', 'transf_1037_0',\n",
      "       'transf_1075_0', 'transf_1278_0'],\n",
      "      dtype='object', name='name', length=309)\n",
      "INFO:pypsa.io:Imported network base.nc has buses, lines, transformers\n"
     ]
    },
    {
     "name": "stdout",
     "output_type": "stream",
     "text": [
      "      v_nom      symbol  under_construction tag_substation  tag_area      lon  \\\n",
      "Bus                                                                             \n",
      "0      88.0  substation               False   transmission       0.0  28.0877   \n",
      "1     132.0  substation               False   transmission       0.0  28.0887   \n",
      "2     275.0  substation               False   transmission       0.0  28.0897   \n",
      "3     400.0  substation               False   transmission       0.0  28.0907   \n",
      "4     132.0  substation               False   transmission       0.0  25.5638   \n",
      "...     ...         ...                 ...            ...       ...      ...   \n",
      "1592   88.0  substation               False   transmission       0.0  26.1865   \n",
      "1593   66.0  substation               False   transmission       0.0  24.7486   \n",
      "1594  400.0  substation               False   transmission       0.0  30.1986   \n",
      "1595  132.0  substation               False   transmission       0.0  21.3169   \n",
      "1596  132.0  substation               False   transmission       0.0  32.0587   \n",
      "\n",
      "          lat country  substation_lv        x  ...  substation_off  type  \\\n",
      "Bus                                            ...                         \n",
      "0    -26.1440      ZA           True  28.0877  ...            True         \n",
      "1    -26.1430      ZA          False  28.0887  ...            True         \n",
      "2    -26.1420      ZA          False  28.0897  ...            True         \n",
      "3    -26.1410      ZA          False  28.0907  ...            True         \n",
      "4    -33.9181      ZA           True  25.5638  ...            True         \n",
      "...       ...     ...            ...      ...  ...             ...   ...   \n",
      "1592 -25.0514      ZA           True  26.1865  ...            True         \n",
      "1593 -33.7379      ZA           True  24.7486  ...            True         \n",
      "1594 -29.6383      ZA           True  30.1986  ...            True         \n",
      "1595 -29.2004      ZA           True  21.3169  ...            True         \n",
      "1596 -28.8204      ZA           True  32.0587  ...            True         \n",
      "\n",
      "     carrier unit v_mag_pu_set  v_mag_pu_min  v_mag_pu_max  control generator  \\\n",
      "Bus                                                                             \n",
      "0         AC               1.0           0.0           inf       PQ             \n",
      "1         AC               1.0           0.0           inf       PQ             \n",
      "2         AC               1.0           0.0           inf       PQ             \n",
      "3         AC               1.0           0.0           inf       PQ             \n",
      "4         AC               1.0           0.0           inf       PQ             \n",
      "...      ...  ...          ...           ...           ...      ...       ...   \n",
      "1592      AC               1.0           0.0           inf       PQ             \n",
      "1593      AC               1.0           0.0           inf       PQ             \n",
      "1594      AC               1.0           0.0           inf       PQ             \n",
      "1595      AC               1.0           0.0           inf       PQ             \n",
      "1596      AC               1.0           0.0           inf       PQ             \n",
      "\n",
      "     sub_network  \n",
      "Bus               \n",
      "0                 \n",
      "1                 \n",
      "2                 \n",
      "3                 \n",
      "4                 \n",
      "...          ...  \n",
      "1592              \n",
      "1593              \n",
      "1594              \n",
      "1595              \n",
      "1596              \n",
      "\n",
      "[1597 rows x 21 columns]\n"
     ]
    }
   ],
   "source": [
    "n_base = pypsa.Network(\"networks/base.nc\")\n",
    "print(n_base.buses)"
   ]
  },
  {
   "cell_type": "code",
   "execution_count": 17,
   "id": "c778bab2",
   "metadata": {},
   "outputs": [
    {
     "name": "stdout",
     "output_type": "stream",
     "text": [
      "=== ISOLATED BUSES ===\n",
      "Isolated bus: ZA1 0\n",
      "Isolated bus: ZA2 0\n",
      "Isolated bus: ZA3 0\n",
      "\n",
      "Found 3 isolated buses out of 53 total buses\n"
     ]
    }
   ],
   "source": [
    "# Convert Series to sets for proper membership checking\n",
    "bus0_values = set(network50.lines.bus0.values)\n",
    "bus1_values = set(network50.lines.bus1.values)\n",
    "\n",
    "print(\"=== ISOLATED BUSES ===\")\n",
    "isolated_buses = []\n",
    "\n",
    "for bus in network50.buses.index:\n",
    "    if (bus not in bus0_values) and (bus not in bus1_values):\n",
    "        isolated_buses.append(bus)\n",
    "        print(f\"Isolated bus: {bus}\")\n",
    "\n",
    "print(f\"\\nFound {len(isolated_buses)} isolated buses out of {len(network50.buses)} total buses\")"
   ]
  },
  {
   "cell_type": "code",
   "execution_count": 16,
   "id": "5de40c9d",
   "metadata": {},
   "outputs": [
    {
     "name": "stdout",
     "output_type": "stream",
     "text": [
      "<class 'pandas.core.series.Series'>\n"
     ]
    }
   ],
   "source": [
    "print(type(network50.lines.bus0))"
   ]
  },
  {
   "cell_type": "code",
   "execution_count": null,
   "id": "204dde02",
   "metadata": {},
   "outputs": [],
   "source": [
    "# Print unique line types in the network\n",
    "print(\"=== UNIQUE LINE TYPES ===\")\n",
    "unique_types = network50.lines.type.unique()\n",
    "print(unique_types)\n",
    "\n",
    "# If you want more details about each type\n",
    "if len(unique_types) > 0:\n",
    "    print(\"\\n=== LINE TYPE DETAILS ===\")\n",
    "    for line_type in unique_types:\n",
    "        if line_type is not None:  # Skip None values\n",
    "            count = (network50.lines.type == line_type).sum()\n",
    "            print(f\"Type: {line_type}\")\n",
    "            print(f\"Count: {count} lines\")\n",
    "            print(f\"Example line: {network50.lines[network50.lines.type == line_type].index[0]}\")\n",
    "            print()\n",
    "else:\n",
    "    print(\"\\nNo line types defined in the network\")\n"
   ]
  },
  {
   "cell_type": "code",
   "execution_count": 18,
   "id": "50b66f34",
   "metadata": {},
   "outputs": [
    {
     "name": "stderr",
     "output_type": "stream",
     "text": [
      "WARNING:pypsa.io:The following Transformer have buses which are not defined:\n",
      "Index(['transf_0_0', 'transf_0_1', 'transf_0_2', 'transf_2_0', 'transf_2_1',\n",
      "       'transf_3_0', 'transf_3_1', 'transf_4_0', 'transf_4_1', 'transf_5_0',\n",
      "       ...\n",
      "       'transf_741_0', 'transf_759_0', 'transf_804_0', 'transf_811_0',\n",
      "       'transf_826_0', 'transf_871_0', 'transf_991_0', 'transf_1037_0',\n",
      "       'transf_1075_0', 'transf_1278_0'],\n",
      "      dtype='object', name='name', length=309)\n",
      "WARNING:pypsa.io:The following Transformer have buses which are not defined:\n",
      "Index(['transf_0_0', 'transf_0_1', 'transf_0_2', 'transf_2_0', 'transf_2_1',\n",
      "       'transf_3_0', 'transf_3_1', 'transf_4_0', 'transf_4_1', 'transf_5_0',\n",
      "       ...\n",
      "       'transf_741_0', 'transf_759_0', 'transf_804_0', 'transf_811_0',\n",
      "       'transf_826_0', 'transf_871_0', 'transf_991_0', 'transf_1037_0',\n",
      "       'transf_1075_0', 'transf_1278_0'],\n",
      "      dtype='object', name='name', length=309)\n",
      "WARNING:pypsa.io:The following Transformer have buses which are not defined:\n",
      "Index(['transf_0_0', 'transf_0_1', 'transf_0_2', 'transf_2_0', 'transf_2_1',\n",
      "       'transf_3_0', 'transf_3_1', 'transf_4_0', 'transf_4_1', 'transf_5_0',\n",
      "       ...\n",
      "       'transf_741_0', 'transf_759_0', 'transf_804_0', 'transf_811_0',\n",
      "       'transf_826_0', 'transf_871_0', 'transf_991_0', 'transf_1037_0',\n",
      "       'transf_1075_0', 'transf_1278_0'],\n",
      "      dtype='object', name='name', length=309)\n",
      "WARNING:pypsa.io:The following Transformer have buses which are not defined:\n",
      "Index(['transf_0_0', 'transf_0_1', 'transf_0_2', 'transf_2_0', 'transf_2_1',\n",
      "       'transf_3_0', 'transf_3_1', 'transf_4_0', 'transf_4_1', 'transf_5_0',\n",
      "       ...\n",
      "       'transf_741_0', 'transf_759_0', 'transf_804_0', 'transf_811_0',\n",
      "       'transf_826_0', 'transf_871_0', 'transf_991_0', 'transf_1037_0',\n",
      "       'transf_1075_0', 'transf_1278_0'],\n",
      "      dtype='object', name='name', length=309)\n",
      "WARNING:pypsa.io:The following Transformer have buses which are not defined:\n",
      "Index(['transf_0_0', 'transf_0_1', 'transf_0_2', 'transf_2_0', 'transf_2_1',\n",
      "       'transf_3_0', 'transf_3_1', 'transf_4_0', 'transf_4_1', 'transf_5_0',\n",
      "       ...\n",
      "       'transf_741_0', 'transf_759_0', 'transf_804_0', 'transf_811_0',\n",
      "       'transf_826_0', 'transf_871_0', 'transf_991_0', 'transf_1037_0',\n",
      "       'transf_1075_0', 'transf_1278_0'],\n",
      "      dtype='object', name='name', length=309)\n",
      "WARNING:pypsa.io:The following Transformer have buses which are not defined:\n",
      "Index(['transf_0_0', 'transf_0_1', 'transf_0_2', 'transf_2_0', 'transf_2_1',\n",
      "       'transf_3_0', 'transf_3_1', 'transf_4_0', 'transf_4_1', 'transf_5_0',\n",
      "       ...\n",
      "       'transf_741_0', 'transf_759_0', 'transf_804_0', 'transf_811_0',\n",
      "       'transf_826_0', 'transf_871_0', 'transf_991_0', 'transf_1037_0',\n",
      "       'transf_1075_0', 'transf_1278_0'],\n",
      "      dtype='object', name='name', length=309)\n",
      "INFO:pypsa.io:Imported network elec.nc has buses, carriers, generators, lines, loads, storage_units, transformers\n"
     ]
    },
    {
     "name": "stdout",
     "output_type": "stream",
     "text": [
      "Number of sub-networks: 61\n",
      "Sub-network info:\n",
      "attribute  carrier slack_bus            obj\n",
      "SubNetwork                                 \n",
      "0               AC       347   SubNetwork 0\n",
      "1               AC       454   SubNetwork 1\n",
      "2               AC       524   SubNetwork 2\n",
      "3               AC       532   SubNetwork 3\n",
      "4               AC       583   SubNetwork 4\n",
      "...            ...       ...            ...\n",
      "56              AC      1317  SubNetwork 56\n",
      "57              AC      1329  SubNetwork 57\n",
      "58              AC      1330  SubNetwork 58\n",
      "59              AC      1355  SubNetwork 59\n",
      "60              AC      1368  SubNetwork 60\n",
      "\n",
      "[61 rows x 3 columns]\n",
      "Isolated buses in original network: 45\n",
      "Isolated bus details:\n",
      "      v_nom      symbol  under_construction tag_substation  tag_area      lon  \\\n",
      "Bus                                                                             \n",
      "1009  132.0  substation               False   transmission       0.0  27.5622   \n",
      "1015   88.0  substation               False   transmission       0.0  30.0403   \n",
      "1017   88.0  substation               False   transmission       0.0  30.1081   \n",
      "1019   88.0  substation               False   transmission       0.0  29.9606   \n",
      "1083   88.0  substation               False   transmission       0.0  30.3774   \n",
      "1085  132.0  substation               False   transmission       0.0  31.4160   \n",
      "1119  132.0  substation               False   transmission       0.0  30.6975   \n",
      "1123   88.0  substation               False   transmission       0.0  30.1306   \n",
      "1149  132.0  substation               False   transmission       0.0  27.3790   \n",
      "1153   88.0  substation               False   transmission       0.0  28.7464   \n",
      "1205  132.0  substation               False   transmission       0.0  31.0390   \n",
      "1208   88.0  substation               False   transmission       0.0  28.8241   \n",
      "1210  132.0  substation               False   transmission       0.0  31.1782   \n",
      "1224   88.0  substation               False   transmission       0.0  29.5308   \n",
      "1225   88.0  substation               False   transmission       0.0  29.3523   \n",
      "1226  132.0  substation               False   transmission       0.0  30.5291   \n",
      "1233   88.0  substation               False   transmission       0.0  27.5383   \n",
      "1239  132.0  substation               False   transmission       0.0  31.0220   \n",
      "1244  110.0  substation               False   transmission       0.0  30.6781   \n",
      "1252   88.0  substation               False   transmission       0.0  29.1397   \n",
      "1256   88.0  substation               False   transmission       0.0  27.3034   \n",
      "1258   88.0  substation               False   transmission       0.0  27.5645   \n",
      "1259  132.0  substation               False   transmission       0.0  27.5887   \n",
      "1263   88.0  substation               False   transmission       0.0  27.3554   \n",
      "1269   88.0  substation               False   transmission       0.0  27.3677   \n",
      "1272   66.0  substation               False   transmission       0.0  21.4027   \n",
      "1285   66.0  substation               False   transmission       0.0  25.0334   \n",
      "1289   66.0  substation               False   transmission       0.0  25.6199   \n",
      "1295   66.0  substation               False   transmission       0.0  24.7495   \n",
      "1298   66.0  substation               False   transmission       0.0  30.4806   \n",
      "1329   66.0  substation               False   transmission       0.0  19.6921   \n",
      "1330   66.0  substation               False   transmission       0.0  19.7508   \n",
      "454    66.0  substation               False   transmission       0.0  19.1253   \n",
      "524   132.0  substation               False   transmission       0.0  23.0145   \n",
      "583   132.0  substation               False   transmission       0.0  24.8438   \n",
      "627   132.0  substation               False   transmission       0.0  27.1869   \n",
      "637   132.0  substation               False   transmission       0.0  19.8067   \n",
      "817   132.0  substation               False   transmission       0.0  31.8381   \n",
      "826   132.0  substation               False   transmission       0.0  31.3666   \n",
      "896    88.0  substation               False   transmission       0.0  31.0509   \n",
      "897    88.0  substation               False   transmission       0.0  31.0015   \n",
      "938   132.0  substation               False   transmission       0.0  30.7082   \n",
      "948    88.0  substation               False   transmission       0.0  30.7173   \n",
      "972    88.0  substation               False   transmission       0.0  29.0354   \n",
      "995    88.0  substation               False   transmission       0.0  29.6492   \n",
      "\n",
      "          lat country  substation_lv        x  ...  substation_off  type  \\\n",
      "Bus                                            ...                         \n",
      "1009 -32.7204      ZA           True  27.5622  ...            True         \n",
      "1015 -27.9662      ZA           True  30.0403  ...            True         \n",
      "1017 -28.3090      ZA           True  30.1081  ...            True         \n",
      "1019 -28.4234      ZA           True  29.9606  ...            True         \n",
      "1083 -28.0250      ZA           True  30.3774  ...            True         \n",
      "1085 -25.5240      ZA           True  31.4160  ...            True         \n",
      "1119 -25.5162      ZA           True  30.6975  ...            True         \n",
      "1123 -28.0741      ZA           True  30.1306  ...            True         \n",
      "1149 -27.0142      ZA           True  27.3790  ...            True         \n",
      "1153 -26.7543      ZA           True  28.7464  ...            True         \n",
      "1205 -24.1322      ZA           True  31.0390  ...            True         \n",
      "1208 -26.7722      ZA           True  28.8241  ...            True         \n",
      "1210 -25.5115      ZA           True  31.1782  ...            True         \n",
      "1224 -27.1567      ZA           True  29.5308  ...            True         \n",
      "1225 -27.0473      ZA           True  29.3523  ...            True         \n",
      "1226 -25.6046      ZA           True  30.5291  ...            True         \n",
      "1233 -24.9369      ZA           True  27.5383  ...            True         \n",
      "1239 -24.4507      ZA           True  31.0220  ...            True         \n",
      "1244 -29.4739      ZA           True  30.6781  ...            True         \n",
      "1252 -26.8971      ZA           True  29.1397  ...            True         \n",
      "1256 -27.6003      ZA           True  27.3034  ...            True         \n",
      "1258 -27.2373      ZA           True  27.5645  ...            True         \n",
      "1259 -26.6301      ZA           True  27.5887  ...            True         \n",
      "1263 -26.6280      ZA           True  27.3554  ...            True         \n",
      "1269 -28.2481      ZA           True  27.3677  ...            True         \n",
      "1272 -34.1900      ZA           True  21.4027  ...            True         \n",
      "1285 -30.9620      ZA           True  25.0334  ...            True         \n",
      "1289 -30.8306      ZA           True  25.6199  ...            True         \n",
      "1295 -28.3332      ZA           True  24.7495  ...            True         \n",
      "1298 -30.6753      ZA           True  30.4806  ...            True         \n",
      "1329 -33.4737      ZA           True  19.6921  ...            True         \n",
      "1330 -33.4272      ZA           True  19.7508  ...            True         \n",
      "454  -33.7341      ZA           True  19.1253  ...            True         \n",
      "524  -28.2484      ZA           True  23.0145  ...            True         \n",
      "583  -33.9969      ZA           True  24.8438  ...            True         \n",
      "627  -25.7700      ZA           True  27.1869  ...            True         \n",
      "637  -33.9728      ZA           True  19.8067  ...            True         \n",
      "817  -25.4262      ZA           True  31.8381  ...            True         \n",
      "826  -29.2494      ZA           True  31.3666  ...            True         \n",
      "896  -28.1108      ZA           True  31.0509  ...            True         \n",
      "897  -28.0073      ZA           True  31.0015  ...            True         \n",
      "938  -23.9097      ZA           True  30.7082  ...            True         \n",
      "948  -27.8302      ZA           True  30.7173  ...            True         \n",
      "972  -26.8490      ZA           True  29.0354  ...            True         \n",
      "995  -28.4331      ZA           True  29.6492  ...            True         \n",
      "\n",
      "     carrier unit v_mag_pu_set  v_mag_pu_min  v_mag_pu_max  control  \\\n",
      "Bus                                                                   \n",
      "1009      AC               1.0           0.0           inf    Slack   \n",
      "1015      AC               1.0           0.0           inf    Slack   \n",
      "1017      AC               1.0           0.0           inf    Slack   \n",
      "1019      AC               1.0           0.0           inf    Slack   \n",
      "1083      AC               1.0           0.0           inf    Slack   \n",
      "1085      AC               1.0           0.0           inf    Slack   \n",
      "1119      AC               1.0           0.0           inf    Slack   \n",
      "1123      AC               1.0           0.0           inf    Slack   \n",
      "1149      AC               1.0           0.0           inf    Slack   \n",
      "1153      AC               1.0           0.0           inf    Slack   \n",
      "1205      AC               1.0           0.0           inf    Slack   \n",
      "1208      AC               1.0           0.0           inf    Slack   \n",
      "1210      AC               1.0           0.0           inf    Slack   \n",
      "1224      AC               1.0           0.0           inf    Slack   \n",
      "1225      AC               1.0           0.0           inf    Slack   \n",
      "1226      AC               1.0           0.0           inf    Slack   \n",
      "1233      AC               1.0           0.0           inf    Slack   \n",
      "1239      AC               1.0           0.0           inf    Slack   \n",
      "1244      AC               1.0           0.0           inf    Slack   \n",
      "1252      AC               1.0           0.0           inf    Slack   \n",
      "1256      AC               1.0           0.0           inf    Slack   \n",
      "1258      AC               1.0           0.0           inf    Slack   \n",
      "1259      AC               1.0           0.0           inf    Slack   \n",
      "1263      AC               1.0           0.0           inf    Slack   \n",
      "1269      AC               1.0           0.0           inf    Slack   \n",
      "1272      AC               1.0           0.0           inf    Slack   \n",
      "1285      AC               1.0           0.0           inf    Slack   \n",
      "1289      AC               1.0           0.0           inf    Slack   \n",
      "1295      AC               1.0           0.0           inf    Slack   \n",
      "1298      AC               1.0           0.0           inf    Slack   \n",
      "1329      AC               1.0           0.0           inf    Slack   \n",
      "1330      AC               1.0           0.0           inf    Slack   \n",
      "454       AC               1.0           0.0           inf    Slack   \n",
      "524       AC               1.0           0.0           inf    Slack   \n",
      "583       AC               1.0           0.0           inf    Slack   \n",
      "627       AC               1.0           0.0           inf    Slack   \n",
      "637       AC               1.0           0.0           inf    Slack   \n",
      "817       AC               1.0           0.0           inf    Slack   \n",
      "826       AC               1.0           0.0           inf    Slack   \n",
      "896       AC               1.0           0.0           inf    Slack   \n",
      "897       AC               1.0           0.0           inf    Slack   \n",
      "938       AC               1.0           0.0           inf    Slack   \n",
      "948       AC               1.0           0.0           inf    Slack   \n",
      "972       AC               1.0           0.0           inf    Slack   \n",
      "995       AC               1.0           0.0           inf    Slack   \n",
      "\n",
      "        generator sub_network  \n",
      "Bus                            \n",
      "1009  1009 onwind          21  \n",
      "1015  1015 onwind          22  \n",
      "1017  1017 onwind          23  \n",
      "1019  1019 onwind          24  \n",
      "1083  1083 onwind          25  \n",
      "1085  1085 onwind          26  \n",
      "1119  1119 onwind          28  \n",
      "1123  1123 onwind          29  \n",
      "1149  1149 onwind          30  \n",
      "1153  1153 onwind          31  \n",
      "1205  1205 onwind          34  \n",
      "1208  1208 onwind          35  \n",
      "1210  1210 onwind          36  \n",
      "1224  1224 onwind          37  \n",
      "1225  1225 onwind          38  \n",
      "1226  1226 onwind          39  \n",
      "1233  1233 onwind          41  \n",
      "1239  1239 onwind          42  \n",
      "1244  1244 onwind          43  \n",
      "1252  1252 onwind          44  \n",
      "1256  1256 onwind          45  \n",
      "1258  1258 onwind          46  \n",
      "1259  1259 onwind          47  \n",
      "1263  1263 onwind          48  \n",
      "1269  1269 onwind          50  \n",
      "1272  1272 onwind          51  \n",
      "1285  1285 onwind          52  \n",
      "1289  1289 onwind          53  \n",
      "1295  1295 onwind          54  \n",
      "1298  1298 onwind          55  \n",
      "1329  1329 onwind          57  \n",
      "1330  1330 onwind          58  \n",
      "454    454 onwind           1  \n",
      "524    524 onwind           2  \n",
      "583    583 onwind           4  \n",
      "627    627 onwind           6  \n",
      "637    637 onwind           7  \n",
      "817    817 onwind          10  \n",
      "826    826 onwind          11  \n",
      "896    896 onwind          14  \n",
      "897    897 onwind          15  \n",
      "938    938 onwind          16  \n",
      "948    948 onwind          17  \n",
      "972    972 onwind          18  \n",
      "995    995 onwind          20  \n",
      "\n",
      "[45 rows x 21 columns]\n"
     ]
    }
   ],
   "source": [
    "import pypsa\n",
    "import pandas as pd\n",
    "\n",
    "# Load the network before simplification\n",
    "n_base = pypsa.Network(\"networks/elec.nc\")\n",
    "\n",
    "# Check network topology\n",
    "n_base.determine_network_topology()\n",
    "print(f\"Number of sub-networks: {len(n_base.sub_networks)}\")\n",
    "print(\"Sub-network info:\")\n",
    "print(n_base.sub_networks)\n",
    "\n",
    "# Find isolated buses\n",
    "connected_buses = set()\n",
    "for sub_net in n_base.sub_networks.index:\n",
    "    buses_in_subnet = n_base.buses[n_base.buses.sub_network == sub_net]\n",
    "    if len(buses_in_subnet) > 1:  # Main grid\n",
    "        connected_buses.update(buses_in_subnet.index)\n",
    "\n",
    "isolated_buses = n_base.buses.index.difference(connected_buses)\n",
    "print(f\"Isolated buses in original network: {len(isolated_buses)}\")\n",
    "print(\"Isolated bus details:\")\n",
    "print(n_base.buses.loc[isolated_buses])"
   ]
  },
  {
   "cell_type": "code",
   "execution_count": 19,
   "id": "1a2f4091",
   "metadata": {},
   "outputs": [
    {
     "name": "stderr",
     "output_type": "stream",
     "text": [
      "WARNING:pypsa.io:The following Transformer have buses which are not defined:\n",
      "Index(['transf_0_0', 'transf_0_1', 'transf_0_2', 'transf_2_0', 'transf_2_1',\n",
      "       'transf_3_0', 'transf_3_1', 'transf_4_0', 'transf_4_1', 'transf_5_0',\n",
      "       ...\n",
      "       'transf_741_0', 'transf_759_0', 'transf_804_0', 'transf_811_0',\n",
      "       'transf_826_0', 'transf_871_0', 'transf_991_0', 'transf_1037_0',\n",
      "       'transf_1075_0', 'transf_1278_0'],\n",
      "      dtype='object', name='name', length=309)\n",
      "WARNING:pypsa.io:The following Transformer have buses which are not defined:\n",
      "Index(['transf_0_0', 'transf_0_1', 'transf_0_2', 'transf_2_0', 'transf_2_1',\n",
      "       'transf_3_0', 'transf_3_1', 'transf_4_0', 'transf_4_1', 'transf_5_0',\n",
      "       ...\n",
      "       'transf_741_0', 'transf_759_0', 'transf_804_0', 'transf_811_0',\n",
      "       'transf_826_0', 'transf_871_0', 'transf_991_0', 'transf_1037_0',\n",
      "       'transf_1075_0', 'transf_1278_0'],\n",
      "      dtype='object', name='name', length=309)\n",
      "WARNING:pypsa.io:The following Transformer have buses which are not defined:\n",
      "Index(['transf_0_0', 'transf_0_1', 'transf_0_2', 'transf_2_0', 'transf_2_1',\n",
      "       'transf_3_0', 'transf_3_1', 'transf_4_0', 'transf_4_1', 'transf_5_0',\n",
      "       ...\n",
      "       'transf_741_0', 'transf_759_0', 'transf_804_0', 'transf_811_0',\n",
      "       'transf_826_0', 'transf_871_0', 'transf_991_0', 'transf_1037_0',\n",
      "       'transf_1075_0', 'transf_1278_0'],\n",
      "      dtype='object', name='name', length=309)\n",
      "WARNING:pypsa.io:The following Transformer have buses which are not defined:\n",
      "Index(['transf_0_0', 'transf_0_1', 'transf_0_2', 'transf_2_0', 'transf_2_1',\n",
      "       'transf_3_0', 'transf_3_1', 'transf_4_0', 'transf_4_1', 'transf_5_0',\n",
      "       ...\n",
      "       'transf_741_0', 'transf_759_0', 'transf_804_0', 'transf_811_0',\n",
      "       'transf_826_0', 'transf_871_0', 'transf_991_0', 'transf_1037_0',\n",
      "       'transf_1075_0', 'transf_1278_0'],\n",
      "      dtype='object', name='name', length=309)\n",
      "WARNING:pypsa.io:The following Transformer have buses which are not defined:\n",
      "Index(['transf_0_0', 'transf_0_1', 'transf_0_2', 'transf_2_0', 'transf_2_1',\n",
      "       'transf_3_0', 'transf_3_1', 'transf_4_0', 'transf_4_1', 'transf_5_0',\n",
      "       ...\n",
      "       'transf_741_0', 'transf_759_0', 'transf_804_0', 'transf_811_0',\n",
      "       'transf_826_0', 'transf_871_0', 'transf_991_0', 'transf_1037_0',\n",
      "       'transf_1075_0', 'transf_1278_0'],\n",
      "      dtype='object', name='name', length=309)\n",
      "WARNING:pypsa.io:The following Transformer have buses which are not defined:\n",
      "Index(['transf_0_0', 'transf_0_1', 'transf_0_2', 'transf_2_0', 'transf_2_1',\n",
      "       'transf_3_0', 'transf_3_1', 'transf_4_0', 'transf_4_1', 'transf_5_0',\n",
      "       ...\n",
      "       'transf_741_0', 'transf_759_0', 'transf_804_0', 'transf_811_0',\n",
      "       'transf_826_0', 'transf_871_0', 'transf_991_0', 'transf_1037_0',\n",
      "       'transf_1075_0', 'transf_1278_0'],\n",
      "      dtype='object', name='name', length=309)\n",
      "INFO:pypsa.io:Imported network base.nc has buses, lines, transformers\n"
     ]
    },
    {
     "name": "stdout",
     "output_type": "stream",
     "text": [
      "Existing transmission line statistics:\n",
      "Mean s_nom: 1134.3 MW\n",
      "Median s_nom: 442.4 MW\n",
      "25th percentile: 294.9 MW\n",
      "75th percentile: 589.9 MW\n",
      "\n",
      "Distribution by voltage level:\n",
      "       count          mean        median\n",
      "v_nom                                   \n",
      "66.0     237    190.400180    221.200209\n",
      "88.0     500    273.698391    294.933612\n",
      "132.0   1022    455.531023    442.400417\n",
      "220.0     17   1359.007818   1474.668058\n",
      "275.0    131   2814.252018   2765.002608\n",
      "400.0    218   5370.628733   5362.429300\n",
      "765.0     13  16536.235470  16536.235470\n",
      "\n",
      "Recommended artificial line capacity: 442 MW\n"
     ]
    }
   ],
   "source": [
    "import pypsa\n",
    "import pandas as pd\n",
    "\n",
    "# Load your network\n",
    "n = pypsa.Network(\"networks/base.nc\")\n",
    "\n",
    "# Analyze existing transmission line capacities\n",
    "print(\"Existing transmission line statistics:\")\n",
    "print(f\"Mean s_nom: {n.lines.s_nom.mean():.1f} MW\")\n",
    "print(f\"Median s_nom: {n.lines.s_nom.median():.1f} MW\")\n",
    "print(f\"25th percentile: {n.lines.s_nom.quantile(0.25):.1f} MW\")\n",
    "print(f\"75th percentile: {n.lines.s_nom.quantile(0.75):.1f} MW\")\n",
    "\n",
    "print(\"\\nDistribution by voltage level:\")\n",
    "voltage_stats = n.lines.groupby('v_nom')['s_nom'].agg(['count', 'mean', 'median'])\n",
    "print(voltage_stats)\n",
    "\n",
    "print(f\"\\nRecommended artificial line capacity: {n.lines.s_nom.median():.0f} MW\")"
   ]
  },
  {
   "cell_type": "code",
   "execution_count": 26,
   "id": "a9933009",
   "metadata": {},
   "outputs": [
    {
     "name": "stderr",
     "output_type": "stream",
     "text": [
      "WARNING:pypsa.io:The following Transformer have buses which are not defined:\n",
      "Index(['transf_0_0', 'transf_0_1', 'transf_0_2', 'transf_2_0', 'transf_2_1',\n",
      "       'transf_3_0', 'transf_3_1', 'transf_4_0', 'transf_4_1', 'transf_5_0',\n",
      "       ...\n",
      "       'transf_741_0', 'transf_759_0', 'transf_804_0', 'transf_811_0',\n",
      "       'transf_826_0', 'transf_871_0', 'transf_991_0', 'transf_1037_0',\n",
      "       'transf_1075_0', 'transf_1278_0'],\n",
      "      dtype='object', name='name', length=309)\n",
      "WARNING:pypsa.io:The following Transformer have buses which are not defined:\n",
      "Index(['transf_0_0', 'transf_0_1', 'transf_0_2', 'transf_2_0', 'transf_2_1',\n",
      "       'transf_3_0', 'transf_3_1', 'transf_4_0', 'transf_4_1', 'transf_5_0',\n",
      "       ...\n",
      "       'transf_741_0', 'transf_759_0', 'transf_804_0', 'transf_811_0',\n",
      "       'transf_826_0', 'transf_871_0', 'transf_991_0', 'transf_1037_0',\n",
      "       'transf_1075_0', 'transf_1278_0'],\n",
      "      dtype='object', name='name', length=309)\n",
      "WARNING:pypsa.io:The following Transformer have buses which are not defined:\n",
      "Index(['transf_0_0', 'transf_0_1', 'transf_0_2', 'transf_2_0', 'transf_2_1',\n",
      "       'transf_3_0', 'transf_3_1', 'transf_4_0', 'transf_4_1', 'transf_5_0',\n",
      "       ...\n",
      "       'transf_741_0', 'transf_759_0', 'transf_804_0', 'transf_811_0',\n",
      "       'transf_826_0', 'transf_871_0', 'transf_991_0', 'transf_1037_0',\n",
      "       'transf_1075_0', 'transf_1278_0'],\n",
      "      dtype='object', name='name', length=309)\n",
      "WARNING:pypsa.io:The following Transformer have buses which are not defined:\n",
      "Index(['transf_0_0', 'transf_0_1', 'transf_0_2', 'transf_2_0', 'transf_2_1',\n",
      "       'transf_3_0', 'transf_3_1', 'transf_4_0', 'transf_4_1', 'transf_5_0',\n",
      "       ...\n",
      "       'transf_741_0', 'transf_759_0', 'transf_804_0', 'transf_811_0',\n",
      "       'transf_826_0', 'transf_871_0', 'transf_991_0', 'transf_1037_0',\n",
      "       'transf_1075_0', 'transf_1278_0'],\n",
      "      dtype='object', name='name', length=309)\n",
      "WARNING:pypsa.io:The following Transformer have buses which are not defined:\n",
      "Index(['transf_0_0', 'transf_0_1', 'transf_0_2', 'transf_2_0', 'transf_2_1',\n",
      "       'transf_3_0', 'transf_3_1', 'transf_4_0', 'transf_4_1', 'transf_5_0',\n",
      "       ...\n",
      "       'transf_741_0', 'transf_759_0', 'transf_804_0', 'transf_811_0',\n",
      "       'transf_826_0', 'transf_871_0', 'transf_991_0', 'transf_1037_0',\n",
      "       'transf_1075_0', 'transf_1278_0'],\n",
      "      dtype='object', name='name', length=309)\n",
      "WARNING:pypsa.io:The following Transformer have buses which are not defined:\n",
      "Index(['transf_0_0', 'transf_0_1', 'transf_0_2', 'transf_2_0', 'transf_2_1',\n",
      "       'transf_3_0', 'transf_3_1', 'transf_4_0', 'transf_4_1', 'transf_5_0',\n",
      "       ...\n",
      "       'transf_741_0', 'transf_759_0', 'transf_804_0', 'transf_811_0',\n",
      "       'transf_826_0', 'transf_871_0', 'transf_991_0', 'transf_1037_0',\n",
      "       'transf_1075_0', 'transf_1278_0'],\n",
      "      dtype='object', name='name', length=309)\n",
      "INFO:pypsa.io:Imported network base.nc has buses, lines, transformers\n"
     ]
    },
    {
     "data": {
      "text/plain": [
       "array(['243-AL1/39-ST1A 20.0', 'Al/St 240/40 4-bundle 380.0',\n",
       "       'Al/St 240/40 3-bundle 300.0', 'Al/St 560/50 4-bundle 750.0',\n",
       "       'Al/St 240/40 2-bundle 220.0'], dtype=object)"
      ]
     },
     "execution_count": 26,
     "metadata": {},
     "output_type": "execute_result"
    }
   ],
   "source": [
    "#network50.lines.type.unique()\n",
    "base_network=pypsa.Network(\"networks/base.nc\")\n",
    "base_network.lines.type.unique()\n",
    "\n",
    "\n",
    "\n",
    "\n",
    "\n",
    "\n",
    "\n",
    "\n"
   ]
  },
  {
   "cell_type": "code",
   "execution_count": null,
   "id": "d1c5c943",
   "metadata": {},
   "outputs": [
    {
     "name": "stderr",
     "output_type": "stream",
     "text": [
      "WARNING:pypsa.io:The following Transformer have buses which are not defined:\n",
      "Index(['transf_0_0', 'transf_0_1', 'transf_0_2', 'transf_2_0', 'transf_2_1',\n",
      "       'transf_3_0', 'transf_3_1', 'transf_4_0', 'transf_4_1', 'transf_5_0',\n",
      "       ...\n",
      "       'transf_741_0', 'transf_759_0', 'transf_804_0', 'transf_811_0',\n",
      "       'transf_826_0', 'transf_871_0', 'transf_991_0', 'transf_1037_0',\n",
      "       'transf_1075_0', 'transf_1278_0'],\n",
      "      dtype='object', name='name', length=309)\n",
      "WARNING:pypsa.io:The following Transformer have buses which are not defined:\n",
      "Index(['transf_0_0', 'transf_0_1', 'transf_0_2', 'transf_2_0', 'transf_2_1',\n",
      "       'transf_3_0', 'transf_3_1', 'transf_4_0', 'transf_4_1', 'transf_5_0',\n",
      "       ...\n",
      "       'transf_741_0', 'transf_759_0', 'transf_804_0', 'transf_811_0',\n",
      "       'transf_826_0', 'transf_871_0', 'transf_991_0', 'transf_1037_0',\n",
      "       'transf_1075_0', 'transf_1278_0'],\n",
      "      dtype='object', name='name', length=309)\n",
      "WARNING:pypsa.io:The following Transformer have buses which are not defined:\n",
      "Index(['transf_0_0', 'transf_0_1', 'transf_0_2', 'transf_2_0', 'transf_2_1',\n",
      "       'transf_3_0', 'transf_3_1', 'transf_4_0', 'transf_4_1', 'transf_5_0',\n",
      "       ...\n",
      "       'transf_741_0', 'transf_759_0', 'transf_804_0', 'transf_811_0',\n",
      "       'transf_826_0', 'transf_871_0', 'transf_991_0', 'transf_1037_0',\n",
      "       'transf_1075_0', 'transf_1278_0'],\n",
      "      dtype='object', name='name', length=309)\n",
      "WARNING:pypsa.io:The following Transformer have buses which are not defined:\n",
      "Index(['transf_0_0', 'transf_0_1', 'transf_0_2', 'transf_2_0', 'transf_2_1',\n",
      "       'transf_3_0', 'transf_3_1', 'transf_4_0', 'transf_4_1', 'transf_5_0',\n",
      "       ...\n",
      "       'transf_741_0', 'transf_759_0', 'transf_804_0', 'transf_811_0',\n",
      "       'transf_826_0', 'transf_871_0', 'transf_991_0', 'transf_1037_0',\n",
      "       'transf_1075_0', 'transf_1278_0'],\n",
      "      dtype='object', name='name', length=309)\n",
      "WARNING:pypsa.io:The following Transformer have buses which are not defined:\n",
      "Index(['transf_0_0', 'transf_0_1', 'transf_0_2', 'transf_2_0', 'transf_2_1',\n",
      "       'transf_3_0', 'transf_3_1', 'transf_4_0', 'transf_4_1', 'transf_5_0',\n",
      "       ...\n",
      "       'transf_741_0', 'transf_759_0', 'transf_804_0', 'transf_811_0',\n",
      "       'transf_826_0', 'transf_871_0', 'transf_991_0', 'transf_1037_0',\n",
      "       'transf_1075_0', 'transf_1278_0'],\n",
      "      dtype='object', name='name', length=309)\n",
      "WARNING:pypsa.io:The following Transformer have buses which are not defined:\n",
      "Index(['transf_0_0', 'transf_0_1', 'transf_0_2', 'transf_2_0', 'transf_2_1',\n",
      "       'transf_3_0', 'transf_3_1', 'transf_4_0', 'transf_4_1', 'transf_5_0',\n",
      "       ...\n",
      "       'transf_741_0', 'transf_759_0', 'transf_804_0', 'transf_811_0',\n",
      "       'transf_826_0', 'transf_871_0', 'transf_991_0', 'transf_1037_0',\n",
      "       'transf_1075_0', 'transf_1278_0'],\n",
      "      dtype='object', name='name', length=309)\n",
      "INFO:pypsa.io:Imported network base.nc has buses, lines, transformers\n"
     ]
    },
    {
     "name": "stdout",
     "output_type": "stream",
     "text": [
      "Line distance statistics (km):\n",
      "Mean: 31.0\n",
      "Median: 18.4\n",
      "75th percentile: 33.3\n",
      "90th percentile: 64.6\n",
      "95th percentile: 104.0\n",
      "Maximum: 421.6\n",
      "\n",
      "PyPSA stored lengths - Max: 494.3 km\n",
      "PyPSA stored lengths - 95th percentile: 122.6 km\n"
     ]
    }
   ],
   "source": [
    "#Analyze Actual Network Distances\n",
    "import pypsa\n",
    "import numpy as np\n",
    "import matplotlib.pyplot as plt\n",
    "\n",
    "# Load your network\n",
    "n = pypsa.Network(\"networks/base.nc\")\n",
    "\n",
    "# Calculate actual line distances\n",
    "line_distances = []\n",
    "for idx, line in n.lines.iterrows():\n",
    "    bus0_coords = n.buses.loc[line.bus0, ['x', 'y']]\n",
    "    bus1_coords = n.buses.loc[line.bus1, ['x', 'y']]\n",
    "    \n",
    "    # Calculate great circle distance\n",
    "    from geopy.distance import distance\n",
    "    dist = distance(\n",
    "        (bus0_coords.y, bus0_coords.x),  # lat, lon\n",
    "        (bus1_coords.y, bus1_coords.x)\n",
    "    ).kilometers\n",
    "    \n",
    "    line_distances.append(dist)\n",
    "\n",
    "n.lines['distance_km'] = line_distances\n",
    "\n",
    "# Analyze distance distribution\n",
    "print(\"Line distance statistics (km):\")\n",
    "print(f\"Mean: {np.mean(line_distances):.1f}\")\n",
    "print(f\"Median: {np.median(line_distances):.1f}\")\n",
    "print(f\"75th percentile: {np.percentile(line_distances, 75):.1f}\")\n",
    "print(f\"90th percentile: {np.percentile(line_distances, 90):.1f}\")\n",
    "print(f\"95th percentile: {np.percentile(line_distances, 95):.1f}\")\n",
    "print(f\"Maximum: {np.max(line_distances):.1f}\")\n",
    "\n",
    "# Check if PyPSA stored length data\n",
    "if 'length' in n.lines.columns:\n",
    "    print(f\"\\nPyPSA stored lengths - Max: {n.lines.length.max():.1f} km\")\n",
    "    print(f\"PyPSA stored lengths - 95th percentile: {n.lines.length.quantile(0.95):.1f} km\")"
   ]
  },
  {
   "cell_type": "code",
   "execution_count": 28,
   "id": "7818aa0d",
   "metadata": {},
   "outputs": [
    {
     "name": "stdout",
     "output_type": "stream",
     "text": [
      "10 longest transmission lines:\n",
      "     bus0  bus1  distance_km  v_nom\n",
      "Line                               \n",
      "470   213   201   421.587768  765.0\n",
      "601   213   201   421.587768  765.0\n",
      "327   115   212   379.676034  400.0\n",
      "1947  722   572   356.629494  765.0\n",
      "430   146    31   284.897055  400.0\n",
      "431   146    31   284.897055  400.0\n",
      "90     25   184   282.973349  400.0\n",
      "106   213   147   269.910702  765.0\n",
      "390   722  1408   266.494082  765.0\n",
      "105   212   802   258.688869  400.0\n"
     ]
    },
    {
     "data": {
      "image/png": "[encoded data removed]",
      "text/plain": [
       "<Figure size 1200x800 with 4 Axes>"
      ]
     },
     "metadata": {},
     "output_type": "display_data"
    }
   ],
   "source": [
    "#Plot distance distribution\n",
    "plt.figure(figsize=(12, 8))\n",
    "\n",
    "plt.subplot(2, 2, 1)\n",
    "plt.hist(line_distances, bins=50, alpha=0.7)\n",
    "plt.xlabel('Distance (km)')\n",
    "plt.ylabel('Number of Lines')\n",
    "plt.title('Distribution of Line Distances')\n",
    "\n",
    "plt.subplot(2, 2, 2)\n",
    "plt.hist([d for d in line_distances if d < 500], bins=30, alpha=0.7)\n",
    "plt.xlabel('Distance (km)')\n",
    "plt.ylabel('Number of Lines')\n",
    "plt.title('Short Lines (<500km)')\n",
    "\n",
    "plt.subplot(2, 2, 3)\n",
    "long_lines = [d for d in line_distances if d > 500]\n",
    "if long_lines:\n",
    "    plt.hist(long_lines, bins=20, alpha=0.7)\n",
    "    plt.xlabel('Distance (km)')\n",
    "    plt.ylabel('Number of Lines')\n",
    "    plt.title('Long Lines (>500km)')\n",
    "\n",
    "plt.subplot(2, 2, 4)\n",
    "# Show longest lines\n",
    "longest_lines = n.lines.nlargest(10, 'distance_km')[['bus0', 'bus1', 'distance_km', 'v_nom']]\n",
    "print(\"10 longest transmission lines:\")\n",
    "print(longest_lines)\n",
    "\n",
    "plt.tight_layout()\n",
    "plt.show()"
   ]
  },
  {
   "cell_type": "code",
   "execution_count": 2,
   "id": "c64d554f",
   "metadata": {},
   "outputs": [
    {
     "name": "stderr",
     "output_type": "stream",
     "text": [
      "INFO:pypsa.io:Imported network elec_s_10_ec_lc1.0_1h.nc has buses, carriers, generators, global_constraints, lines, loads, storage_units\n"
     ]
    },
    {
     "name": "stdout",
     "output_type": "stream",
     "text": [
      "Number of sub-networks: 1\n",
      "Sub-network info:\n",
      "attribute  carrier slack_bus           obj\n",
      "SubNetwork                                \n",
      "0               AC     ZA0 0  SubNetwork 0\n",
      "Isolated buses in network: 0\n",
      "Isolated bus details:\n",
      "Empty DataFrame\n",
      "Columns: [v_nom, tag_substation, tag_area, lon, lat, country, x, y, control, generator, type, carrier, unit, v_mag_pu_set, v_mag_pu_min, v_mag_pu_max, sub_network]\n",
      "Index: []\n"
     ]
    }
   ],
   "source": [
    "#see if the network is connected\n",
    "import pypsa\n",
    "import networkx as nx\n",
    "\n",
    "n_10node_connected = pypsa.Network(\"/Users/antoniagrindrod/Documents/pypsa-earth_project/pypsa-earth-RL/networks/elec_s_10_ec_lc1.0_1h.nc\")\n",
    "\n",
    "# Check network topology\n",
    "n_10node_connected.determine_network_topology()\n",
    "print(f\"Number of sub-networks: {len(n_10node_connected.sub_networks)}\")\n",
    "print(\"Sub-network info:\")\n",
    "print(n_10node_connected.sub_networks)\n",
    "\n",
    "# Find isolated buses\n",
    "connected_buses = set()\n",
    "for sub_net in n_10node_connected.sub_networks.index:\n",
    "    buses_in_subnet = n_10node_connected.buses[n_10node_connected.buses.sub_network == sub_net]\n",
    "    if len(buses_in_subnet) > 1:  # Main grid\n",
    "        connected_buses.update(buses_in_subnet.index)\n",
    "\n",
    "isolated_buses = n_10node_connected.buses.index.difference(connected_buses)\n",
    "print(f\"Isolated buses in network: {len(isolated_buses)}\")\n",
    "print(\"Isolated bus details:\")\n",
    "print(n_10node_connected.buses.loc[isolated_buses])\n",
    "\n"
   ]
  },
  {
   "cell_type": "code",
   "execution_count": 3,
   "id": "0f81680c",
   "metadata": {},
   "outputs": [
    {
     "name": "stderr",
     "output_type": "stream",
     "text": [
      "WARNING:pypsa.consistency:The following buses have carriers which are not defined:\n",
      "Index(['ZA0 0', 'ZA0 1', 'ZA0 2', 'ZA0 3', 'ZA0 4', 'ZA0 5', 'ZA0 6', 'ZA0 7',\n",
      "       'ZA0 8', 'ZA0 9', 'ZA1 0', 'ZA2 0', 'ZA3 0'],\n",
      "      dtype='object', name='Bus')\n",
      "WARNING:pypsa.consistency:The following lines have carriers which are not defined:\n",
      "Index(['0', '1', '10', '11', '12', '13', '14', '15', '2', '3', '4', '5', '6',\n",
      "       '7', '8', '9', 'lines new ZA0 4 <-> ZA2 0 AC',\n",
      "       'lines new ZA0 0 <-> ZA1 0 AC', 'lines new ZA0 0 <-> ZA3 0 AC'],\n",
      "      dtype='object', name='Line')\n",
      "WARNING:pypsa.consistency:The following sub_networks have carriers which are not defined:\n",
      "Index(['0'], dtype='object', name='SubNetwork')\n",
      "WARNING:pypsa.consistency:The following buses have carriers which are not defined:\n",
      "Index(['ZA0 0', 'ZA0 1', 'ZA0 2', 'ZA0 3', 'ZA0 4', 'ZA0 5', 'ZA0 6', 'ZA0 7',\n",
      "       'ZA0 8', 'ZA0 9', 'ZA1 0', 'ZA2 0', 'ZA3 0'],\n",
      "      dtype='object', name='Bus')\n",
      "WARNING:pypsa.consistency:The following lines have carriers which are not defined:\n",
      "Index(['0', '1', '10', '11', '12', '13', '14', '15', '2', '3', '4', '5', '6',\n",
      "       '7', '8', '9', 'lines new ZA0 4 <-> ZA2 0 AC',\n",
      "       'lines new ZA0 0 <-> ZA1 0 AC', 'lines new ZA0 0 <-> ZA3 0 AC'],\n",
      "      dtype='object', name='Line')\n",
      "WARNING:pypsa.consistency:The following sub_networks have carriers which are not defined:\n",
      "Index(['0'], dtype='object', name='SubNetwork')\n",
      "INFO:linopy.model: Solve problem using Gurobi solver\n",
      "INFO:linopy.io:Writing objective.\n",
      "Writing constraints.: 100%|\u001b[38;2;128;191;255m██████████\u001b[0m| 18/18 [00:06<00:00,  2.82it/s]\n",
      "Writing continuous variables.: 100%|\u001b[38;2;128;191;255m██████████\u001b[0m| 7/7 [00:01<00:00,  6.44it/s]\n",
      "INFO:linopy.io: Writing time: 8.09s\n"
     ]
    },
    {
     "name": "stdout",
     "output_type": "stream",
     "text": [
      "Set parameter Username\n"
     ]
    },
    {
     "name": "stderr",
     "output_type": "stream",
     "text": [
      "INFO:gurobipy:Set parameter Username\n"
     ]
    },
    {
     "name": "stdout",
     "output_type": "stream",
     "text": [
      "Set parameter LicenseID to value 2695191\n"
     ]
    },
    {
     "name": "stderr",
     "output_type": "stream",
     "text": [
      "INFO:gurobipy:Set parameter LicenseID to value 2695191\n"
     ]
    },
    {
     "name": "stdout",
     "output_type": "stream",
     "text": [
      "Academic license - for non-commercial use only - expires 2026-08-12\n"
     ]
    },
    {
     "name": "stderr",
     "output_type": "stream",
     "text": [
      "INFO:gurobipy:Academic license - for non-commercial use only - expires 2026-08-12\n"
     ]
    },
    {
     "name": "stdout",
     "output_type": "stream",
     "text": [
      "Read LP format model from file /private/var/folders/tt/b5q5vkxj6xvf2b6q1f46ytgw0000gn/T/linopy-problem-h2lrreqf.lp\n"
     ]
    },
    {
     "name": "stderr",
     "output_type": "stream",
     "text": [
      "INFO:gurobipy:Read LP format model from file /private/var/folders/tt/b5q5vkxj6xvf2b6q1f46ytgw0000gn/T/linopy-problem-h2lrreqf.lp\n"
     ]
    },
    {
     "name": "stdout",
     "output_type": "stream",
     "text": [
      "Reading time = 3.12 seconds\n"
     ]
    },
    {
     "name": "stderr",
     "output_type": "stream",
     "text": [
      "INFO:gurobipy:Reading time = 3.12 seconds\n"
     ]
    },
    {
     "name": "stdout",
     "output_type": "stream",
     "text": [
      "obj: 1655644 rows, 735843 columns, 2689326 nonzeros\n"
     ]
    },
    {
     "name": "stderr",
     "output_type": "stream",
     "text": [
      "INFO:gurobipy:obj: 1655644 rows, 735843 columns, 2689326 nonzeros\n"
     ]
    },
    {
     "name": "stdout",
     "output_type": "stream",
     "text": [
      "Gurobi Optimizer version 12.0.3 build v12.0.3rc0 (mac64[x86] - Darwin 24.6.0 24G84)\n"
     ]
    },
    {
     "name": "stderr",
     "output_type": "stream",
     "text": [
      "INFO:gurobipy:Gurobi Optimizer version 12.0.3 build v12.0.3rc0 (mac64[x86] - Darwin 24.6.0 24G84)\n"
     ]
    },
    {
     "name": "stdout",
     "output_type": "stream",
     "text": [
      "\n"
     ]
    },
    {
     "name": "stderr",
     "output_type": "stream",
     "text": [
      "INFO:gurobipy:\n"
     ]
    },
    {
     "name": "stdout",
     "output_type": "stream",
     "text": [
      "CPU model: Intel(R) Core(TM) i5-8279U CPU @ 2.40GHz\n"
     ]
    },
    {
     "name": "stderr",
     "output_type": "stream",
     "text": [
      "INFO:gurobipy:CPU model: Intel(R) Core(TM) i5-8279U CPU @ 2.40GHz\n"
     ]
    },
    {
     "name": "stdout",
     "output_type": "stream",
     "text": [
      "Thread count: 4 physical cores, 8 logical processors, using up to 8 threads\n"
     ]
    },
    {
     "name": "stderr",
     "output_type": "stream",
     "text": [
      "INFO:gurobipy:Thread count: 4 physical cores, 8 logical processors, using up to 8 threads\n"
     ]
    },
    {
     "name": "stdout",
     "output_type": "stream",
     "text": [
      "\n"
     ]
    },
    {
     "name": "stderr",
     "output_type": "stream",
     "text": [
      "INFO:gurobipy:\n"
     ]
    },
    {
     "name": "stdout",
     "output_type": "stream",
     "text": [
      "Optimize a model with 1655644 rows, 735843 columns and 2689326 nonzeros\n"
     ]
    },
    {
     "name": "stderr",
     "output_type": "stream",
     "text": [
      "INFO:gurobipy:Optimize a model with 1655644 rows, 735843 columns and 2689326 nonzeros\n"
     ]
    },
    {
     "name": "stdout",
     "output_type": "stream",
     "text": [
      "Model fingerprint: 0xa1b4a81a\n"
     ]
    },
    {
     "name": "stderr",
     "output_type": "stream",
     "text": [
      "INFO:gurobipy:Model fingerprint: 0xa1b4a81a\n"
     ]
    },
    {
     "name": "stdout",
     "output_type": "stream",
     "text": [
      "Coefficient statistics:\n"
     ]
    },
    {
     "name": "stderr",
     "output_type": "stream",
     "text": [
      "INFO:gurobipy:Coefficient statistics:\n"
     ]
    },
    {
     "name": "stdout",
     "output_type": "stream",
     "text": [
      "  Matrix range     [7e-01, 1e+04]\n"
     ]
    },
    {
     "name": "stderr",
     "output_type": "stream",
     "text": [
      "INFO:gurobipy:  Matrix range     [7e-01, 1e+04]\n"
     ]
    },
    {
     "name": "stdout",
     "output_type": "stream",
     "text": [
      "  Objective range  [1e-02, 1e+04]\n"
     ]
    },
    {
     "name": "stderr",
     "output_type": "stream",
     "text": [
      "INFO:gurobipy:  Objective range  [1e-02, 1e+04]\n"
     ]
    },
    {
     "name": "stdout",
     "output_type": "stream",
     "text": [
      "  Bounds range     [2e+00, 1e+03]\n"
     ]
    },
    {
     "name": "stderr",
     "output_type": "stream",
     "text": [
      "INFO:gurobipy:  Bounds range     [2e+00, 1e+03]\n"
     ]
    },
    {
     "name": "stdout",
     "output_type": "stream",
     "text": [
      "  RHS range        [8e-05, 8e+09]\n"
     ]
    },
    {
     "name": "stderr",
     "output_type": "stream",
     "text": [
      "INFO:gurobipy:  RHS range        [8e-05, 8e+09]\n"
     ]
    },
    {
     "name": "stdout",
     "output_type": "stream",
     "text": [
      "Warning: Model contains large rhs\n"
     ]
    },
    {
     "name": "stderr",
     "output_type": "stream",
     "text": [
      "INFO:gurobipy:Warning: Model contains large rhs\n"
     ]
    },
    {
     "name": "stdout",
     "output_type": "stream",
     "text": [
      "         Consider reformulating model or setting NumericFocus parameter\n"
     ]
    },
    {
     "name": "stderr",
     "output_type": "stream",
     "text": [
      "INFO:gurobipy:         Consider reformulating model or setting NumericFocus parameter\n"
     ]
    },
    {
     "name": "stdout",
     "output_type": "stream",
     "text": [
      "         to avoid numerical issues.\n"
     ]
    },
    {
     "name": "stderr",
     "output_type": "stream",
     "text": [
      "INFO:gurobipy:         to avoid numerical issues.\n"
     ]
    },
    {
     "name": "stdout",
     "output_type": "stream",
     "text": [
      "Presolve removed 1563299 rows and 369191 columns\n"
     ]
    },
    {
     "name": "stderr",
     "output_type": "stream",
     "text": [
      "INFO:gurobipy:Presolve removed 1563299 rows and 369191 columns\n"
     ]
    },
    {
     "name": "stdout",
     "output_type": "stream",
     "text": [
      "Presolve time: 2.93s\n"
     ]
    },
    {
     "name": "stderr",
     "output_type": "stream",
     "text": [
      "INFO:gurobipy:Presolve time: 2.93s\n"
     ]
    },
    {
     "name": "stdout",
     "output_type": "stream",
     "text": [
      "Presolved: 92345 rows, 366652 columns, 720799 nonzeros\n"
     ]
    },
    {
     "name": "stderr",
     "output_type": "stream",
     "text": [
      "INFO:gurobipy:Presolved: 92345 rows, 366652 columns, 720799 nonzeros\n"
     ]
    },
    {
     "name": "stdout",
     "output_type": "stream",
     "text": [
      "\n"
     ]
    },
    {
     "name": "stderr",
     "output_type": "stream",
     "text": [
      "INFO:gurobipy:\n"
     ]
    },
    {
     "name": "stdout",
     "output_type": "stream",
     "text": [
      "Concurrent LP optimizer: dual simplex and barrier\n"
     ]
    },
    {
     "name": "stderr",
     "output_type": "stream",
     "text": [
      "INFO:gurobipy:Concurrent LP optimizer: dual simplex and barrier\n"
     ]
    },
    {
     "name": "stdout",
     "output_type": "stream",
     "text": [
      "Showing barrier log only...\n"
     ]
    },
    {
     "name": "stderr",
     "output_type": "stream",
     "text": [
      "INFO:gurobipy:Showing barrier log only...\n"
     ]
    },
    {
     "name": "stdout",
     "output_type": "stream",
     "text": [
      "\n"
     ]
    },
    {
     "name": "stderr",
     "output_type": "stream",
     "text": [
      "INFO:gurobipy:\n"
     ]
    },
    {
     "name": "stdout",
     "output_type": "stream",
     "text": [
      "Ordering time: 0.05s\n"
     ]
    },
    {
     "name": "stderr",
     "output_type": "stream",
     "text": [
      "INFO:gurobipy:Ordering time: 0.05s\n"
     ]
    },
    {
     "name": "stdout",
     "output_type": "stream",
     "text": [
      "\n"
     ]
    },
    {
     "name": "stderr",
     "output_type": "stream",
     "text": [
      "INFO:gurobipy:\n"
     ]
    },
    {
     "name": "stdout",
     "output_type": "stream",
     "text": [
      "Barrier statistics:\n"
     ]
    },
    {
     "name": "stderr",
     "output_type": "stream",
     "text": [
      "INFO:gurobipy:Barrier statistics:\n"
     ]
    },
    {
     "name": "stdout",
     "output_type": "stream",
     "text": [
      " AA' NZ     : 2.953e+05\n"
     ]
    },
    {
     "name": "stderr",
     "output_type": "stream",
     "text": [
      "INFO:gurobipy: AA' NZ     : 2.953e+05\n"
     ]
    },
    {
     "name": "stdout",
     "output_type": "stream",
     "text": [
      " Factor NZ  : 6.063e+05 (roughly 200 MB of memory)\n"
     ]
    },
    {
     "name": "stderr",
     "output_type": "stream",
     "text": [
      "INFO:gurobipy: Factor NZ  : 6.063e+05 (roughly 200 MB of memory)\n"
     ]
    },
    {
     "name": "stdout",
     "output_type": "stream",
     "text": [
      " Factor Ops : 4.948e+06 (less than 1 second per iteration)\n"
     ]
    },
    {
     "name": "stderr",
     "output_type": "stream",
     "text": [
      "INFO:gurobipy: Factor Ops : 4.948e+06 (less than 1 second per iteration)\n"
     ]
    },
    {
     "name": "stdout",
     "output_type": "stream",
     "text": [
      " Threads    : 3\n"
     ]
    },
    {
     "name": "stderr",
     "output_type": "stream",
     "text": [
      "INFO:gurobipy: Threads    : 3\n"
     ]
    },
    {
     "name": "stdout",
     "output_type": "stream",
     "text": [
      "\n"
     ]
    },
    {
     "name": "stderr",
     "output_type": "stream",
     "text": [
      "INFO:gurobipy:\n"
     ]
    },
    {
     "name": "stdout",
     "output_type": "stream",
     "text": [
      "                  Objective                Residual\n"
     ]
    },
    {
     "name": "stderr",
     "output_type": "stream",
     "text": [
      "INFO:gurobipy:                  Objective                Residual\n"
     ]
    },
    {
     "name": "stdout",
     "output_type": "stream",
     "text": [
      "Iter       Primal          Dual         Primal    Dual     Compl     Time\n"
     ]
    },
    {
     "name": "stderr",
     "output_type": "stream",
     "text": [
      "INFO:gurobipy:Iter       Primal          Dual         Primal    Dual     Compl     Time\n"
     ]
    },
    {
     "name": "stdout",
     "output_type": "stream",
     "text": [
      "   0   1.61438852e+12 -3.05947217e+14  1.75e+06 1.82e-12  4.05e+09     3s\n"
     ]
    },
    {
     "name": "stderr",
     "output_type": "stream",
     "text": [
      "INFO:gurobipy:   0   1.61438852e+12 -3.05947217e+14  1.75e+06 1.82e-12  4.05e+09     3s\n"
     ]
    },
    {
     "name": "stdout",
     "output_type": "stream",
     "text": [
      "   1   6.36723640e+10 -4.67042621e+13  5.73e+04 1.41e-11  1.77e+08     4s\n"
     ]
    },
    {
     "name": "stderr",
     "output_type": "stream",
     "text": [
      "INFO:gurobipy:   1   6.36723640e+10 -4.67042621e+13  5.73e+04 1.41e-11  1.77e+08     4s\n"
     ]
    },
    {
     "name": "stdout",
     "output_type": "stream",
     "text": [
      "   2   1.23166007e+10 -5.99001260e+12  3.26e+03 1.51e-11  1.35e+07     4s\n"
     ]
    },
    {
     "name": "stderr",
     "output_type": "stream",
     "text": [
      "INFO:gurobipy:   2   1.23166007e+10 -5.99001260e+12  3.26e+03 1.51e-11  1.35e+07     4s\n"
     ]
    },
    {
     "name": "stdout",
     "output_type": "stream",
     "text": [
      "   3   1.07615796e+10 -6.91583947e+11  2.87e+02 3.04e-10  1.31e+06     4s\n"
     ]
    },
    {
     "name": "stderr",
     "output_type": "stream",
     "text": [
      "INFO:gurobipy:   3   1.07615796e+10 -6.91583947e+11  2.87e+02 3.04e-10  1.31e+06     4s\n"
     ]
    },
    {
     "name": "stdout",
     "output_type": "stream",
     "text": [
      "   4   1.05249657e+10 -3.57959260e+10  1.05e+01 2.91e-11  6.93e+04     4s\n"
     ]
    },
    {
     "name": "stderr",
     "output_type": "stream",
     "text": [
      "INFO:gurobipy:   4   1.05249657e+10 -3.57959260e+10  1.05e+01 2.91e-11  6.93e+04     4s\n"
     ]
    },
    {
     "name": "stdout",
     "output_type": "stream",
     "text": [
      "   5   1.04331746e+10  3.83487531e+09  6.33e-01 1.15e-11  9.11e+03     4s\n"
     ]
    },
    {
     "name": "stderr",
     "output_type": "stream",
     "text": [
      "INFO:gurobipy:   5   1.04331746e+10  3.83487531e+09  6.33e-01 1.15e-11  9.11e+03     4s\n"
     ]
    },
    {
     "name": "stdout",
     "output_type": "stream",
     "text": [
      "   6   1.01995075e+10  7.70294487e+09  1.82e-01 8.66e-12  3.42e+03     4s\n"
     ]
    },
    {
     "name": "stderr",
     "output_type": "stream",
     "text": [
      "INFO:gurobipy:   6   1.01995075e+10  7.70294487e+09  1.82e-01 8.66e-12  3.42e+03     4s\n"
     ]
    },
    {
     "name": "stdout",
     "output_type": "stream",
     "text": [
      "   7   1.00584000e+10  8.94861474e+09  5.89e-02 5.97e-12  1.52e+03     4s\n"
     ]
    },
    {
     "name": "stderr",
     "output_type": "stream",
     "text": [
      "INFO:gurobipy:   7   1.00584000e+10  8.94861474e+09  5.89e-02 5.97e-12  1.52e+03     4s\n"
     ]
    },
    {
     "name": "stdout",
     "output_type": "stream",
     "text": [
      "   8   9.94936174e+09  9.44545275e+09  1.54e-02 8.44e-12  6.87e+02     4s\n"
     ]
    },
    {
     "name": "stderr",
     "output_type": "stream",
     "text": [
      "INFO:gurobipy:   8   9.94936174e+09  9.44545275e+09  1.54e-02 8.44e-12  6.87e+02     4s\n"
     ]
    },
    {
     "name": "stdout",
     "output_type": "stream",
     "text": [
      "   9   9.87576081e+09  9.65427305e+09  2.71e-03 7.86e-12  3.02e+02     4s\n"
     ]
    },
    {
     "name": "stderr",
     "output_type": "stream",
     "text": [
      "INFO:gurobipy:   9   9.87576081e+09  9.65427305e+09  2.71e-03 7.86e-12  3.02e+02     4s\n"
     ]
    },
    {
     "name": "stdout",
     "output_type": "stream",
     "text": [
      "  10   9.86725968e+09  9.69202039e+09  1.85e-03 7.86e-12  2.39e+02     5s\n"
     ]
    },
    {
     "name": "stderr",
     "output_type": "stream",
     "text": [
      "INFO:gurobipy:  10   9.86725968e+09  9.69202039e+09  1.85e-03 7.86e-12  2.39e+02     5s\n"
     ]
    },
    {
     "name": "stdout",
     "output_type": "stream",
     "text": [
      "  11   9.86544678e+09  9.70763717e+09  1.70e-03 7.86e-12  2.15e+02     5s\n"
     ]
    },
    {
     "name": "stderr",
     "output_type": "stream",
     "text": [
      "INFO:gurobipy:  11   9.86544678e+09  9.70763717e+09  1.70e-03 7.86e-12  2.15e+02     5s\n"
     ]
    },
    {
     "name": "stdout",
     "output_type": "stream",
     "text": [
      "  12   9.86418114e+09  9.71651688e+09  1.59e-03 4.80e-12  2.01e+02     5s\n"
     ]
    },
    {
     "name": "stderr",
     "output_type": "stream",
     "text": [
      "INFO:gurobipy:  12   9.86418114e+09  9.71651688e+09  1.59e-03 4.80e-12  2.01e+02     5s\n"
     ]
    },
    {
     "name": "stdout",
     "output_type": "stream",
     "text": [
      "  13   9.85816747e+09  9.74922581e+09  1.10e-03 4.22e-12  1.49e+02     5s\n"
     ]
    },
    {
     "name": "stderr",
     "output_type": "stream",
     "text": [
      "INFO:gurobipy:  13   9.85816747e+09  9.74922581e+09  1.10e-03 4.22e-12  1.49e+02     5s\n"
     ]
    },
    {
     "name": "stdout",
     "output_type": "stream",
     "text": [
      "  14   9.84517738e+09  9.82063987e+09  1.94e-04 5.06e-12  3.35e+01     5s\n"
     ]
    },
    {
     "name": "stderr",
     "output_type": "stream",
     "text": [
      "INFO:gurobipy:  14   9.84517738e+09  9.82063987e+09  1.94e-04 5.06e-12  3.35e+01     5s\n"
     ]
    },
    {
     "name": "stdout",
     "output_type": "stream",
     "text": [
      "  15   9.83975954e+09  9.83859900e+09  3.56e-05 2.40e-12  1.58e+00     5s\n"
     ]
    },
    {
     "name": "stderr",
     "output_type": "stream",
     "text": [
      "INFO:gurobipy:  15   9.83975954e+09  9.83859900e+09  3.56e-05 2.40e-12  1.58e+00     5s\n"
     ]
    },
    {
     "name": "stdout",
     "output_type": "stream",
     "text": [
      "  16   9.83923968e+09  9.83919849e+09  1.21e-05 5.82e-13  5.62e-02     5s\n"
     ]
    },
    {
     "name": "stderr",
     "output_type": "stream",
     "text": [
      "INFO:gurobipy:  16   9.83923968e+09  9.83919849e+09  1.21e-05 5.82e-13  5.62e-02     5s\n"
     ]
    },
    {
     "name": "stdout",
     "output_type": "stream",
     "text": [
      "  17   9.83922352e+09  9.83922011e+09  2.08e-05 8.88e-11  4.65e-03     5s\n"
     ]
    },
    {
     "name": "stderr",
     "output_type": "stream",
     "text": [
      "INFO:gurobipy:  17   9.83922352e+09  9.83922011e+09  2.08e-05 8.88e-11  4.65e-03     5s\n"
     ]
    },
    {
     "name": "stdout",
     "output_type": "stream",
     "text": [
      "  18   9.83922334e+09  9.83922331e+09  3.39e-07 3.24e-11  3.95e-05     5s\n"
     ]
    },
    {
     "name": "stderr",
     "output_type": "stream",
     "text": [
      "INFO:gurobipy:  18   9.83922334e+09  9.83922331e+09  3.39e-07 3.24e-11  3.95e-05     5s\n"
     ]
    },
    {
     "name": "stdout",
     "output_type": "stream",
     "text": [
      "  19   9.83922333e+09  9.83922333e+09  1.61e-07 4.80e-12  2.04e-09     6s\n"
     ]
    },
    {
     "name": "stderr",
     "output_type": "stream",
     "text": [
      "INFO:gurobipy:  19   9.83922333e+09  9.83922333e+09  1.61e-07 4.80e-12  2.04e-09     6s\n"
     ]
    },
    {
     "name": "stdout",
     "output_type": "stream",
     "text": [
      "\n"
     ]
    },
    {
     "name": "stderr",
     "output_type": "stream",
     "text": [
      "INFO:gurobipy:\n"
     ]
    },
    {
     "name": "stdout",
     "output_type": "stream",
     "text": [
      "Barrier solved model in 19 iterations and 5.56 seconds (3.37 work units)\n"
     ]
    },
    {
     "name": "stderr",
     "output_type": "stream",
     "text": [
      "INFO:gurobipy:Barrier solved model in 19 iterations and 5.56 seconds (3.37 work units)\n"
     ]
    },
    {
     "name": "stdout",
     "output_type": "stream",
     "text": [
      "Optimal objective 9.83922333e+09\n"
     ]
    },
    {
     "name": "stderr",
     "output_type": "stream",
     "text": [
      "INFO:gurobipy:Optimal objective 9.83922333e+09\n"
     ]
    },
    {
     "name": "stdout",
     "output_type": "stream",
     "text": [
      "\n"
     ]
    },
    {
     "name": "stderr",
     "output_type": "stream",
     "text": [
      "INFO:gurobipy:\n"
     ]
    },
    {
     "name": "stdout",
     "output_type": "stream",
     "text": [
      "Crossover log...\n"
     ]
    },
    {
     "name": "stderr",
     "output_type": "stream",
     "text": [
      "INFO:gurobipy:Crossover log...\n"
     ]
    },
    {
     "name": "stdout",
     "output_type": "stream",
     "text": [
      "\n"
     ]
    },
    {
     "name": "stderr",
     "output_type": "stream",
     "text": [
      "INFO:gurobipy:\n"
     ]
    },
    {
     "name": "stdout",
     "output_type": "stream",
     "text": [
      "      56 DPushes remaining with DInf 0.0000000e+00                 6s\n"
     ]
    },
    {
     "name": "stderr",
     "output_type": "stream",
     "text": [
      "INFO:gurobipy:      56 DPushes remaining with DInf 0.0000000e+00                 6s\n"
     ]
    },
    {
     "name": "stdout",
     "output_type": "stream",
     "text": [
      "       0 DPushes remaining with DInf 0.0000000e+00                 6s\n"
     ]
    },
    {
     "name": "stderr",
     "output_type": "stream",
     "text": [
      "INFO:gurobipy:       0 DPushes remaining with DInf 0.0000000e+00                 6s\n"
     ]
    },
    {
     "name": "stdout",
     "output_type": "stream",
     "text": [
      "\n"
     ]
    },
    {
     "name": "stderr",
     "output_type": "stream",
     "text": [
      "INFO:gurobipy:\n"
     ]
    },
    {
     "name": "stdout",
     "output_type": "stream",
     "text": [
      "   35043 PPushes remaining with PInf 0.0000000e+00                 6s\n"
     ]
    },
    {
     "name": "stderr",
     "output_type": "stream",
     "text": [
      "INFO:gurobipy:   35043 PPushes remaining with PInf 0.0000000e+00                 6s\n"
     ]
    },
    {
     "name": "stdout",
     "output_type": "stream",
     "text": [
      "       0 PPushes remaining with PInf 0.0000000e+00                 7s\n"
     ]
    },
    {
     "name": "stderr",
     "output_type": "stream",
     "text": [
      "INFO:gurobipy:       0 PPushes remaining with PInf 0.0000000e+00                 7s\n"
     ]
    },
    {
     "name": "stdout",
     "output_type": "stream",
     "text": [
      "\n"
     ]
    },
    {
     "name": "stderr",
     "output_type": "stream",
     "text": [
      "INFO:gurobipy:\n"
     ]
    },
    {
     "name": "stdout",
     "output_type": "stream",
     "text": [
      "  Push phase complete: Pinf 0.0000000e+00, Dinf 2.7462052e-10      7s\n"
     ]
    },
    {
     "name": "stderr",
     "output_type": "stream",
     "text": [
      "INFO:gurobipy:  Push phase complete: Pinf 0.0000000e+00, Dinf 2.7462052e-10      7s\n"
     ]
    },
    {
     "name": "stdout",
     "output_type": "stream",
     "text": [
      "\n"
     ]
    },
    {
     "name": "stderr",
     "output_type": "stream",
     "text": [
      "INFO:gurobipy:\n"
     ]
    },
    {
     "name": "stdout",
     "output_type": "stream",
     "text": [
      "\n"
     ]
    },
    {
     "name": "stderr",
     "output_type": "stream",
     "text": [
      "INFO:gurobipy:\n"
     ]
    },
    {
     "name": "stdout",
     "output_type": "stream",
     "text": [
      "Solved with barrier\n"
     ]
    },
    {
     "name": "stderr",
     "output_type": "stream",
     "text": [
      "INFO:gurobipy:Solved with barrier\n"
     ]
    },
    {
     "name": "stdout",
     "output_type": "stream",
     "text": [
      "Iteration    Objective       Primal Inf.    Dual Inf.      Time\n"
     ]
    },
    {
     "name": "stderr",
     "output_type": "stream",
     "text": [
      "INFO:gurobipy:Iteration    Objective       Primal Inf.    Dual Inf.      Time\n"
     ]
    },
    {
     "name": "stdout",
     "output_type": "stream",
     "text": [
      "   35099    9.8392233e+09   0.000000e+00   0.000000e+00      8s\n"
     ]
    },
    {
     "name": "stderr",
     "output_type": "stream",
     "text": [
      "INFO:gurobipy:   35099    9.8392233e+09   0.000000e+00   0.000000e+00      8s\n"
     ]
    },
    {
     "name": "stdout",
     "output_type": "stream",
     "text": [
      "\n"
     ]
    },
    {
     "name": "stderr",
     "output_type": "stream",
     "text": [
      "INFO:gurobipy:\n"
     ]
    },
    {
     "name": "stdout",
     "output_type": "stream",
     "text": [
      "Solved in 35099 iterations and 8.02 seconds (4.46 work units)\n"
     ]
    },
    {
     "name": "stderr",
     "output_type": "stream",
     "text": [
      "INFO:gurobipy:Solved in 35099 iterations and 8.02 seconds (4.46 work units)\n"
     ]
    },
    {
     "name": "stdout",
     "output_type": "stream",
     "text": [
      "Optimal objective  9.839223331e+09\n"
     ]
    },
    {
     "name": "stderr",
     "output_type": "stream",
     "text": [
      "INFO:gurobipy:Optimal objective  9.839223331e+09\n",
      "INFO:linopy.constants: Optimization successful: \n",
      "Status: ok\n",
      "Termination condition: optimal\n",
      "Solution: 735843 primals, 1655644 duals\n",
      "Objective: 9.84e+09\n",
      "Solver model: available\n",
      "Solver message: 2\n",
      "\n",
      "INFO:pypsa.optimization.optimize:The shadow-prices of the constraints Generator-fix-p-lower, Generator-fix-p-upper, Line-fix-s-lower, Line-fix-s-upper, Line-ext-s-lower, Line-ext-s-upper, StorageUnit-fix-p_dispatch-lower, StorageUnit-fix-p_dispatch-upper, StorageUnit-fix-p_store-lower, StorageUnit-fix-p_store-upper, StorageUnit-fix-state_of_charge-lower, StorageUnit-fix-state_of_charge-upper, Kirchhoff-Voltage-Law, StorageUnit-energy_balance were not assigned to the network.\n"
     ]
    },
    {
     "data": {
      "text/plain": [
       "('ok', 'optimal')"
      ]
     },
     "execution_count": 3,
     "metadata": {},
     "output_type": "execute_result"
    }
   ],
   "source": [
    "n_10node_connected.optimize(solver_name='gurobi')"
   ]
  },
  {
   "cell_type": "code",
   "execution_count": 4,
   "id": "2b3303d2",
   "metadata": {},
   "outputs": [],
   "source": [
    "def fix_artificial_lines_hardcoded(network):\n",
    "    \"\"\"\n",
    "    Fix artificial lines with hardcoded values to match existing non-extendable lines:\n",
    "    - s_nom = 442.4 (your desired capacity)\n",
    "    - s_nom_extendable = False\n",
    "    - s_nom_min = 0\n",
    "    - s_nom_max = inf\n",
    "    - extendable = False (if column exists)\n",
    "    \"\"\"\n",
    "    print(\"=== FIXING ARTIFICIAL LINES WITH HARDCODED VALUES ===\")\n",
    "    fixed_capacity=442.4\n",
    "\n",
    "    # Find artificial lines\n",
    "    artificial_lines = [line for line in network.lines.index\n",
    "                       if any(keyword in str(line).lower() for keyword in ['new', '<->', 'artificial'])]\n",
    "\n",
    "    print(f\"Found {len(artificial_lines)} artificial lines to fix:\")\n",
    "\n",
    "    # Fix each artificial line with hardcoded values\n",
    "    for line_name in artificial_lines:\n",
    "        print(f\"\\n🔧 Fixing: {line_name}\")\n",
    "\n",
    "        # s_nom = 442.4 (your fixed capacity)\n",
    "        old_s_nom = network.lines.loc[line_name, 's_nom']\n",
    "        network.lines.loc[line_name, 's_nom'] = fixed_capacity\n",
    "        print(f\"    s_nom: {old_s_nom} → {fixed_capacity}\")\n",
    "\n",
    "        # s_nom_extendable = False\n",
    "        if 's_nom_extendable' not in network.lines.columns:\n",
    "            network.lines['s_nom_extendable'] = False\n",
    "        network.lines.loc[line_name, 's_nom_extendable'] = False\n",
    "        print(f\"    s_nom_extendable: → False\")\n",
    "\n",
    "        # s_nom_min = 0\n",
    "        if 's_nom_min' not in network.lines.columns:\n",
    "            network.lines['s_nom_min'] = 0.0\n",
    "        network.lines.loc[line_name, 's_nom_min'] = 0.0\n",
    "        print(f\"    s_nom_min: → 0.0\")\n",
    "\n",
    "        # s_nom_max = inf\n",
    "        if 's_nom_max' not in network.lines.columns:\n",
    "            network.lines['s_nom_max'] = float('inf')\n",
    "        network.lines.loc[line_name, 's_nom_max'] = float('inf')\n",
    "        print(f\"    s_nom_max: → inf\")\n",
    "\n",
    "    return network"
   ]
  },
  {
   "cell_type": "code",
   "execution_count": 5,
   "id": "6a4d5b91",
   "metadata": {},
   "outputs": [
    {
     "name": "stderr",
     "output_type": "stream",
     "text": [
      "WARNING:pypsa.consistency:The following buses have carriers which are not defined:\n",
      "Index(['ZA0 0', 'ZA0 1', 'ZA0 2', 'ZA0 3', 'ZA0 4', 'ZA0 5', 'ZA0 6', 'ZA0 7',\n",
      "       'ZA0 8', 'ZA0 9', 'ZA1 0', 'ZA2 0', 'ZA3 0'],\n",
      "      dtype='object', name='Bus')\n",
      "WARNING:pypsa.consistency:The following lines have carriers which are not defined:\n",
      "Index(['0', '1', '10', '11', '12', '13', '14', '15', '2', '3', '4', '5', '6',\n",
      "       '7', '8', '9', 'lines new ZA0 4 <-> ZA2 0 AC',\n",
      "       'lines new ZA0 0 <-> ZA1 0 AC', 'lines new ZA0 0 <-> ZA3 0 AC'],\n",
      "      dtype='object', name='Line')\n",
      "WARNING:pypsa.consistency:The following sub_networks have carriers which are not defined:\n",
      "Index(['0'], dtype='object', name='SubNetwork')\n"
     ]
    },
    {
     "name": "stdout",
     "output_type": "stream",
     "text": [
      "=== FIXING ARTIFICIAL LINES WITH HARDCODED VALUES ===\n",
      "Found 3 artificial lines to fix:\n",
      "\n",
      "🔧 Fixing: lines new ZA0 4 <-> ZA2 0 AC\n",
      "    s_nom: 0.0 → 442.4\n",
      "    s_nom_extendable: → False\n",
      "    s_nom_min: → 0.0\n",
      "    s_nom_max: → inf\n",
      "\n",
      "🔧 Fixing: lines new ZA0 0 <-> ZA1 0 AC\n",
      "    s_nom: 0.0 → 442.4\n",
      "    s_nom_extendable: → False\n",
      "    s_nom_min: → 0.0\n",
      "    s_nom_max: → inf\n",
      "\n",
      "🔧 Fixing: lines new ZA0 0 <-> ZA3 0 AC\n",
      "    s_nom: 0.0 → 442.4\n",
      "    s_nom_extendable: → False\n",
      "    s_nom_min: → 0.0\n",
      "    s_nom_max: → inf\n"
     ]
    },
    {
     "name": "stderr",
     "output_type": "stream",
     "text": [
      "WARNING:pypsa.consistency:The following buses have carriers which are not defined:\n",
      "Index(['ZA0 0', 'ZA0 1', 'ZA0 2', 'ZA0 3', 'ZA0 4', 'ZA0 5', 'ZA0 6', 'ZA0 7',\n",
      "       'ZA0 8', 'ZA0 9', 'ZA1 0', 'ZA2 0', 'ZA3 0'],\n",
      "      dtype='object', name='Bus')\n",
      "WARNING:pypsa.consistency:The following lines have carriers which are not defined:\n",
      "Index(['0', '1', '10', '11', '12', '13', '14', '15', '2', '3', '4', '5', '6',\n",
      "       '7', '8', '9', 'lines new ZA0 4 <-> ZA2 0 AC',\n",
      "       'lines new ZA0 0 <-> ZA1 0 AC', 'lines new ZA0 0 <-> ZA3 0 AC'],\n",
      "      dtype='object', name='Line')\n",
      "WARNING:pypsa.consistency:The following sub_networks have carriers which are not defined:\n",
      "Index(['0'], dtype='object', name='SubNetwork')\n",
      "INFO:linopy.model: Solve problem using Gurobi solver\n",
      "INFO:linopy.io:Writing objective.\n",
      "Writing constraints.: 100%|\u001b[38;2;128;191;255m██████████\u001b[0m| 13/13 [00:07<00:00,  1.84it/s]\n",
      "Writing continuous variables.: 100%|\u001b[38;2;128;191;255m██████████\u001b[0m| 6/6 [00:01<00:00,  4.18it/s]\n",
      "INFO:linopy.io: Writing time: 9.15s\n"
     ]
    },
    {
     "name": "stdout",
     "output_type": "stream",
     "text": [
      "Set parameter Username\n"
     ]
    },
    {
     "name": "stderr",
     "output_type": "stream",
     "text": [
      "INFO:gurobipy:Set parameter Username\n"
     ]
    },
    {
     "name": "stdout",
     "output_type": "stream",
     "text": [
      "Set parameter LicenseID to value 2695191\n"
     ]
    },
    {
     "name": "stderr",
     "output_type": "stream",
     "text": [
      "INFO:gurobipy:Set parameter LicenseID to value 2695191\n"
     ]
    },
    {
     "name": "stdout",
     "output_type": "stream",
     "text": [
      "Academic license - for non-commercial use only - expires 2026-08-12\n"
     ]
    },
    {
     "name": "stderr",
     "output_type": "stream",
     "text": [
      "INFO:gurobipy:Academic license - for non-commercial use only - expires 2026-08-12\n"
     ]
    },
    {
     "name": "stdout",
     "output_type": "stream",
     "text": [
      "Read LP format model from file /private/var/folders/tt/b5q5vkxj6xvf2b6q1f46ytgw0000gn/T/linopy-problem-n7q3mdiy.lp\n"
     ]
    },
    {
     "name": "stderr",
     "output_type": "stream",
     "text": [
      "INFO:gurobipy:Read LP format model from file /private/var/folders/tt/b5q5vkxj6xvf2b6q1f46ytgw0000gn/T/linopy-problem-n7q3mdiy.lp\n"
     ]
    },
    {
     "name": "stdout",
     "output_type": "stream",
     "text": [
      "Reading time = 3.54 seconds\n"
     ]
    },
    {
     "name": "stderr",
     "output_type": "stream",
     "text": [
      "INFO:gurobipy:Reading time = 3.54 seconds\n"
     ]
    },
    {
     "name": "stdout",
     "output_type": "stream",
     "text": [
      "obj: 1655640 rows, 735840 columns, 2636760 nonzeros\n"
     ]
    },
    {
     "name": "stderr",
     "output_type": "stream",
     "text": [
      "INFO:gurobipy:obj: 1655640 rows, 735840 columns, 2636760 nonzeros\n"
     ]
    },
    {
     "name": "stdout",
     "output_type": "stream",
     "text": [
      "Gurobi Optimizer version 12.0.3 build v12.0.3rc0 (mac64[x86] - Darwin 24.6.0 24G84)\n"
     ]
    },
    {
     "name": "stderr",
     "output_type": "stream",
     "text": [
      "INFO:gurobipy:Gurobi Optimizer version 12.0.3 build v12.0.3rc0 (mac64[x86] - Darwin 24.6.0 24G84)\n"
     ]
    },
    {
     "name": "stdout",
     "output_type": "stream",
     "text": [
      "\n"
     ]
    },
    {
     "name": "stderr",
     "output_type": "stream",
     "text": [
      "INFO:gurobipy:\n"
     ]
    },
    {
     "name": "stdout",
     "output_type": "stream",
     "text": [
      "CPU model: Intel(R) Core(TM) i5-8279U CPU @ 2.40GHz\n"
     ]
    },
    {
     "name": "stderr",
     "output_type": "stream",
     "text": [
      "INFO:gurobipy:CPU model: Intel(R) Core(TM) i5-8279U CPU @ 2.40GHz\n"
     ]
    },
    {
     "name": "stdout",
     "output_type": "stream",
     "text": [
      "Thread count: 4 physical cores, 8 logical processors, using up to 8 threads\n"
     ]
    },
    {
     "name": "stderr",
     "output_type": "stream",
     "text": [
      "INFO:gurobipy:Thread count: 4 physical cores, 8 logical processors, using up to 8 threads\n"
     ]
    },
    {
     "name": "stdout",
     "output_type": "stream",
     "text": [
      "\n"
     ]
    },
    {
     "name": "stderr",
     "output_type": "stream",
     "text": [
      "INFO:gurobipy:\n"
     ]
    },
    {
     "name": "stdout",
     "output_type": "stream",
     "text": [
      "Optimize a model with 1655640 rows, 735840 columns and 2636760 nonzeros\n"
     ]
    },
    {
     "name": "stderr",
     "output_type": "stream",
     "text": [
      "INFO:gurobipy:Optimize a model with 1655640 rows, 735840 columns and 2636760 nonzeros\n"
     ]
    },
    {
     "name": "stdout",
     "output_type": "stream",
     "text": [
      "Model fingerprint: 0xf032452b\n"
     ]
    },
    {
     "name": "stderr",
     "output_type": "stream",
     "text": [
      "INFO:gurobipy:Model fingerprint: 0xf032452b\n"
     ]
    },
    {
     "name": "stdout",
     "output_type": "stream",
     "text": [
      "Coefficient statistics:\n"
     ]
    },
    {
     "name": "stderr",
     "output_type": "stream",
     "text": [
      "INFO:gurobipy:Coefficient statistics:\n"
     ]
    },
    {
     "name": "stdout",
     "output_type": "stream",
     "text": [
      "  Matrix range     [9e-01, 4e+02]\n"
     ]
    },
    {
     "name": "stderr",
     "output_type": "stream",
     "text": [
      "INFO:gurobipy:  Matrix range     [9e-01, 4e+02]\n"
     ]
    },
    {
     "name": "stdout",
     "output_type": "stream",
     "text": [
      "  Objective range  [1e-02, 5e+01]\n"
     ]
    },
    {
     "name": "stderr",
     "output_type": "stream",
     "text": [
      "INFO:gurobipy:  Objective range  [1e-02, 5e+01]\n"
     ]
    },
    {
     "name": "stdout",
     "output_type": "stream",
     "text": [
      "  Bounds range     [2e+00, 1e+03]\n"
     ]
    },
    {
     "name": "stderr",
     "output_type": "stream",
     "text": [
      "INFO:gurobipy:  Bounds range     [2e+00, 1e+03]\n"
     ]
    },
    {
     "name": "stdout",
     "output_type": "stream",
     "text": [
      "  RHS range        [8e-05, 2e+06]\n"
     ]
    },
    {
     "name": "stderr",
     "output_type": "stream",
     "text": [
      "INFO:gurobipy:  RHS range        [8e-05, 2e+06]\n"
     ]
    },
    {
     "name": "stdout",
     "output_type": "stream",
     "text": [
      "Presolve removed 1454160 rows and 194732 columns\n"
     ]
    },
    {
     "name": "stderr",
     "output_type": "stream",
     "text": [
      "INFO:gurobipy:Presolve removed 1454160 rows and 194732 columns\n"
     ]
    },
    {
     "name": "stdout",
     "output_type": "stream",
     "text": [
      "Presolve time: 0.67s\n"
     ]
    },
    {
     "name": "stderr",
     "output_type": "stream",
     "text": [
      "INFO:gurobipy:Presolve time: 0.67s\n"
     ]
    },
    {
     "name": "stdout",
     "output_type": "stream",
     "text": [
      "\n"
     ]
    },
    {
     "name": "stderr",
     "output_type": "stream",
     "text": [
      "INFO:gurobipy:\n"
     ]
    },
    {
     "name": "stdout",
     "output_type": "stream",
     "text": [
      "Solved in 0 iterations and 0.67 seconds (0.27 work units)\n"
     ]
    },
    {
     "name": "stderr",
     "output_type": "stream",
     "text": [
      "INFO:gurobipy:Solved in 0 iterations and 0.67 seconds (0.27 work units)\n"
     ]
    },
    {
     "name": "stdout",
     "output_type": "stream",
     "text": [
      "Infeasible or unbounded model\n"
     ]
    },
    {
     "name": "stderr",
     "output_type": "stream",
     "text": [
      "INFO:gurobipy:Infeasible or unbounded model\n",
      "INFO:linopy.solvers:Unable to save solution file. Raised error: Unable to retrieve attribute 'X'\n",
      "WARNING:linopy.constants:Optimization potentially failed: \n",
      "Status: warning\n",
      "Termination condition: infeasible_or_unbounded\n",
      "Solution: 0 primals, 0 duals\n",
      "Objective: nan\n",
      "Solver model: available\n",
      "Solver message: 4\n",
      "\n"
     ]
    },
    {
     "data": {
      "text/plain": [
       "('warning', 'infeasible_or_unbounded')"
      ]
     },
     "execution_count": 5,
     "metadata": {},
     "output_type": "execute_result"
    }
   ],
   "source": [
    "fix_artificial_lines_hardcoded(n_10node_connected)\n",
    "n_10node_connected.optimize(solver_name='gurobi')"
   ]
  },
  {
   "cell_type": "code",
   "execution_count": 32,
   "id": "f7da7978",
   "metadata": {},
   "outputs": [
    {
     "name": "stderr",
     "output_type": "stream",
     "text": [
      "WARNING:pypsa.consistency:The following sub_networks have carriers which are not defined:\n",
      "Index(['0'], dtype='object', name='SubNetwork')\n",
      "WARNING:pypsa.consistency:The following lines have carriers which are not defined:\n",
      "Index(['0', '1', '10', '11', '12', '13', '14', '15', '2', '3', '4', '5', '6',\n",
      "       '7', '8', '9', 'lines new ZA0 4 <-> ZA2 0 AC',\n",
      "       'lines new ZA0 0 <-> ZA1 0 AC', 'lines new ZA0 0 <-> ZA3 0 AC'],\n",
      "      dtype='object', name='Line')\n",
      "WARNING:pypsa.consistency:The following buses have carriers which are not defined:\n",
      "Index(['ZA0 0', 'ZA0 1', 'ZA0 2', 'ZA0 3', 'ZA0 4', 'ZA0 5', 'ZA0 6', 'ZA0 7',\n",
      "       'ZA0 8', 'ZA0 9', 'ZA1 0', 'ZA2 0', 'ZA3 0'],\n",
      "      dtype='object', name='Bus')\n",
      "WARNING:pypsa.consistency:The following sub_networks have carriers which are not defined:\n",
      "Index(['0'], dtype='object', name='SubNetwork')\n",
      "WARNING:pypsa.consistency:The following lines have carriers which are not defined:\n",
      "Index(['0', '1', '10', '11', '12', '13', '14', '15', '2', '3', '4', '5', '6',\n",
      "       '7', '8', '9', 'lines new ZA0 4 <-> ZA2 0 AC',\n",
      "       'lines new ZA0 0 <-> ZA1 0 AC', 'lines new ZA0 0 <-> ZA3 0 AC'],\n",
      "      dtype='object', name='Line')\n",
      "WARNING:pypsa.consistency:The following buses have carriers which are not defined:\n",
      "Index(['ZA0 0', 'ZA0 1', 'ZA0 2', 'ZA0 3', 'ZA0 4', 'ZA0 5', 'ZA0 6', 'ZA0 7',\n",
      "       'ZA0 8', 'ZA0 9', 'ZA1 0', 'ZA2 0', 'ZA3 0'],\n",
      "      dtype='object', name='Bus')\n",
      "INFO:linopy.model: Solve problem using Gurobi solver\n",
      "INFO:linopy.io:Writing objective.\n",
      "Writing constraints.: 100%|\u001b[38;2;128;191;255m██████████\u001b[0m| 18/18 [00:06<00:00,  2.70it/s]\n",
      "Writing continuous variables.: 100%|\u001b[38;2;128;191;255m██████████\u001b[0m| 7/7 [00:01<00:00,  6.23it/s]\n",
      "INFO:linopy.io: Writing time: 8.42s\n"
     ]
    },
    {
     "name": "stdout",
     "output_type": "stream",
     "text": [
      "Set parameter Username\n"
     ]
    },
    {
     "name": "stderr",
     "output_type": "stream",
     "text": [
      "INFO:gurobipy:Set parameter Username\n"
     ]
    },
    {
     "name": "stdout",
     "output_type": "stream",
     "text": [
      "Set parameter LicenseID to value 2695191\n"
     ]
    },
    {
     "name": "stderr",
     "output_type": "stream",
     "text": [
      "INFO:gurobipy:Set parameter LicenseID to value 2695191\n"
     ]
    },
    {
     "name": "stdout",
     "output_type": "stream",
     "text": [
      "Academic license - for non-commercial use only - expires 2026-08-12\n"
     ]
    },
    {
     "name": "stderr",
     "output_type": "stream",
     "text": [
      "INFO:gurobipy:Academic license - for non-commercial use only - expires 2026-08-12\n"
     ]
    },
    {
     "name": "stdout",
     "output_type": "stream",
     "text": [
      "Read LP format model from file /private/var/folders/tt/b5q5vkxj6xvf2b6q1f46ytgw0000gn/T/linopy-problem-xlvx86yn.lp\n"
     ]
    },
    {
     "name": "stderr",
     "output_type": "stream",
     "text": [
      "INFO:gurobipy:Read LP format model from file /private/var/folders/tt/b5q5vkxj6xvf2b6q1f46ytgw0000gn/T/linopy-problem-xlvx86yn.lp\n"
     ]
    },
    {
     "name": "stdout",
     "output_type": "stream",
     "text": [
      "Reading time = 3.78 seconds\n"
     ]
    },
    {
     "name": "stderr",
     "output_type": "stream",
     "text": [
      "INFO:gurobipy:Reading time = 3.78 seconds\n"
     ]
    },
    {
     "name": "stdout",
     "output_type": "stream",
     "text": [
      "obj: 1655644 rows, 735843 columns, 2689326 nonzeros\n"
     ]
    },
    {
     "name": "stderr",
     "output_type": "stream",
     "text": [
      "INFO:gurobipy:obj: 1655644 rows, 735843 columns, 2689326 nonzeros\n"
     ]
    },
    {
     "name": "stdout",
     "output_type": "stream",
     "text": [
      "Gurobi Optimizer version 12.0.3 build v12.0.3rc0 (mac64[x86] - Darwin 24.6.0 24G84)\n"
     ]
    },
    {
     "name": "stderr",
     "output_type": "stream",
     "text": [
      "INFO:gurobipy:Gurobi Optimizer version 12.0.3 build v12.0.3rc0 (mac64[x86] - Darwin 24.6.0 24G84)\n"
     ]
    },
    {
     "name": "stdout",
     "output_type": "stream",
     "text": [
      "\n"
     ]
    },
    {
     "name": "stderr",
     "output_type": "stream",
     "text": [
      "INFO:gurobipy:\n"
     ]
    },
    {
     "name": "stdout",
     "output_type": "stream",
     "text": [
      "CPU model: Intel(R) Core(TM) i5-8279U CPU @ 2.40GHz\n"
     ]
    },
    {
     "name": "stderr",
     "output_type": "stream",
     "text": [
      "INFO:gurobipy:CPU model: Intel(R) Core(TM) i5-8279U CPU @ 2.40GHz\n"
     ]
    },
    {
     "name": "stdout",
     "output_type": "stream",
     "text": [
      "Thread count: 4 physical cores, 8 logical processors, using up to 8 threads\n"
     ]
    },
    {
     "name": "stderr",
     "output_type": "stream",
     "text": [
      "INFO:gurobipy:Thread count: 4 physical cores, 8 logical processors, using up to 8 threads\n"
     ]
    },
    {
     "name": "stdout",
     "output_type": "stream",
     "text": [
      "\n"
     ]
    },
    {
     "name": "stderr",
     "output_type": "stream",
     "text": [
      "INFO:gurobipy:\n"
     ]
    },
    {
     "name": "stdout",
     "output_type": "stream",
     "text": [
      "Optimize a model with 1655644 rows, 735843 columns and 2689326 nonzeros\n"
     ]
    },
    {
     "name": "stderr",
     "output_type": "stream",
     "text": [
      "INFO:gurobipy:Optimize a model with 1655644 rows, 735843 columns and 2689326 nonzeros\n"
     ]
    },
    {
     "name": "stdout",
     "output_type": "stream",
     "text": [
      "Model fingerprint: 0xa33aa24f\n"
     ]
    },
    {
     "name": "stderr",
     "output_type": "stream",
     "text": [
      "INFO:gurobipy:Model fingerprint: 0xa33aa24f\n"
     ]
    },
    {
     "name": "stdout",
     "output_type": "stream",
     "text": [
      "Coefficient statistics:\n"
     ]
    },
    {
     "name": "stderr",
     "output_type": "stream",
     "text": [
      "INFO:gurobipy:Coefficient statistics:\n"
     ]
    },
    {
     "name": "stdout",
     "output_type": "stream",
     "text": [
      "  Matrix range     [7e-01, 1e+04]\n"
     ]
    },
    {
     "name": "stderr",
     "output_type": "stream",
     "text": [
      "INFO:gurobipy:  Matrix range     [7e-01, 1e+04]\n"
     ]
    },
    {
     "name": "stdout",
     "output_type": "stream",
     "text": [
      "  Objective range  [1e-02, 1e+04]\n"
     ]
    },
    {
     "name": "stderr",
     "output_type": "stream",
     "text": [
      "INFO:gurobipy:  Objective range  [1e-02, 1e+04]\n"
     ]
    },
    {
     "name": "stdout",
     "output_type": "stream",
     "text": [
      "  Bounds range     [2e+00, 1e+03]\n"
     ]
    },
    {
     "name": "stderr",
     "output_type": "stream",
     "text": [
      "INFO:gurobipy:  Bounds range     [2e+00, 1e+03]\n"
     ]
    },
    {
     "name": "stdout",
     "output_type": "stream",
     "text": [
      "  RHS range        [8e-05, 8e+09]\n"
     ]
    },
    {
     "name": "stderr",
     "output_type": "stream",
     "text": [
      "INFO:gurobipy:  RHS range        [8e-05, 8e+09]\n"
     ]
    },
    {
     "name": "stdout",
     "output_type": "stream",
     "text": [
      "Warning: Model contains large rhs\n"
     ]
    },
    {
     "name": "stderr",
     "output_type": "stream",
     "text": [
      "INFO:gurobipy:Warning: Model contains large rhs\n"
     ]
    },
    {
     "name": "stdout",
     "output_type": "stream",
     "text": [
      "         Consider reformulating model or setting NumericFocus parameter\n"
     ]
    },
    {
     "name": "stderr",
     "output_type": "stream",
     "text": [
      "INFO:gurobipy:         Consider reformulating model or setting NumericFocus parameter\n"
     ]
    },
    {
     "name": "stdout",
     "output_type": "stream",
     "text": [
      "         to avoid numerical issues.\n"
     ]
    },
    {
     "name": "stderr",
     "output_type": "stream",
     "text": [
      "INFO:gurobipy:         to avoid numerical issues.\n"
     ]
    },
    {
     "name": "stdout",
     "output_type": "stream",
     "text": [
      "Presolve removed 1563299 rows and 369191 columns\n"
     ]
    },
    {
     "name": "stderr",
     "output_type": "stream",
     "text": [
      "INFO:gurobipy:Presolve removed 1563299 rows and 369191 columns\n"
     ]
    },
    {
     "name": "stdout",
     "output_type": "stream",
     "text": [
      "Presolve time: 2.61s\n"
     ]
    },
    {
     "name": "stderr",
     "output_type": "stream",
     "text": [
      "INFO:gurobipy:Presolve time: 2.61s\n"
     ]
    },
    {
     "name": "stdout",
     "output_type": "stream",
     "text": [
      "Presolved: 92345 rows, 366652 columns, 720799 nonzeros\n"
     ]
    },
    {
     "name": "stderr",
     "output_type": "stream",
     "text": [
      "INFO:gurobipy:Presolved: 92345 rows, 366652 columns, 720799 nonzeros\n"
     ]
    },
    {
     "name": "stdout",
     "output_type": "stream",
     "text": [
      "\n"
     ]
    },
    {
     "name": "stderr",
     "output_type": "stream",
     "text": [
      "INFO:gurobipy:\n"
     ]
    },
    {
     "name": "stdout",
     "output_type": "stream",
     "text": [
      "Concurrent LP optimizer: dual simplex and barrier\n"
     ]
    },
    {
     "name": "stderr",
     "output_type": "stream",
     "text": [
      "INFO:gurobipy:Concurrent LP optimizer: dual simplex and barrier\n"
     ]
    },
    {
     "name": "stdout",
     "output_type": "stream",
     "text": [
      "Showing barrier log only...\n"
     ]
    },
    {
     "name": "stderr",
     "output_type": "stream",
     "text": [
      "INFO:gurobipy:Showing barrier log only...\n"
     ]
    },
    {
     "name": "stdout",
     "output_type": "stream",
     "text": [
      "\n"
     ]
    },
    {
     "name": "stderr",
     "output_type": "stream",
     "text": [
      "INFO:gurobipy:\n"
     ]
    },
    {
     "name": "stdout",
     "output_type": "stream",
     "text": [
      "Ordering time: 0.08s\n"
     ]
    },
    {
     "name": "stderr",
     "output_type": "stream",
     "text": [
      "INFO:gurobipy:Ordering time: 0.08s\n"
     ]
    },
    {
     "name": "stdout",
     "output_type": "stream",
     "text": [
      "\n"
     ]
    },
    {
     "name": "stderr",
     "output_type": "stream",
     "text": [
      "INFO:gurobipy:\n"
     ]
    },
    {
     "name": "stdout",
     "output_type": "stream",
     "text": [
      "Barrier statistics:\n"
     ]
    },
    {
     "name": "stderr",
     "output_type": "stream",
     "text": [
      "INFO:gurobipy:Barrier statistics:\n"
     ]
    },
    {
     "name": "stdout",
     "output_type": "stream",
     "text": [
      " AA' NZ     : 2.953e+05\n"
     ]
    },
    {
     "name": "stderr",
     "output_type": "stream",
     "text": [
      "INFO:gurobipy: AA' NZ     : 2.953e+05\n"
     ]
    },
    {
     "name": "stdout",
     "output_type": "stream",
     "text": [
      " Factor NZ  : 6.063e+05 (roughly 200 MB of memory)\n"
     ]
    },
    {
     "name": "stderr",
     "output_type": "stream",
     "text": [
      "INFO:gurobipy: Factor NZ  : 6.063e+05 (roughly 200 MB of memory)\n"
     ]
    },
    {
     "name": "stdout",
     "output_type": "stream",
     "text": [
      " Factor Ops : 4.948e+06 (less than 1 second per iteration)\n"
     ]
    },
    {
     "name": "stderr",
     "output_type": "stream",
     "text": [
      "INFO:gurobipy: Factor Ops : 4.948e+06 (less than 1 second per iteration)\n"
     ]
    },
    {
     "name": "stdout",
     "output_type": "stream",
     "text": [
      " Threads    : 3\n"
     ]
    },
    {
     "name": "stderr",
     "output_type": "stream",
     "text": [
      "INFO:gurobipy: Threads    : 3\n"
     ]
    },
    {
     "name": "stdout",
     "output_type": "stream",
     "text": [
      "\n"
     ]
    },
    {
     "name": "stderr",
     "output_type": "stream",
     "text": [
      "INFO:gurobipy:\n"
     ]
    },
    {
     "name": "stdout",
     "output_type": "stream",
     "text": [
      "                  Objective                Residual\n"
     ]
    },
    {
     "name": "stderr",
     "output_type": "stream",
     "text": [
      "INFO:gurobipy:                  Objective                Residual\n"
     ]
    },
    {
     "name": "stdout",
     "output_type": "stream",
     "text": [
      "Iter       Primal          Dual         Primal    Dual     Compl     Time\n"
     ]
    },
    {
     "name": "stderr",
     "output_type": "stream",
     "text": [
      "INFO:gurobipy:Iter       Primal          Dual         Primal    Dual     Compl     Time\n"
     ]
    },
    {
     "name": "stdout",
     "output_type": "stream",
     "text": [
      "   0   1.61438852e+12 -3.05947217e+14  1.75e+06 1.82e-12  4.05e+09     3s\n"
     ]
    },
    {
     "name": "stderr",
     "output_type": "stream",
     "text": [
      "INFO:gurobipy:   0   1.61438852e+12 -3.05947217e+14  1.75e+06 1.82e-12  4.05e+09     3s\n"
     ]
    },
    {
     "name": "stdout",
     "output_type": "stream",
     "text": [
      "   1   6.36723640e+10 -4.67042621e+13  5.73e+04 1.41e-11  1.77e+08     3s\n"
     ]
    },
    {
     "name": "stderr",
     "output_type": "stream",
     "text": [
      "INFO:gurobipy:   1   6.36723640e+10 -4.67042621e+13  5.73e+04 1.41e-11  1.77e+08     3s\n"
     ]
    },
    {
     "name": "stdout",
     "output_type": "stream",
     "text": [
      "   2   1.23166007e+10 -5.99001260e+12  3.26e+03 1.51e-11  1.35e+07     3s\n"
     ]
    },
    {
     "name": "stderr",
     "output_type": "stream",
     "text": [
      "INFO:gurobipy:   2   1.23166007e+10 -5.99001260e+12  3.26e+03 1.51e-11  1.35e+07     3s\n"
     ]
    },
    {
     "name": "stdout",
     "output_type": "stream",
     "text": [
      "   3   1.07615796e+10 -6.91583947e+11  2.87e+02 3.04e-10  1.31e+06     4s\n"
     ]
    },
    {
     "name": "stderr",
     "output_type": "stream",
     "text": [
      "INFO:gurobipy:   3   1.07615796e+10 -6.91583947e+11  2.87e+02 3.04e-10  1.31e+06     4s\n"
     ]
    },
    {
     "name": "stdout",
     "output_type": "stream",
     "text": [
      "   4   1.05249657e+10 -3.57959260e+10  1.05e+01 2.91e-11  6.93e+04     4s\n"
     ]
    },
    {
     "name": "stderr",
     "output_type": "stream",
     "text": [
      "INFO:gurobipy:   4   1.05249657e+10 -3.57959260e+10  1.05e+01 2.91e-11  6.93e+04     4s\n"
     ]
    },
    {
     "name": "stdout",
     "output_type": "stream",
     "text": [
      "   5   1.04331746e+10  3.83487531e+09  6.33e-01 1.15e-11  9.11e+03     4s\n"
     ]
    },
    {
     "name": "stderr",
     "output_type": "stream",
     "text": [
      "INFO:gurobipy:   5   1.04331746e+10  3.83487531e+09  6.33e-01 1.15e-11  9.11e+03     4s\n"
     ]
    },
    {
     "name": "stdout",
     "output_type": "stream",
     "text": [
      "   6   1.01995075e+10  7.70294487e+09  1.82e-01 8.66e-12  3.42e+03     4s\n"
     ]
    },
    {
     "name": "stderr",
     "output_type": "stream",
     "text": [
      "INFO:gurobipy:   6   1.01995075e+10  7.70294487e+09  1.82e-01 8.66e-12  3.42e+03     4s\n"
     ]
    },
    {
     "name": "stdout",
     "output_type": "stream",
     "text": [
      "   7   1.00584000e+10  8.94861474e+09  5.89e-02 5.97e-12  1.52e+03     4s\n"
     ]
    },
    {
     "name": "stderr",
     "output_type": "stream",
     "text": [
      "INFO:gurobipy:   7   1.00584000e+10  8.94861474e+09  5.89e-02 5.97e-12  1.52e+03     4s\n"
     ]
    },
    {
     "name": "stdout",
     "output_type": "stream",
     "text": [
      "   8   9.94936174e+09  9.44545275e+09  1.54e-02 8.44e-12  6.87e+02     4s\n"
     ]
    },
    {
     "name": "stderr",
     "output_type": "stream",
     "text": [
      "INFO:gurobipy:   8   9.94936174e+09  9.44545275e+09  1.54e-02 8.44e-12  6.87e+02     4s\n"
     ]
    },
    {
     "name": "stdout",
     "output_type": "stream",
     "text": [
      "   9   9.87576081e+09  9.65427305e+09  2.71e-03 7.86e-12  3.02e+02     4s\n"
     ]
    },
    {
     "name": "stderr",
     "output_type": "stream",
     "text": [
      "INFO:gurobipy:   9   9.87576081e+09  9.65427305e+09  2.71e-03 7.86e-12  3.02e+02     4s\n"
     ]
    },
    {
     "name": "stdout",
     "output_type": "stream",
     "text": [
      "  10   9.86725968e+09  9.69202039e+09  1.85e-03 7.86e-12  2.39e+02     4s\n"
     ]
    },
    {
     "name": "stderr",
     "output_type": "stream",
     "text": [
      "INFO:gurobipy:  10   9.86725968e+09  9.69202039e+09  1.85e-03 7.86e-12  2.39e+02     4s\n"
     ]
    },
    {
     "name": "stdout",
     "output_type": "stream",
     "text": [
      "  11   9.86544678e+09  9.70763717e+09  1.70e-03 7.86e-12  2.15e+02     5s\n"
     ]
    },
    {
     "name": "stderr",
     "output_type": "stream",
     "text": [
      "INFO:gurobipy:  11   9.86544678e+09  9.70763717e+09  1.70e-03 7.86e-12  2.15e+02     5s\n"
     ]
    },
    {
     "name": "stdout",
     "output_type": "stream",
     "text": [
      "  12   9.86418114e+09  9.71651688e+09  1.59e-03 4.80e-12  2.01e+02     5s\n"
     ]
    },
    {
     "name": "stderr",
     "output_type": "stream",
     "text": [
      "INFO:gurobipy:  12   9.86418114e+09  9.71651688e+09  1.59e-03 4.80e-12  2.01e+02     5s\n"
     ]
    },
    {
     "name": "stdout",
     "output_type": "stream",
     "text": [
      "  13   9.85816747e+09  9.74922581e+09  1.10e-03 4.22e-12  1.49e+02     5s\n"
     ]
    },
    {
     "name": "stderr",
     "output_type": "stream",
     "text": [
      "INFO:gurobipy:  13   9.85816747e+09  9.74922581e+09  1.10e-03 4.22e-12  1.49e+02     5s\n"
     ]
    },
    {
     "name": "stdout",
     "output_type": "stream",
     "text": [
      "  14   9.84517738e+09  9.82063987e+09  1.94e-04 5.06e-12  3.35e+01     5s\n"
     ]
    },
    {
     "name": "stderr",
     "output_type": "stream",
     "text": [
      "INFO:gurobipy:  14   9.84517738e+09  9.82063987e+09  1.94e-04 5.06e-12  3.35e+01     5s\n"
     ]
    },
    {
     "name": "stdout",
     "output_type": "stream",
     "text": [
      "  15   9.83975954e+09  9.83859900e+09  3.56e-05 2.40e-12  1.58e+00     5s\n"
     ]
    },
    {
     "name": "stderr",
     "output_type": "stream",
     "text": [
      "INFO:gurobipy:  15   9.83975954e+09  9.83859900e+09  3.56e-05 2.40e-12  1.58e+00     5s\n"
     ]
    },
    {
     "name": "stdout",
     "output_type": "stream",
     "text": [
      "  16   9.83923968e+09  9.83919849e+09  1.21e-05 5.82e-13  5.62e-02     5s\n"
     ]
    },
    {
     "name": "stderr",
     "output_type": "stream",
     "text": [
      "INFO:gurobipy:  16   9.83923968e+09  9.83919849e+09  1.21e-05 5.82e-13  5.62e-02     5s\n"
     ]
    },
    {
     "name": "stdout",
     "output_type": "stream",
     "text": [
      "  17   9.83922352e+09  9.83922011e+09  2.08e-05 8.88e-11  4.65e-03     5s\n"
     ]
    },
    {
     "name": "stderr",
     "output_type": "stream",
     "text": [
      "INFO:gurobipy:  17   9.83922352e+09  9.83922011e+09  2.08e-05 8.88e-11  4.65e-03     5s\n"
     ]
    },
    {
     "name": "stdout",
     "output_type": "stream",
     "text": [
      "  18   9.83922334e+09  9.83922331e+09  3.39e-07 3.24e-11  3.95e-05     6s\n"
     ]
    },
    {
     "name": "stderr",
     "output_type": "stream",
     "text": [
      "INFO:gurobipy:  18   9.83922334e+09  9.83922331e+09  3.39e-07 3.24e-11  3.95e-05     6s\n"
     ]
    },
    {
     "name": "stdout",
     "output_type": "stream",
     "text": [
      "  19   9.83922333e+09  9.83922333e+09  1.61e-07 4.80e-12  2.04e-09     6s\n"
     ]
    },
    {
     "name": "stderr",
     "output_type": "stream",
     "text": [
      "INFO:gurobipy:  19   9.83922333e+09  9.83922333e+09  1.61e-07 4.80e-12  2.04e-09     6s\n"
     ]
    },
    {
     "name": "stdout",
     "output_type": "stream",
     "text": [
      "\n"
     ]
    },
    {
     "name": "stderr",
     "output_type": "stream",
     "text": [
      "INFO:gurobipy:\n"
     ]
    },
    {
     "name": "stdout",
     "output_type": "stream",
     "text": [
      "Barrier solved model in 19 iterations and 5.67 seconds (3.37 work units)\n"
     ]
    },
    {
     "name": "stderr",
     "output_type": "stream",
     "text": [
      "INFO:gurobipy:Barrier solved model in 19 iterations and 5.67 seconds (3.37 work units)\n"
     ]
    },
    {
     "name": "stdout",
     "output_type": "stream",
     "text": [
      "Optimal objective 9.83922333e+09\n"
     ]
    },
    {
     "name": "stderr",
     "output_type": "stream",
     "text": [
      "INFO:gurobipy:Optimal objective 9.83922333e+09\n"
     ]
    },
    {
     "name": "stdout",
     "output_type": "stream",
     "text": [
      "\n"
     ]
    },
    {
     "name": "stderr",
     "output_type": "stream",
     "text": [
      "INFO:gurobipy:\n"
     ]
    },
    {
     "name": "stdout",
     "output_type": "stream",
     "text": [
      "Crossover log...\n"
     ]
    },
    {
     "name": "stderr",
     "output_type": "stream",
     "text": [
      "INFO:gurobipy:Crossover log...\n"
     ]
    },
    {
     "name": "stdout",
     "output_type": "stream",
     "text": [
      "\n"
     ]
    },
    {
     "name": "stderr",
     "output_type": "stream",
     "text": [
      "INFO:gurobipy:\n"
     ]
    },
    {
     "name": "stdout",
     "output_type": "stream",
     "text": [
      "      56 DPushes remaining with DInf 0.0000000e+00                 6s\n"
     ]
    },
    {
     "name": "stderr",
     "output_type": "stream",
     "text": [
      "INFO:gurobipy:      56 DPushes remaining with DInf 0.0000000e+00                 6s\n"
     ]
    },
    {
     "name": "stdout",
     "output_type": "stream",
     "text": [
      "       0 DPushes remaining with DInf 0.0000000e+00                 6s\n"
     ]
    },
    {
     "name": "stderr",
     "output_type": "stream",
     "text": [
      "INFO:gurobipy:       0 DPushes remaining with DInf 0.0000000e+00                 6s\n"
     ]
    },
    {
     "name": "stdout",
     "output_type": "stream",
     "text": [
      "\n"
     ]
    },
    {
     "name": "stderr",
     "output_type": "stream",
     "text": [
      "INFO:gurobipy:\n"
     ]
    },
    {
     "name": "stdout",
     "output_type": "stream",
     "text": [
      "   35043 PPushes remaining with PInf 0.0000000e+00                 6s\n"
     ]
    },
    {
     "name": "stderr",
     "output_type": "stream",
     "text": [
      "INFO:gurobipy:   35043 PPushes remaining with PInf 0.0000000e+00                 6s\n"
     ]
    },
    {
     "name": "stdout",
     "output_type": "stream",
     "text": [
      "       0 PPushes remaining with PInf 0.0000000e+00                 7s\n"
     ]
    },
    {
     "name": "stderr",
     "output_type": "stream",
     "text": [
      "INFO:gurobipy:       0 PPushes remaining with PInf 0.0000000e+00                 7s\n"
     ]
    },
    {
     "name": "stdout",
     "output_type": "stream",
     "text": [
      "\n"
     ]
    },
    {
     "name": "stderr",
     "output_type": "stream",
     "text": [
      "INFO:gurobipy:\n"
     ]
    },
    {
     "name": "stdout",
     "output_type": "stream",
     "text": [
      "  Push phase complete: Pinf 0.0000000e+00, Dinf 2.7462052e-10      7s\n"
     ]
    },
    {
     "name": "stderr",
     "output_type": "stream",
     "text": [
      "INFO:gurobipy:  Push phase complete: Pinf 0.0000000e+00, Dinf 2.7462052e-10      7s\n"
     ]
    },
    {
     "name": "stdout",
     "output_type": "stream",
     "text": [
      "\n"
     ]
    },
    {
     "name": "stderr",
     "output_type": "stream",
     "text": [
      "INFO:gurobipy:\n"
     ]
    },
    {
     "name": "stdout",
     "output_type": "stream",
     "text": [
      "\n"
     ]
    },
    {
     "name": "stderr",
     "output_type": "stream",
     "text": [
      "INFO:gurobipy:\n"
     ]
    },
    {
     "name": "stdout",
     "output_type": "stream",
     "text": [
      "Solved with barrier\n"
     ]
    },
    {
     "name": "stderr",
     "output_type": "stream",
     "text": [
      "INFO:gurobipy:Solved with barrier\n"
     ]
    },
    {
     "name": "stdout",
     "output_type": "stream",
     "text": [
      "Iteration    Objective       Primal Inf.    Dual Inf.      Time\n"
     ]
    },
    {
     "name": "stderr",
     "output_type": "stream",
     "text": [
      "INFO:gurobipy:Iteration    Objective       Primal Inf.    Dual Inf.      Time\n"
     ]
    },
    {
     "name": "stdout",
     "output_type": "stream",
     "text": [
      "   35099    9.8392233e+09   0.000000e+00   0.000000e+00      8s\n"
     ]
    },
    {
     "name": "stderr",
     "output_type": "stream",
     "text": [
      "INFO:gurobipy:   35099    9.8392233e+09   0.000000e+00   0.000000e+00      8s\n"
     ]
    },
    {
     "name": "stdout",
     "output_type": "stream",
     "text": [
      "\n"
     ]
    },
    {
     "name": "stderr",
     "output_type": "stream",
     "text": [
      "INFO:gurobipy:\n"
     ]
    },
    {
     "name": "stdout",
     "output_type": "stream",
     "text": [
      "Solved in 35099 iterations and 8.13 seconds (4.46 work units)\n"
     ]
    },
    {
     "name": "stderr",
     "output_type": "stream",
     "text": [
      "INFO:gurobipy:Solved in 35099 iterations and 8.13 seconds (4.46 work units)\n"
     ]
    },
    {
     "name": "stdout",
     "output_type": "stream",
     "text": [
      "Optimal objective  9.839223331e+09\n"
     ]
    },
    {
     "name": "stderr",
     "output_type": "stream",
     "text": [
      "INFO:gurobipy:Optimal objective  9.839223331e+09\n",
      "INFO:linopy.constants: Optimization successful: \n",
      "Status: ok\n",
      "Termination condition: optimal\n",
      "Solution: 735843 primals, 1655644 duals\n",
      "Objective: 9.84e+09\n",
      "Solver model: available\n",
      "Solver message: 2\n",
      "\n",
      "INFO:pypsa.optimization.optimize:The shadow-prices of the constraints Generator-fix-p-lower, Generator-fix-p-upper, Line-fix-s-lower, Line-fix-s-upper, Line-ext-s-lower, Line-ext-s-upper, StorageUnit-fix-p_dispatch-lower, StorageUnit-fix-p_dispatch-upper, StorageUnit-fix-p_store-lower, StorageUnit-fix-p_store-upper, StorageUnit-fix-state_of_charge-lower, StorageUnit-fix-state_of_charge-upper, Kirchhoff-Voltage-Law, StorageUnit-energy_balance were not assigned to the network.\n"
     ]
    },
    {
     "data": {
      "text/plain": [
       "('ok', 'optimal')"
      ]
     },
     "execution_count": 32,
     "metadata": {},
     "output_type": "execute_result"
    }
   ],
   "source": [
    "n_10node_connected.optimize(solver_name='gurobi')"
   ]
  },
  {
   "cell_type": "code",
   "execution_count": null,
   "id": "357be345",
   "metadata": {},
   "outputs": [
    {
     "name": "stderr",
     "output_type": "stream",
     "text": [
      "WARNING:pypsa.io:The following Transformer have buses which are not defined:\n",
      "Index(['transf_0_0', 'transf_0_1', 'transf_0_2', 'transf_2_0', 'transf_2_1',\n",
      "       'transf_3_0', 'transf_3_1', 'transf_4_0', 'transf_4_1', 'transf_5_0',\n",
      "       ...\n",
      "       'transf_741_0', 'transf_759_0', 'transf_804_0', 'transf_811_0',\n",
      "       'transf_826_0', 'transf_871_0', 'transf_991_0', 'transf_1037_0',\n",
      "       'transf_1075_0', 'transf_1278_0'],\n",
      "      dtype='object', name='name', length=309)\n",
      "WARNING:pypsa.io:The following Transformer have buses which are not defined:\n",
      "Index(['transf_0_0', 'transf_0_1', 'transf_0_2', 'transf_2_0', 'transf_2_1',\n",
      "       'transf_3_0', 'transf_3_1', 'transf_4_0', 'transf_4_1', 'transf_5_0',\n",
      "       ...\n",
      "       'transf_741_0', 'transf_759_0', 'transf_804_0', 'transf_811_0',\n",
      "       'transf_826_0', 'transf_871_0', 'transf_991_0', 'transf_1037_0',\n",
      "       'transf_1075_0', 'transf_1278_0'],\n",
      "      dtype='object', name='name', length=309)\n",
      "WARNING:pypsa.io:The following Transformer have buses which are not defined:\n",
      "Index(['transf_0_0', 'transf_0_1', 'transf_0_2', 'transf_2_0', 'transf_2_1',\n",
      "       'transf_3_0', 'transf_3_1', 'transf_4_0', 'transf_4_1', 'transf_5_0',\n",
      "       ...\n",
      "       'transf_741_0', 'transf_759_0', 'transf_804_0', 'transf_811_0',\n",
      "       'transf_826_0', 'transf_871_0', 'transf_991_0', 'transf_1037_0',\n",
      "       'transf_1075_0', 'transf_1278_0'],\n",
      "      dtype='object', name='name', length=309)\n",
      "WARNING:pypsa.io:The following Transformer have buses which are not defined:\n",
      "Index(['transf_0_0', 'transf_0_1', 'transf_0_2', 'transf_2_0', 'transf_2_1',\n",
      "       'transf_3_0', 'transf_3_1', 'transf_4_0', 'transf_4_1', 'transf_5_0',\n",
      "       ...\n",
      "       'transf_741_0', 'transf_759_0', 'transf_804_0', 'transf_811_0',\n",
      "       'transf_826_0', 'transf_871_0', 'transf_991_0', 'transf_1037_0',\n",
      "       'transf_1075_0', 'transf_1278_0'],\n",
      "      dtype='object', name='name', length=309)\n",
      "WARNING:pypsa.io:The following Transformer have buses which are not defined:\n",
      "Index(['transf_0_0', 'transf_0_1', 'transf_0_2', 'transf_2_0', 'transf_2_1',\n",
      "       'transf_3_0', 'transf_3_1', 'transf_4_0', 'transf_4_1', 'transf_5_0',\n",
      "       ...\n",
      "       'transf_741_0', 'transf_759_0', 'transf_804_0', 'transf_811_0',\n",
      "       'transf_826_0', 'transf_871_0', 'transf_991_0', 'transf_1037_0',\n",
      "       'transf_1075_0', 'transf_1278_0'],\n",
      "      dtype='object', name='name', length=309)\n",
      "WARNING:pypsa.io:The following Transformer have buses which are not defined:\n",
      "Index(['transf_0_0', 'transf_0_1', 'transf_0_2', 'transf_2_0', 'transf_2_1',\n",
      "       'transf_3_0', 'transf_3_1', 'transf_4_0', 'transf_4_1', 'transf_5_0',\n",
      "       ...\n",
      "       'transf_741_0', 'transf_759_0', 'transf_804_0', 'transf_811_0',\n",
      "       'transf_826_0', 'transf_871_0', 'transf_991_0', 'transf_1037_0',\n",
      "       'transf_1075_0', 'transf_1278_0'],\n",
      "      dtype='object', name='name', length=309)\n",
      "INFO:pypsa.io:Imported network base.nc has buses, lines, transformers\n"
     ]
    },
    {
     "data": {
      "text/plain": [
       "array(['243-AL1/39-ST1A 20.0', 'Al/St 240/40 4-bundle 380.0',\n",
       "       'Al/St 240/40 3-bundle 300.0', 'Al/St 560/50 4-bundle 750.0',\n",
       "       'Al/St 240/40 2-bundle 220.0'], dtype=object)"
      ]
     },
     "metadata": {},
     "output_type": "display_data"
    }
   ],
   "source": [
    "#network50.lines.type.unique()\n",
    "base_network=pypsa.Network(\"networks/base.nc\")\n",
    "base_network.lines.type.unique()\n",
    "\n",
    "\n",
    "\n",
    "\n",
    "\n",
    "\n",
    "\n",
    "\n"
   ]
  },
  {
   "cell_type": "code",
   "execution_count": null,
   "id": "719cf4c1",
   "metadata": {},
   "outputs": [
    {
     "name": "stderr",
     "output_type": "stream",
     "text": [
      "WARNING:pypsa.io:The following Transformer have buses which are not defined:\n",
      "Index(['transf_0_0', 'transf_0_1', 'transf_0_2', 'transf_2_0', 'transf_2_1',\n",
      "       'transf_3_0', 'transf_3_1', 'transf_4_0', 'transf_4_1', 'transf_5_0',\n",
      "       ...\n",
      "       'transf_741_0', 'transf_759_0', 'transf_804_0', 'transf_811_0',\n",
      "       'transf_826_0', 'transf_871_0', 'transf_991_0', 'transf_1037_0',\n",
      "       'transf_1075_0', 'transf_1278_0'],\n",
      "      dtype='object', name='name', length=309)\n",
      "WARNING:pypsa.io:The following Transformer have buses which are not defined:\n",
      "Index(['transf_0_0', 'transf_0_1', 'transf_0_2', 'transf_2_0', 'transf_2_1',\n",
      "       'transf_3_0', 'transf_3_1', 'transf_4_0', 'transf_4_1', 'transf_5_0',\n",
      "       ...\n",
      "       'transf_741_0', 'transf_759_0', 'transf_804_0', 'transf_811_0',\n",
      "       'transf_826_0', 'transf_871_0', 'transf_991_0', 'transf_1037_0',\n",
      "       'transf_1075_0', 'transf_1278_0'],\n",
      "      dtype='object', name='name', length=309)\n",
      "WARNING:pypsa.io:The following Transformer have buses which are not defined:\n",
      "Index(['transf_0_0', 'transf_0_1', 'transf_0_2', 'transf_2_0', 'transf_2_1',\n",
      "       'transf_3_0', 'transf_3_1', 'transf_4_0', 'transf_4_1', 'transf_5_0',\n",
      "       ...\n",
      "       'transf_741_0', 'transf_759_0', 'transf_804_0', 'transf_811_0',\n",
      "       'transf_826_0', 'transf_871_0', 'transf_991_0', 'transf_1037_0',\n",
      "       'transf_1075_0', 'transf_1278_0'],\n",
      "      dtype='object', name='name', length=309)\n",
      "WARNING:pypsa.io:The following Transformer have buses which are not defined:\n",
      "Index(['transf_0_0', 'transf_0_1', 'transf_0_2', 'transf_2_0', 'transf_2_1',\n",
      "       'transf_3_0', 'transf_3_1', 'transf_4_0', 'transf_4_1', 'transf_5_0',\n",
      "       ...\n",
      "       'transf_741_0', 'transf_759_0', 'transf_804_0', 'transf_811_0',\n",
      "       'transf_826_0', 'transf_871_0', 'transf_991_0', 'transf_1037_0',\n",
      "       'transf_1075_0', 'transf_1278_0'],\n",
      "      dtype='object', name='name', length=309)\n",
      "WARNING:pypsa.io:The following Transformer have buses which are not defined:\n",
      "Index(['transf_0_0', 'transf_0_1', 'transf_0_2', 'transf_2_0', 'transf_2_1',\n",
      "       'transf_3_0', 'transf_3_1', 'transf_4_0', 'transf_4_1', 'transf_5_0',\n",
      "       ...\n",
      "       'transf_741_0', 'transf_759_0', 'transf_804_0', 'transf_811_0',\n",
      "       'transf_826_0', 'transf_871_0', 'transf_991_0', 'transf_1037_0',\n",
      "       'transf_1075_0', 'transf_1278_0'],\n",
      "      dtype='object', name='name', length=309)\n",
      "WARNING:pypsa.io:The following Transformer have buses which are not defined:\n",
      "Index(['transf_0_0', 'transf_0_1', 'transf_0_2', 'transf_2_0', 'transf_2_1',\n",
      "       'transf_3_0', 'transf_3_1', 'transf_4_0', 'transf_4_1', 'transf_5_0',\n",
      "       ...\n",
      "       'transf_741_0', 'transf_759_0', 'transf_804_0', 'transf_811_0',\n",
      "       'transf_826_0', 'transf_871_0', 'transf_991_0', 'transf_1037_0',\n",
      "       'transf_1075_0', 'transf_1278_0'],\n",
      "      dtype='object', name='name', length=309)\n",
      "INFO:pypsa.io:Imported network base.nc has buses, lines, transformers\n"
     ]
    },
    {
     "data": {
      "text/plain": [
       "array(['243-AL1/39-ST1A 20.0', 'Al/St 240/40 4-bundle 380.0',\n",
       "       'Al/St 240/40 3-bundle 300.0', 'Al/St 560/50 4-bundle 750.0',\n",
       "       'Al/St 240/40 2-bundle 220.0'], dtype=object)"
      ]
     },
     "metadata": {},
     "output_type": "display_data"
    }
   ],
   "source": [
    "#network50.lines.type.unique()\n",
    "base_network=pypsa.Network(\"networks/base.nc\")\n",
    "base_network.lines.type.unique()\n",
    "\n",
    "\n",
    "\n",
    "\n",
    "\n",
    "\n",
    "\n",
    "\n"
   ]
  },
  {
   "cell_type": "code",
   "execution_count": 1,
   "id": "cf28861e",
   "metadata": {},
   "outputs": [
    {
     "name": "stderr",
     "output_type": "stream",
     "text": [
      "INFO:pypsa.io:Imported network elec_s_10_ec_lc1.0_1h.nc has buses, carriers, generators, global_constraints, lines, loads, storage_units\n",
      "WARNING:pypsa.consistency:The following buses have carriers which are not defined:\n",
      "Index(['ZA0 0', 'ZA0 1', 'ZA0 2', 'ZA0 3', 'ZA0 4', 'ZA0 5', 'ZA0 6', 'ZA0 7',\n",
      "       'ZA0 8', 'ZA0 9', 'ZA1 0', 'ZA2 0', 'ZA3 0'],\n",
      "      dtype='object', name='Bus')\n",
      "WARNING:pypsa.consistency:The following sub_networks have carriers which are not defined:\n",
      "Index(['0'], dtype='object', name='SubNetwork')\n",
      "WARNING:pypsa.consistency:The following lines have carriers which are not defined:\n",
      "Index(['0', '1', '10', '11', '12', '13', '14', '15', '2', '3', '4', '5', '6',\n",
      "       '7', '8', '9', 'lines new ZA0 4 <-> ZA2 0 AC',\n",
      "       'lines new ZA0 0 <-> ZA1 0 AC', 'lines new ZA0 0 <-> ZA3 0 AC'],\n",
      "      dtype='object', name='Line')\n"
     ]
    },
    {
     "name": "stdout",
     "output_type": "stream",
     "text": [
      "=== CHECKING FOR ISOLATED BUSES ===\n",
      "\n",
      "=== DEMAND AT KEY BUSES ===\n",
      "Bus ZA1 0 maximum demand: 1386.9 MW\n",
      "Bus ZA2 0 maximum demand: 452.6 MW\n",
      "Bus ZA3 0 maximum demand: 721.1 MW\n",
      "=== FIXING ARTIFICIAL LINES WITH REASONABLE CAPACITY ===\n",
      "Found 3 artificial lines to fix:\n",
      "\n",
      "🔧 Fixing: lines new ZA0 4 <-> ZA2 0 AC\n",
      "    Connected buses: ZA0 4 ↔ ZA2 0\n",
      "    Bus demands: ZA0 4: 15945.8 MW, ZA2 0: 452.6 MW\n",
      "    s_nom: 0.0 → 47837.3 MW\n",
      "    s_nom_extendable: → False\n",
      "\n",
      "🔧 Fixing: lines new ZA0 0 <-> ZA1 0 AC\n",
      "    Connected buses: ZA0 0 ↔ ZA1 0\n",
      "    Bus demands: ZA0 0: 3513.0 MW, ZA1 0: 1386.9 MW\n",
      "    s_nom: 0.0 → 10538.9 MW\n",
      "    s_nom_extendable: → False\n",
      "\n",
      "🔧 Fixing: lines new ZA0 0 <-> ZA3 0 AC\n",
      "    Connected buses: ZA0 0 ↔ ZA3 0\n",
      "    Bus demands: ZA0 0: 3513.0 MW, ZA3 0: 721.1 MW\n",
      "    s_nom: 0.0 → 10538.9 MW\n",
      "    s_nom_extendable: → False\n"
     ]
    },
    {
     "name": "stderr",
     "output_type": "stream",
     "text": [
      "WARNING:pypsa.consistency:The following buses have carriers which are not defined:\n",
      "Index(['ZA0 0', 'ZA0 1', 'ZA0 2', 'ZA0 3', 'ZA0 4', 'ZA0 5', 'ZA0 6', 'ZA0 7',\n",
      "       'ZA0 8', 'ZA0 9', 'ZA1 0', 'ZA2 0', 'ZA3 0'],\n",
      "      dtype='object', name='Bus')\n",
      "WARNING:pypsa.consistency:The following sub_networks have carriers which are not defined:\n",
      "Index(['0'], dtype='object', name='SubNetwork')\n",
      "WARNING:pypsa.consistency:The following lines have carriers which are not defined:\n",
      "Index(['0', '1', '10', '11', '12', '13', '14', '15', '2', '3', '4', '5', '6',\n",
      "       '7', '8', '9', 'lines new ZA0 4 <-> ZA2 0 AC',\n",
      "       'lines new ZA0 0 <-> ZA1 0 AC', 'lines new ZA0 0 <-> ZA3 0 AC'],\n",
      "      dtype='object', name='Line')\n",
      "INFO:linopy.model: Solve problem using Gurobi solver\n",
      "INFO:linopy.io:Writing objective.\n",
      "Writing constraints.: 100%|\u001b[38;2;128;191;255m██████████\u001b[0m| 13/13 [00:06<00:00,  2.05it/s]\n",
      "Writing continuous variables.: 100%|\u001b[38;2;128;191;255m██████████\u001b[0m| 6/6 [00:01<00:00,  5.44it/s]\n",
      "INFO:linopy.io: Writing time: 8.06s\n"
     ]
    },
    {
     "name": "stdout",
     "output_type": "stream",
     "text": [
      "Set parameter Username\n"
     ]
    },
    {
     "name": "stderr",
     "output_type": "stream",
     "text": [
      "INFO:gurobipy:Set parameter Username\n"
     ]
    },
    {
     "name": "stdout",
     "output_type": "stream",
     "text": [
      "Set parameter LicenseID to value 2695191\n"
     ]
    },
    {
     "name": "stderr",
     "output_type": "stream",
     "text": [
      "INFO:gurobipy:Set parameter LicenseID to value 2695191\n"
     ]
    },
    {
     "name": "stdout",
     "output_type": "stream",
     "text": [
      "Academic license - for non-commercial use only - expires 2026-08-12\n"
     ]
    },
    {
     "name": "stderr",
     "output_type": "stream",
     "text": [
      "INFO:gurobipy:Academic license - for non-commercial use only - expires 2026-08-12\n"
     ]
    },
    {
     "name": "stdout",
     "output_type": "stream",
     "text": [
      "Read LP format model from file /private/var/folders/tt/b5q5vkxj6xvf2b6q1f46ytgw0000gn/T/linopy-problem-qjwv9qf3.lp\n"
     ]
    },
    {
     "name": "stderr",
     "output_type": "stream",
     "text": [
      "INFO:gurobipy:Read LP format model from file /private/var/folders/tt/b5q5vkxj6xvf2b6q1f46ytgw0000gn/T/linopy-problem-qjwv9qf3.lp\n"
     ]
    },
    {
     "name": "stdout",
     "output_type": "stream",
     "text": [
      "Reading time = 3.18 seconds\n"
     ]
    },
    {
     "name": "stderr",
     "output_type": "stream",
     "text": [
      "INFO:gurobipy:Reading time = 3.18 seconds\n"
     ]
    },
    {
     "name": "stdout",
     "output_type": "stream",
     "text": [
      "obj: 1655640 rows, 735840 columns, 2636760 nonzeros\n"
     ]
    },
    {
     "name": "stderr",
     "output_type": "stream",
     "text": [
      "INFO:gurobipy:obj: 1655640 rows, 735840 columns, 2636760 nonzeros\n"
     ]
    },
    {
     "name": "stdout",
     "output_type": "stream",
     "text": [
      "Gurobi Optimizer version 12.0.3 build v12.0.3rc0 (mac64[x86] - Darwin 24.6.0 24G84)\n"
     ]
    },
    {
     "name": "stderr",
     "output_type": "stream",
     "text": [
      "INFO:gurobipy:Gurobi Optimizer version 12.0.3 build v12.0.3rc0 (mac64[x86] - Darwin 24.6.0 24G84)\n"
     ]
    },
    {
     "name": "stdout",
     "output_type": "stream",
     "text": [
      "\n"
     ]
    },
    {
     "name": "stderr",
     "output_type": "stream",
     "text": [
      "INFO:gurobipy:\n"
     ]
    },
    {
     "name": "stdout",
     "output_type": "stream",
     "text": [
      "CPU model: Intel(R) Core(TM) i5-8279U CPU @ 2.40GHz\n"
     ]
    },
    {
     "name": "stderr",
     "output_type": "stream",
     "text": [
      "INFO:gurobipy:CPU model: Intel(R) Core(TM) i5-8279U CPU @ 2.40GHz\n"
     ]
    },
    {
     "name": "stdout",
     "output_type": "stream",
     "text": [
      "Thread count: 4 physical cores, 8 logical processors, using up to 8 threads\n"
     ]
    },
    {
     "name": "stderr",
     "output_type": "stream",
     "text": [
      "INFO:gurobipy:Thread count: 4 physical cores, 8 logical processors, using up to 8 threads\n"
     ]
    },
    {
     "name": "stdout",
     "output_type": "stream",
     "text": [
      "\n"
     ]
    },
    {
     "name": "stderr",
     "output_type": "stream",
     "text": [
      "INFO:gurobipy:\n"
     ]
    },
    {
     "name": "stdout",
     "output_type": "stream",
     "text": [
      "Optimize a model with 1655640 rows, 735840 columns and 2636760 nonzeros\n"
     ]
    },
    {
     "name": "stderr",
     "output_type": "stream",
     "text": [
      "INFO:gurobipy:Optimize a model with 1655640 rows, 735840 columns and 2636760 nonzeros\n"
     ]
    },
    {
     "name": "stdout",
     "output_type": "stream",
     "text": [
      "Model fingerprint: 0xb296f886\n"
     ]
    },
    {
     "name": "stderr",
     "output_type": "stream",
     "text": [
      "INFO:gurobipy:Model fingerprint: 0xb296f886\n"
     ]
    },
    {
     "name": "stdout",
     "output_type": "stream",
     "text": [
      "Coefficient statistics:\n"
     ]
    },
    {
     "name": "stderr",
     "output_type": "stream",
     "text": [
      "INFO:gurobipy:Coefficient statistics:\n"
     ]
    },
    {
     "name": "stdout",
     "output_type": "stream",
     "text": [
      "  Matrix range     [9e-01, 4e+02]\n"
     ]
    },
    {
     "name": "stderr",
     "output_type": "stream",
     "text": [
      "INFO:gurobipy:  Matrix range     [9e-01, 4e+02]\n"
     ]
    },
    {
     "name": "stdout",
     "output_type": "stream",
     "text": [
      "  Objective range  [1e-02, 5e+01]\n"
     ]
    },
    {
     "name": "stderr",
     "output_type": "stream",
     "text": [
      "INFO:gurobipy:  Objective range  [1e-02, 5e+01]\n"
     ]
    },
    {
     "name": "stdout",
     "output_type": "stream",
     "text": [
      "  Bounds range     [2e+00, 1e+03]\n"
     ]
    },
    {
     "name": "stderr",
     "output_type": "stream",
     "text": [
      "INFO:gurobipy:  Bounds range     [2e+00, 1e+03]\n"
     ]
    },
    {
     "name": "stdout",
     "output_type": "stream",
     "text": [
      "  RHS range        [8e-05, 2e+06]\n"
     ]
    },
    {
     "name": "stderr",
     "output_type": "stream",
     "text": [
      "INFO:gurobipy:  RHS range        [8e-05, 2e+06]\n"
     ]
    },
    {
     "name": "stdout",
     "output_type": "stream",
     "text": [
      "Presolve removed 1563301 rows and 369196 columns\n"
     ]
    },
    {
     "name": "stderr",
     "output_type": "stream",
     "text": [
      "INFO:gurobipy:Presolve removed 1563301 rows and 369196 columns\n"
     ]
    },
    {
     "name": "stdout",
     "output_type": "stream",
     "text": [
      "Presolve time: 2.37s\n"
     ]
    },
    {
     "name": "stderr",
     "output_type": "stream",
     "text": [
      "INFO:gurobipy:Presolve time: 2.37s\n"
     ]
    },
    {
     "name": "stdout",
     "output_type": "stream",
     "text": [
      "Presolved: 92339 rows, 366644 columns, 720781 nonzeros\n"
     ]
    },
    {
     "name": "stderr",
     "output_type": "stream",
     "text": [
      "INFO:gurobipy:Presolved: 92339 rows, 366644 columns, 720781 nonzeros\n"
     ]
    },
    {
     "name": "stdout",
     "output_type": "stream",
     "text": [
      "\n"
     ]
    },
    {
     "name": "stderr",
     "output_type": "stream",
     "text": [
      "INFO:gurobipy:\n"
     ]
    },
    {
     "name": "stdout",
     "output_type": "stream",
     "text": [
      "Concurrent LP optimizer: dual simplex and barrier\n"
     ]
    },
    {
     "name": "stderr",
     "output_type": "stream",
     "text": [
      "INFO:gurobipy:Concurrent LP optimizer: dual simplex and barrier\n"
     ]
    },
    {
     "name": "stdout",
     "output_type": "stream",
     "text": [
      "Showing barrier log only...\n"
     ]
    },
    {
     "name": "stderr",
     "output_type": "stream",
     "text": [
      "INFO:gurobipy:Showing barrier log only...\n"
     ]
    },
    {
     "name": "stdout",
     "output_type": "stream",
     "text": [
      "\n"
     ]
    },
    {
     "name": "stderr",
     "output_type": "stream",
     "text": [
      "INFO:gurobipy:\n"
     ]
    },
    {
     "name": "stdout",
     "output_type": "stream",
     "text": [
      "Ordering time: 0.07s\n"
     ]
    },
    {
     "name": "stderr",
     "output_type": "stream",
     "text": [
      "INFO:gurobipy:Ordering time: 0.07s\n"
     ]
    },
    {
     "name": "stdout",
     "output_type": "stream",
     "text": [
      "\n"
     ]
    },
    {
     "name": "stderr",
     "output_type": "stream",
     "text": [
      "INFO:gurobipy:\n"
     ]
    },
    {
     "name": "stdout",
     "output_type": "stream",
     "text": [
      "Barrier statistics:\n"
     ]
    },
    {
     "name": "stderr",
     "output_type": "stream",
     "text": [
      "INFO:gurobipy:Barrier statistics:\n"
     ]
    },
    {
     "name": "stdout",
     "output_type": "stream",
     "text": [
      " AA' NZ     : 2.952e+05\n"
     ]
    },
    {
     "name": "stderr",
     "output_type": "stream",
     "text": [
      "INFO:gurobipy: AA' NZ     : 2.952e+05\n"
     ]
    },
    {
     "name": "stdout",
     "output_type": "stream",
     "text": [
      " Factor NZ  : 5.928e+05 (roughly 200 MB of memory)\n"
     ]
    },
    {
     "name": "stderr",
     "output_type": "stream",
     "text": [
      "INFO:gurobipy: Factor NZ  : 5.928e+05 (roughly 200 MB of memory)\n"
     ]
    },
    {
     "name": "stdout",
     "output_type": "stream",
     "text": [
      " Factor Ops : 4.987e+06 (less than 1 second per iteration)\n"
     ]
    },
    {
     "name": "stderr",
     "output_type": "stream",
     "text": [
      "INFO:gurobipy: Factor Ops : 4.987e+06 (less than 1 second per iteration)\n"
     ]
    },
    {
     "name": "stdout",
     "output_type": "stream",
     "text": [
      " Threads    : 3\n"
     ]
    },
    {
     "name": "stderr",
     "output_type": "stream",
     "text": [
      "INFO:gurobipy: Threads    : 3\n"
     ]
    },
    {
     "name": "stdout",
     "output_type": "stream",
     "text": [
      "\n"
     ]
    },
    {
     "name": "stderr",
     "output_type": "stream",
     "text": [
      "INFO:gurobipy:\n"
     ]
    },
    {
     "name": "stdout",
     "output_type": "stream",
     "text": [
      "                  Objective                Residual\n"
     ]
    },
    {
     "name": "stderr",
     "output_type": "stream",
     "text": [
      "INFO:gurobipy:                  Objective                Residual\n"
     ]
    },
    {
     "name": "stdout",
     "output_type": "stream",
     "text": [
      "Iter       Primal          Dual         Primal    Dual     Compl     Time\n"
     ]
    },
    {
     "name": "stderr",
     "output_type": "stream",
     "text": [
      "INFO:gurobipy:Iter       Primal          Dual         Primal    Dual     Compl     Time\n"
     ]
    },
    {
     "name": "stdout",
     "output_type": "stream",
     "text": [
      "   0   1.21798632e+11 -7.59016259e+12  1.25e+05 5.68e-14  1.68e+07     3s\n"
     ]
    },
    {
     "name": "stderr",
     "output_type": "stream",
     "text": [
      "INFO:gurobipy:   0   1.21798632e+11 -7.59016259e+12  1.25e+05 5.68e-14  1.68e+07     3s\n"
     ]
    },
    {
     "name": "stdout",
     "output_type": "stream",
     "text": [
      "   1   1.40211237e+10 -2.68706133e+11  6.13e+03 4.12e-13  6.38e+05     3s\n"
     ]
    },
    {
     "name": "stderr",
     "output_type": "stream",
     "text": [
      "INFO:gurobipy:   1   1.40211237e+10 -2.68706133e+11  6.13e+03 4.12e-13  6.38e+05     3s\n"
     ]
    },
    {
     "name": "stdout",
     "output_type": "stream",
     "text": [
      "   2   1.10959005e+10 -3.01049737e+10  1.01e+03 1.48e-12  9.00e+04     3s\n"
     ]
    },
    {
     "name": "stderr",
     "output_type": "stream",
     "text": [
      "INFO:gurobipy:   2   1.10959005e+10 -3.01049737e+10  1.01e+03 1.48e-12  9.00e+04     3s\n"
     ]
    },
    {
     "name": "stdout",
     "output_type": "stream",
     "text": [
      "   3   1.04027639e+10  6.06090294e+09  3.81e+01 1.53e-12  6.71e+03     3s\n"
     ]
    },
    {
     "name": "stderr",
     "output_type": "stream",
     "text": [
      "INFO:gurobipy:   3   1.04027639e+10  6.06090294e+09  3.81e+01 1.53e-12  6.71e+03     3s\n"
     ]
    },
    {
     "name": "stdout",
     "output_type": "stream",
     "text": [
      "   4   1.01136244e+10  7.11494847e+09  3.05e+00 1.02e-12  4.14e+03     3s\n"
     ]
    },
    {
     "name": "stderr",
     "output_type": "stream",
     "text": [
      "INFO:gurobipy:   4   1.01136244e+10  7.11494847e+09  3.05e+00 1.02e-12  4.14e+03     3s\n"
     ]
    },
    {
     "name": "stdout",
     "output_type": "stream",
     "text": [
      "   5   9.98568351e+09  9.29584539e+09  7.28e-01 3.68e-13  9.46e+02     4s\n"
     ]
    },
    {
     "name": "stderr",
     "output_type": "stream",
     "text": [
      "INFO:gurobipy:   5   9.98568351e+09  9.29584539e+09  7.28e-01 3.68e-13  9.46e+02     4s\n"
     ]
    },
    {
     "name": "stdout",
     "output_type": "stream",
     "text": [
      "   6   9.85637881e+09  9.54392237e+09  1.18e-01 3.96e-13  4.27e+02     4s\n"
     ]
    },
    {
     "name": "stderr",
     "output_type": "stream",
     "text": [
      "INFO:gurobipy:   6   9.85637881e+09  9.54392237e+09  1.18e-01 3.96e-13  4.27e+02     4s\n"
     ]
    },
    {
     "name": "stdout",
     "output_type": "stream",
     "text": [
      "   7   9.84690200e+09  9.59419083e+09  8.89e-02 3.96e-13  3.45e+02     4s\n"
     ]
    },
    {
     "name": "stderr",
     "output_type": "stream",
     "text": [
      "INFO:gurobipy:   7   9.84690200e+09  9.59419083e+09  8.89e-02 3.96e-13  3.45e+02     4s\n"
     ]
    },
    {
     "name": "stdout",
     "output_type": "stream",
     "text": [
      "   8   9.83936837e+09  9.67400085e+09  6.81e-02 4.82e-13  2.26e+02     4s\n"
     ]
    },
    {
     "name": "stderr",
     "output_type": "stream",
     "text": [
      "INFO:gurobipy:   8   9.83936837e+09  9.67400085e+09  6.81e-02 4.82e-13  2.26e+02     4s\n"
     ]
    },
    {
     "name": "stdout",
     "output_type": "stream",
     "text": [
      "   9   9.81871201e+09  9.77815077e+09  1.60e-02 4.73e-13  5.53e+01     4s\n"
     ]
    },
    {
     "name": "stderr",
     "output_type": "stream",
     "text": [
      "INFO:gurobipy:   9   9.81871201e+09  9.77815077e+09  1.60e-02 4.73e-13  5.53e+01     4s\n"
     ]
    },
    {
     "name": "stdout",
     "output_type": "stream",
     "text": [
      "  10   9.81158979e+09  9.80591961e+09  4.59e-03 4.82e-13  7.74e+00     4s\n"
     ]
    },
    {
     "name": "stderr",
     "output_type": "stream",
     "text": [
      "INFO:gurobipy:  10   9.81158979e+09  9.80591961e+09  4.59e-03 4.82e-13  7.74e+00     4s\n"
     ]
    },
    {
     "name": "stdout",
     "output_type": "stream",
     "text": [
      "  11   9.80848837e+09  9.80824093e+09  1.94e-04 2.55e-13  3.38e-01     4s\n"
     ]
    },
    {
     "name": "stderr",
     "output_type": "stream",
     "text": [
      "INFO:gurobipy:  11   9.80848837e+09  9.80824093e+09  1.94e-04 2.55e-13  3.38e-01     4s\n"
     ]
    },
    {
     "name": "stdout",
     "output_type": "stream",
     "text": [
      "  12   9.80833794e+09  9.80831713e+09  1.02e-05 2.10e-11  2.84e-02     4s\n"
     ]
    },
    {
     "name": "stderr",
     "output_type": "stream",
     "text": [
      "INFO:gurobipy:  12   9.80833794e+09  9.80831713e+09  1.02e-05 2.10e-11  2.84e-02     4s\n"
     ]
    },
    {
     "name": "stdout",
     "output_type": "stream",
     "text": [
      "  13   9.80832949e+09  9.80832876e+09  8.79e-06 1.05e-11  9.88e-04     4s\n"
     ]
    },
    {
     "name": "stderr",
     "output_type": "stream",
     "text": [
      "INFO:gurobipy:  13   9.80832949e+09  9.80832876e+09  8.79e-06 1.05e-11  9.88e-04     4s\n"
     ]
    },
    {
     "name": "stdout",
     "output_type": "stream",
     "text": [
      "  14   9.80832945e+09  9.80832944e+09  1.83e-07 4.63e-12  9.75e-06     4s\n"
     ]
    },
    {
     "name": "stderr",
     "output_type": "stream",
     "text": [
      "INFO:gurobipy:  14   9.80832945e+09  9.80832944e+09  1.83e-07 4.63e-12  9.75e-06     4s\n"
     ]
    },
    {
     "name": "stdout",
     "output_type": "stream",
     "text": [
      "  15   9.80832945e+09  9.80832945e+09  6.44e-08 5.68e-14  9.75e-09     5s\n"
     ]
    },
    {
     "name": "stderr",
     "output_type": "stream",
     "text": [
      "INFO:gurobipy:  15   9.80832945e+09  9.80832945e+09  6.44e-08 5.68e-14  9.75e-09     5s\n"
     ]
    },
    {
     "name": "stdout",
     "output_type": "stream",
     "text": [
      "\n"
     ]
    },
    {
     "name": "stderr",
     "output_type": "stream",
     "text": [
      "INFO:gurobipy:\n"
     ]
    },
    {
     "name": "stdout",
     "output_type": "stream",
     "text": [
      "Barrier solved model in 15 iterations and 4.52 seconds (3.00 work units)\n"
     ]
    },
    {
     "name": "stderr",
     "output_type": "stream",
     "text": [
      "INFO:gurobipy:Barrier solved model in 15 iterations and 4.52 seconds (3.00 work units)\n"
     ]
    },
    {
     "name": "stdout",
     "output_type": "stream",
     "text": [
      "Optimal objective 9.80832945e+09\n"
     ]
    },
    {
     "name": "stderr",
     "output_type": "stream",
     "text": [
      "INFO:gurobipy:Optimal objective 9.80832945e+09\n"
     ]
    },
    {
     "name": "stdout",
     "output_type": "stream",
     "text": [
      "\n"
     ]
    },
    {
     "name": "stderr",
     "output_type": "stream",
     "text": [
      "INFO:gurobipy:\n"
     ]
    },
    {
     "name": "stdout",
     "output_type": "stream",
     "text": [
      "Crossover log...\n"
     ]
    },
    {
     "name": "stderr",
     "output_type": "stream",
     "text": [
      "INFO:gurobipy:Crossover log...\n"
     ]
    },
    {
     "name": "stdout",
     "output_type": "stream",
     "text": [
      "\n"
     ]
    },
    {
     "name": "stderr",
     "output_type": "stream",
     "text": [
      "INFO:gurobipy:\n"
     ]
    },
    {
     "name": "stdout",
     "output_type": "stream",
     "text": [
      "      32 DPushes remaining with DInf 0.0000000e+00                 5s\n"
     ]
    },
    {
     "name": "stderr",
     "output_type": "stream",
     "text": [
      "INFO:gurobipy:      32 DPushes remaining with DInf 0.0000000e+00                 5s\n"
     ]
    },
    {
     "name": "stdout",
     "output_type": "stream",
     "text": [
      "       0 DPushes remaining with DInf 0.0000000e+00                 5s\n"
     ]
    },
    {
     "name": "stderr",
     "output_type": "stream",
     "text": [
      "INFO:gurobipy:       0 DPushes remaining with DInf 0.0000000e+00                 5s\n"
     ]
    },
    {
     "name": "stdout",
     "output_type": "stream",
     "text": [
      "\n"
     ]
    },
    {
     "name": "stderr",
     "output_type": "stream",
     "text": [
      "INFO:gurobipy:\n"
     ]
    },
    {
     "name": "stdout",
     "output_type": "stream",
     "text": [
      "   35044 PPushes remaining with PInf 0.0000000e+00                 5s\n"
     ]
    },
    {
     "name": "stderr",
     "output_type": "stream",
     "text": [
      "INFO:gurobipy:   35044 PPushes remaining with PInf 0.0000000e+00                 5s\n"
     ]
    },
    {
     "name": "stdout",
     "output_type": "stream",
     "text": [
      "    9313 PPushes remaining with PInf 0.0000000e+00                 5s\n"
     ]
    },
    {
     "name": "stderr",
     "output_type": "stream",
     "text": [
      "INFO:gurobipy:    9313 PPushes remaining with PInf 0.0000000e+00                 5s\n"
     ]
    },
    {
     "name": "stdout",
     "output_type": "stream",
     "text": [
      "       0 PPushes remaining with PInf 0.0000000e+00                 5s\n"
     ]
    },
    {
     "name": "stderr",
     "output_type": "stream",
     "text": [
      "INFO:gurobipy:       0 PPushes remaining with PInf 0.0000000e+00                 5s\n"
     ]
    },
    {
     "name": "stdout",
     "output_type": "stream",
     "text": [
      "\n"
     ]
    },
    {
     "name": "stderr",
     "output_type": "stream",
     "text": [
      "INFO:gurobipy:\n"
     ]
    },
    {
     "name": "stdout",
     "output_type": "stream",
     "text": [
      "  Push phase complete: Pinf 0.0000000e+00, Dinf 2.3075275e-10      5s\n"
     ]
    },
    {
     "name": "stderr",
     "output_type": "stream",
     "text": [
      "INFO:gurobipy:  Push phase complete: Pinf 0.0000000e+00, Dinf 2.3075275e-10      5s\n"
     ]
    },
    {
     "name": "stdout",
     "output_type": "stream",
     "text": [
      "\n"
     ]
    },
    {
     "name": "stderr",
     "output_type": "stream",
     "text": [
      "INFO:gurobipy:\n"
     ]
    },
    {
     "name": "stdout",
     "output_type": "stream",
     "text": [
      "\n"
     ]
    },
    {
     "name": "stderr",
     "output_type": "stream",
     "text": [
      "INFO:gurobipy:\n"
     ]
    },
    {
     "name": "stdout",
     "output_type": "stream",
     "text": [
      "Solved with barrier\n"
     ]
    },
    {
     "name": "stderr",
     "output_type": "stream",
     "text": [
      "INFO:gurobipy:Solved with barrier\n"
     ]
    },
    {
     "name": "stdout",
     "output_type": "stream",
     "text": [
      "Iteration    Objective       Primal Inf.    Dual Inf.      Time\n"
     ]
    },
    {
     "name": "stderr",
     "output_type": "stream",
     "text": [
      "INFO:gurobipy:Iteration    Objective       Primal Inf.    Dual Inf.      Time\n"
     ]
    },
    {
     "name": "stdout",
     "output_type": "stream",
     "text": [
      "   35075    9.8083294e+09   0.000000e+00   0.000000e+00      6s\n"
     ]
    },
    {
     "name": "stderr",
     "output_type": "stream",
     "text": [
      "INFO:gurobipy:   35075    9.8083294e+09   0.000000e+00   0.000000e+00      6s\n"
     ]
    },
    {
     "name": "stdout",
     "output_type": "stream",
     "text": [
      "\n"
     ]
    },
    {
     "name": "stderr",
     "output_type": "stream",
     "text": [
      "INFO:gurobipy:\n"
     ]
    },
    {
     "name": "stdout",
     "output_type": "stream",
     "text": [
      "Solved in 35075 iterations and 6.47 seconds (3.98 work units)\n"
     ]
    },
    {
     "name": "stderr",
     "output_type": "stream",
     "text": [
      "INFO:gurobipy:Solved in 35075 iterations and 6.47 seconds (3.98 work units)\n"
     ]
    },
    {
     "name": "stdout",
     "output_type": "stream",
     "text": [
      "Optimal objective  9.808329447e+09\n"
     ]
    },
    {
     "name": "stderr",
     "output_type": "stream",
     "text": [
      "INFO:gurobipy:Optimal objective  9.808329447e+09\n",
      "INFO:linopy.constants: Optimization successful: \n",
      "Status: ok\n",
      "Termination condition: optimal\n",
      "Solution: 735840 primals, 1655640 duals\n",
      "Objective: 9.81e+09\n",
      "Solver model: available\n",
      "Solver message: 2\n",
      "\n",
      "INFO:pypsa.optimization.optimize:The shadow-prices of the constraints Generator-fix-p-lower, Generator-fix-p-upper, Line-fix-s-lower, Line-fix-s-upper, StorageUnit-fix-p_dispatch-lower, StorageUnit-fix-p_dispatch-upper, StorageUnit-fix-p_store-lower, StorageUnit-fix-p_store-upper, StorageUnit-fix-state_of_charge-lower, StorageUnit-fix-state_of_charge-upper, Kirchhoff-Voltage-Law, StorageUnit-energy_balance were not assigned to the network.\n"
     ]
    },
    {
     "name": "stdout",
     "output_type": "stream",
     "text": [
      "\n",
      "✅ SUCCESS! Network optimized successfully with reasonable line capacities\n",
      "Objective: 9,808,329,447\n"
     ]
    },
    {
     "name": "stderr",
     "output_type": "stream",
     "text": [
      "INFO:pypsa.io:Exported network 'elec_s_10_ec_lc1.0_1h_reasonable.nc' contains: loads, storage_units, buses, generators, carriers, global_constraints, lines\n"
     ]
    },
    {
     "name": "stdout",
     "output_type": "stream",
     "text": [
      "💾 Saved network as: elec_s_10_ec_lc1.0_1h_reasonable.nc\n"
     ]
    }
   ],
   "source": [
    "import pypsa\n",
    "def fix_artificial_lines_reasonable(network):\n",
    "    \"\"\"\n",
    "    Fix artificial lines with reasonable capacity values:\n",
    "    - s_nom = based on connected bus demand (with safety factor)\n",
    "    - s_nom_extendable = False (non-extendable)\n",
    "    - Keep capacity high enough to meet demand\n",
    "    \"\"\"\n",
    "    print(\"=== FIXING ARTIFICIAL LINES WITH REASONABLE CAPACITY ===\")\n",
    "    \n",
    "    # Find artificial lines\n",
    "    artificial_lines = [line for line in network.lines.index\n",
    "                       if any(keyword in str(line).lower() for keyword in ['new', '<->', 'artificial'])]\n",
    "    \n",
    "    if not artificial_lines:\n",
    "        # If no artificial lines found by name, look for lines with s_nom=0\n",
    "        # which is often a sign of artificial lines\n",
    "        zero_capacity_lines = network.lines[network.lines.s_nom == 0].index.tolist()\n",
    "        if zero_capacity_lines:\n",
    "            artificial_lines = zero_capacity_lines\n",
    "    \n",
    "    print(f\"Found {len(artificial_lines)} artificial lines to fix:\")\n",
    "    \n",
    "    # Get maximum demand per bus across all snapshots\n",
    "    bus_max_demand = {}\n",
    "    for bus in network.buses.index:\n",
    "        bus_demand = 0\n",
    "        for load_name, load in network.loads.iterrows():\n",
    "            if load.bus == bus and load_name in network.loads_t.p_set.columns:\n",
    "                bus_demand = max(bus_demand, network.loads_t.p_set[load_name].max())\n",
    "        bus_max_demand[bus] = bus_demand\n",
    "    \n",
    "    # Fix each artificial line with reasonable capacity\n",
    "    for line_name in artificial_lines:\n",
    "        # Get connected buses\n",
    "        bus0 = network.lines.loc[line_name, 'bus0']\n",
    "        bus1 = network.lines.loc[line_name, 'bus1']\n",
    "        \n",
    "        # Get maximum demand at these buses\n",
    "        bus0_demand = bus_max_demand.get(bus0, 0)\n",
    "        bus1_demand = bus_max_demand.get(bus1, 0)\n",
    "        \n",
    "        # Calculate required capacity with safety factor\n",
    "        # Use 3x the higher demand to ensure adequate capacity\n",
    "        safety_factor = 3.0\n",
    "        required_capacity = max(bus0_demand, bus1_demand) * safety_factor\n",
    "        \n",
    "        # Ensure minimum reasonable capacity (1000 MW)\n",
    "        required_capacity = max(required_capacity, 1000)\n",
    "        \n",
    "        print(f\"\\n🔧 Fixing: {line_name}\")\n",
    "        print(f\"    Connected buses: {bus0} ↔ {bus1}\")\n",
    "        print(f\"    Bus demands: {bus0}: {bus0_demand:.1f} MW, {bus1}: {bus1_demand:.1f} MW\")\n",
    "        \n",
    "        # Set s_nom to required capacity\n",
    "        old_s_nom = network.lines.loc[line_name, 's_nom']\n",
    "        network.lines.loc[line_name, 's_nom'] = required_capacity\n",
    "        print(f\"    s_nom: {old_s_nom} → {required_capacity:.1f} MW\")\n",
    "        \n",
    "        # Make sure line is not extendable\n",
    "        if 's_nom_extendable' not in network.lines.columns:\n",
    "            network.lines['s_nom_extendable'] = False\n",
    "        network.lines.loc[line_name, 's_nom_extendable'] = False\n",
    "        print(f\"    s_nom_extendable: → False\")\n",
    "    \n",
    "    return network\n",
    "\n",
    "# Load the network\n",
    "n = pypsa.Network(\"/Users/antoniagrindrod/Documents/pypsa-earth_project/pypsa-earth-RL/networks/elec_s_10_ec_lc1.0_1h.nc\")\n",
    "\n",
    "\n",
    "# Check for isolated buses before fixing\n",
    "print(\"=== CHECKING FOR ISOLATED BUSES ===\")\n",
    "n.determine_network_topology()\n",
    "if hasattr(n, 'sub_networks') and len(n.sub_networks) > 1:\n",
    "    print(f\"Network has {len(n.sub_networks)} disconnected sub-networks\")\n",
    "    print(\"This indicates isolated buses that need connecting\")\n",
    "\n",
    "# Check demand at problematic buses\n",
    "print(\"\\n=== DEMAND AT KEY BUSES ===\")\n",
    "for bus in ['ZA1 0', 'ZA2 0', 'ZA3 0']:\n",
    "    if bus in n.buses.index:\n",
    "        bus_demand = 0\n",
    "        for load_name, load in n.loads.iterrows():\n",
    "            if load.bus == bus and load_name in n.loads_t.p_set.columns:\n",
    "                bus_demand = n.loads_t.p_set[load_name].max()\n",
    "        print(f\"Bus {bus} maximum demand: {bus_demand:.1f} MW\")\n",
    "\n",
    "# Apply the reasonable capacity fix\n",
    "fix_artificial_lines_reasonable(n)\n",
    "\n",
    "# Try optimizing\n",
    "try:\n",
    "    n.optimize(solver_name='gurobi')\n",
    "    print(\"\\n✅ SUCCESS! Network optimized successfully with reasonable line capacities\")\n",
    "    print(f\"Objective: {n.objective:,.0f}\")\n",
    "    \n",
    "    # Save this working network\n",
    "    n.export_to_netcdf(\"elec_s_10_ec_lc1.0_1h_reasonable.nc\")\n",
    "    print(\"💾 Saved network as: elec_s_10_ec_lc1.0_1h_reasonable.nc\")\n",
    "    \n",
    "except Exception as e:\n",
    "    print(f\"\\n❌ Optimization failed: {e}\")\n",
    "    \n",
    "    # If optimization failed, try adding artificial lines\n",
    "    print(\"\\n=== TRYING TO ADD ARTIFICIAL LINES ===\")\n",
    "    \n",
    "    # Check if we need to add artificial lines\n",
    "    isolated_buses = []\n",
    "    for bus in n.buses.index:\n",
    "        bus_in_lines = False\n",
    "        for idx, line in n.lines.iterrows():\n",
    "            if line.bus0 == bus or line.bus1 == bus:\n",
    "                bus_in_lines = True\n",
    "                break\n",
    "        if not bus_in_lines:\n",
    "            isolated_buses.append(bus)\n",
    "    \n",
    "    if isolated_buses:\n",
    "        print(f\"Found {len(isolated_buses)} isolated buses: {isolated_buses}\")\n",
    "        \n",
    "        # Connect isolated buses to main grid\n",
    "        main_grid_bus = \"ZA0 0\"  # Assuming ZA0 0 is part of main grid\n",
    "        \n",
    "        for isolated_bus in isolated_buses:\n",
    "            line_name = f\"artificial_line_{main_grid_bus}_to_{isolated_bus}\"\n",
    "            \n",
    "            # Get maximum demand at isolated bus\n",
    "            bus_demand = 0\n",
    "            for load_name, load in n.loads.iterrows():\n",
    "                if load.bus == isolated_bus and load_name in n.loads_t.p_set.columns:\n",
    "                    bus_demand = max(bus_demand, n.loads_t.p_set[load_name].max())\n",
    "            \n",
    "            # Set capacity to 3x demand with minimum 1000 MW\n",
    "            capacity = max(bus_demand * 3, 1000)\n",
    "            \n",
    "            # Add the line\n",
    "            n.add(\"Line\", line_name,\n",
    "                  bus0=main_grid_bus,\n",
    "                  bus1=isolated_bus,\n",
    "                  s_nom=capacity,\n",
    "                  s_nom_extendable=False,\n",
    "                  length=500,  # Reasonable assumption\n",
    "                  r=0.01, x=0.1)  # Standard transmission parameters\n",
    "            \n",
    "            print(f\"Added line: {main_grid_bus} ↔ {isolated_bus} with {capacity:.1f} MW capacity\")\n",
    "        \n",
    "        # Try optimizing again\n",
    "        try:\n",
    "            n.optimize(solver_name='gurobi')\n",
    "            print(\"\\n✅ SUCCESS! Network optimized successfully after adding artificial lines\")\n",
    "            print(f\"Objective: {n.objective:,.0f}\")\n",
    "            \n",
    "            # Save the optimized network\n",
    "            network.export_to_netcdf(\"/Users/antoniagrindrod/Desktop/optimized_elec_s_10_ec_lc1.0_1h.nc\")\n",
    "            print(\"Optimization complete and saved!\")\n",
    "            \n",
    "        except Exception as e2:\n",
    "            print(f\"\\n❌ Still failed after adding artificial lines: {e2}\")\n"
   ]
  }
 ],
 "metadata": {
  "kernelspec": {
   "display_name": "pypsa-earth",
   "language": "python",
   "name": "python3"
  },
  "language_info": {
   "codemirror_mode": {
    "name": "ipython",
    "version": 3
   },
   "file_extension": ".py",
   "mimetype": "text/x-python",
   "name": "python",
   "nbconvert_exporter": "python",
   "pygments_lexer": "ipython3",
   "version": "3.11.13"
  }
 },
 "nbformat": 4,
 "nbformat_minor": 5
}
