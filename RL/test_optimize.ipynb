{
 "cells": [
  {
   "cell_type": "code",
   "execution_count": 1,
   "id": "781c267b",
   "metadata": {},
   "outputs": [],
   "source": [
    "import pypsa"
   ]
  },
  {
   "cell_type": "code",
   "execution_count": 3,
   "id": "2d11a171",
   "metadata": {},
   "outputs": [
    {
     "name": "stderr",
     "output_type": "stream",
     "text": [
      "INFO:pypsa.io:Imported network elec_s_5_ec_lc1.0_3h.nc has buses, carriers, generators, global_constraints, lines, loads, storage_units\n"
     ]
    },
    {
     "name": "stdout",
     "output_type": "stream",
     "text": [
      "Current working directory: /Users/antoniagrindrod/Documents/pypsa-earth_project/pypsa-earth-RL\n",
      "Network file exists: True\n"
     ]
    }
   ],
   "source": [
    "import os\n",
    "\n",
    "# Go one directory back from the current directory\n",
    "os.chdir('..')\n",
    "\n",
    "# Now load the network from the networks folder\n",
    "network = pypsa.Network(\"networks/elec_s_5_ec_lc1.0_3h.nc\")\n",
    "\n",
    "# Print current working directory to verify\n",
    "print(f\"Current working directory: {os.getcwd()}\")\n",
    "print(f\"Network file exists: {os.path.exists('networks/elec_s_5_ec_lc1.0_3h.nc')}\")"
   ]
  },
  {
   "cell_type": "code",
   "execution_count": 4,
   "id": "d0966daf",
   "metadata": {},
   "outputs": [
    {
     "name": "stderr",
     "output_type": "stream",
     "text": [
      "WARNING:pypsa.consistency:The following lines have carriers which are not defined:\n",
      "Index(['0', '1', '2', '3', '4', '5', '6'], dtype='object', name='Line')\n",
      "WARNING:pypsa.consistency:The following buses have carriers which are not defined:\n",
      "Index(['ZA0 0', 'ZA0 1', 'ZA0 2', 'ZA0 3', 'ZA0 4', 'ZA1 0', 'ZA2 0', 'ZA3 0'], dtype='object', name='Bus')\n",
      "WARNING:pypsa.consistency:The following lines have carriers which are not defined:\n",
      "Index(['0', '1', '2', '3', '4', '5', '6'], dtype='object', name='Line')\n",
      "WARNING:pypsa.consistency:The following buses have carriers which are not defined:\n",
      "Index(['ZA0 0', 'ZA0 1', 'ZA0 2', 'ZA0 3', 'ZA0 4', 'ZA1 0', 'ZA2 0', 'ZA3 0'], dtype='object', name='Bus')\n",
      "INFO:linopy.model: Solve problem using Gurobi solver\n",
      "INFO:linopy.io: Writing time: 0.14s\n"
     ]
    },
    {
     "name": "stdout",
     "output_type": "stream",
     "text": [
      "Set parameter Username\n"
     ]
    },
    {
     "name": "stderr",
     "output_type": "stream",
     "text": [
      "INFO:gurobipy:Set parameter Username\n"
     ]
    },
    {
     "name": "stdout",
     "output_type": "stream",
     "text": [
      "Set parameter LicenseID to value 2695191\n"
     ]
    },
    {
     "name": "stderr",
     "output_type": "stream",
     "text": [
      "INFO:gurobipy:Set parameter LicenseID to value 2695191\n"
     ]
    },
    {
     "name": "stdout",
     "output_type": "stream",
     "text": [
      "Academic license - for non-commercial use only - expires 2026-08-12\n"
     ]
    },
    {
     "name": "stderr",
     "output_type": "stream",
     "text": [
      "INFO:gurobipy:Academic license - for non-commercial use only - expires 2026-08-12\n"
     ]
    },
    {
     "name": "stdout",
     "output_type": "stream",
     "text": [
      "Read LP format model from file /private/var/folders/tt/b5q5vkxj6xvf2b6q1f46ytgw0000gn/T/linopy-problem-n_tf37ua.lp\n"
     ]
    },
    {
     "name": "stderr",
     "output_type": "stream",
     "text": [
      "INFO:gurobipy:Read LP format model from file /private/var/folders/tt/b5q5vkxj6xvf2b6q1f46ytgw0000gn/T/linopy-problem-n_tf37ua.lp\n"
     ]
    },
    {
     "name": "stdout",
     "output_type": "stream",
     "text": [
      "Reading time = 0.03 seconds\n"
     ]
    },
    {
     "name": "stderr",
     "output_type": "stream",
     "text": [
      "INFO:gurobipy:Reading time = 0.03 seconds\n"
     ]
    },
    {
     "name": "stdout",
     "output_type": "stream",
     "text": [
      "obj: 7448 rows, 3416 columns, 11480 nonzeros\n"
     ]
    },
    {
     "name": "stderr",
     "output_type": "stream",
     "text": [
      "INFO:gurobipy:obj: 7448 rows, 3416 columns, 11480 nonzeros\n"
     ]
    },
    {
     "name": "stdout",
     "output_type": "stream",
     "text": [
      "Gurobi Optimizer version 12.0.3 build v12.0.3rc0 (mac64[x86] - Darwin 24.6.0 24G84)\n"
     ]
    },
    {
     "name": "stderr",
     "output_type": "stream",
     "text": [
      "INFO:gurobipy:Gurobi Optimizer version 12.0.3 build v12.0.3rc0 (mac64[x86] - Darwin 24.6.0 24G84)\n"
     ]
    },
    {
     "name": "stdout",
     "output_type": "stream",
     "text": [
      "\n"
     ]
    },
    {
     "name": "stderr",
     "output_type": "stream",
     "text": [
      "INFO:gurobipy:\n"
     ]
    },
    {
     "name": "stdout",
     "output_type": "stream",
     "text": [
      "CPU model: Intel(R) Core(TM) i5-8279U CPU @ 2.40GHz\n"
     ]
    },
    {
     "name": "stderr",
     "output_type": "stream",
     "text": [
      "INFO:gurobipy:CPU model: Intel(R) Core(TM) i5-8279U CPU @ 2.40GHz\n"
     ]
    },
    {
     "name": "stdout",
     "output_type": "stream",
     "text": [
      "Thread count: 4 physical cores, 8 logical processors, using up to 8 threads\n"
     ]
    },
    {
     "name": "stderr",
     "output_type": "stream",
     "text": [
      "INFO:gurobipy:Thread count: 4 physical cores, 8 logical processors, using up to 8 threads\n"
     ]
    },
    {
     "name": "stdout",
     "output_type": "stream",
     "text": [
      "\n"
     ]
    },
    {
     "name": "stderr",
     "output_type": "stream",
     "text": [
      "INFO:gurobipy:\n"
     ]
    },
    {
     "name": "stdout",
     "output_type": "stream",
     "text": [
      "Optimize a model with 7448 rows, 3416 columns and 11480 nonzeros\n"
     ]
    },
    {
     "name": "stderr",
     "output_type": "stream",
     "text": [
      "INFO:gurobipy:Optimize a model with 7448 rows, 3416 columns and 11480 nonzeros\n"
     ]
    },
    {
     "name": "stdout",
     "output_type": "stream",
     "text": [
      "Model fingerprint: 0xb2a7a8b3\n"
     ]
    },
    {
     "name": "stderr",
     "output_type": "stream",
     "text": [
      "INFO:gurobipy:Model fingerprint: 0xb2a7a8b3\n"
     ]
    },
    {
     "name": "stdout",
     "output_type": "stream",
     "text": [
      "Coefficient statistics:\n"
     ]
    },
    {
     "name": "stderr",
     "output_type": "stream",
     "text": [
      "INFO:gurobipy:Coefficient statistics:\n"
     ]
    },
    {
     "name": "stdout",
     "output_type": "stream",
     "text": [
      "  Matrix range     [1e+00, 2e+02]\n"
     ]
    },
    {
     "name": "stderr",
     "output_type": "stream",
     "text": [
      "INFO:gurobipy:  Matrix range     [1e+00, 2e+02]\n"
     ]
    },
    {
     "name": "stdout",
     "output_type": "stream",
     "text": [
      "  Objective range  [2e+00, 7e+03]\n"
     ]
    },
    {
     "name": "stderr",
     "output_type": "stream",
     "text": [
      "INFO:gurobipy:  Objective range  [2e+00, 7e+03]\n"
     ]
    },
    {
     "name": "stdout",
     "output_type": "stream",
     "text": [
      "  Bounds range     [7e+00, 9e+02]\n"
     ]
    },
    {
     "name": "stderr",
     "output_type": "stream",
     "text": [
      "INFO:gurobipy:  Bounds range     [7e+00, 9e+02]\n"
     ]
    },
    {
     "name": "stdout",
     "output_type": "stream",
     "text": [
      "  RHS range        [2e-03, 1e+06]\n"
     ]
    },
    {
     "name": "stderr",
     "output_type": "stream",
     "text": [
      "INFO:gurobipy:  RHS range        [2e-03, 1e+06]\n"
     ]
    },
    {
     "name": "stdout",
     "output_type": "stream",
     "text": [
      "Presolve removed 6608 rows and 969 columns\n"
     ]
    },
    {
     "name": "stderr",
     "output_type": "stream",
     "text": [
      "INFO:gurobipy:Presolve removed 6608 rows and 969 columns\n"
     ]
    },
    {
     "name": "stdout",
     "output_type": "stream",
     "text": [
      "Presolve time: 0.10s\n"
     ]
    },
    {
     "name": "stderr",
     "output_type": "stream",
     "text": [
      "INFO:gurobipy:Presolve time: 0.10s\n"
     ]
    },
    {
     "name": "stdout",
     "output_type": "stream",
     "text": [
      "\n"
     ]
    },
    {
     "name": "stderr",
     "output_type": "stream",
     "text": [
      "INFO:gurobipy:\n"
     ]
    },
    {
     "name": "stdout",
     "output_type": "stream",
     "text": [
      "Solved in 0 iterations and 0.11 seconds (0.00 work units)\n"
     ]
    },
    {
     "name": "stderr",
     "output_type": "stream",
     "text": [
      "INFO:gurobipy:Solved in 0 iterations and 0.11 seconds (0.00 work units)\n"
     ]
    },
    {
     "name": "stdout",
     "output_type": "stream",
     "text": [
      "Infeasible or unbounded model\n"
     ]
    },
    {
     "name": "stderr",
     "output_type": "stream",
     "text": [
      "INFO:gurobipy:Infeasible or unbounded model\n",
      "INFO:linopy.solvers:Unable to save solution file. Raised error: Unable to retrieve attribute 'X'\n",
      "WARNING:linopy.constants:Optimization potentially failed: \n",
      "Status: warning\n",
      "Termination condition: infeasible_or_unbounded\n",
      "Solution: 0 primals, 0 duals\n",
      "Objective: nan\n",
      "Solver model: available\n",
      "Solver message: 4\n",
      "\n"
     ]
    },
    {
     "data": {
      "text/plain": [
       "('warning', 'infeasible_or_unbounded')"
      ]
     },
     "execution_count": 4,
     "metadata": {},
     "output_type": "execute_result"
    }
   ],
   "source": [
    "network.optimize(solver_name='gurobi')"
   ]
  },
  {
   "cell_type": "code",
   "execution_count": 2,
   "id": "f39b1394",
   "metadata": {},
   "outputs": [
    {
     "name": "stderr",
     "output_type": "stream",
     "text": [
      "INFO:pypsa.io:Imported network elec_s_5_ec_lc1.0_3h.nc has buses, carriers, generators, global_constraints, lines, loads, storage_units\n",
      "WARNING:pypsa.consistency:The following lines have carriers which are not defined:\n",
      "Index(['0', '1', '2', '3', '4', '5', '6'], dtype='object', name='Line')\n",
      "WARNING:pypsa.consistency:The following buses have carriers which are not defined:\n",
      "Index(['ZA0 0', 'ZA0 1', 'ZA0 2', 'ZA0 3', 'ZA0 4', 'ZA1 0', 'ZA2 0', 'ZA3 0'], dtype='object', name='Bus')\n",
      "WARNING:pypsa.consistency:The following lines have carriers which are not defined:\n",
      "Index(['0', '1', '2', '3', '4', '5', '6'], dtype='object', name='Line')\n",
      "WARNING:pypsa.consistency:The following buses have carriers which are not defined:\n",
      "Index(['ZA0 0', 'ZA0 1', 'ZA0 2', 'ZA0 3', 'ZA0 4', 'ZA1 0', 'ZA2 0', 'ZA3 0'], dtype='object', name='Bus')\n",
      "INFO:linopy.model: Solve problem using Gurobi solver\n",
      "INFO:linopy.model:Solver options:\n",
      " - DualReductions: 0\n",
      " - InfUnbdInfo: 1\n",
      "INFO:linopy.io: Writing time: 0.13s\n"
     ]
    },
    {
     "name": "stdout",
     "output_type": "stream",
     "text": [
      "Set parameter Username\n"
     ]
    },
    {
     "name": "stderr",
     "output_type": "stream",
     "text": [
      "INFO:gurobipy:Set parameter Username\n"
     ]
    },
    {
     "name": "stdout",
     "output_type": "stream",
     "text": [
      "Set parameter LicenseID to value 2695191\n"
     ]
    },
    {
     "name": "stderr",
     "output_type": "stream",
     "text": [
      "INFO:gurobipy:Set parameter LicenseID to value 2695191\n"
     ]
    },
    {
     "name": "stdout",
     "output_type": "stream",
     "text": [
      "Academic license - for non-commercial use only - expires 2026-08-12\n"
     ]
    },
    {
     "name": "stderr",
     "output_type": "stream",
     "text": [
      "INFO:gurobipy:Academic license - for non-commercial use only - expires 2026-08-12\n"
     ]
    },
    {
     "name": "stdout",
     "output_type": "stream",
     "text": [
      "Read LP format model from file /private/var/folders/tt/b5q5vkxj6xvf2b6q1f46ytgw0000gn/T/linopy-problem-ghcskqkt.lp\n"
     ]
    },
    {
     "name": "stderr",
     "output_type": "stream",
     "text": [
      "INFO:gurobipy:Read LP format model from file /private/var/folders/tt/b5q5vkxj6xvf2b6q1f46ytgw0000gn/T/linopy-problem-ghcskqkt.lp\n"
     ]
    },
    {
     "name": "stdout",
     "output_type": "stream",
     "text": [
      "Reading time = 0.03 seconds\n"
     ]
    },
    {
     "name": "stderr",
     "output_type": "stream",
     "text": [
      "INFO:gurobipy:Reading time = 0.03 seconds\n"
     ]
    },
    {
     "name": "stdout",
     "output_type": "stream",
     "text": [
      "obj: 7448 rows, 3416 columns, 11480 nonzeros\n"
     ]
    },
    {
     "name": "stderr",
     "output_type": "stream",
     "text": [
      "INFO:gurobipy:obj: 7448 rows, 3416 columns, 11480 nonzeros\n"
     ]
    },
    {
     "name": "stdout",
     "output_type": "stream",
     "text": [
      "Set parameter DualReductions to value 0\n"
     ]
    },
    {
     "name": "stderr",
     "output_type": "stream",
     "text": [
      "INFO:gurobipy:Set parameter DualReductions to value 0\n"
     ]
    },
    {
     "name": "stdout",
     "output_type": "stream",
     "text": [
      "Set parameter InfUnbdInfo to value 1\n"
     ]
    },
    {
     "name": "stderr",
     "output_type": "stream",
     "text": [
      "INFO:gurobipy:Set parameter InfUnbdInfo to value 1\n"
     ]
    },
    {
     "name": "stdout",
     "output_type": "stream",
     "text": [
      "Gurobi Optimizer version 12.0.3 build v12.0.3rc0 (mac64[x86] - Darwin 24.6.0 24G84)\n"
     ]
    },
    {
     "name": "stderr",
     "output_type": "stream",
     "text": [
      "INFO:gurobipy:Gurobi Optimizer version 12.0.3 build v12.0.3rc0 (mac64[x86] - Darwin 24.6.0 24G84)\n"
     ]
    },
    {
     "name": "stdout",
     "output_type": "stream",
     "text": [
      "\n"
     ]
    },
    {
     "name": "stderr",
     "output_type": "stream",
     "text": [
      "INFO:gurobipy:\n"
     ]
    },
    {
     "name": "stdout",
     "output_type": "stream",
     "text": [
      "CPU model: Intel(R) Core(TM) i5-8279U CPU @ 2.40GHz\n"
     ]
    },
    {
     "name": "stderr",
     "output_type": "stream",
     "text": [
      "INFO:gurobipy:CPU model: Intel(R) Core(TM) i5-8279U CPU @ 2.40GHz\n"
     ]
    },
    {
     "name": "stdout",
     "output_type": "stream",
     "text": [
      "Thread count: 4 physical cores, 8 logical processors, using up to 8 threads\n"
     ]
    },
    {
     "name": "stderr",
     "output_type": "stream",
     "text": [
      "INFO:gurobipy:Thread count: 4 physical cores, 8 logical processors, using up to 8 threads\n"
     ]
    },
    {
     "name": "stdout",
     "output_type": "stream",
     "text": [
      "\n"
     ]
    },
    {
     "name": "stderr",
     "output_type": "stream",
     "text": [
      "INFO:gurobipy:\n"
     ]
    },
    {
     "name": "stdout",
     "output_type": "stream",
     "text": [
      "Non-default parameters:\n"
     ]
    },
    {
     "name": "stderr",
     "output_type": "stream",
     "text": [
      "INFO:gurobipy:Non-default parameters:\n"
     ]
    },
    {
     "name": "stdout",
     "output_type": "stream",
     "text": [
      "DualReductions  0\n"
     ]
    },
    {
     "name": "stderr",
     "output_type": "stream",
     "text": [
      "INFO:gurobipy:DualReductions  0\n"
     ]
    },
    {
     "name": "stdout",
     "output_type": "stream",
     "text": [
      "InfUnbdInfo  1\n"
     ]
    },
    {
     "name": "stderr",
     "output_type": "stream",
     "text": [
      "INFO:gurobipy:InfUnbdInfo  1\n"
     ]
    },
    {
     "name": "stdout",
     "output_type": "stream",
     "text": [
      "\n"
     ]
    },
    {
     "name": "stderr",
     "output_type": "stream",
     "text": [
      "INFO:gurobipy:\n"
     ]
    },
    {
     "name": "stdout",
     "output_type": "stream",
     "text": [
      "Optimize a model with 7448 rows, 3416 columns and 11480 nonzeros\n"
     ]
    },
    {
     "name": "stderr",
     "output_type": "stream",
     "text": [
      "INFO:gurobipy:Optimize a model with 7448 rows, 3416 columns and 11480 nonzeros\n"
     ]
    },
    {
     "name": "stdout",
     "output_type": "stream",
     "text": [
      "Model fingerprint: 0xb2a7a8b3\n"
     ]
    },
    {
     "name": "stderr",
     "output_type": "stream",
     "text": [
      "INFO:gurobipy:Model fingerprint: 0xb2a7a8b3\n"
     ]
    },
    {
     "name": "stdout",
     "output_type": "stream",
     "text": [
      "Coefficient statistics:\n"
     ]
    },
    {
     "name": "stderr",
     "output_type": "stream",
     "text": [
      "INFO:gurobipy:Coefficient statistics:\n"
     ]
    },
    {
     "name": "stdout",
     "output_type": "stream",
     "text": [
      "  Matrix range     [1e+00, 2e+02]\n"
     ]
    },
    {
     "name": "stderr",
     "output_type": "stream",
     "text": [
      "INFO:gurobipy:  Matrix range     [1e+00, 2e+02]\n"
     ]
    },
    {
     "name": "stdout",
     "output_type": "stream",
     "text": [
      "  Objective range  [2e+00, 7e+03]\n"
     ]
    },
    {
     "name": "stderr",
     "output_type": "stream",
     "text": [
      "INFO:gurobipy:  Objective range  [2e+00, 7e+03]\n"
     ]
    },
    {
     "name": "stdout",
     "output_type": "stream",
     "text": [
      "  Bounds range     [7e+00, 9e+02]\n"
     ]
    },
    {
     "name": "stderr",
     "output_type": "stream",
     "text": [
      "INFO:gurobipy:  Bounds range     [7e+00, 9e+02]\n"
     ]
    },
    {
     "name": "stdout",
     "output_type": "stream",
     "text": [
      "  RHS range        [2e-03, 1e+06]\n"
     ]
    },
    {
     "name": "stderr",
     "output_type": "stream",
     "text": [
      "INFO:gurobipy:  RHS range        [2e-03, 1e+06]\n"
     ]
    },
    {
     "name": "stdout",
     "output_type": "stream",
     "text": [
      "Presolve time: 0.30s\n"
     ]
    },
    {
     "name": "stderr",
     "output_type": "stream",
     "text": [
      "INFO:gurobipy:Presolve time: 0.30s\n"
     ]
    },
    {
     "name": "stdout",
     "output_type": "stream",
     "text": [
      "Iteration    Objective       Primal Inf.    Dual Inf.      Time\n"
     ]
    },
    {
     "name": "stderr",
     "output_type": "stream",
     "text": [
      "INFO:gurobipy:Iteration    Objective       Primal Inf.    Dual Inf.      Time\n"
     ]
    },
    {
     "name": "stdout",
     "output_type": "stream",
     "text": [
      "       0      handle free variables                          0s\n"
     ]
    },
    {
     "name": "stderr",
     "output_type": "stream",
     "text": [
      "INFO:gurobipy:       0      handle free variables                          0s\n"
     ]
    },
    {
     "name": "stdout",
     "output_type": "stream",
     "text": [
      "\n"
     ]
    },
    {
     "name": "stderr",
     "output_type": "stream",
     "text": [
      "INFO:gurobipy:\n"
     ]
    },
    {
     "name": "stdout",
     "output_type": "stream",
     "text": [
      "Solved in 5956 iterations and 0.60 seconds (0.10 work units)\n"
     ]
    },
    {
     "name": "stderr",
     "output_type": "stream",
     "text": [
      "INFO:gurobipy:Solved in 5956 iterations and 0.60 seconds (0.10 work units)\n"
     ]
    },
    {
     "name": "stdout",
     "output_type": "stream",
     "text": [
      "Infeasible model\n"
     ]
    },
    {
     "name": "stderr",
     "output_type": "stream",
     "text": [
      "INFO:gurobipy:Infeasible model\n",
      "WARNING:linopy.constants:Optimization potentially failed: \n",
      "Status: warning\n",
      "Termination condition: infeasible\n",
      "Solution: 0 primals, 0 duals\n",
      "Objective: nan\n",
      "Solver model: available\n",
      "Solver message: 3\n",
      "\n"
     ]
    },
    {
     "name": "stdout",
     "output_type": "stream",
     "text": [
      "Generator marginal costs:\n",
      "            marginal_cost\n",
      "carrier                  \n",
      "CCGT            46.803121\n",
      "biomass         15.828205\n",
      "coal            30.098840\n",
      "nuclear         14.013271\n",
      "offwind-ac       0.015000\n",
      "offwind-dc       0.015000\n",
      "onwind           0.015000\n",
      "ror              0.000000\n",
      "solar            0.010000\n"
     ]
    }
   ],
   "source": [
    "import pypsa\n",
    "import gurobipy as gp\n",
    "import os\n",
    "\n",
    "# Go one directory back from the current directory\n",
    "os.chdir('..')\n",
    "\n",
    "# Now load the network from the networks folder\n",
    "n = pypsa.Network(\"networks/elec_s_5_ec_lc1.0_3h.nc\")\n",
    "\n",
    "# Try with Gurobi's DualReductions=0 to distinguish infeasible vs unbounded\n",
    "try:\n",
    "    n.optimize(\n",
    "        solver_name='gurobi', \n",
    "        solver_options={\n",
    "            'DualReductions': 0,  # Helps distinguish infeasible vs unbounded\n",
    "            'InfUnbdInfo': 1      # Get more info about infeasibility\n",
    "        }\n",
    "    )\n",
    "except Exception as e:\n",
    "    print(f\"Optimization result: {e}\")\n",
    "\n",
    "# Check if it's actually unbounded (costs too low/negative)\n",
    "print(\"Generator marginal costs:\")\n",
    "print(n.generators[['carrier', 'marginal_cost']].groupby('carrier').mean())"
   ]
  },
  {
   "cell_type": "code",
   "execution_count": 3,
   "id": "3eca959f",
   "metadata": {},
   "outputs": [
    {
     "name": "stdout",
     "output_type": "stream",
     "text": [
      "ERROR! Session/line number was not unique in database. History logging moved to new session 212\n"
     ]
    },
    {
     "name": "stderr",
     "output_type": "stream",
     "text": [
      "INFO:pypsa.io:Imported network elec_s_5_ec_lc1.0_3h.nc has buses, carriers, generators, global_constraints, lines, loads, storage_units\n",
      "WARNING:pypsa.consistency:The following lines have carriers which are not defined:\n",
      "Index(['0', '1', '2', '3', '4', '5', '6'], dtype='object', name='Line')\n",
      "WARNING:pypsa.consistency:The following buses have carriers which are not defined:\n",
      "Index(['ZA0 0', 'ZA0 1', 'ZA0 2', 'ZA0 3', 'ZA0 4', 'ZA1 0', 'ZA2 0', 'ZA3 0'], dtype='object', name='Bus')\n",
      "WARNING:pypsa.consistency:The following lines have carriers which are not defined:\n",
      "Index(['0', '1', '2', '3', '4', '5', '6'], dtype='object', name='Line')\n",
      "WARNING:pypsa.consistency:The following buses have carriers which are not defined:\n",
      "Index(['ZA0 0', 'ZA0 1', 'ZA0 2', 'ZA0 3', 'ZA0 4', 'ZA1 0', 'ZA2 0', 'ZA3 0'], dtype='object', name='Bus')\n",
      "INFO:linopy.model: Solve problem using Gurobi solver\n",
      "INFO:linopy.model:Solver options:\n",
      " - DualReductions: 0\n",
      " - InfUnbdInfo: 1\n",
      " - IISMethod: 1\n",
      " - ResultFile: model.ilp\n",
      "INFO:linopy.io: Writing time: 0.1s\n"
     ]
    },
    {
     "name": "stdout",
     "output_type": "stream",
     "text": [
      "Set parameter Username\n"
     ]
    },
    {
     "name": "stderr",
     "output_type": "stream",
     "text": [
      "INFO:gurobipy:Set parameter Username\n"
     ]
    },
    {
     "name": "stdout",
     "output_type": "stream",
     "text": [
      "Set parameter LicenseID to value 2695191\n"
     ]
    },
    {
     "name": "stderr",
     "output_type": "stream",
     "text": [
      "INFO:gurobipy:Set parameter LicenseID to value 2695191\n"
     ]
    },
    {
     "name": "stdout",
     "output_type": "stream",
     "text": [
      "Academic license - for non-commercial use only - expires 2026-08-12\n"
     ]
    },
    {
     "name": "stderr",
     "output_type": "stream",
     "text": [
      "INFO:gurobipy:Academic license - for non-commercial use only - expires 2026-08-12\n"
     ]
    },
    {
     "name": "stdout",
     "output_type": "stream",
     "text": [
      "Read LP format model from file /private/var/folders/tt/b5q5vkxj6xvf2b6q1f46ytgw0000gn/T/linopy-problem-mg2umyve.lp\n"
     ]
    },
    {
     "name": "stderr",
     "output_type": "stream",
     "text": [
      "INFO:gurobipy:Read LP format model from file /private/var/folders/tt/b5q5vkxj6xvf2b6q1f46ytgw0000gn/T/linopy-problem-mg2umyve.lp\n"
     ]
    },
    {
     "name": "stdout",
     "output_type": "stream",
     "text": [
      "Reading time = 0.11 seconds\n"
     ]
    },
    {
     "name": "stderr",
     "output_type": "stream",
     "text": [
      "INFO:gurobipy:Reading time = 0.11 seconds\n"
     ]
    },
    {
     "name": "stdout",
     "output_type": "stream",
     "text": [
      "obj: 7448 rows, 3416 columns, 11480 nonzeros\n"
     ]
    },
    {
     "name": "stderr",
     "output_type": "stream",
     "text": [
      "INFO:gurobipy:obj: 7448 rows, 3416 columns, 11480 nonzeros\n"
     ]
    },
    {
     "name": "stdout",
     "output_type": "stream",
     "text": [
      "Set parameter DualReductions to value 0\n"
     ]
    },
    {
     "name": "stderr",
     "output_type": "stream",
     "text": [
      "INFO:gurobipy:Set parameter DualReductions to value 0\n"
     ]
    },
    {
     "name": "stdout",
     "output_type": "stream",
     "text": [
      "Set parameter InfUnbdInfo to value 1\n"
     ]
    },
    {
     "name": "stderr",
     "output_type": "stream",
     "text": [
      "INFO:gurobipy:Set parameter InfUnbdInfo to value 1\n"
     ]
    },
    {
     "name": "stdout",
     "output_type": "stream",
     "text": [
      "Set parameter IISMethod to value 1\n"
     ]
    },
    {
     "name": "stderr",
     "output_type": "stream",
     "text": [
      "INFO:gurobipy:Set parameter IISMethod to value 1\n"
     ]
    },
    {
     "name": "stdout",
     "output_type": "stream",
     "text": [
      "Gurobi Optimizer version 12.0.3 build v12.0.3rc0 (mac64[x86] - Darwin 24.6.0 24G84)\n"
     ]
    },
    {
     "name": "stderr",
     "output_type": "stream",
     "text": [
      "INFO:gurobipy:Gurobi Optimizer version 12.0.3 build v12.0.3rc0 (mac64[x86] - Darwin 24.6.0 24G84)\n"
     ]
    },
    {
     "name": "stdout",
     "output_type": "stream",
     "text": [
      "\n"
     ]
    },
    {
     "name": "stderr",
     "output_type": "stream",
     "text": [
      "INFO:gurobipy:\n"
     ]
    },
    {
     "name": "stdout",
     "output_type": "stream",
     "text": [
      "CPU model: Intel(R) Core(TM) i5-8279U CPU @ 2.40GHz\n"
     ]
    },
    {
     "name": "stderr",
     "output_type": "stream",
     "text": [
      "INFO:gurobipy:CPU model: Intel(R) Core(TM) i5-8279U CPU @ 2.40GHz\n"
     ]
    },
    {
     "name": "stdout",
     "output_type": "stream",
     "text": [
      "Thread count: 4 physical cores, 8 logical processors, using up to 8 threads\n"
     ]
    },
    {
     "name": "stderr",
     "output_type": "stream",
     "text": [
      "INFO:gurobipy:Thread count: 4 physical cores, 8 logical processors, using up to 8 threads\n"
     ]
    },
    {
     "name": "stdout",
     "output_type": "stream",
     "text": [
      "\n"
     ]
    },
    {
     "name": "stderr",
     "output_type": "stream",
     "text": [
      "INFO:gurobipy:\n"
     ]
    },
    {
     "name": "stdout",
     "output_type": "stream",
     "text": [
      "Non-default parameters:\n"
     ]
    },
    {
     "name": "stderr",
     "output_type": "stream",
     "text": [
      "INFO:gurobipy:Non-default parameters:\n"
     ]
    },
    {
     "name": "stdout",
     "output_type": "stream",
     "text": [
      "DualReductions  0\n"
     ]
    },
    {
     "name": "stderr",
     "output_type": "stream",
     "text": [
      "INFO:gurobipy:DualReductions  0\n"
     ]
    },
    {
     "name": "stdout",
     "output_type": "stream",
     "text": [
      "IISMethod  1\n"
     ]
    },
    {
     "name": "stderr",
     "output_type": "stream",
     "text": [
      "INFO:gurobipy:IISMethod  1\n"
     ]
    },
    {
     "name": "stdout",
     "output_type": "stream",
     "text": [
      "InfUnbdInfo  1\n"
     ]
    },
    {
     "name": "stderr",
     "output_type": "stream",
     "text": [
      "INFO:gurobipy:InfUnbdInfo  1\n"
     ]
    },
    {
     "name": "stdout",
     "output_type": "stream",
     "text": [
      "\n"
     ]
    },
    {
     "name": "stderr",
     "output_type": "stream",
     "text": [
      "INFO:gurobipy:\n"
     ]
    },
    {
     "name": "stdout",
     "output_type": "stream",
     "text": [
      "Optimize a model with 7448 rows, 3416 columns and 11480 nonzeros\n"
     ]
    },
    {
     "name": "stderr",
     "output_type": "stream",
     "text": [
      "INFO:gurobipy:Optimize a model with 7448 rows, 3416 columns and 11480 nonzeros\n"
     ]
    },
    {
     "name": "stdout",
     "output_type": "stream",
     "text": [
      "Model fingerprint: 0xb2a7a8b3\n"
     ]
    },
    {
     "name": "stderr",
     "output_type": "stream",
     "text": [
      "INFO:gurobipy:Model fingerprint: 0xb2a7a8b3\n"
     ]
    },
    {
     "name": "stdout",
     "output_type": "stream",
     "text": [
      "Coefficient statistics:\n"
     ]
    },
    {
     "name": "stderr",
     "output_type": "stream",
     "text": [
      "INFO:gurobipy:Coefficient statistics:\n"
     ]
    },
    {
     "name": "stdout",
     "output_type": "stream",
     "text": [
      "  Matrix range     [1e+00, 2e+02]\n"
     ]
    },
    {
     "name": "stderr",
     "output_type": "stream",
     "text": [
      "INFO:gurobipy:  Matrix range     [1e+00, 2e+02]\n"
     ]
    },
    {
     "name": "stdout",
     "output_type": "stream",
     "text": [
      "  Objective range  [2e+00, 7e+03]\n"
     ]
    },
    {
     "name": "stderr",
     "output_type": "stream",
     "text": [
      "INFO:gurobipy:  Objective range  [2e+00, 7e+03]\n"
     ]
    },
    {
     "name": "stdout",
     "output_type": "stream",
     "text": [
      "  Bounds range     [7e+00, 9e+02]\n"
     ]
    },
    {
     "name": "stderr",
     "output_type": "stream",
     "text": [
      "INFO:gurobipy:  Bounds range     [7e+00, 9e+02]\n"
     ]
    },
    {
     "name": "stdout",
     "output_type": "stream",
     "text": [
      "  RHS range        [2e-03, 1e+06]\n"
     ]
    },
    {
     "name": "stderr",
     "output_type": "stream",
     "text": [
      "INFO:gurobipy:  RHS range        [2e-03, 1e+06]\n"
     ]
    },
    {
     "name": "stdout",
     "output_type": "stream",
     "text": [
      "Presolve time: 0.03s\n"
     ]
    },
    {
     "name": "stderr",
     "output_type": "stream",
     "text": [
      "INFO:gurobipy:Presolve time: 0.03s\n"
     ]
    },
    {
     "name": "stdout",
     "output_type": "stream",
     "text": [
      "Iteration    Objective       Primal Inf.    Dual Inf.      Time\n"
     ]
    },
    {
     "name": "stderr",
     "output_type": "stream",
     "text": [
      "INFO:gurobipy:Iteration    Objective       Primal Inf.    Dual Inf.      Time\n"
     ]
    },
    {
     "name": "stdout",
     "output_type": "stream",
     "text": [
      "       0      handle free variables                          0s\n"
     ]
    },
    {
     "name": "stderr",
     "output_type": "stream",
     "text": [
      "INFO:gurobipy:       0      handle free variables                          0s\n"
     ]
    },
    {
     "name": "stdout",
     "output_type": "stream",
     "text": [
      "\n"
     ]
    },
    {
     "name": "stderr",
     "output_type": "stream",
     "text": [
      "INFO:gurobipy:\n"
     ]
    },
    {
     "name": "stdout",
     "output_type": "stream",
     "text": [
      "Solved in 5956 iterations and 0.21 seconds (0.10 work units)\n"
     ]
    },
    {
     "name": "stderr",
     "output_type": "stream",
     "text": [
      "INFO:gurobipy:Solved in 5956 iterations and 0.21 seconds (0.10 work units)\n"
     ]
    },
    {
     "name": "stdout",
     "output_type": "stream",
     "text": [
      "Infeasible model\n"
     ]
    },
    {
     "name": "stderr",
     "output_type": "stream",
     "text": [
      "INFO:gurobipy:Infeasible model\n"
     ]
    },
    {
     "name": "stdout",
     "output_type": "stream",
     "text": [
      "\n"
     ]
    },
    {
     "name": "stderr",
     "output_type": "stream",
     "text": [
      "INFO:gurobipy:\n"
     ]
    },
    {
     "name": "stdout",
     "output_type": "stream",
     "text": [
      "IIS computed: 5 constraints, 0 bounds\n"
     ]
    },
    {
     "name": "stderr",
     "output_type": "stream",
     "text": [
      "INFO:gurobipy:IIS computed: 5 constraints, 0 bounds\n"
     ]
    },
    {
     "name": "stdout",
     "output_type": "stream",
     "text": [
      "\n"
     ]
    },
    {
     "name": "stderr",
     "output_type": "stream",
     "text": [
      "INFO:gurobipy:\n"
     ]
    },
    {
     "name": "stdout",
     "output_type": "stream",
     "text": [
      "Wrote requested result file 'model.ilp'\n"
     ]
    },
    {
     "name": "stderr",
     "output_type": "stream",
     "text": [
      "INFO:gurobipy:Wrote requested result file 'model.ilp'\n"
     ]
    },
    {
     "name": "stdout",
     "output_type": "stream",
     "text": [
      "\n"
     ]
    },
    {
     "name": "stderr",
     "output_type": "stream",
     "text": [
      "INFO:gurobipy:\n",
      "WARNING:linopy.constants:Optimization potentially failed: \n",
      "Status: warning\n",
      "Termination condition: infeasible\n",
      "Solution: 0 primals, 0 duals\n",
      "Objective: nan\n",
      "Solver model: available\n",
      "Solver message: 3\n",
      "\n"
     ]
    },
    {
     "name": "stdout",
     "output_type": "stream",
     "text": [
      "✅ Infeasibility report saved to model.ilp\n",
      "This file contains details about which constraints are conflicting\n"
     ]
    }
   ],
   "source": [
    "import pypsa\n",
    "import gurobipy as gp\n",
    "\n",
    "# Load network\n",
    "n = pypsa.Network(\"networks/elec_s_5_ec_lc1.0_3h.nc\")\n",
    "\n",
    "# Get detailed infeasibility information from Gurobi\n",
    "try:\n",
    "    n.optimize(\n",
    "        solver_name='gurobi',\n",
    "        solver_options={\n",
    "            'DualReductions': 0,\n",
    "            'InfUnbdInfo': 1,\n",
    "            'IISMethod': 1,  # Find Irreducible Inconsistent Subsystem\n",
    "            'ResultFile': 'model.ilp'  # Write detailed results\n",
    "        }\n",
    "    )\n",
    "except Exception as e:\n",
    "    print(f\"Expected infeasibility: {e}\")\n",
    "\n",
    "# The .ilp file will contain detailed infeasibility information\n",
    "# Check if model.ilp was created in your working directory\n",
    "import os\n",
    "if os.path.exists('model.ilp'):\n",
    "    print(\"✅ Infeasibility report saved to model.ilp\")\n",
    "    print(\"This file contains details about which constraints are conflicting\")\n",
    "else:\n",
    "    print(\"❌ No infeasibility report generated\")"
   ]
  },
  {
   "cell_type": "code",
   "execution_count": 4,
   "id": "13465cda",
   "metadata": {},
   "outputs": [
    {
     "name": "stdout",
     "output_type": "stream",
     "text": [
      "=== INFEASIBILITY REPORT ===\n",
      "\\ Model obj_copy\n",
      "\\ LP format - for model browsing. Use MPS format to capture full model detail.\n",
      "\\ Signature: 0xec82e2d58374482e\n",
      "Minimize\n",
      " \n",
      "Subject To\n",
      " c2270: x30 <= 0\n",
      " c2271: x31 <= 0\n",
      " c2272: x32 <= 3.79788066057\n",
      " c2273: x33 <= 0\n",
      " c6888: x30 + x31 + x32 + x33 = 878.658729688\n",
      "Bounds\n",
      " x30 free\n",
      " x31 free\n",
      " x32 free\n",
      " x33 free\n",
      "End\n",
      "\n"
     ]
    }
   ],
   "source": [
    "# Read the IIS report to see which constraints are conflicting\n",
    "try:\n",
    "    with open('model.ilp', 'r') as f:\n",
    "        ilp_content = f.read()\n",
    "    \n",
    "    print(\"=== INFEASIBILITY REPORT ===\")\n",
    "    print(ilp_content)\n",
    "    \n",
    "except FileNotFoundError:\n",
    "    print(\"model.ilp file not found in current directory\")\n",
    "    import os\n",
    "    print(\"Current directory:\", os.getcwd())\n",
    "    print(\"Files in directory:\", os.listdir('.'))"
   ]
  },
  {
   "cell_type": "code",
   "execution_count": 6,
   "id": "aff23079",
   "metadata": {},
   "outputs": [
    {
     "name": "stdout",
     "output_type": "stream",
     "text": [
      "Solar capacity factors (first 24 hours):\n",
      "snapshot\n",
      "2013-01-01 00:00:00    0.000000\n",
      "2013-01-01 03:00:00    0.011575\n",
      "2013-01-01 06:00:00    0.307586\n",
      "2013-01-01 09:00:00    0.595948\n",
      "2013-01-01 12:00:00    0.577849\n",
      "2013-01-01 15:00:00    0.207901\n",
      "2013-01-01 18:00:00    0.000000\n",
      "2013-01-01 21:00:00    0.000000\n",
      "2013-01-02 00:00:00    0.000000\n",
      "2013-01-02 03:00:00    0.014298\n",
      "2013-01-02 06:00:00    0.347857\n",
      "2013-01-02 09:00:00    0.636970\n",
      "2013-01-02 12:00:00    0.596455\n",
      "2013-01-02 15:00:00    0.215121\n",
      "2013-01-02 18:00:00    0.000000\n",
      "2013-01-02 21:00:00    0.000000\n",
      "2013-01-03 00:00:00    0.000000\n",
      "2013-01-03 03:00:00    0.012504\n",
      "2013-01-03 06:00:00    0.312092\n",
      "2013-01-03 09:00:00    0.590556\n",
      "2013-01-03 12:00:00    0.547503\n",
      "2013-01-03 15:00:00    0.203254\n",
      "2013-01-03 18:00:00    0.000000\n",
      "2013-01-03 21:00:00    0.000000\n",
      "Name: ZA0 0 solar, dtype: float64\n"
     ]
    }
   ],
   "source": [
    "# Check this to see the renewable variability\n",
    "print(\"Solar capacity factors (first 24 hours):\")\n",
    "if 'solar' in n.generators.carrier.values:\n",
    "    solar_gens = n.generators[n.generators.carrier == 'solar'].index\n",
    "    for gen in solar_gens[:1]:  # Just first solar generator\n",
    "        if gen in n.generators_t.p_max_pu.columns:\n",
    "            print(n.generators_t.p_max_pu[gen].head(24))"
   ]
  },
  {
   "cell_type": "code",
   "execution_count": 7,
   "id": "52a0ad8f",
   "metadata": {},
   "outputs": [
    {
     "name": "stderr",
     "output_type": "stream",
     "text": [
      "INFO:pypsa.io:Imported network elec_s_5_ec_lc1.0_3h.nc has buses, carriers, generators, global_constraints, lines, loads, storage_units\n"
     ]
    },
    {
     "name": "stdout",
     "output_type": "stream",
     "text": [
      "=== LOAD SHEDDING DEBUG ===\n",
      "Load shedding generators found: 0\n",
      "🔴 NO LOAD SHEDDING GENERATORS FOUND!\n",
      "This explains the infeasibility\n",
      "\n",
      "All generator carriers: ['CCGT' 'nuclear' 'offwind-ac' 'offwind-dc' 'onwind' 'solar' 'coal' 'ror'\n",
      " 'biomass']\n",
      "All generator types: 40 generators total\n"
     ]
    }
   ],
   "source": [
    "import pypsa\n",
    "n = pypsa.Network(\"networks/elec_s_5_ec_lc1.0_3h.nc\")\n",
    "\n",
    "print(\"=== LOAD SHEDDING DEBUG ===\")\n",
    "\n",
    "# Check if load shedding generators exist\n",
    "load_shed_gens = n.generators[n.generators.carrier == 'load']\n",
    "print(f\"Load shedding generators found: {len(load_shed_gens)}\")\n",
    "\n",
    "if len(load_shed_gens) > 0:\n",
    "    print(\"Load shedding generators:\")\n",
    "    print(load_shed_gens[['bus', 'p_nom', 'marginal_cost']])\n",
    "    \n",
    "    # Check their parameters\n",
    "    print(f\"Load shedding capacity: {load_shed_gens.p_nom.sum():.2f} MW\")\n",
    "    print(f\"Load shedding cost: {load_shed_gens.marginal_cost.iloc[0]:.2f} €/MWh\")\n",
    "else:\n",
    "    print(\"🔴 NO LOAD SHEDDING GENERATORS FOUND!\")\n",
    "    print(\"This explains the infeasibility\")\n",
    "\n",
    "# Also check what carriers exist\n",
    "print(f\"\\nAll generator carriers: {n.generators.carrier.unique()}\")\n",
    "print(f\"All generator types: {len(n.generators)} generators total\")"
   ]
  },
  {
   "cell_type": "code",
   "execution_count": 8,
   "id": "355399f9",
   "metadata": {},
   "outputs": [
    {
     "name": "stdout",
     "output_type": "stream",
     "text": [
      "=== BUS CARRIER ANALYSIS ===\n",
      "Bus carriers:\n",
      "      carrier\n",
      "Bus          \n",
      "ZA0 0      AC\n",
      "ZA0 1      AC\n",
      "ZA0 2      AC\n",
      "ZA0 3      AC\n",
      "ZA0 4      AC\n",
      "ZA1 0      AC\n",
      "ZA2 0      AC\n",
      "ZA3 0      AC\n",
      "\n",
      "Defined carriers in network:\n",
      "['coal', 'geothermal', 'CCGT', 'biomass', 'OCGT', 'lignite', 'oil', 'nuclear', 'hydro', 'offwind-ac', 'offwind-dc', 'onwind', 'solar', 'PHS', 'ror']\n",
      "\n",
      "Undefined bus carriers: {'AC'}\n",
      "\n",
      "AC buses found: 8\n"
     ]
    }
   ],
   "source": [
    "print(\"=== BUS CARRIER ANALYSIS ===\")\n",
    "\n",
    "# Check bus carriers\n",
    "print(\"Bus carriers:\")\n",
    "print(n.buses[['carrier']].head(10))\n",
    "\n",
    "# Check which carriers are actually defined\n",
    "print(f\"\\nDefined carriers in network:\")\n",
    "print(n.carriers.index.tolist())\n",
    "\n",
    "# See if there's a mismatch\n",
    "undefined_bus_carriers = set(n.buses.carrier.unique()) - set(n.carriers.index)\n",
    "print(f\"\\nUndefined bus carriers: {undefined_bus_carriers}\")\n",
    "\n",
    "# Check if AC buses exist\n",
    "ac_buses = n.buses[n.buses.carrier == 'AC'] if 'AC' in n.buses.carrier.values else pd.DataFrame()\n",
    "print(f\"\\nAC buses found: {len(ac_buses)}\")"
   ]
  },
  {
   "cell_type": "code",
   "execution_count": 5,
   "id": "2543b94f",
   "metadata": {},
   "outputs": [
    {
     "name": "stderr",
     "output_type": "stream",
     "text": [
      "INFO:pypsa.io:Imported network elec_s_5_ec_lc1.0_3h.nc has buses, carriers, generators, global_constraints, lines, loads, storage_units\n"
     ]
    },
    {
     "name": "stdout",
     "output_type": "stream",
     "text": [
      "=== SUPPLY-DEMAND ANALYSIS ===\n",
      "Total demand: 2219908.86 MWh\n",
      "\n",
      "Generation capacity by carrier:\n",
      "  CCGT: 4 units, 189562.26 MWh potential\n",
      "  nuclear: 1 units, 108640.00 MWh potential\n",
      "  offwind-ac: 5 units, 0.00 MWh potential\n",
      "  offwind-dc: 5 units, 0.00 MWh potential\n",
      "  onwind: 8 units, 50199.98 MWh potential\n",
      "  solar: 8 units, 62681.05 MWh potential\n",
      "  coal: 3 units, 2631984.97 MWh potential\n",
      "  ror: 4 units, 1093.06 MWh potential\n",
      "  biomass: 2 units, 761.60 MWh potential\n",
      "\n",
      "Total generation potential: 3044922.93 MWh\n",
      "Supply-demand ratio: 1.372\n",
      "✅ Sufficient generation capacity exists\n"
     ]
    }
   ],
   "source": [
    "import pandas as pd\n",
    "import pypsa\n",
    "\n",
    "# Load the network\n",
    "n = pypsa.Network(\"networks/elec_s_5_ec_lc1.0_3h.nc\")\n",
    "\n",
    "print(\"=== SUPPLY-DEMAND ANALYSIS ===\")\n",
    "\n",
    "# Total demand over all snapshots\n",
    "total_demand = n.loads_t.p_set.sum().sum()\n",
    "print(f\"Total demand: {total_demand:.2f} MWh\")\n",
    "\n",
    "# Calculate available generation capacity\n",
    "print(\"\\nGeneration capacity by carrier:\")\n",
    "total_gen_capacity = 0\n",
    "\n",
    "for carrier in n.generators.carrier.unique():\n",
    "    carrier_gens = n.generators[n.generators.carrier == carrier]\n",
    "    carrier_capacity = 0\n",
    "    \n",
    "    for gen_id in carrier_gens.index:\n",
    "        gen = n.generators.loc[gen_id]\n",
    "        \n",
    "        if gen_id in n.generators_t.p_max_pu.columns:\n",
    "            # Variable renewable - capacity factor matters\n",
    "            capacity_factor_profile = n.generators_t.p_max_pu[gen_id]\n",
    "            max_output = (capacity_factor_profile * gen.p_nom).sum()\n",
    "        else:\n",
    "            # Dispatchable - assume can run continuously\n",
    "            max_output = gen.p_nom * len(n.snapshots)\n",
    "        \n",
    "        carrier_capacity += max_output\n",
    "    \n",
    "    total_gen_capacity += carrier_capacity\n",
    "    print(f\"  {carrier}: {len(carrier_gens)} units, {carrier_capacity:.2f} MWh potential\")\n",
    "\n",
    "print(f\"\\nTotal generation potential: {total_gen_capacity:.2f} MWh\")\n",
    "print(f\"Supply-demand ratio: {total_gen_capacity/total_demand:.3f}\")\n",
    "\n",
    "if total_gen_capacity < total_demand:\n",
    "    shortfall = total_demand - total_gen_capacity\n",
    "    print(f\"🔴 INSUFFICIENT CAPACITY: {shortfall:.2f} MWh shortfall ({shortfall/total_demand*100:.1f}%)\")\n",
    "else:\n",
    "    print(\"✅ Sufficient generation capacity exists\")"
   ]
  },
  {
   "cell_type": "code",
   "execution_count": 10,
   "id": "87e4a25b",
   "metadata": {},
   "outputs": [
    {
     "name": "stderr",
     "output_type": "stream",
     "text": [
      "WARNING:pypsa.consistency:The following lines have carriers which are not defined:\n",
      "Index(['0', '1', '2', '3', '4', '5', '6'], dtype='object', name='Line')\n",
      "WARNING:pypsa.consistency:The following buses have carriers which are not defined:\n",
      "Index(['ZA0 0', 'ZA0 1', 'ZA0 2', 'ZA0 3', 'ZA0 4', 'ZA1 0', 'ZA2 0', 'ZA3 0'], dtype='object', name='Bus')\n",
      "WARNING:pypsa.consistency:The following sub_networks have carriers which are not defined:\n",
      "Index(['0'], dtype='object', name='SubNetwork')\n",
      "INFO:linopy.model: Solve problem using Gurobi solver\n",
      "INFO:linopy.io: Writing time: 0.14s\n"
     ]
    },
    {
     "name": "stdout",
     "output_type": "stream",
     "text": [
      "Set parameter Username\n"
     ]
    },
    {
     "name": "stderr",
     "output_type": "stream",
     "text": [
      "INFO:gurobipy:Set parameter Username\n"
     ]
    },
    {
     "name": "stdout",
     "output_type": "stream",
     "text": [
      "Set parameter LicenseID to value 2695191\n"
     ]
    },
    {
     "name": "stderr",
     "output_type": "stream",
     "text": [
      "INFO:gurobipy:Set parameter LicenseID to value 2695191\n"
     ]
    },
    {
     "name": "stdout",
     "output_type": "stream",
     "text": [
      "Academic license - for non-commercial use only - expires 2026-08-12\n"
     ]
    },
    {
     "name": "stderr",
     "output_type": "stream",
     "text": [
      "INFO:gurobipy:Academic license - for non-commercial use only - expires 2026-08-12\n"
     ]
    },
    {
     "name": "stdout",
     "output_type": "stream",
     "text": [
      "Read LP format model from file /private/var/folders/tt/b5q5vkxj6xvf2b6q1f46ytgw0000gn/T/linopy-problem-odzii_fn.lp\n"
     ]
    },
    {
     "name": "stderr",
     "output_type": "stream",
     "text": [
      "INFO:gurobipy:Read LP format model from file /private/var/folders/tt/b5q5vkxj6xvf2b6q1f46ytgw0000gn/T/linopy-problem-odzii_fn.lp\n"
     ]
    },
    {
     "name": "stdout",
     "output_type": "stream",
     "text": [
      "Reading time = 0.03 seconds\n"
     ]
    },
    {
     "name": "stderr",
     "output_type": "stream",
     "text": [
      "INFO:gurobipy:Reading time = 0.03 seconds\n"
     ]
    },
    {
     "name": "stdout",
     "output_type": "stream",
     "text": [
      "obj: 7448 rows, 3416 columns, 11480 nonzeros\n"
     ]
    },
    {
     "name": "stderr",
     "output_type": "stream",
     "text": [
      "INFO:gurobipy:obj: 7448 rows, 3416 columns, 11480 nonzeros\n"
     ]
    },
    {
     "name": "stdout",
     "output_type": "stream",
     "text": [
      "Gurobi Optimizer version 12.0.3 build v12.0.3rc0 (mac64[x86] - Darwin 24.6.0 24G84)\n"
     ]
    },
    {
     "name": "stderr",
     "output_type": "stream",
     "text": [
      "INFO:gurobipy:Gurobi Optimizer version 12.0.3 build v12.0.3rc0 (mac64[x86] - Darwin 24.6.0 24G84)\n"
     ]
    },
    {
     "name": "stdout",
     "output_type": "stream",
     "text": [
      "\n"
     ]
    },
    {
     "name": "stderr",
     "output_type": "stream",
     "text": [
      "INFO:gurobipy:\n"
     ]
    },
    {
     "name": "stdout",
     "output_type": "stream",
     "text": [
      "CPU model: Intel(R) Core(TM) i5-8279U CPU @ 2.40GHz\n"
     ]
    },
    {
     "name": "stderr",
     "output_type": "stream",
     "text": [
      "INFO:gurobipy:CPU model: Intel(R) Core(TM) i5-8279U CPU @ 2.40GHz\n"
     ]
    },
    {
     "name": "stdout",
     "output_type": "stream",
     "text": [
      "Thread count: 4 physical cores, 8 logical processors, using up to 8 threads\n"
     ]
    },
    {
     "name": "stderr",
     "output_type": "stream",
     "text": [
      "INFO:gurobipy:Thread count: 4 physical cores, 8 logical processors, using up to 8 threads\n"
     ]
    },
    {
     "name": "stdout",
     "output_type": "stream",
     "text": [
      "\n"
     ]
    },
    {
     "name": "stderr",
     "output_type": "stream",
     "text": [
      "INFO:gurobipy:\n"
     ]
    },
    {
     "name": "stdout",
     "output_type": "stream",
     "text": [
      "Optimize a model with 7448 rows, 3416 columns and 11480 nonzeros\n"
     ]
    },
    {
     "name": "stderr",
     "output_type": "stream",
     "text": [
      "INFO:gurobipy:Optimize a model with 7448 rows, 3416 columns and 11480 nonzeros\n"
     ]
    },
    {
     "name": "stdout",
     "output_type": "stream",
     "text": [
      "Model fingerprint: 0xb2a7a8b3\n"
     ]
    },
    {
     "name": "stderr",
     "output_type": "stream",
     "text": [
      "INFO:gurobipy:Model fingerprint: 0xb2a7a8b3\n"
     ]
    },
    {
     "name": "stdout",
     "output_type": "stream",
     "text": [
      "Coefficient statistics:\n"
     ]
    },
    {
     "name": "stderr",
     "output_type": "stream",
     "text": [
      "INFO:gurobipy:Coefficient statistics:\n"
     ]
    },
    {
     "name": "stdout",
     "output_type": "stream",
     "text": [
      "  Matrix range     [1e+00, 2e+02]\n"
     ]
    },
    {
     "name": "stderr",
     "output_type": "stream",
     "text": [
      "INFO:gurobipy:  Matrix range     [1e+00, 2e+02]\n"
     ]
    },
    {
     "name": "stdout",
     "output_type": "stream",
     "text": [
      "  Objective range  [2e+00, 7e+03]\n"
     ]
    },
    {
     "name": "stderr",
     "output_type": "stream",
     "text": [
      "INFO:gurobipy:  Objective range  [2e+00, 7e+03]\n"
     ]
    },
    {
     "name": "stdout",
     "output_type": "stream",
     "text": [
      "  Bounds range     [7e+00, 9e+02]\n"
     ]
    },
    {
     "name": "stderr",
     "output_type": "stream",
     "text": [
      "INFO:gurobipy:  Bounds range     [7e+00, 9e+02]\n"
     ]
    },
    {
     "name": "stdout",
     "output_type": "stream",
     "text": [
      "  RHS range        [2e-03, 1e+06]\n"
     ]
    },
    {
     "name": "stderr",
     "output_type": "stream",
     "text": [
      "INFO:gurobipy:  RHS range        [2e-03, 1e+06]\n"
     ]
    },
    {
     "name": "stdout",
     "output_type": "stream",
     "text": [
      "Presolve removed 6608 rows and 969 columns\n"
     ]
    },
    {
     "name": "stderr",
     "output_type": "stream",
     "text": [
      "INFO:gurobipy:Presolve removed 6608 rows and 969 columns\n"
     ]
    },
    {
     "name": "stdout",
     "output_type": "stream",
     "text": [
      "Presolve time: 0.06s\n"
     ]
    },
    {
     "name": "stderr",
     "output_type": "stream",
     "text": [
      "INFO:gurobipy:Presolve time: 0.06s\n"
     ]
    },
    {
     "name": "stdout",
     "output_type": "stream",
     "text": [
      "\n"
     ]
    },
    {
     "name": "stderr",
     "output_type": "stream",
     "text": [
      "INFO:gurobipy:\n"
     ]
    },
    {
     "name": "stdout",
     "output_type": "stream",
     "text": [
      "Solved in 0 iterations and 0.06 seconds (0.00 work units)\n"
     ]
    },
    {
     "name": "stderr",
     "output_type": "stream",
     "text": [
      "INFO:gurobipy:Solved in 0 iterations and 0.06 seconds (0.00 work units)\n"
     ]
    },
    {
     "name": "stdout",
     "output_type": "stream",
     "text": [
      "Infeasible or unbounded model\n"
     ]
    },
    {
     "name": "stderr",
     "output_type": "stream",
     "text": [
      "INFO:gurobipy:Infeasible or unbounded model\n",
      "INFO:linopy.solvers:Unable to save solution file. Raised error: Unable to retrieve attribute 'X'\n",
      "WARNING:linopy.constants:Optimization potentially failed: \n",
      "Status: warning\n",
      "Termination condition: infeasible_or_unbounded\n",
      "Solution: 0 primals, 0 duals\n",
      "Objective: nan\n",
      "Solver model: available\n",
      "Solver message: 4\n",
      "\n"
     ]
    },
    {
     "name": "stdout",
     "output_type": "stream",
     "text": [
      "Gurobi Optimizer version 12.0.3 build v12.0.3rc0 (mac64[x86] - Darwin 24.6.0 24G84)\n"
     ]
    },
    {
     "name": "stderr",
     "output_type": "stream",
     "text": [
      "INFO:gurobipy:Gurobi Optimizer version 12.0.3 build v12.0.3rc0 (mac64[x86] - Darwin 24.6.0 24G84)\n"
     ]
    },
    {
     "name": "stdout",
     "output_type": "stream",
     "text": [
      "\n"
     ]
    },
    {
     "name": "stderr",
     "output_type": "stream",
     "text": [
      "INFO:gurobipy:\n"
     ]
    },
    {
     "name": "stdout",
     "output_type": "stream",
     "text": [
      "CPU model: Intel(R) Core(TM) i5-8279U CPU @ 2.40GHz\n"
     ]
    },
    {
     "name": "stderr",
     "output_type": "stream",
     "text": [
      "INFO:gurobipy:CPU model: Intel(R) Core(TM) i5-8279U CPU @ 2.40GHz\n"
     ]
    },
    {
     "name": "stdout",
     "output_type": "stream",
     "text": [
      "Thread count: 4 physical cores, 8 logical processors, using up to 8 threads\n"
     ]
    },
    {
     "name": "stderr",
     "output_type": "stream",
     "text": [
      "INFO:gurobipy:Thread count: 4 physical cores, 8 logical processors, using up to 8 threads\n"
     ]
    },
    {
     "name": "stdout",
     "output_type": "stream",
     "text": [
      "\n"
     ]
    },
    {
     "name": "stderr",
     "output_type": "stream",
     "text": [
      "INFO:gurobipy:\n"
     ]
    },
    {
     "name": "stdout",
     "output_type": "stream",
     "text": [
      "\n"
     ]
    },
    {
     "name": "stderr",
     "output_type": "stream",
     "text": [
      "INFO:gurobipy:\n"
     ]
    },
    {
     "name": "stdout",
     "output_type": "stream",
     "text": [
      "IIS computed: 5 constraints and 0 bounds\n"
     ]
    },
    {
     "name": "stderr",
     "output_type": "stream",
     "text": [
      "INFO:gurobipy:IIS computed: 5 constraints and 0 bounds\n"
     ]
    },
    {
     "name": "stdout",
     "output_type": "stream",
     "text": [
      "IIS runtime: 0.00 seconds (0.00 work units)\n"
     ]
    },
    {
     "name": "stderr",
     "output_type": "stream",
     "text": [
      "INFO:gurobipy:IIS runtime: 0.00 seconds (0.00 work units)\n"
     ]
    }
   ],
   "source": [
    "m=n.optimize.create_model()\n",
    "m.solve(solver_name=\"gurobi\")\n",
    "labels = m.compute_infeasibilities()"
   ]
  },
  {
   "cell_type": "code",
   "execution_count": 11,
   "id": "6e3c3261",
   "metadata": {},
   "outputs": [
    {
     "name": "stdout",
     "output_type": "stream",
     "text": [
      "[2270, 2271, 2272, 2273, 6888]\n"
     ]
    }
   ],
   "source": [
    "print(labels)"
   ]
  },
  {
   "cell_type": "code",
   "execution_count": 12,
   "id": "917bdf1e",
   "metadata": {},
   "outputs": [
    {
     "name": "stdout",
     "output_type": "stream",
     "text": [
      "Generator-fix-p-upper[2013-01-01 00:00:00, ZA1 0 offwind-ac]: +1 Generator-p[2013-01-01 00:00:00, ZA1 0 offwind-ac] ≤ -0\n",
      "Generator-fix-p-upper[2013-01-01 00:00:00, ZA1 0 offwind-dc]: +1 Generator-p[2013-01-01 00:00:00, ZA1 0 offwind-dc] ≤ -0\n",
      "Generator-fix-p-upper[2013-01-01 00:00:00, ZA1 0 onwind]: +1 Generator-p[2013-01-01 00:00:00, ZA1 0 onwind] ≤ 3.79788066057\n",
      "Generator-fix-p-upper[2013-01-01 00:00:00, ZA1 0 solar]: +1 Generator-p[2013-01-01 00:00:00, ZA1 0 solar] ≤ -0\n",
      "Bus-nodal_balance[ZA1 0, 2013-01-01 00:00:00]: +1 Generator-p[2013-01-01 00:00:00, ZA1 0 offwind-ac] + 1 Generator-p[2013-01-01 00:00:00, ZA1 0 offwind-dc] + 1 Generator-p[2013-01-01 00:00:00, ZA1 0 onwind] + 1 Generator-p[2013-01-01 00:00:00, ZA1 0 solar] = 878.658729688\n"
     ]
    }
   ],
   "source": [
    "m.constraints.print_labels(labels)"
   ]
  },
  {
   "cell_type": "code",
   "execution_count": 13,
   "id": "4c60ffd9",
   "metadata": {},
   "outputs": [
    {
     "name": "stdout",
     "output_type": "stream",
     "text": [
      "Gurobi Optimizer version 12.0.3 build v12.0.3rc0 (mac64[x86] - Darwin 24.6.0 24G84)\n"
     ]
    },
    {
     "name": "stderr",
     "output_type": "stream",
     "text": [
      "INFO:gurobipy:Gurobi Optimizer version 12.0.3 build v12.0.3rc0 (mac64[x86] - Darwin 24.6.0 24G84)\n"
     ]
    },
    {
     "name": "stdout",
     "output_type": "stream",
     "text": [
      "\n"
     ]
    },
    {
     "name": "stderr",
     "output_type": "stream",
     "text": [
      "INFO:gurobipy:\n"
     ]
    },
    {
     "name": "stdout",
     "output_type": "stream",
     "text": [
      "CPU model: Intel(R) Core(TM) i5-8279U CPU @ 2.40GHz\n"
     ]
    },
    {
     "name": "stderr",
     "output_type": "stream",
     "text": [
      "INFO:gurobipy:CPU model: Intel(R) Core(TM) i5-8279U CPU @ 2.40GHz\n"
     ]
    },
    {
     "name": "stdout",
     "output_type": "stream",
     "text": [
      "Thread count: 4 physical cores, 8 logical processors, using up to 8 threads\n"
     ]
    },
    {
     "name": "stderr",
     "output_type": "stream",
     "text": [
      "INFO:gurobipy:Thread count: 4 physical cores, 8 logical processors, using up to 8 threads\n"
     ]
    },
    {
     "name": "stdout",
     "output_type": "stream",
     "text": [
      "\n"
     ]
    },
    {
     "name": "stderr",
     "output_type": "stream",
     "text": [
      "INFO:gurobipy:\n"
     ]
    },
    {
     "name": "stdout",
     "output_type": "stream",
     "text": [
      "\n"
     ]
    },
    {
     "name": "stderr",
     "output_type": "stream",
     "text": [
      "INFO:gurobipy:\n"
     ]
    },
    {
     "name": "stdout",
     "output_type": "stream",
     "text": [
      "IIS computed: 5 constraints and 0 bounds\n"
     ]
    },
    {
     "name": "stderr",
     "output_type": "stream",
     "text": [
      "INFO:gurobipy:IIS computed: 5 constraints and 0 bounds\n"
     ]
    },
    {
     "name": "stdout",
     "output_type": "stream",
     "text": [
      "IIS runtime: 0.01 seconds (0.00 work units)\n"
     ]
    },
    {
     "name": "stderr",
     "output_type": "stream",
     "text": [
      "INFO:gurobipy:IIS runtime: 0.01 seconds (0.00 work units)\n"
     ]
    },
    {
     "name": "stdout",
     "output_type": "stream",
     "text": [
      "Generator-fix-p-upper[2013-01-01 00:00:00, ZA1 0 offwind-ac]: +1 Generator-p[2013-01-01 00:00:00, ZA1 0 offwind-ac] ≤ -0\n",
      "Generator-fix-p-upper[2013-01-01 00:00:00, ZA1 0 offwind-dc]: +1 Generator-p[2013-01-01 00:00:00, ZA1 0 offwind-dc] ≤ -0\n",
      "Generator-fix-p-upper[2013-01-01 00:00:00, ZA1 0 onwind]: +1 Generator-p[2013-01-01 00:00:00, ZA1 0 onwind] ≤ 3.79788066057\n",
      "Generator-fix-p-upper[2013-01-01 00:00:00, ZA1 0 solar]: +1 Generator-p[2013-01-01 00:00:00, ZA1 0 solar] ≤ -0\n",
      "Bus-nodal_balance[ZA1 0, 2013-01-01 00:00:00]: +1 Generator-p[2013-01-01 00:00:00, ZA1 0 offwind-ac] + 1 Generator-p[2013-01-01 00:00:00, ZA1 0 offwind-dc] + 1 Generator-p[2013-01-01 00:00:00, ZA1 0 onwind] + 1 Generator-p[2013-01-01 00:00:00, ZA1 0 solar] = 878.658729688\n"
     ]
    }
   ],
   "source": [
    "m.print_infeasibilities()"
   ]
  },
  {
   "cell_type": "code",
   "execution_count": 14,
   "id": "663bb875",
   "metadata": {},
   "outputs": [
    {
     "name": "stdout",
     "output_type": "stream",
     "text": [
      "=== ALL GENERATORS ===\n",
      "                     carrier         p_nom  p_min_pu  p_max_pu  marginal_cost\n",
      "Generator                                                                    \n",
      "ZA0 0 CCGT              CCGT   2078.300000       0.0       1.0      46.803121\n",
      "ZA0 0 nuclear        nuclear   1940.000000       0.0       1.0      14.013271\n",
      "ZA0 0 offwind-ac  offwind-ac      0.000000       0.0       1.0       0.015000\n",
      "ZA0 0 offwind-dc  offwind-dc      0.000000       0.0       1.0       0.015000\n",
      "ZA0 0 onwind          onwind    869.326726       0.0       1.0       0.015000\n",
      "ZA0 0 solar            solar   1342.994924       0.0       1.0       0.010000\n",
      "ZA0 1 CCGT              CCGT    670.000000       0.0       1.0      46.803121\n",
      "ZA0 1 coal              coal   4215.300000       0.0       1.0      30.098840\n",
      "ZA0 1 offwind-ac  offwind-ac      0.000000       0.0       1.0       0.015000\n",
      "ZA0 1 offwind-dc  offwind-dc      0.000000       0.0       1.0       0.015000\n",
      "ZA0 1 onwind          onwind    192.446194       0.0       1.0       0.015000\n",
      "ZA0 1 ror                ror      7.000000       0.0       1.0       0.000000\n",
      "ZA0 1 solar            solar    420.748792       0.0       1.0       0.010000\n",
      "ZA0 2 CCGT              CCGT    335.000000       0.0       1.0      46.803121\n",
      "ZA0 2 biomass        biomass      3.500000       0.0       1.0      15.828205\n",
      "ZA0 2 offwind-ac  offwind-ac      0.000000       0.0       1.0       0.015000\n",
      "ZA0 2 offwind-dc  offwind-dc      0.000000       0.0       1.0       0.015000\n",
      "ZA0 2 onwind          onwind    685.606333       0.0       1.0       0.015000\n",
      "ZA0 2 ror                ror     45.178337       0.0       1.0       0.000000\n",
      "ZA0 2 solar            solar   1068.475841       0.0       1.0       0.010000\n",
      "ZA0 3 coal              coal    242.469420       0.0       1.0      30.098840\n",
      "ZA0 3 onwind          onwind   1283.749312       0.0       1.0       0.015000\n",
      "ZA0 3 ror                ror     12.570000       0.0       1.0       0.000000\n",
      "ZA0 3 solar            solar   1977.610756       0.0       1.0       0.010000\n",
      "ZA0 4 CCGT              CCGT    301.740341       0.0       1.0      46.803121\n",
      "ZA0 4 biomass        biomass     10.100000       0.0       1.0      15.828205\n",
      "ZA0 4 coal              coal  42541.962174       0.0       1.0      30.098840\n",
      "ZA0 4 onwind          onwind    295.938236       0.0       1.0       0.015000\n",
      "ZA0 4 ror                ror      2.672239       0.0       1.0       0.000000\n",
      "ZA0 4 solar            solar    697.231836       0.0       1.0       0.010000\n",
      "ZA1 0 offwind-ac  offwind-ac      0.000000       0.0       1.0       0.015000\n",
      "ZA1 0 offwind-dc  offwind-dc      0.000000       0.0       1.0       0.015000\n",
      "ZA1 0 onwind          onwind     40.303384       0.0       1.0       0.015000\n",
      "ZA1 0 solar            solar     74.029385       0.0       1.0       0.010000\n",
      "ZA2 0 onwind          onwind      1.675386       0.0       1.0       0.015000\n",
      "ZA2 0 solar            solar      5.000497       0.0       1.0       0.010000\n",
      "ZA3 0 offwind-ac  offwind-ac      0.000000       0.0       1.0       0.015000\n",
      "ZA3 0 offwind-dc  offwind-dc      0.000000       0.0       1.0       0.015000\n",
      "ZA3 0 onwind          onwind     25.576513       0.0       1.0       0.015000\n",
      "ZA3 0 solar            solar      6.471765       0.0       1.0       0.010000\n",
      "\n",
      "=== COAL GENERATORS ===\n",
      "                   p_nom  p_min_pu  p_max_pu  marginal_cost\n",
      "Generator                                                  \n",
      "ZA0 1 coal   4215.300000       0.0       1.0       30.09884\n",
      "ZA0 3 coal    242.469420       0.0       1.0       30.09884\n",
      "ZA0 4 coal  42541.962174       0.0       1.0       30.09884\n",
      "\n",
      "Total coal capacity: 46999.7 MW\n",
      "\n",
      "=== CONVENTIONAL CARRIERS ===\n",
      "carrier\n",
      "CCGT        3385.040341\n",
      "coal       46999.731594\n",
      "nuclear     1940.000000\n",
      "Name: p_nom, dtype: float64\n",
      "\n",
      "=== GENERATORS AT BUS ZA1 0 ===\n",
      "                     carrier      p_nom  p_min_pu  p_max_pu\n",
      "Generator                                                  \n",
      "ZA1 0 offwind-ac  offwind-ac   0.000000       0.0       1.0\n",
      "ZA1 0 offwind-dc  offwind-dc   0.000000       0.0       1.0\n",
      "ZA1 0 onwind          onwind  40.303384       0.0       1.0\n",
      "ZA1 0 solar            solar  74.029385       0.0       1.0\n",
      "\n",
      "=== GENERATOR AVAILABILITY AT 2013-01-01 00:00:00 ===\n",
      "ZA1 0 offwind-ac (offwind-ac): 0.0 MW available\n",
      "ZA1 0 offwind-dc (offwind-dc): 0.0 MW available\n",
      "ZA1 0 onwind (onwind): 3.8 MW available\n",
      "ZA1 0 solar (solar): 0.0 MW available\n"
     ]
    }
   ],
   "source": [
    "# Check all generators in your network\n",
    "print(\"=== ALL GENERATORS ===\")\n",
    "print(n.generators[['carrier', 'p_nom', 'p_min_pu', 'p_max_pu', 'marginal_cost']])\n",
    "\n",
    "# Check specifically for coal\n",
    "print(\"\\n=== COAL GENERATORS ===\")\n",
    "coal_gens = n.generators[n.generators.carrier == 'coal']\n",
    "print(coal_gens[['p_nom', 'p_min_pu', 'p_max_pu', 'marginal_cost']])\n",
    "\n",
    "# Check total coal capacity\n",
    "print(f\"\\nTotal coal capacity: {coal_gens.p_nom.sum():.1f} MW\")\n",
    "\n",
    "# Check conventional carriers\n",
    "print(\"\\n=== CONVENTIONAL CARRIERS ===\")\n",
    "conventional = n.generators[n.generators.carrier.isin(['coal', 'OCGT', 'CCGT', 'nuclear', 'oil'])]\n",
    "print(conventional.groupby('carrier')['p_nom'].sum())\n",
    "\n",
    "# Check what's in your specific bus\n",
    "print(f\"\\n=== GENERATORS AT BUS ZA1 0 ===\")\n",
    "za1_gens = n.generators[n.generators.bus == 'ZA1 0']\n",
    "print(za1_gens[['carrier', 'p_nom', 'p_min_pu', 'p_max_pu']])\n",
    "\n",
    "# Check if generators are actually available at this time\n",
    "print(f\"\\n=== GENERATOR AVAILABILITY AT {n.snapshots[0]} ===\")\n",
    "if hasattr(n, 'generators_t') and hasattr(n.generators_t, 'p_max_pu'):\n",
    "    current_availability = n.generators_t.p_max_pu.loc[n.snapshots[0]]\n",
    "    for gen in za1_gens.index:\n",
    "        if gen in current_availability.index:\n",
    "            max_p = za1_gens.loc[gen, 'p_nom'] * current_availability[gen]\n",
    "            print(f\"{gen} ({za1_gens.loc[gen, 'carrier']}): {max_p:.1f} MW available\")"
   ]
  },
  {
   "cell_type": "code",
   "execution_count": 15,
   "id": "fbd4af6c",
   "metadata": {},
   "outputs": [
    {
     "name": "stdout",
     "output_type": "stream",
     "text": [
      "=== TOTAL SYSTEM DEMAND ===\n",
      "Total system demand at 2013-01-01 00:00:00: 33114.9 MW\n",
      "\n",
      "=== DEMAND BY BUS ===\n",
      "Bus ZA0 0: 3202.1 MW\n",
      "Bus ZA0 1: 5828.7 MW\n",
      "Bus ZA0 2: 4394.0 MW\n",
      "Bus ZA0 3: 3334.6 MW\n",
      "Bus ZA0 4: 14733.2 MW\n",
      "Bus ZA1 0: 878.7 MW\n",
      "Bus ZA2 0: 286.8 MW\n",
      "Bus ZA3 0: 456.9 MW\n",
      "\n",
      "=== ALL LOADS ===\n",
      "         bus  p_set\n",
      "Load               \n",
      "ZA0 0  ZA0 0    0.0\n",
      "ZA0 1  ZA0 1    0.0\n",
      "ZA0 2  ZA0 2    0.0\n",
      "ZA0 3  ZA0 3    0.0\n",
      "ZA0 4  ZA0 4    0.0\n",
      "ZA1 0  ZA1 0    0.0\n",
      "ZA2 0  ZA2 0    0.0\n",
      "ZA3 0  ZA3 0    0.0\n",
      "\n",
      "=== LOAD TIME SERIES SHAPE ===\n",
      "loads_t.p_set shape: (56, 8)\n",
      "First few values:\n",
      "Load\n",
      "ZA0 0     3202.097114\n",
      "ZA0 1     5828.719037\n",
      "ZA0 2     4393.962760\n",
      "ZA0 3     3334.596053\n",
      "ZA0 4    14733.235138\n",
      "ZA1 0      878.658730\n",
      "ZA2 0      286.755203\n",
      "ZA3 0      456.863542\n",
      "Name: 2013-01-01 00:00:00, dtype: float64\n"
     ]
    }
   ],
   "source": [
    "# Check total system demand\n",
    "print(\"=== TOTAL SYSTEM DEMAND ===\")\n",
    "total_demand = n.loads_t.p_set.loc[n.snapshots[0]].sum()\n",
    "print(f\"Total system demand at {n.snapshots[0]}: {total_demand:.1f} MW\")\n",
    "\n",
    "# Check demand by bus\n",
    "print(\"\\n=== DEMAND BY BUS ===\")\n",
    "demand_by_bus = n.loads_t.p_set.loc[n.snapshots[0]]\n",
    "for bus, demand in demand_by_bus.items():\n",
    "    if demand > 0:\n",
    "        print(f\"Bus {bus}: {demand:.1f} MW\")\n",
    "\n",
    "# Check load distribution across all loads\n",
    "print(\"\\n=== ALL LOADS ===\")\n",
    "print(n.loads[['bus', 'p_set']])\n",
    "\n",
    "# Check if there are time-varying loads\n",
    "print(f\"\\n=== LOAD TIME SERIES SHAPE ===\")\n",
    "print(f\"loads_t.p_set shape: {n.loads_t.p_set.shape}\")\n",
    "print(f\"First few values:\\n{n.loads_t.p_set.iloc[0]}\")"
   ]
  },
  {
   "cell_type": "code",
   "execution_count": 16,
   "id": "c1ac6fae",
   "metadata": {},
   "outputs": [
    {
     "name": "stdout",
     "output_type": "stream",
     "text": [
      "\n",
      "=== TRANSMISSION LINES ===\n",
      "Lines connecting buses:\n",
      "       bus0   bus1         s_nom      length\n",
      "Line                                        \n",
      "0     ZA0 0  ZA0 2  33287.123997  708.450417\n",
      "1     ZA0 0  ZA0 3  11167.259018  895.762964\n",
      "2     ZA0 1  ZA0 2   6394.696941  702.800210\n",
      "3     ZA0 1  ZA0 3   2359.468892  664.223111\n",
      "4     ZA0 1  ZA0 4  33895.021869  464.451156\n",
      "5     ZA0 2  ZA0 3  62686.486751  589.505779\n",
      "6     ZA0 3  ZA0 4  91265.844691  651.605682\n",
      "\n",
      "❌ NO LINKS found between buses!\n",
      "\n",
      "=== SUPPLY VS DEMAND BY REGION ===\n",
      "ZA0: Demand=31492.6 MW, Capacity=61239.9 MW, Available=53395.9 MW\n",
      "ZA1: Demand=878.7 MW, Capacity=114.3 MW, Available=3.8 MW\n",
      "ZA2: Demand=286.8 MW, Capacity=6.7 MW, Available=0.0 MW\n",
      "ZA3: Demand=456.9 MW, Capacity=32.0 MW, Available=5.3 MW\n",
      "\n",
      "=== SYSTEM TOTALS ===\n",
      "Total demand: 33114.9 MW\n",
      "Total capacity: 61393.0 MW\n",
      "Total available: 53405.0 MW\n",
      "Shortfall: -20290.1 MW\n"
     ]
    }
   ],
   "source": [
    "# Check if buses are connected\n",
    "print(\"\\n=== TRANSMISSION LINES ===\")\n",
    "print(\"Lines connecting buses:\")\n",
    "print(n.lines[['bus0', 'bus1', 's_nom', 'length']])\n",
    "\n",
    "# Check if there are any links between regions\n",
    "if len(n.links) > 0:\n",
    "    print(\"\\n=== LINKS BETWEEN BUSES ===\")\n",
    "    print(n.links[['bus0', 'bus1', 'p_nom']])\n",
    "else:\n",
    "    print(\"\\n❌ NO LINKS found between buses!\")\n",
    "\n",
    "# Summary of supply vs demand by region\n",
    "print(\"\\n=== SUPPLY VS DEMAND BY REGION ===\")\n",
    "regions = ['ZA0', 'ZA1', 'ZA2', 'ZA3']\n",
    "for region in regions:\n",
    "    # Get demand for this region\n",
    "    region_demand = 0\n",
    "    for bus in n.buses.index:\n",
    "        if bus.startswith(region):\n",
    "            region_demand += n.loads_t.p_set.loc[n.snapshots[0], bus]\n",
    "    \n",
    "    # Get available capacity for this region\n",
    "    region_capacity = 0\n",
    "    region_available = 0\n",
    "    for gen in n.generators.index:\n",
    "        if gen.startswith(region):\n",
    "            region_capacity += n.generators.loc[gen, 'p_nom']\n",
    "            # Calculate available capacity considering p_max_pu\n",
    "            if hasattr(n.generators_t, 'p_max_pu') and gen in n.generators_t.p_max_pu.columns:\n",
    "                available = n.generators.loc[gen, 'p_nom'] * n.generators_t.p_max_pu.loc[n.snapshots[0], gen]\n",
    "            else:\n",
    "                available = n.generators.loc[gen, 'p_nom'] * n.generators.loc[gen, 'p_max_pu']\n",
    "            region_available += available\n",
    "    \n",
    "    print(f\"{region}: Demand={region_demand:.1f} MW, Capacity={region_capacity:.1f} MW, Available={region_available:.1f} MW\")\n",
    "\n",
    "# Check total system balance\n",
    "print(f\"\\n=== SYSTEM TOTALS ===\")\n",
    "total_demand = n.loads_t.p_set.loc[n.snapshots[0]].sum()\n",
    "total_capacity = n.generators.p_nom.sum()\n",
    "total_available = 0\n",
    "for gen in n.generators.index:\n",
    "    if hasattr(n.generators_t, 'p_max_pu') and gen in n.generators_t.p_max_pu.columns:\n",
    "        available = n.generators.loc[gen, 'p_nom'] * n.generators_t.p_max_pu.loc[n.snapshots[0], gen]\n",
    "    else:\n",
    "        available = n.generators.loc[gen, 'p_nom'] * n.generators.loc[gen, 'p_max_pu']\n",
    "    total_available += available\n",
    "\n",
    "print(f\"Total demand: {total_demand:.1f} MW\")\n",
    "print(f\"Total capacity: {total_capacity:.1f} MW\") \n",
    "print(f\"Total available: {total_available:.1f} MW\")\n",
    "print(f\"Shortfall: {total_demand - total_available:.1f} MW\")"
   ]
  },
  {
   "cell_type": "code",
   "execution_count": 17,
   "id": "82d60484",
   "metadata": {},
   "outputs": [
    {
     "name": "stdout",
     "output_type": "stream",
     "text": [
      "=== TRANSMISSION CONNECTIVITY ===\n",
      "\n",
      "ZA0 region connections:\n",
      "  → ZA0 2 (33287.1 MW)\n",
      "  → ZA0 3 (11167.3 MW)\n",
      "  → ZA0 2 (6394.7 MW)\n",
      "  → ZA0 3 (2359.5 MW)\n",
      "  → ZA0 4 (33895.0 MW)\n",
      "  → ZA0 3 (62686.5 MW)\n",
      "  → ZA0 4 (91265.8 MW)\n",
      "\n",
      "ZA1 region connections:\n",
      "  ❌ ZA1 has NO transmission connections to other regions!\n",
      "\n",
      "ZA2 region connections:\n",
      "  ❌ ZA2 has NO transmission connections to other regions!\n",
      "\n",
      "ZA3 region connections:\n",
      "  ❌ ZA3 has NO transmission connections to other regions!\n",
      "\n",
      "=== ZA1 0 BUS ISOLATION ===\n",
      "ZA1 0 demand: 878.7 MW\n",
      "ZA1 0 available generation: 3.8 MW\n",
      "Deficit: 874.9 MW\n",
      "No transmission lines connect ZA1 0 to any ZA0 bus with coal generators\n"
     ]
    }
   ],
   "source": [
    "# Check transmission connections to each region\n",
    "print(\"=== TRANSMISSION CONNECTIVITY ===\")\n",
    "regions = ['ZA0', 'ZA1', 'ZA2', 'ZA3']\n",
    "\n",
    "for region in regions:\n",
    "    print(f\"\\n{region} region connections:\")\n",
    "    connections = []\n",
    "    \n",
    "    # Check lines where this region is involved\n",
    "    for idx, line in n.lines.iterrows():\n",
    "        bus0_region = line['bus0'][:3]  # Get ZA0, ZA1, etc.\n",
    "        bus1_region = line['bus1'][:3]\n",
    "        \n",
    "        if bus0_region == region:\n",
    "            connections.append(f\"  → {line['bus1']} ({line['s_nom']:.1f} MW)\")\n",
    "        elif bus1_region == region:\n",
    "            connections.append(f\"  ← {line['bus0']} ({line['s_nom']:.1f} MW)\")\n",
    "    \n",
    "    if connections:\n",
    "        for conn in connections:\n",
    "            print(conn)\n",
    "    else:\n",
    "        print(f\"  ❌ {region} has NO transmission connections to other regions!\")\n",
    "\n",
    "# Verify the isolated ZA1 0 problem specifically\n",
    "print(f\"\\n=== ZA1 0 BUS ISOLATION ===\")\n",
    "print(f\"ZA1 0 demand: {n.loads_t.p_set.loc[n.snapshots[0], 'ZA1 0']:.1f} MW\")\n",
    "print(f\"ZA1 0 available generation: 3.8 MW\")\n",
    "print(f\"Deficit: {n.loads_t.p_set.loc[n.snapshots[0], 'ZA1 0'] - 3.8:.1f} MW\")\n",
    "print(\"No transmission lines connect ZA1 0 to any ZA0 bus with coal generators\")"
   ]
  },
  {
   "cell_type": "code",
   "execution_count": 18,
   "id": "080eb888",
   "metadata": {},
   "outputs": [
    {
     "name": "stdout",
     "output_type": "stream",
     "text": [
      "=== RENEWABLE GENERATOR p_set CHECK ===\n",
      "generators_t attributes: []\n",
      "generators_t.p_set shape: (56, 0)\n",
      "generators_t.p_set columns: []\n",
      "\n",
      "=== RENEWABLE GENERATOR p_set VALUES ===\n",
      "\n",
      "=== RENEWABLE GENERATOR CONTROL ===\n",
      "                     carrier control        p_nom\n",
      "Generator                                        \n",
      "ZA0 0 offwind-ac  offwind-ac             0.000000\n",
      "ZA0 0 offwind-dc  offwind-dc             0.000000\n",
      "ZA0 0 onwind          onwind           869.326726\n",
      "ZA0 0 solar            solar          1342.994924\n",
      "ZA0 1 offwind-ac  offwind-ac             0.000000\n",
      "ZA0 1 offwind-dc  offwind-dc             0.000000\n",
      "ZA0 1 onwind          onwind           192.446194\n",
      "ZA0 1 solar            solar           420.748792\n",
      "ZA0 2 offwind-ac  offwind-ac             0.000000\n",
      "ZA0 2 offwind-dc  offwind-dc             0.000000\n"
     ]
    }
   ],
   "source": [
    "# Check if renewable generators have p_set in time series\n",
    "print(\"=== RENEWABLE GENERATOR p_set CHECK ===\")\n",
    "\n",
    "# Check what's in generators_t\n",
    "print(f\"generators_t attributes: {list(n.generators_t.__dict__.keys())}\")\n",
    "\n",
    "# Check if p_set exists for generators\n",
    "if hasattr(n.generators_t, 'p_set'):\n",
    "    print(f\"generators_t.p_set shape: {n.generators_t.p_set.shape}\")\n",
    "    print(f\"generators_t.p_set columns: {list(n.generators_t.p_set.columns)}\")\n",
    "    \n",
    "    # Check renewable generators specifically\n",
    "    renewable_gens = n.generators[n.generators.carrier.isin(['solar', 'onwind', 'offwind-ac', 'offwind-dc'])]\n",
    "    print(f\"\\n=== RENEWABLE GENERATOR p_set VALUES ===\")\n",
    "    for gen in renewable_gens.index[:5]:  # First 5 renewable generators\n",
    "        if gen in n.generators_t.p_set.columns:\n",
    "            p_set_val = n.generators_t.p_set.loc[n.snapshots[0], gen]\n",
    "            p_max_pu_val = n.generators_t.p_max_pu.loc[n.snapshots[0], gen] if hasattr(n.generators_t, 'p_max_pu') else \"N/A\"\n",
    "            print(f\"{gen}: p_set={p_set_val}, p_max_pu={p_max_pu_val}\")\n",
    "else:\n",
    "    print(\"❌ No generators_t.p_set found!\")\n",
    "\n",
    "# Check renewable generator control types\n",
    "print(f\"\\n=== RENEWABLE GENERATOR CONTROL ===\")\n",
    "renewable_gens = n.generators[n.generators.carrier.isin(['solar', 'onwind', 'offwind-ac', 'offwind-dc'])]\n",
    "print(renewable_gens[['carrier', 'control', 'p_nom']].head(10))"
   ]
  },
  {
   "cell_type": "code",
   "execution_count": 22,
   "id": "e42b8242",
   "metadata": {},
   "outputs": [
    {
     "name": "stdout",
     "output_type": "stream",
     "text": [
      "=== CONNECTING ISOLATED REGIONS ===\n",
      "Added transmission connections:\n",
      "  ZA0 4 ↔ ZA1 0: 2000 MW\n",
      "  ZA0 2 ↔ ZA2 0: 1000 MW\n",
      "  ZA0 3 ↔ ZA3 0: 1000 MW\n"
     ]
    },
    {
     "name": "stderr",
     "output_type": "stream",
     "text": [
      "WARNING:pypsa.consistency:The following lines have carriers which are not defined:\n",
      "Index(['0', '1', '2', '3', '4', '5', '6', 'fix_ZA0_4_to_ZA1_0',\n",
      "       'fix_ZA0_2_to_ZA2_0', 'fix_ZA0_3_to_ZA3_0'],\n",
      "      dtype='object', name='Line')\n",
      "WARNING:pypsa.consistency:The following buses have carriers which are not defined:\n",
      "Index(['ZA0 0', 'ZA0 1', 'ZA0 2', 'ZA0 3', 'ZA0 4', 'ZA1 0', 'ZA2 0', 'ZA3 0'], dtype='object', name='Bus')\n",
      "WARNING:pypsa.consistency:The following sub_networks have carriers which are not defined:\n",
      "Index(['0'], dtype='object', name='SubNetwork')\n",
      "WARNING:pypsa.consistency:The following lines have carriers which are not defined:\n",
      "Index(['0', '1', '2', '3', '4', '5', '6', 'fix_ZA0_4_to_ZA1_0',\n",
      "       'fix_ZA0_2_to_ZA2_0', 'fix_ZA0_3_to_ZA3_0'],\n",
      "      dtype='object', name='Line')\n",
      "WARNING:pypsa.consistency:The following buses have carriers which are not defined:\n",
      "Index(['ZA0 0', 'ZA0 1', 'ZA0 2', 'ZA0 3', 'ZA0 4', 'ZA1 0', 'ZA2 0', 'ZA3 0'], dtype='object', name='Bus')\n",
      "WARNING:pypsa.consistency:The following sub_networks have carriers which are not defined:\n",
      "Index(['0'], dtype='object', name='SubNetwork')\n",
      "INFO:linopy.model: Solve problem using Gurobi solver\n",
      "INFO:linopy.io: Writing time: 0.23s\n"
     ]
    },
    {
     "name": "stdout",
     "output_type": "stream",
     "text": [
      "Set parameter Username\n"
     ]
    },
    {
     "name": "stderr",
     "output_type": "stream",
     "text": [
      "INFO:gurobipy:Set parameter Username\n"
     ]
    },
    {
     "name": "stdout",
     "output_type": "stream",
     "text": [
      "Set parameter LicenseID to value 2695191\n"
     ]
    },
    {
     "name": "stderr",
     "output_type": "stream",
     "text": [
      "INFO:gurobipy:Set parameter LicenseID to value 2695191\n"
     ]
    },
    {
     "name": "stdout",
     "output_type": "stream",
     "text": [
      "Academic license - for non-commercial use only - expires 2026-08-12\n"
     ]
    },
    {
     "name": "stderr",
     "output_type": "stream",
     "text": [
      "INFO:gurobipy:Academic license - for non-commercial use only - expires 2026-08-12\n"
     ]
    },
    {
     "name": "stdout",
     "output_type": "stream",
     "text": [
      "Read LP format model from file /private/var/folders/tt/b5q5vkxj6xvf2b6q1f46ytgw0000gn/T/linopy-problem-rs53pgn_.lp\n"
     ]
    },
    {
     "name": "stderr",
     "output_type": "stream",
     "text": [
      "INFO:gurobipy:Read LP format model from file /private/var/folders/tt/b5q5vkxj6xvf2b6q1f46ytgw0000gn/T/linopy-problem-rs53pgn_.lp\n"
     ]
    },
    {
     "name": "stdout",
     "output_type": "stream",
     "text": [
      "Reading time = 0.06 seconds\n"
     ]
    },
    {
     "name": "stderr",
     "output_type": "stream",
     "text": [
      "INFO:gurobipy:Reading time = 0.06 seconds\n"
     ]
    },
    {
     "name": "stdout",
     "output_type": "stream",
     "text": [
      "obj: 7784 rows, 3584 columns, 12152 nonzeros\n"
     ]
    },
    {
     "name": "stderr",
     "output_type": "stream",
     "text": [
      "INFO:gurobipy:obj: 7784 rows, 3584 columns, 12152 nonzeros\n"
     ]
    },
    {
     "name": "stdout",
     "output_type": "stream",
     "text": [
      "Gurobi Optimizer version 12.0.3 build v12.0.3rc0 (mac64[x86] - Darwin 24.6.0 24G84)\n"
     ]
    },
    {
     "name": "stderr",
     "output_type": "stream",
     "text": [
      "INFO:gurobipy:Gurobi Optimizer version 12.0.3 build v12.0.3rc0 (mac64[x86] - Darwin 24.6.0 24G84)\n"
     ]
    },
    {
     "name": "stdout",
     "output_type": "stream",
     "text": [
      "\n"
     ]
    },
    {
     "name": "stderr",
     "output_type": "stream",
     "text": [
      "INFO:gurobipy:\n"
     ]
    },
    {
     "name": "stdout",
     "output_type": "stream",
     "text": [
      "CPU model: Intel(R) Core(TM) i5-8279U CPU @ 2.40GHz\n"
     ]
    },
    {
     "name": "stderr",
     "output_type": "stream",
     "text": [
      "INFO:gurobipy:CPU model: Intel(R) Core(TM) i5-8279U CPU @ 2.40GHz\n"
     ]
    },
    {
     "name": "stdout",
     "output_type": "stream",
     "text": [
      "Thread count: 4 physical cores, 8 logical processors, using up to 8 threads\n"
     ]
    },
    {
     "name": "stderr",
     "output_type": "stream",
     "text": [
      "INFO:gurobipy:Thread count: 4 physical cores, 8 logical processors, using up to 8 threads\n"
     ]
    },
    {
     "name": "stdout",
     "output_type": "stream",
     "text": [
      "\n"
     ]
    },
    {
     "name": "stderr",
     "output_type": "stream",
     "text": [
      "INFO:gurobipy:\n"
     ]
    },
    {
     "name": "stdout",
     "output_type": "stream",
     "text": [
      "Optimize a model with 7784 rows, 3584 columns and 12152 nonzeros\n"
     ]
    },
    {
     "name": "stderr",
     "output_type": "stream",
     "text": [
      "INFO:gurobipy:Optimize a model with 7784 rows, 3584 columns and 12152 nonzeros\n"
     ]
    },
    {
     "name": "stdout",
     "output_type": "stream",
     "text": [
      "Model fingerprint: 0x9aad4685\n"
     ]
    },
    {
     "name": "stderr",
     "output_type": "stream",
     "text": [
      "INFO:gurobipy:Model fingerprint: 0x9aad4685\n"
     ]
    },
    {
     "name": "stdout",
     "output_type": "stream",
     "text": [
      "Coefficient statistics:\n"
     ]
    },
    {
     "name": "stderr",
     "output_type": "stream",
     "text": [
      "INFO:gurobipy:Coefficient statistics:\n"
     ]
    },
    {
     "name": "stdout",
     "output_type": "stream",
     "text": [
      "  Matrix range     [1e+00, 2e+02]\n"
     ]
    },
    {
     "name": "stderr",
     "output_type": "stream",
     "text": [
      "INFO:gurobipy:  Matrix range     [1e+00, 2e+02]\n"
     ]
    },
    {
     "name": "stdout",
     "output_type": "stream",
     "text": [
      "  Objective range  [2e+00, 7e+03]\n"
     ]
    },
    {
     "name": "stderr",
     "output_type": "stream",
     "text": [
      "INFO:gurobipy:  Objective range  [2e+00, 7e+03]\n"
     ]
    },
    {
     "name": "stdout",
     "output_type": "stream",
     "text": [
      "  Bounds range     [7e+00, 9e+02]\n"
     ]
    },
    {
     "name": "stderr",
     "output_type": "stream",
     "text": [
      "INFO:gurobipy:  Bounds range     [7e+00, 9e+02]\n"
     ]
    },
    {
     "name": "stdout",
     "output_type": "stream",
     "text": [
      "  RHS range        [2e-03, 1e+06]\n"
     ]
    },
    {
     "name": "stderr",
     "output_type": "stream",
     "text": [
      "INFO:gurobipy:  RHS range        [2e-03, 1e+06]\n"
     ]
    },
    {
     "name": "stdout",
     "output_type": "stream",
     "text": [
      "Presolve removed 7606 rows and 2654 columns\n"
     ]
    },
    {
     "name": "stderr",
     "output_type": "stream",
     "text": [
      "INFO:gurobipy:Presolve removed 7606 rows and 2654 columns\n"
     ]
    },
    {
     "name": "stdout",
     "output_type": "stream",
     "text": [
      "Presolve time: 0.17s\n"
     ]
    },
    {
     "name": "stderr",
     "output_type": "stream",
     "text": [
      "INFO:gurobipy:Presolve time: 0.17s\n"
     ]
    },
    {
     "name": "stdout",
     "output_type": "stream",
     "text": [
      "Presolved: 178 rows, 930 columns, 1394 nonzeros\n"
     ]
    },
    {
     "name": "stderr",
     "output_type": "stream",
     "text": [
      "INFO:gurobipy:Presolved: 178 rows, 930 columns, 1394 nonzeros\n"
     ]
    },
    {
     "name": "stdout",
     "output_type": "stream",
     "text": [
      "\n"
     ]
    },
    {
     "name": "stderr",
     "output_type": "stream",
     "text": [
      "INFO:gurobipy:\n"
     ]
    },
    {
     "name": "stdout",
     "output_type": "stream",
     "text": [
      "Iteration    Objective       Primal Inf.    Dual Inf.      Time\n"
     ]
    },
    {
     "name": "stderr",
     "output_type": "stream",
     "text": [
      "INFO:gurobipy:Iteration    Objective       Primal Inf.    Dual Inf.      Time\n"
     ]
    },
    {
     "name": "stdout",
     "output_type": "stream",
     "text": [
      "       0    6.9558828e+09   8.350750e+04   0.000000e+00      0s\n"
     ]
    },
    {
     "name": "stderr",
     "output_type": "stream",
     "text": [
      "INFO:gurobipy:       0    6.9558828e+09   8.350750e+04   0.000000e+00      0s\n"
     ]
    },
    {
     "name": "stdout",
     "output_type": "stream",
     "text": [
      "     228    9.5727753e+09   0.000000e+00   0.000000e+00      0s\n"
     ]
    },
    {
     "name": "stderr",
     "output_type": "stream",
     "text": [
      "INFO:gurobipy:     228    9.5727753e+09   0.000000e+00   0.000000e+00      0s\n"
     ]
    },
    {
     "name": "stdout",
     "output_type": "stream",
     "text": [
      "\n"
     ]
    },
    {
     "name": "stderr",
     "output_type": "stream",
     "text": [
      "INFO:gurobipy:\n"
     ]
    },
    {
     "name": "stdout",
     "output_type": "stream",
     "text": [
      "Solved in 228 iterations and 0.23 seconds (0.01 work units)\n"
     ]
    },
    {
     "name": "stderr",
     "output_type": "stream",
     "text": [
      "INFO:gurobipy:Solved in 228 iterations and 0.23 seconds (0.01 work units)\n"
     ]
    },
    {
     "name": "stdout",
     "output_type": "stream",
     "text": [
      "Optimal objective  9.572775279e+09\n"
     ]
    },
    {
     "name": "stderr",
     "output_type": "stream",
     "text": [
      "INFO:gurobipy:Optimal objective  9.572775279e+09\n",
      "INFO:linopy.constants: Optimization successful: \n",
      "Status: ok\n",
      "Termination condition: optimal\n",
      "Solution: 3584 primals, 7784 duals\n",
      "Objective: 9.57e+09\n",
      "Solver model: available\n",
      "Solver message: 2\n",
      "\n",
      "INFO:pypsa.optimization.optimize:The shadow-prices of the constraints Generator-fix-p-lower, Generator-fix-p-upper, Line-fix-s-lower, Line-fix-s-upper, StorageUnit-fix-p_dispatch-lower, StorageUnit-fix-p_dispatch-upper, StorageUnit-fix-p_store-lower, StorageUnit-fix-p_store-upper, StorageUnit-fix-state_of_charge-lower, StorageUnit-fix-state_of_charge-upper, Kirchhoff-Voltage-Law, StorageUnit-energy_balance were not assigned to the network.\n"
     ]
    },
    {
     "name": "stdout",
     "output_type": "stream",
     "text": [
      "✅ SUCCESS! 5-node network now works with transmission fixes\n",
      "Objective: 9,572,775,279\n"
     ]
    },
    {
     "name": "stderr",
     "output_type": "stream",
     "text": [
      "INFO:pypsa.io:Exported network 'elec_s_5_ec_lc1.0_3h_connected.nc' contains: carriers, lines, loads, global_constraints, storage_units, buses, generators\n"
     ]
    },
    {
     "name": "stdout",
     "output_type": "stream",
     "text": [
      "💾 Saved connected network as: elec_s_5_ec_lc1.0_3h_connected.nc\n"
     ]
    }
   ],
   "source": [
    "# Quick transmission fix to connect all isolated regions\n",
    "print(\"=== CONNECTING ISOLATED REGIONS ===\")\n",
    "\n",
    "# Add transmission lines to connect all regions to main grid\n",
    "transmission_fixes = [\n",
    "    # Connect ZA1 to coal-rich ZA0 region\n",
    "    {\"name\": \"fix_ZA0_4_to_ZA1_0\", \"bus0\": \"ZA0 4\", \"bus1\": \"ZA1 0\", \"s_nom\": 2000},\n",
    "    \n",
    "    # Connect ZA2 to main grid\n",
    "    {\"name\": \"fix_ZA0_2_to_ZA2_0\", \"bus0\": \"ZA0 2\", \"bus1\": \"ZA2 0\", \"s_nom\": 1000},\n",
    "    \n",
    "    # Connect ZA3 to main grid  \n",
    "    {\"name\": \"fix_ZA0_3_to_ZA3_0\", \"bus0\": \"ZA0 3\", \"bus1\": \"ZA3 0\", \"s_nom\": 1000},\n",
    "]\n",
    "\n",
    "for line in transmission_fixes:\n",
    "    n.add(\"Line\", line[\"name\"],\n",
    "          bus0=line[\"bus0\"], \n",
    "          bus1=line[\"bus1\"],\n",
    "          s_nom=line[\"s_nom\"],\n",
    "          length=500,  # Reasonable assumption\n",
    "          r=0.01, x=0.1)  # Standard transmission parameters\n",
    "\n",
    "print(\"Added transmission connections:\")\n",
    "for line in transmission_fixes:\n",
    "    print(f\"  {line['bus0']} ↔ {line['bus1']}: {line['s_nom']} MW\")\n",
    "\n",
    "# Test optimization\n",
    "try:\n",
    "    n.optimize(solver_name='gurobi')\n",
    "    print(\"✅ SUCCESS! 5-node network now works with transmission fixes\")\n",
    "    print(f\"Objective: {n.objective:,.0f}\")\n",
    "    \n",
    "    # Save this working network for RL training\n",
    "    n.export_to_netcdf(\"elec_s_5_ec_lc1.0_3h_connected.nc\")\n",
    "    print(\"💾 Saved connected network as: elec_s_5_ec_lc1.0_3h_connected.nc\")\n",
    "    \n",
    "except Exception as e:\n",
    "    print(f\"❌ Still having issues: {e}\")"
   ]
  },
  {
   "cell_type": "code",
   "execution_count": null,
   "id": "749d46a1",
   "metadata": {},
   "outputs": [
    {
     "name": "stdout",
     "output_type": "stream",
     "text": [
      "=== GENERATOR CONTROL ANALYSIS ===\n",
      "                   p_nom         \n",
      "                   count      sum\n",
      "carrier    control               \n",
      "CCGT                   3   1306.7\n",
      "           Slack       1   2078.3\n",
      "biomass                2     13.6\n",
      "coal                   3  46999.7\n",
      "nuclear                1   1940.0\n",
      "offwind-ac             3      0.0\n",
      "           Slack       2      0.0\n",
      "offwind-dc             5      0.0\n",
      "onwind                 7   3392.9\n",
      "           Slack       1      1.7\n",
      "ror                    4     67.4\n",
      "solar                  8   5592.6\n",
      "\n",
      "=== YOUR RL AGENT CONTROLLABLE GENERATORS ===\n"
     ]
    },
    {
     "ename": "NameError",
     "evalue": "name 'self' is not defined",
     "output_type": "error",
     "traceback": [
      "\u001b[31m---------------------------------------------------------------------------\u001b[39m",
      "\u001b[31mNameError\u001b[39m                                 Traceback (most recent call last)",
      "\u001b[36mCell\u001b[39m\u001b[36m \u001b[39m\u001b[32mIn[19]\u001b[39m\u001b[32m, line 9\u001b[39m\n\u001b[32m      7\u001b[39m \u001b[38;5;66;03m# Check what your RL agent is actually trying to control\u001b[39;00m\n\u001b[32m      8\u001b[39m \u001b[38;5;28mprint\u001b[39m(\u001b[33mf\u001b[39m\u001b[33m\"\u001b[39m\u001b[38;5;130;01m\\n\u001b[39;00m\u001b[33m=== YOUR RL AGENT CONTROLLABLE GENERATORS ===\u001b[39m\u001b[33m\"\u001b[39m)\n\u001b[32m----> \u001b[39m\u001b[32m9\u001b[39m \u001b[38;5;28mprint\u001b[39m(\u001b[33mf\u001b[39m\u001b[33m\"\u001b[39m\u001b[33mNon-slack generators: \u001b[39m\u001b[38;5;132;01m{\u001b[39;00m\u001b[38;5;28mlen\u001b[39m(\u001b[38;5;28;43mself\u001b[39;49m.non_slack_gens)\u001b[38;5;132;01m}\u001b[39;00m\u001b[33m\"\u001b[39m)\n\u001b[32m     10\u001b[39m \u001b[38;5;28mprint\u001b[39m(\u001b[33m\"\u001b[39m\u001b[33mBreakdown by carrier:\u001b[39m\u001b[33m\"\u001b[39m)\n\u001b[32m     11\u001b[39m \u001b[38;5;28;01mfor\u001b[39;00m carrier \u001b[38;5;129;01min\u001b[39;00m n.generators.loc[\u001b[38;5;28mself\u001b[39m.non_slack_gens, \u001b[33m'\u001b[39m\u001b[33mcarrier\u001b[39m\u001b[33m'\u001b[39m].unique():\n",
      "\u001b[31mNameError\u001b[39m: name 'self' is not defined"
     ]
    }
   ],
   "source": [
    "print(\"=== GENERATOR CONTROL ANALYSIS ===\")\n",
    "control_summary = n.generators.groupby(['carrier', 'control']).agg({\n",
    "    'p_nom': ['count', 'sum']\n",
    "}).round(1)\n",
    "print(control_summary)\n"
   ]
  },
  {
   "cell_type": "code",
   "execution_count": 23,
   "id": "5789696a",
   "metadata": {},
   "outputs": [
    {
     "name": "stderr",
     "output_type": "stream",
     "text": [
      "INFO:pypsa.io:Imported network elec_s_5_ec_lc1.0_3h_connected.nc has buses, carriers, generators, global_constraints, lines, loads, storage_units\n"
     ]
    },
    {
     "name": "stdout",
     "output_type": "stream",
     "text": [
      "=== CARRIERS FOUND IN NETWORK ===\n",
      "Generator carriers:\n",
      "  CCGT: 4 generators, 3385.0 MW\n",
      "  biomass: 2 generators, 13.6 MW\n",
      "  coal: 3 generators, 46999.7 MW\n",
      "  nuclear: 1 generators, 1940.0 MW\n",
      "  offwind-ac: 5 generators, 0.0 MW\n",
      "  offwind-dc: 5 generators, 0.0 MW\n",
      "  onwind: 8 generators, 3394.6 MW\n",
      "  ror: 4 generators, 67.4 MW\n",
      "  solar: 8 generators, 5592.6 MW\n",
      "\n",
      "Buses carriers:\n",
      "  AC: 8 buses\n",
      "\n",
      "Lines carriers:\n",
      "  AC: 10 lines\n",
      "\n",
      "Loads carriers:\n",
      "  : 8 loads\n",
      "\n",
      "Storage_Units carriers:\n",
      "  PHS: 2 storage_units\n",
      "  hydro: 2 storage_units\n",
      "\n",
      "=== REFERENCED BUT UNDEFINED CARRIERS ===\n",
      "Undefined carriers: ['', 'AC']\n"
     ]
    }
   ],
   "source": [
    "# Load your network\n",
    "n = pypsa.Network(\"elec_s_5_ec_lc1.0_3h_connected.nc\")  # or your full network\n",
    "\n",
    "print(\"=== CARRIERS FOUND IN NETWORK ===\")\n",
    "\n",
    "# Check generator carriers\n",
    "print(\"Generator carriers:\")\n",
    "gen_carriers = n.generators.carrier.unique()\n",
    "for carrier in sorted(gen_carriers):\n",
    "    count = (n.generators.carrier == carrier).sum()\n",
    "    total_capacity = n.generators[n.generators.carrier == carrier].p_nom.sum()\n",
    "    print(f\"  {carrier}: {count} generators, {total_capacity:.1f} MW\")\n",
    "\n",
    "# Check other component carriers (if any)\n",
    "components_with_carriers = ['buses', 'lines', 'links', 'loads', 'storage_units', 'stores']\n",
    "\n",
    "for component in components_with_carriers:\n",
    "    if hasattr(n, component):\n",
    "        df = getattr(n, component)\n",
    "        if 'carrier' in df.columns and not df.empty:\n",
    "            carriers = df.carrier.dropna().unique()\n",
    "            if len(carriers) > 0:\n",
    "                print(f\"\\n{component.title()} carriers:\")\n",
    "                for carrier in sorted(carriers):\n",
    "                    count = (df.carrier == carrier).sum()\n",
    "                    print(f\"  {carrier}: {count} {component}\")\n",
    "\n",
    "# Check what carriers are referenced but not defined\n",
    "print(f\"\\n=== REFERENCED BUT UNDEFINED CARRIERS ===\")\n",
    "all_carriers = set()\n",
    "\n",
    "# Collect all carrier references\n",
    "for component in ['generators', 'buses', 'lines', 'links', 'loads', 'storage_units', 'stores']:\n",
    "    if hasattr(n, component):\n",
    "        df = getattr(n, component)\n",
    "        if 'carrier' in df.columns:\n",
    "            carriers = df.carrier.dropna().unique()\n",
    "            all_carriers.update(carriers)\n",
    "\n",
    "# Check which are defined\n",
    "if hasattr(n, 'carriers') and not n.carriers.empty:\n",
    "    defined_carriers = set(n.carriers.index)\n",
    "    undefined_carriers = all_carriers - defined_carriers\n",
    "    print(\"Undefined carriers:\", sorted(undefined_carriers))\n",
    "else:\n",
    "    print(\"No carriers defined in network\")\n",
    "    print(\"All referenced carriers:\", sorted(all_carriers))"
   ]
  }
 ],
 "metadata": {
  "kernelspec": {
   "display_name": "pypsa-earth",
   "language": "python",
   "name": "python3"
  },
  "language_info": {
   "codemirror_mode": {
    "name": "ipython",
    "version": 3
   },
   "file_extension": ".py",
   "mimetype": "text/x-python",
   "name": "python",
   "nbconvert_exporter": "python",
   "pygments_lexer": "ipython3",
   "version": "3.11.13"
  }
 },
 "nbformat": 4,
 "nbformat_minor": 5
}
