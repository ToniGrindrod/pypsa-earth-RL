{
 "cells": [
  {
   "cell_type": "code",
   "execution_count": 9,
   "id": "35771ad4",
   "metadata": {},
   "outputs": [],
   "source": [
    "import pypsa\n",
    "def fix_artificial_lines_reasonable(network):\n",
    "    \"\"\"\n",
    "    Fix artificial lines with reasonable capacity values:\n",
    "    - s_nom = based on connected bus demand (with safety factor)\n",
    "    - s_nom_extendable = False (non-extendable)\n",
    "    - Keep capacity high enough to meet demand\n",
    "    \"\"\"\n",
    "    print(\"=== FIXING ARTIFICIAL LINES WITH REASONABLE CAPACITY ===\")\n",
    "\n",
    "    # Find artificial lines\n",
    "    artificial_lines = [line for line in network.lines.index\n",
    "                       if any(keyword in str(line).lower() for keyword in ['new', '<->', 'artificial'])]\n",
    "\n",
    "    if not artificial_lines:\n",
    "        # If no artificial lines found by name, look for lines with s_nom=0\n",
    "        # which is often a sign of artificial lines\n",
    "        zero_capacity_lines = network.lines[network.lines.s_nom == 0].index.tolist()\n",
    "        if zero_capacity_lines:\n",
    "            artificial_lines = zero_capacity_lines\n",
    "\n",
    "    print(f\"Found {len(artificial_lines)} artificial lines to fix:\")\n",
    "\n",
    "    # Get maximum demand per bus across all snapshots\n",
    "    bus_max_demand = {}\n",
    "    for bus in network.buses.index:\n",
    "        bus_demand = 0\n",
    "        for load_name, load in network.loads.iterrows():\n",
    "            if load.bus == bus and load_name in network.loads_t.p_set.columns:\n",
    "                bus_demand = max(bus_demand, network.loads_t.p_set[load_name].max())\n",
    "        bus_max_demand[bus] = bus_demand\n",
    "\n",
    "    # Fix each artificial line with reasonable capacity\n",
    "    for line_name in artificial_lines:\n",
    "        # Get connected buses\n",
    "        bus0 = network.lines.loc[line_name, 'bus0']\n",
    "        bus1 = network.lines.loc[line_name, 'bus1']\n",
    "\n",
    "        # Get maximum demand at these buses\n",
    "        bus0_demand = bus_max_demand.get(bus0, 0)\n",
    "        bus1_demand = bus_max_demand.get(bus1, 0)\n",
    "\n",
    "        # Calculate required capacity with safety factor\n",
    "        # Use 3x the higher demand to ensure adequate capacity\n",
    "        safety_factor = 3.0\n",
    "        required_capacity = max(bus0_demand, bus1_demand) * safety_factor\n",
    "\n",
    "        # Ensure minimum reasonable capacity (1000 MW)\n",
    "        required_capacity = max(required_capacity, 1000)\n",
    "\n",
    "        print(f\"\\n Fixing: {line_name}\")\n",
    "        print(f\"    Connected buses: {bus0} ↔ {bus1}\")\n",
    "        print(f\"    Bus demands: {bus0}: {bus0_demand:.1f} MW, {bus1}: {bus1_demand:.1f} MW\")\n",
    "\n",
    "        # Set s_nom to required capacity\n",
    "        old_s_nom = network.lines.loc[line_name, 's_nom']\n",
    "        network.lines.loc[line_name, 's_nom'] = required_capacity\n",
    "        print(f\"    s_nom: {old_s_nom} → {required_capacity:.1f} MW\")\n",
    "\n",
    "        # Make sure line is not extendable\n",
    "        if 's_nom_extendable' not in network.lines.columns:\n",
    "            network.lines['s_nom_extendable'] = False\n",
    "        network.lines.loc[line_name, 's_nom_extendable'] = False\n",
    "        print(f\"    s_nom_extendable: → False\")\n",
    "\n",
    "    return network\n",
    "\n",
    "def create_pypsa_network(network_file):\n",
    "    \"\"\"Create a PyPSA network from the .nc file.\"\"\"\n",
    "    # Initialize network\n",
    "    network = pypsa.Network(network_file)\n",
    "    for storage_name in network.storage_units.index:\n",
    "        # Use .loc for direct assignment to avoid SettingWithCopyWarning\n",
    "        network.storage_units.loc[storage_name, 'cyclic_state_of_charge'] = False\n",
    "\n",
    "        # Set marginal_cost to 0.01\n",
    "        network.storage_units.loc[storage_name, 'marginal_cost'] = 0.01\n",
    "\n",
    "        # Set marginal_cost_storage to 0.01\n",
    "        network.storage_units.loc[storage_name, 'marginal_cost_storage'] = 0.01\n",
    "\n",
    "        # Set spill_cost to 0.1\n",
    "        network.storage_units.loc[storage_name, 'spill_cost'] = 0.1\n",
    "\n",
    "        network.storage_units.loc[storage_name, 'efficiency_store'] = 0.866025 #use phs efficiency (hydro didnt have an efficiency, but i want to model them all as the same)\n",
    "\n",
    "        # Fix unrealistic max_hours values\n",
    "        current_max_hours = network.storage_units.loc[storage_name, 'max_hours']\n",
    "\n",
    "        if 'PHS' in storage_name:\n",
    "            # PHS with missing data - set to typical range\n",
    "            network.storage_units.loc[storage_name, 'max_hours'] = 8.0\n",
    "            print(f\"Fixed {storage_name}: set max_hours to 8.0\")\n",
    "\n",
    "        elif 'hydro' in storage_name:\n",
    "            # Hydro with unrealistic data - set to validated range\n",
    "            network.storage_units.loc[storage_name, 'max_hours'] = 6.0\n",
    "            print(f\"Fixed {storage_name}: corrected max_hours from {current_max_hours} to 6.0\")\n",
    "\n",
    "\n",
    "    fix_artificial_lines_reasonable(network)\n",
    "\n",
    "    return network"
   ]
  },
  {
   "cell_type": "code",
   "execution_count": 12,
   "id": "cf7f064a",
   "metadata": {},
   "outputs": [
    {
     "name": "stderr",
     "output_type": "stream",
     "text": [
      "INFO:pypsa.io:Imported network elec_s_10_ec_lc1.0_1h.nc has buses, carriers, generators, global_constraints, lines, loads, storage_units\n"
     ]
    },
    {
     "name": "stdout",
     "output_type": "stream",
     "text": [
      "Fixed ZA0 0 PHS: set max_hours to 8.0\n",
      "Fixed ZA0 5 PHS: set max_hours to 8.0\n",
      "Fixed ZA0 6 hydro: corrected max_hours from 3831.6270020496813 to 6.0\n",
      "=== FIXING ARTIFICIAL LINES WITH REASONABLE CAPACITY ===\n",
      "Found 3 artificial lines to fix:\n",
      "\n",
      " Fixing: lines new ZA0 4 <-> ZA2 0 AC\n",
      "    Connected buses: ZA0 4 ↔ ZA2 0\n",
      "    Bus demands: ZA0 4: 15945.8 MW, ZA2 0: 452.6 MW\n",
      "    s_nom: 0.0 → 47837.3 MW\n",
      "    s_nom_extendable: → False\n",
      "\n",
      " Fixing: lines new ZA0 0 <-> ZA1 0 AC\n",
      "    Connected buses: ZA0 0 ↔ ZA1 0\n",
      "    Bus demands: ZA0 0: 3513.0 MW, ZA1 0: 1386.9 MW\n",
      "    s_nom: 0.0 → 10538.9 MW\n",
      "    s_nom_extendable: → False\n",
      "\n",
      " Fixing: lines new ZA0 0 <-> ZA3 0 AC\n",
      "    Connected buses: ZA0 0 ↔ ZA3 0\n",
      "    Bus demands: ZA0 0: 3513.0 MW, ZA3 0: 721.1 MW\n",
      "    s_nom: 0.0 → 10538.9 MW\n",
      "    s_nom_extendable: → False\n",
      "Any SLACK generators with zero p_nom: True\n",
      "Any SLACK generators with zero p_max_pu at any time: True\n",
      "\n",
      "Slack generator details:\n",
      "                        p_nom  p_max_pu  p_min_pu\n",
      "Generator                                        \n",
      "ZA0 0 coal        5743.000000       1.0       0.0\n",
      "ZA1 0 offwind-ac     0.000000       1.0       0.0\n",
      "ZA2 0 onwind         1.981033       1.0       0.0\n",
      "ZA3 0 offwind-ac     0.000000       1.0       0.0\n",
      "\n",
      "Slack generators with zero effective p_max: True\n",
      "Slack generators with zero effective p_max:\n",
      "                  p_nom  p_max_pu  p_min_pu\n",
      "Generator                                  \n",
      "ZA1 0 offwind-ac    0.0       1.0       0.0\n",
      "ZA3 0 offwind-ac    0.0       1.0       0.0\n"
     ]
    }
   ],
   "source": [
    "network_file_path = \"/Users/antoniagrindrod/Documents/pypsa-earth_project/pypsa-earth-RL/RL/elec_s_10_ec_lc1.0_1h.nc\"\n",
    "network=create_pypsa_network(network_file_path)\n",
    "\n",
    "# Get slack generators first\n",
    "slack_generators = network.generators[network.generators.control == \"Slack\"].index\n",
    "\n",
    "# Check if any SLACK generator has zero p_nom (nameplate capacity)\n",
    "zero_p_nom_slack = (network.generators.loc[slack_generators, 'p_nom'] == 0).any()\n",
    "print(f\"Any SLACK generators with zero p_nom: {zero_p_nom_slack}\")\n",
    "\n",
    "# Check if any SLACK generator has zero p_max_pu at any time\n",
    "if hasattr(network.generators_t, 'p_max_pu') and not network.generators_t.p_max_pu.empty:\n",
    "    # Check only slack generators in the time-varying data\n",
    "    slack_in_timeseries = [gen for gen in slack_generators if gen in network.generators_t.p_max_pu.columns]\n",
    "    if slack_in_timeseries:\n",
    "        zero_p_max_pu_slack = (network.generators_t.p_max_pu[slack_in_timeseries] == 0).any().any()\n",
    "        print(f\"Any SLACK generators with zero p_max_pu at any time: {zero_p_max_pu_slack}\")\n",
    "    else:\n",
    "        print(\"No slack generators found in time-varying p_max_pu data\")\n",
    "else:\n",
    "    # p_max_pu is static in generators table - check only slack generators\n",
    "    zero_p_max_pu_slack = (network.generators.loc[slack_generators, 'p_max_pu'] == 0).any()\n",
    "    print(f\"Any SLACK generators with zero p_max_pu: {zero_p_max_pu_slack}\")\n",
    "\n",
    "# Additional diagnostic: show the actual values for slack generators\n",
    "print(f\"\\nSlack generator details:\")\n",
    "slack_details = network.generators.loc[slack_generators, ['p_nom', 'p_max_pu', 'p_min_pu']]\n",
    "print(slack_details)\n",
    "\n",
    "# Check the effective p_max for slack generators\n",
    "slack_p_max_effective = slack_details['p_max_pu'] * slack_details['p_nom']\n",
    "print(f\"\\nSlack generators with zero effective p_max: {(slack_p_max_effective == 0).any()}\")\n",
    "if (slack_p_max_effective == 0).any():\n",
    "    zero_effective = slack_details[slack_p_max_effective == 0]\n",
    "    print(\"Slack generators with zero effective p_max:\")\n",
    "    print(zero_effective)\n"
   ]
  },
  {
   "cell_type": "code",
   "execution_count": 13,
   "id": "6d17636f",
   "metadata": {},
   "outputs": [
    {
     "name": "stdout",
     "output_type": "stream",
     "text": [
      "Any lines with zero s_nom: False\n"
     ]
    }
   ],
   "source": [
    "# Check if any line has zero s_nom\n",
    "zero_s_nom = (network.lines['s_nom'] == 0).any()\n",
    "print(f\"Any lines with zero s_nom: {zero_s_nom}\")"
   ]
  },
  {
   "cell_type": "code",
   "execution_count": 14,
   "id": "df03a2fa",
   "metadata": {},
   "outputs": [
    {
     "name": "stdout",
     "output_type": "stream",
     "text": [
      "Any storage units with zero p_nom: False\n",
      "Any storage units with zero max_hours: False\n",
      "Any storage units with zero energy capacity: False\n"
     ]
    }
   ],
   "source": [
    "# Check if any storage unit has zero p_nom\n",
    "zero_p_nom_storage = (network.storage_units['p_nom'] == 0).any()\n",
    "print(f\"Any storage units with zero p_nom: {zero_p_nom_storage}\")\n",
    "\n",
    "# Check if any storage unit has zero max_hours\n",
    "zero_max_hours = (network.storage_units['max_hours'] == 0).any()\n",
    "print(f\"Any storage units with zero max_hours: {zero_max_hours}\")\n",
    "\n",
    "# Check if any storage unit has zero energy capacity (p_nom * max_hours)\n",
    "storage_energy_capacity = network.storage_units['p_nom'] * network.storage_units['max_hours']\n",
    "zero_energy_capacity = (storage_energy_capacity == 0).any()\n",
    "print(f\"Any storage units with zero energy capacity: {zero_energy_capacity}\")"
   ]
  },
  {
   "cell_type": "markdown",
   "id": "a95b9be0",
   "metadata": {},
   "source": [
    "Yay! So to avoid division by zero in constraint checks, only need to deal with the zero nominal capacity of off-shore wind generators. we just remove them from the network. this removes 2 of the slack generators, so we need to see if the problem is still feasible, by running pypsa.optimize(). It is still feasible so we go ahead and remove the off-wind generators (missing data) from the network in the create_pypsa_network() function."
   ]
  },
  {
   "cell_type": "code",
   "execution_count": 11,
   "id": "4f1a5da4",
   "metadata": {},
   "outputs": [
    {
     "name": "stderr",
     "output_type": "stream",
     "text": [
      "WARNING:pypsa.consistency:The following buses have carriers which are not defined:\n",
      "Index(['ZA0 0', 'ZA0 1', 'ZA0 2', 'ZA0 3', 'ZA0 4', 'ZA0 5', 'ZA0 6', 'ZA0 7',\n",
      "       'ZA0 8', 'ZA0 9', 'ZA1 0', 'ZA2 0', 'ZA3 0'],\n",
      "      dtype='object', name='Bus')\n",
      "WARNING:pypsa.consistency:The following lines have carriers which are not defined:\n",
      "Index(['0', '1', '10', '11', '12', '13', '14', '15', '2', '3', '4', '5', '6',\n",
      "       '7', '8', '9', 'lines new ZA0 4 <-> ZA2 0 AC',\n",
      "       'lines new ZA0 0 <-> ZA1 0 AC', 'lines new ZA0 0 <-> ZA3 0 AC'],\n",
      "      dtype='object', name='Line')\n"
     ]
    },
    {
     "name": "stdout",
     "output_type": "stream",
     "text": [
      "Found 12 offshore wind generators:\n",
      "['ZA0 1 offwind-ac', 'ZA0 1 offwind-dc', 'ZA0 5 offwind-ac', 'ZA0 5 offwind-dc', 'ZA0 7 offwind-ac', 'ZA0 7 offwind-dc', 'ZA0 8 offwind-ac', 'ZA0 8 offwind-dc', 'ZA1 0 offwind-ac', 'ZA1 0 offwind-dc', 'ZA3 0 offwind-ac', 'ZA3 0 offwind-dc']\n",
      "\n",
      "Offshore wind generator details:\n",
      "                  p_nom control     carrier\n",
      "Generator                                  \n",
      "ZA0 1 offwind-ac    0.0          offwind-ac\n",
      "ZA0 1 offwind-dc    0.0          offwind-dc\n",
      "ZA0 5 offwind-ac    0.0          offwind-ac\n",
      "ZA0 5 offwind-dc    0.0          offwind-dc\n",
      "ZA0 7 offwind-ac    0.0          offwind-ac\n",
      "ZA0 7 offwind-dc    0.0          offwind-dc\n",
      "ZA0 8 offwind-ac    0.0          offwind-ac\n",
      "ZA0 8 offwind-dc    0.0          offwind-dc\n",
      "ZA1 0 offwind-ac    0.0   Slack  offwind-ac\n",
      "ZA1 0 offwind-dc    0.0          offwind-dc\n",
      "ZA3 0 offwind-ac    0.0   Slack  offwind-ac\n",
      "ZA3 0 offwind-dc    0.0          offwind-dc\n",
      "\n",
      "Removing 12 offshore wind generators...\n",
      "Running PyPSA optimization...\n"
     ]
    },
    {
     "name": "stderr",
     "output_type": "stream",
     "text": [
      "WARNING:pypsa.consistency:The following buses have carriers which are not defined:\n",
      "Index(['ZA0 0', 'ZA0 1', 'ZA0 2', 'ZA0 3', 'ZA0 4', 'ZA0 5', 'ZA0 6', 'ZA0 7',\n",
      "       'ZA0 8', 'ZA0 9', 'ZA1 0', 'ZA2 0', 'ZA3 0'],\n",
      "      dtype='object', name='Bus')\n",
      "WARNING:pypsa.consistency:The following lines have carriers which are not defined:\n",
      "Index(['0', '1', '10', '11', '12', '13', '14', '15', '2', '3', '4', '5', '6',\n",
      "       '7', '8', '9', 'lines new ZA0 4 <-> ZA2 0 AC',\n",
      "       'lines new ZA0 0 <-> ZA1 0 AC', 'lines new ZA0 0 <-> ZA3 0 AC'],\n",
      "      dtype='object', name='Line')\n",
      "INFO:linopy.model: Solve problem using Gurobi solver\n",
      "INFO:linopy.io:Writing objective.\n",
      "Writing constraints.: 100%|\u001b[38;2;128;191;255m██████████\u001b[0m| 13/13 [00:06<00:00,  2.02it/s]\n",
      "Writing continuous variables.: 100%|\u001b[38;2;128;191;255m██████████\u001b[0m| 6/6 [00:01<00:00,  5.15it/s]\n",
      "INFO:linopy.io: Writing time: 8.16s\n"
     ]
    },
    {
     "name": "stdout",
     "output_type": "stream",
     "text": [
      "Set parameter Username\n"
     ]
    },
    {
     "name": "stderr",
     "output_type": "stream",
     "text": [
      "INFO:gurobipy:Set parameter Username\n"
     ]
    },
    {
     "name": "stdout",
     "output_type": "stream",
     "text": [
      "Set parameter LicenseID to value 2695191\n"
     ]
    },
    {
     "name": "stderr",
     "output_type": "stream",
     "text": [
      "INFO:gurobipy:Set parameter LicenseID to value 2695191\n"
     ]
    },
    {
     "name": "stdout",
     "output_type": "stream",
     "text": [
      "Academic license - for non-commercial use only - expires 2026-08-12\n"
     ]
    },
    {
     "name": "stderr",
     "output_type": "stream",
     "text": [
      "INFO:gurobipy:Academic license - for non-commercial use only - expires 2026-08-12\n"
     ]
    },
    {
     "name": "stdout",
     "output_type": "stream",
     "text": [
      "Read LP format model from file /private/var/folders/tt/b5q5vkxj6xvf2b6q1f46ytgw0000gn/T/linopy-problem-umu_q2c8.lp\n"
     ]
    },
    {
     "name": "stderr",
     "output_type": "stream",
     "text": [
      "INFO:gurobipy:Read LP format model from file /private/var/folders/tt/b5q5vkxj6xvf2b6q1f46ytgw0000gn/T/linopy-problem-umu_q2c8.lp\n"
     ]
    },
    {
     "name": "stdout",
     "output_type": "stream",
     "text": [
      "Reading time = 2.84 seconds\n"
     ]
    },
    {
     "name": "stderr",
     "output_type": "stream",
     "text": [
      "INFO:gurobipy:Reading time = 2.84 seconds\n"
     ]
    },
    {
     "name": "stdout",
     "output_type": "stream",
     "text": [
      "obj: 1445400 rows, 630720 columns, 2330157 nonzeros\n"
     ]
    },
    {
     "name": "stderr",
     "output_type": "stream",
     "text": [
      "INFO:gurobipy:obj: 1445400 rows, 630720 columns, 2330157 nonzeros\n"
     ]
    },
    {
     "name": "stdout",
     "output_type": "stream",
     "text": [
      "Gurobi Optimizer version 12.0.3 build v12.0.3rc0 (mac64[x86] - Darwin 24.6.0 24G90)\n"
     ]
    },
    {
     "name": "stderr",
     "output_type": "stream",
     "text": [
      "INFO:gurobipy:Gurobi Optimizer version 12.0.3 build v12.0.3rc0 (mac64[x86] - Darwin 24.6.0 24G90)\n"
     ]
    },
    {
     "name": "stdout",
     "output_type": "stream",
     "text": [
      "\n"
     ]
    },
    {
     "name": "stderr",
     "output_type": "stream",
     "text": [
      "INFO:gurobipy:\n"
     ]
    },
    {
     "name": "stdout",
     "output_type": "stream",
     "text": [
      "CPU model: Intel(R) Core(TM) i5-8279U CPU @ 2.40GHz\n"
     ]
    },
    {
     "name": "stderr",
     "output_type": "stream",
     "text": [
      "INFO:gurobipy:CPU model: Intel(R) Core(TM) i5-8279U CPU @ 2.40GHz\n"
     ]
    },
    {
     "name": "stdout",
     "output_type": "stream",
     "text": [
      "Thread count: 4 physical cores, 8 logical processors, using up to 8 threads\n"
     ]
    },
    {
     "name": "stderr",
     "output_type": "stream",
     "text": [
      "INFO:gurobipy:Thread count: 4 physical cores, 8 logical processors, using up to 8 threads\n"
     ]
    },
    {
     "name": "stdout",
     "output_type": "stream",
     "text": [
      "\n"
     ]
    },
    {
     "name": "stderr",
     "output_type": "stream",
     "text": [
      "INFO:gurobipy:\n"
     ]
    },
    {
     "name": "stdout",
     "output_type": "stream",
     "text": [
      "Optimize a model with 1445400 rows, 630720 columns and 2330157 nonzeros\n"
     ]
    },
    {
     "name": "stderr",
     "output_type": "stream",
     "text": [
      "INFO:gurobipy:Optimize a model with 1445400 rows, 630720 columns and 2330157 nonzeros\n"
     ]
    },
    {
     "name": "stdout",
     "output_type": "stream",
     "text": [
      "Model fingerprint: 0x66de6733\n"
     ]
    },
    {
     "name": "stderr",
     "output_type": "stream",
     "text": [
      "INFO:gurobipy:Model fingerprint: 0x66de6733\n"
     ]
    },
    {
     "name": "stdout",
     "output_type": "stream",
     "text": [
      "Coefficient statistics:\n"
     ]
    },
    {
     "name": "stderr",
     "output_type": "stream",
     "text": [
      "INFO:gurobipy:Coefficient statistics:\n"
     ]
    },
    {
     "name": "stdout",
     "output_type": "stream",
     "text": [
      "  Matrix range     [9e-01, 4e+02]\n"
     ]
    },
    {
     "name": "stderr",
     "output_type": "stream",
     "text": [
      "INFO:gurobipy:  Matrix range     [9e-01, 4e+02]\n"
     ]
    },
    {
     "name": "stdout",
     "output_type": "stream",
     "text": [
      "  Objective range  [1e-02, 5e+01]\n"
     ]
    },
    {
     "name": "stderr",
     "output_type": "stream",
     "text": [
      "INFO:gurobipy:  Objective range  [1e-02, 5e+01]\n"
     ]
    },
    {
     "name": "stdout",
     "output_type": "stream",
     "text": [
      "  Bounds range     [2e+00, 1e+03]\n"
     ]
    },
    {
     "name": "stderr",
     "output_type": "stream",
     "text": [
      "INFO:gurobipy:  Bounds range     [2e+00, 1e+03]\n"
     ]
    },
    {
     "name": "stdout",
     "output_type": "stream",
     "text": [
      "  RHS range        [8e-05, 6e+04]\n"
     ]
    },
    {
     "name": "stderr",
     "output_type": "stream",
     "text": [
      "INFO:gurobipy:  RHS range        [8e-05, 6e+04]\n"
     ]
    },
    {
     "name": "stdout",
     "output_type": "stream",
     "text": [
      "Presolve removed 1335248 rows and 219983 columns\n"
     ]
    },
    {
     "name": "stderr",
     "output_type": "stream",
     "text": [
      "INFO:gurobipy:Presolve removed 1335248 rows and 219983 columns\n"
     ]
    },
    {
     "name": "stdout",
     "output_type": "stream",
     "text": [
      "Presolve time: 3.94s\n"
     ]
    },
    {
     "name": "stderr",
     "output_type": "stream",
     "text": [
      "INFO:gurobipy:Presolve time: 3.94s\n"
     ]
    },
    {
     "name": "stdout",
     "output_type": "stream",
     "text": [
      "Presolved: 110152 rows, 410737 columns, 817724 nonzeros\n"
     ]
    },
    {
     "name": "stderr",
     "output_type": "stream",
     "text": [
      "INFO:gurobipy:Presolved: 110152 rows, 410737 columns, 817724 nonzeros\n"
     ]
    },
    {
     "name": "stdout",
     "output_type": "stream",
     "text": [
      "\n"
     ]
    },
    {
     "name": "stderr",
     "output_type": "stream",
     "text": [
      "INFO:gurobipy:\n"
     ]
    },
    {
     "name": "stdout",
     "output_type": "stream",
     "text": [
      "Concurrent LP optimizer: dual simplex and barrier\n"
     ]
    },
    {
     "name": "stderr",
     "output_type": "stream",
     "text": [
      "INFO:gurobipy:Concurrent LP optimizer: dual simplex and barrier\n"
     ]
    },
    {
     "name": "stdout",
     "output_type": "stream",
     "text": [
      "Showing barrier log only...\n"
     ]
    },
    {
     "name": "stderr",
     "output_type": "stream",
     "text": [
      "INFO:gurobipy:Showing barrier log only...\n"
     ]
    },
    {
     "name": "stdout",
     "output_type": "stream",
     "text": [
      "\n"
     ]
    },
    {
     "name": "stderr",
     "output_type": "stream",
     "text": [
      "INFO:gurobipy:\n"
     ]
    },
    {
     "name": "stdout",
     "output_type": "stream",
     "text": [
      "Ordering time: 0.07s\n"
     ]
    },
    {
     "name": "stderr",
     "output_type": "stream",
     "text": [
      "INFO:gurobipy:Ordering time: 0.07s\n"
     ]
    },
    {
     "name": "stdout",
     "output_type": "stream",
     "text": [
      "\n"
     ]
    },
    {
     "name": "stderr",
     "output_type": "stream",
     "text": [
      "INFO:gurobipy:\n"
     ]
    },
    {
     "name": "stdout",
     "output_type": "stream",
     "text": [
      "Barrier statistics:\n"
     ]
    },
    {
     "name": "stderr",
     "output_type": "stream",
     "text": [
      "INFO:gurobipy:Barrier statistics:\n"
     ]
    },
    {
     "name": "stdout",
     "output_type": "stream",
     "text": [
      " AA' NZ     : 3.317e+05\n"
     ]
    },
    {
     "name": "stderr",
     "output_type": "stream",
     "text": [
      "INFO:gurobipy: AA' NZ     : 3.317e+05\n"
     ]
    },
    {
     "name": "stdout",
     "output_type": "stream",
     "text": [
      " Factor NZ  : 1.116e+06 (roughly 200 MB of memory)\n"
     ]
    },
    {
     "name": "stderr",
     "output_type": "stream",
     "text": [
      "INFO:gurobipy: Factor NZ  : 1.116e+06 (roughly 200 MB of memory)\n"
     ]
    },
    {
     "name": "stdout",
     "output_type": "stream",
     "text": [
      " Factor Ops : 1.318e+07 (less than 1 second per iteration)\n"
     ]
    },
    {
     "name": "stderr",
     "output_type": "stream",
     "text": [
      "INFO:gurobipy: Factor Ops : 1.318e+07 (less than 1 second per iteration)\n"
     ]
    },
    {
     "name": "stdout",
     "output_type": "stream",
     "text": [
      " Threads    : 1\n"
     ]
    },
    {
     "name": "stderr",
     "output_type": "stream",
     "text": [
      "INFO:gurobipy: Threads    : 1\n"
     ]
    },
    {
     "name": "stdout",
     "output_type": "stream",
     "text": [
      "\n"
     ]
    },
    {
     "name": "stderr",
     "output_type": "stream",
     "text": [
      "INFO:gurobipy:\n"
     ]
    },
    {
     "name": "stdout",
     "output_type": "stream",
     "text": [
      "                  Objective                Residual\n"
     ]
    },
    {
     "name": "stderr",
     "output_type": "stream",
     "text": [
      "INFO:gurobipy:                  Objective                Residual\n"
     ]
    },
    {
     "name": "stdout",
     "output_type": "stream",
     "text": [
      "Iter       Primal          Dual         Primal    Dual     Compl     Time\n"
     ]
    },
    {
     "name": "stderr",
     "output_type": "stream",
     "text": [
      "INFO:gurobipy:Iter       Primal          Dual         Primal    Dual     Compl     Time\n"
     ]
    },
    {
     "name": "stdout",
     "output_type": "stream",
     "text": [
      "   0   4.34873220e+10 -9.93319086e+11  3.82e+04 6.59e-14  2.97e+06     5s\n"
     ]
    },
    {
     "name": "stderr",
     "output_type": "stream",
     "text": [
      "INFO:gurobipy:   0   4.34873220e+10 -9.93319086e+11  3.82e+04 6.59e-14  2.97e+06     5s\n"
     ]
    },
    {
     "name": "stdout",
     "output_type": "stream",
     "text": [
      "   1   1.24878101e+10 -1.43942508e+11  3.96e+03 3.68e-13  3.25e+05     5s\n"
     ]
    },
    {
     "name": "stderr",
     "output_type": "stream",
     "text": [
      "INFO:gurobipy:   1   1.24878101e+10 -1.43942508e+11  3.96e+03 3.68e-13  3.25e+05     5s\n"
     ]
    },
    {
     "name": "stdout",
     "output_type": "stream",
     "text": [
      "   2   1.08871605e+10 -1.27614147e+10  6.35e+02 7.84e-12  4.44e+04     5s\n"
     ]
    },
    {
     "name": "stderr",
     "output_type": "stream",
     "text": [
      "INFO:gurobipy:   2   1.08871605e+10 -1.27614147e+10  6.35e+02 7.84e-12  4.44e+04     5s\n"
     ]
    },
    {
     "name": "stdout",
     "output_type": "stream",
     "text": [
      "   3   1.03630646e+10  6.57073027e+09  1.76e+01 1.87e-12  4.89e+03     5s\n"
     ]
    },
    {
     "name": "stderr",
     "output_type": "stream",
     "text": [
      "INFO:gurobipy:   3   1.03630646e+10  6.57073027e+09  1.76e+01 1.87e-12  4.89e+03     5s\n"
     ]
    },
    {
     "name": "stdout",
     "output_type": "stream",
     "text": [
      "   4   1.00676730e+10  8.95184716e+09  2.86e+00 4.55e-13  1.38e+03     6s\n"
     ]
    },
    {
     "name": "stderr",
     "output_type": "stream",
     "text": [
      "INFO:gurobipy:   4   1.00676730e+10  8.95184716e+09  2.86e+00 4.55e-13  1.38e+03     6s\n"
     ]
    },
    {
     "name": "stdout",
     "output_type": "stream",
     "text": [
      "   5   9.91039137e+09  9.51150253e+09  7.33e-01 2.55e-13  4.89e+02     6s\n"
     ]
    },
    {
     "name": "stderr",
     "output_type": "stream",
     "text": [
      "INFO:gurobipy:   5   9.91039137e+09  9.51150253e+09  7.33e-01 2.55e-13  4.89e+02     6s\n"
     ]
    },
    {
     "name": "stdout",
     "output_type": "stream",
     "text": [
      "   6   9.84159397e+09  9.74730642e+09  1.82e-01 2.55e-13  1.15e+02     6s\n"
     ]
    },
    {
     "name": "stderr",
     "output_type": "stream",
     "text": [
      "INFO:gurobipy:   6   9.84159397e+09  9.74730642e+09  1.82e-01 2.55e-13  1.15e+02     6s\n"
     ]
    },
    {
     "name": "stdout",
     "output_type": "stream",
     "text": [
      "   7   9.82098551e+09  9.76145310e+09  6.15e-02 2.55e-13  7.26e+01     6s\n"
     ]
    },
    {
     "name": "stderr",
     "output_type": "stream",
     "text": [
      "INFO:gurobipy:   7   9.82098551e+09  9.76145310e+09  6.15e-02 2.55e-13  7.26e+01     6s\n"
     ]
    },
    {
     "name": "stdout",
     "output_type": "stream",
     "text": [
      "   8   9.81291989e+09  9.77257459e+09  1.84e-02 2.46e-13  4.91e+01     7s\n"
     ]
    },
    {
     "name": "stderr",
     "output_type": "stream",
     "text": [
      "INFO:gurobipy:   8   9.81291989e+09  9.77257459e+09  1.84e-02 2.46e-13  4.91e+01     7s\n"
     ]
    },
    {
     "name": "stdout",
     "output_type": "stream",
     "text": [
      "   9   9.81159317e+09  9.78716550e+09  1.20e-02 1.71e-13  2.98e+01     7s\n"
     ]
    },
    {
     "name": "stderr",
     "output_type": "stream",
     "text": [
      "INFO:gurobipy:   9   9.81159317e+09  9.78716550e+09  1.20e-02 1.71e-13  2.98e+01     7s\n"
     ]
    },
    {
     "name": "stdout",
     "output_type": "stream",
     "text": [
      "  10   9.81091852e+09  9.80022957e+09  9.15e-03 1.68e-13  1.30e+01     8s\n"
     ]
    },
    {
     "name": "stderr",
     "output_type": "stream",
     "text": [
      "INFO:gurobipy:  10   9.81091852e+09  9.80022957e+09  9.15e-03 1.68e-13  1.30e+01     8s\n"
     ]
    },
    {
     "name": "stdout",
     "output_type": "stream",
     "text": [
      "  11   9.80920442e+09  9.80454336e+09  2.87e-03 1.41e-13  5.68e+00     8s\n"
     ]
    },
    {
     "name": "stderr",
     "output_type": "stream",
     "text": [
      "INFO:gurobipy:  11   9.80920442e+09  9.80454336e+09  2.87e-03 1.41e-13  5.68e+00     8s\n"
     ]
    },
    {
     "name": "stdout",
     "output_type": "stream",
     "text": [
      "  12   9.80883071e+09  9.80596742e+09  1.61e-03 1.41e-13  3.49e+00     8s\n"
     ]
    },
    {
     "name": "stderr",
     "output_type": "stream",
     "text": [
      "INFO:gurobipy:  12   9.80883071e+09  9.80596742e+09  1.61e-03 1.41e-13  3.49e+00     8s\n"
     ]
    },
    {
     "name": "stdout",
     "output_type": "stream",
     "text": [
      "  13   9.80875429e+09  9.80660985e+09  1.39e-03 1.68e-13  2.61e+00     9s\n"
     ]
    },
    {
     "name": "stderr",
     "output_type": "stream",
     "text": [
      "INFO:gurobipy:  13   9.80875429e+09  9.80660985e+09  1.39e-03 1.68e-13  2.61e+00     9s\n"
     ]
    },
    {
     "name": "stdout",
     "output_type": "stream",
     "text": [
      "  14   9.80858643e+09  9.80728242e+09  8.92e-04 1.68e-13  1.59e+00     9s\n"
     ]
    },
    {
     "name": "stderr",
     "output_type": "stream",
     "text": [
      "INFO:gurobipy:  14   9.80858643e+09  9.80728242e+09  8.92e-04 1.68e-13  1.59e+00     9s\n"
     ]
    },
    {
     "name": "stdout",
     "output_type": "stream",
     "text": [
      "  15   9.80856299e+09  9.80744973e+09  8.27e-04 1.68e-13  1.36e+00     9s\n"
     ]
    },
    {
     "name": "stderr",
     "output_type": "stream",
     "text": [
      "INFO:gurobipy:  15   9.80856299e+09  9.80744973e+09  8.27e-04 1.68e-13  1.36e+00     9s\n"
     ]
    },
    {
     "name": "stdout",
     "output_type": "stream",
     "text": [
      "  16   9.80841744e+09  9.80779280e+09  4.05e-04 5.68e-14  7.61e-01     9s\n"
     ]
    },
    {
     "name": "stderr",
     "output_type": "stream",
     "text": [
      "INFO:gurobipy:  16   9.80841744e+09  9.80779280e+09  4.05e-04 5.68e-14  7.61e-01     9s\n"
     ]
    },
    {
     "name": "stdout",
     "output_type": "stream",
     "text": [
      "  17   9.80832860e+09  9.80795407e+09  1.65e-04 1.11e-13  4.56e-01     9s\n"
     ]
    },
    {
     "name": "stderr",
     "output_type": "stream",
     "text": [
      "INFO:gurobipy:  17   9.80832860e+09  9.80795407e+09  1.65e-04 1.11e-13  4.56e-01     9s\n"
     ]
    },
    {
     "name": "stdout",
     "output_type": "stream",
     "text": [
      "  18   9.80831384e+09  9.80811777e+09  1.29e-04 5.68e-14  2.39e-01    10s\n"
     ]
    },
    {
     "name": "stderr",
     "output_type": "stream",
     "text": [
      "INFO:gurobipy:  18   9.80831384e+09  9.80811777e+09  1.29e-04 5.68e-14  2.39e-01    10s\n"
     ]
    },
    {
     "name": "stdout",
     "output_type": "stream",
     "text": [
      "  19   9.80828269e+09  9.80817269e+09  5.77e-05 8.41e-14  1.34e-01    10s\n"
     ]
    },
    {
     "name": "stderr",
     "output_type": "stream",
     "text": [
      "INFO:gurobipy:  19   9.80828269e+09  9.80817269e+09  5.77e-05 8.41e-14  1.34e-01    10s\n"
     ]
    },
    {
     "name": "stdout",
     "output_type": "stream",
     "text": [
      "  20   9.80827541e+09  9.80820819e+09  4.13e-05 5.68e-14  8.19e-02    10s\n"
     ]
    },
    {
     "name": "stderr",
     "output_type": "stream",
     "text": [
      "INFO:gurobipy:  20   9.80827541e+09  9.80820819e+09  4.13e-05 5.68e-14  8.19e-02    10s\n"
     ]
    },
    {
     "name": "stdout",
     "output_type": "stream",
     "text": [
      "  21   9.80826508e+09  9.80823512e+09  1.73e-05 5.68e-14  3.65e-02    10s\n"
     ]
    },
    {
     "name": "stderr",
     "output_type": "stream",
     "text": [
      "INFO:gurobipy:  21   9.80826508e+09  9.80823512e+09  1.73e-05 5.68e-14  3.65e-02    10s\n"
     ]
    },
    {
     "name": "stdout",
     "output_type": "stream",
     "text": [
      "  22   9.80826090e+09  9.80824684e+09  7.92e-06 5.68e-14  1.71e-02    10s\n"
     ]
    },
    {
     "name": "stderr",
     "output_type": "stream",
     "text": [
      "INFO:gurobipy:  22   9.80826090e+09  9.80824684e+09  7.92e-06 5.68e-14  1.71e-02    10s\n"
     ]
    },
    {
     "name": "stdout",
     "output_type": "stream",
     "text": [
      "  23   9.80825862e+09  9.80825026e+09  3.09e-06 5.68e-14  1.02e-02    10s\n"
     ]
    },
    {
     "name": "stderr",
     "output_type": "stream",
     "text": [
      "INFO:gurobipy:  23   9.80825862e+09  9.80825026e+09  3.09e-06 5.68e-14  1.02e-02    10s\n"
     ]
    },
    {
     "name": "stdout",
     "output_type": "stream",
     "text": [
      "  24   9.80825739e+09  9.80825548e+09  1.79e-06 5.68e-14  2.32e-03    10s\n"
     ]
    },
    {
     "name": "stderr",
     "output_type": "stream",
     "text": [
      "INFO:gurobipy:  24   9.80825739e+09  9.80825548e+09  1.79e-06 5.68e-14  2.32e-03    10s\n"
     ]
    },
    {
     "name": "stdout",
     "output_type": "stream",
     "text": [
      "  25   9.80825706e+09  9.80825669e+09  1.32e-07 5.68e-14  4.52e-04    11s\n"
     ]
    },
    {
     "name": "stderr",
     "output_type": "stream",
     "text": [
      "INFO:gurobipy:  25   9.80825706e+09  9.80825669e+09  1.32e-07 5.68e-14  4.52e-04    11s\n"
     ]
    },
    {
     "name": "stdout",
     "output_type": "stream",
     "text": [
      "  26   9.80825703e+09  9.80825701e+09  1.18e-08 5.68e-14  3.36e-05    11s\n"
     ]
    },
    {
     "name": "stderr",
     "output_type": "stream",
     "text": [
      "INFO:gurobipy:  26   9.80825703e+09  9.80825701e+09  1.18e-08 5.68e-14  3.36e-05    11s\n"
     ]
    },
    {
     "name": "stdout",
     "output_type": "stream",
     "text": [
      "  27   9.80825703e+09  9.80825703e+09  7.17e-10 8.07e-14  3.05e-08    11s\n"
     ]
    },
    {
     "name": "stderr",
     "output_type": "stream",
     "text": [
      "INFO:gurobipy:  27   9.80825703e+09  9.80825703e+09  7.17e-10 8.07e-14  3.05e-08    11s\n"
     ]
    },
    {
     "name": "stdout",
     "output_type": "stream",
     "text": [
      "  28   9.80825703e+09  9.80825703e+09  1.80e-10 5.68e-14  7.12e-13    11s\n"
     ]
    },
    {
     "name": "stderr",
     "output_type": "stream",
     "text": [
      "INFO:gurobipy:  28   9.80825703e+09  9.80825703e+09  1.80e-10 5.68e-14  7.12e-13    11s\n"
     ]
    },
    {
     "name": "stdout",
     "output_type": "stream",
     "text": [
      "\n"
     ]
    },
    {
     "name": "stderr",
     "output_type": "stream",
     "text": [
      "INFO:gurobipy:\n"
     ]
    },
    {
     "name": "stdout",
     "output_type": "stream",
     "text": [
      "Barrier solved model in 28 iterations and 11.20 seconds (4.56 work units)\n"
     ]
    },
    {
     "name": "stderr",
     "output_type": "stream",
     "text": [
      "INFO:gurobipy:Barrier solved model in 28 iterations and 11.20 seconds (4.56 work units)\n"
     ]
    },
    {
     "name": "stdout",
     "output_type": "stream",
     "text": [
      "Optimal objective 9.80825703e+09\n"
     ]
    },
    {
     "name": "stderr",
     "output_type": "stream",
     "text": [
      "INFO:gurobipy:Optimal objective 9.80825703e+09\n"
     ]
    },
    {
     "name": "stdout",
     "output_type": "stream",
     "text": [
      "\n"
     ]
    },
    {
     "name": "stderr",
     "output_type": "stream",
     "text": [
      "INFO:gurobipy:\n"
     ]
    },
    {
     "name": "stdout",
     "output_type": "stream",
     "text": [
      "Crossover log...\n"
     ]
    },
    {
     "name": "stderr",
     "output_type": "stream",
     "text": [
      "INFO:gurobipy:Crossover log...\n"
     ]
    },
    {
     "name": "stdout",
     "output_type": "stream",
     "text": [
      "\n"
     ]
    },
    {
     "name": "stderr",
     "output_type": "stream",
     "text": [
      "INFO:gurobipy:\n"
     ]
    },
    {
     "name": "stdout",
     "output_type": "stream",
     "text": [
      "   17360 DPushes remaining with DInf 0.0000000e+00                12s\n"
     ]
    },
    {
     "name": "stderr",
     "output_type": "stream",
     "text": [
      "INFO:gurobipy:   17360 DPushes remaining with DInf 0.0000000e+00                12s\n"
     ]
    },
    {
     "name": "stdout",
     "output_type": "stream",
     "text": [
      "       0 DPushes remaining with DInf 0.0000000e+00                12s\n"
     ]
    },
    {
     "name": "stderr",
     "output_type": "stream",
     "text": [
      "INFO:gurobipy:       0 DPushes remaining with DInf 0.0000000e+00                12s\n"
     ]
    },
    {
     "name": "stdout",
     "output_type": "stream",
     "text": [
      "\n"
     ]
    },
    {
     "name": "stderr",
     "output_type": "stream",
     "text": [
      "INFO:gurobipy:\n"
     ]
    },
    {
     "name": "stdout",
     "output_type": "stream",
     "text": [
      "   26142 PPushes remaining with PInf 0.0000000e+00                12s\n"
     ]
    },
    {
     "name": "stderr",
     "output_type": "stream",
     "text": [
      "INFO:gurobipy:   26142 PPushes remaining with PInf 0.0000000e+00                12s\n"
     ]
    },
    {
     "name": "stdout",
     "output_type": "stream",
     "text": [
      "       0 PPushes remaining with PInf 0.0000000e+00                13s\n"
     ]
    },
    {
     "name": "stderr",
     "output_type": "stream",
     "text": [
      "INFO:gurobipy:       0 PPushes remaining with PInf 0.0000000e+00                13s\n"
     ]
    },
    {
     "name": "stdout",
     "output_type": "stream",
     "text": [
      "\n"
     ]
    },
    {
     "name": "stderr",
     "output_type": "stream",
     "text": [
      "INFO:gurobipy:\n"
     ]
    },
    {
     "name": "stdout",
     "output_type": "stream",
     "text": [
      "  Push phase complete: Pinf 0.0000000e+00, Dinf 2.9309897e-10     13s\n"
     ]
    },
    {
     "name": "stderr",
     "output_type": "stream",
     "text": [
      "INFO:gurobipy:  Push phase complete: Pinf 0.0000000e+00, Dinf 2.9309897e-10     13s\n"
     ]
    },
    {
     "name": "stdout",
     "output_type": "stream",
     "text": [
      "\n"
     ]
    },
    {
     "name": "stderr",
     "output_type": "stream",
     "text": [
      "INFO:gurobipy:\n"
     ]
    },
    {
     "name": "stdout",
     "output_type": "stream",
     "text": [
      "\n"
     ]
    },
    {
     "name": "stderr",
     "output_type": "stream",
     "text": [
      "INFO:gurobipy:\n"
     ]
    },
    {
     "name": "stdout",
     "output_type": "stream",
     "text": [
      "Solved with barrier\n"
     ]
    },
    {
     "name": "stderr",
     "output_type": "stream",
     "text": [
      "INFO:gurobipy:Solved with barrier\n"
     ]
    },
    {
     "name": "stdout",
     "output_type": "stream",
     "text": [
      "Iteration    Objective       Primal Inf.    Dual Inf.      Time\n"
     ]
    },
    {
     "name": "stderr",
     "output_type": "stream",
     "text": [
      "INFO:gurobipy:Iteration    Objective       Primal Inf.    Dual Inf.      Time\n"
     ]
    },
    {
     "name": "stdout",
     "output_type": "stream",
     "text": [
      "   43505    9.8082570e+09   0.000000e+00   0.000000e+00     15s\n"
     ]
    },
    {
     "name": "stderr",
     "output_type": "stream",
     "text": [
      "INFO:gurobipy:   43505    9.8082570e+09   0.000000e+00   0.000000e+00     15s\n"
     ]
    },
    {
     "name": "stdout",
     "output_type": "stream",
     "text": [
      "\n"
     ]
    },
    {
     "name": "stderr",
     "output_type": "stream",
     "text": [
      "INFO:gurobipy:\n"
     ]
    },
    {
     "name": "stdout",
     "output_type": "stream",
     "text": [
      "Solved in 43505 iterations and 15.24 seconds (5.51 work units)\n"
     ]
    },
    {
     "name": "stderr",
     "output_type": "stream",
     "text": [
      "INFO:gurobipy:Solved in 43505 iterations and 15.24 seconds (5.51 work units)\n"
     ]
    },
    {
     "name": "stdout",
     "output_type": "stream",
     "text": [
      "Optimal objective  9.808257026e+09\n"
     ]
    },
    {
     "name": "stderr",
     "output_type": "stream",
     "text": [
      "INFO:gurobipy:Optimal objective  9.808257026e+09\n",
      "INFO:linopy.constants: Optimization successful: \n",
      "Status: ok\n",
      "Termination condition: optimal\n",
      "Solution: 630720 primals, 1445400 duals\n",
      "Objective: 9.81e+09\n",
      "Solver model: available\n",
      "Solver message: 2\n",
      "\n",
      "INFO:pypsa.optimization.optimize:The shadow-prices of the constraints Generator-fix-p-lower, Generator-fix-p-upper, Line-fix-s-lower, Line-fix-s-upper, StorageUnit-fix-p_dispatch-lower, StorageUnit-fix-p_dispatch-upper, StorageUnit-fix-p_store-lower, StorageUnit-fix-p_store-upper, StorageUnit-fix-state_of_charge-lower, StorageUnit-fix-state_of_charge-upper, Kirchhoff-Voltage-Law, StorageUnit-energy_balance were not assigned to the network.\n"
     ]
    },
    {
     "name": "stdout",
     "output_type": "stream",
     "text": [
      "✅ Optimization succeeded without offshore wind!\n",
      "Objective value: 9808257026.437061\n",
      "Total slack power range: 0.0 to 5743.0 MW\n"
     ]
    }
   ],
   "source": [
    "def test_remove_offshore_wind(network):\n",
    "    \"\"\"Test if removing offshore wind generators breaks system feasibility\"\"\"\n",
    "    \n",
    "    # First, identify offshore wind generators\n",
    "    offwind_gens = network.generators[\n",
    "        network.generators.index.str.contains('offwind', case=False, na=False)\n",
    "    ].index\n",
    "    \n",
    "    print(f\"Found {len(offwind_gens)} offshore wind generators:\")\n",
    "    print(offwind_gens.tolist())\n",
    "    \n",
    "    # Check their properties\n",
    "    offwind_data = network.generators.loc[offwind_gens, ['p_nom', 'control', 'carrier']]\n",
    "    print(\"\\nOffshore wind generator details:\")\n",
    "    print(offwind_data)\n",
    "    \n",
    "    try:\n",
    "        # Remove offshore wind generators one by one\n",
    "        print(f\"\\nRemoving {len(offwind_gens)} offshore wind generators...\")\n",
    "        for gen in offwind_gens:\n",
    "            network.remove(\"Generator\", gen)\n",
    "        \n",
    "        # Try to run optimization\n",
    "        print(\"Running PyPSA optimization...\")\n",
    "        network.optimize(solver_name='gurobi')\n",
    "        \n",
    "        print(\"✅ Optimization succeeded without offshore wind!\")\n",
    "        print(f\"Objective value: {network.objective}\")\n",
    "        \n",
    "        # Check if any slack generators are needed\n",
    "        slack_power = network.generators_t.p[\n",
    "            network.generators[network.generators.control == \"Slack\"].index\n",
    "        ].sum(axis=1)\n",
    "        \n",
    "        print(f\"Total slack power range: {slack_power.min():.1f} to {slack_power.max():.1f} MW\")\n",
    "        \n",
    "    except Exception as e:\n",
    "        print(f\"❌ Optimization failed without offshore wind: {e}\")\n",
    "        print(\"Offshore wind generators may be essential for system balance\")\n",
    "\n",
    "# Run the test\n",
    "test_remove_offshore_wind(network)"
   ]
  }
 ],
 "metadata": {
  "kernelspec": {
   "display_name": "pypsa-earth-rl",
   "language": "python",
   "name": "python3"
  },
  "language_info": {
   "codemirror_mode": {
    "name": "ipython",
    "version": 3
   },
   "file_extension": ".py",
   "mimetype": "text/x-python",
   "name": "python",
   "nbconvert_exporter": "python",
   "pygments_lexer": "ipython3",
   "version": "3.11.13"
  }
 },
 "nbformat": 4,
 "nbformat_minor": 5
}
